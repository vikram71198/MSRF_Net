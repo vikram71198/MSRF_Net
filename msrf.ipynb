{
  "nbformat": 4,
  "nbformat_minor": 0,
  "metadata": {
    "colab": {
      "name": "msrf.ipynb",
      "provenance": [],
      "collapsed_sections": [],
      "include_colab_link": true
    },
    "kernelspec": {
      "name": "python3",
      "display_name": "Python 3"
    },
    "language_info": {
      "name": "python"
    },
    "accelerator": "GPU"
  },
  "cells": [
    {
      "cell_type": "markdown",
      "metadata": {
        "id": "view-in-github",
        "colab_type": "text"
      },
      "source": [
        "<a href=\"https://colab.research.google.com/github/vikram71198/MSRF_Net/blob/master/msrf.ipynb\" target=\"_parent\"><img src=\"https://colab.research.google.com/assets/colab-badge.svg\" alt=\"Open In Colab\"/></a>"
      ]
    },
    {
      "cell_type": "code",
      "execution_count": 1,
      "metadata": {
        "colab": {
          "base_uri": "https://localhost:8080/"
        },
        "id": "-2I7-Qf1Al7l",
        "outputId": "40d9f883-1b54-4ec1-db57-085a5a14b64c"
      },
      "outputs": [
        {
          "output_type": "stream",
          "name": "stdout",
          "text": [
            "Drive already mounted at /content/drive; to attempt to forcibly remount, call drive.mount(\"/content/drive\", force_remount=True).\n"
          ]
        }
      ],
      "source": [
        "from google.colab import drive\n",
        "drive.mount('/content/drive')"
      ]
    },
    {
      "cell_type": "code",
      "source": [
        "%cd '/content/drive/MyDrive/Colab Notebooks/'\n",
        "!unzip -o cvc-final.zip -d /content/\n",
        "%cd '/content/'"
      ],
      "metadata": {
        "id": "8Z6rxlevBfV5",
        "colab": {
          "base_uri": "https://localhost:8080/"
        },
        "outputId": "436a37d0-4d4e-4a96-dd4b-1631ac1bd58c"
      },
      "execution_count": 2,
      "outputs": [
        {
          "output_type": "stream",
          "name": "stdout",
          "text": [
            "\u001b[1;30;43mStreaming output truncated to the last 5000 lines.\u001b[0m\n",
            "  inflating: /content/out/mask/479_3.png  \n",
            "  inflating: /content/out/mask/479_4.png  \n",
            "  inflating: /content/out/mask/479_5.png  \n",
            "  inflating: /content/out/mask/479_6.png  \n",
            "  inflating: /content/out/mask/479_7.png  \n",
            "  inflating: /content/out/mask/479_8.png  \n",
            "  inflating: /content/out/mask/479_9.png  \n",
            "  inflating: /content/out/mask/47_1.png  \n",
            "  inflating: /content/out/mask/47_10.png  \n",
            "  inflating: /content/out/mask/47_11.png  \n",
            "  inflating: /content/out/mask/47_12.png  \n",
            "  inflating: /content/out/mask/47_13.png  \n",
            "  inflating: /content/out/mask/47_14.png  \n",
            "  inflating: /content/out/mask/47_15.png  \n",
            "  inflating: /content/out/mask/47_16.png  \n",
            "  inflating: /content/out/mask/47_17.png  \n",
            "  inflating: /content/out/mask/47_18.png  \n",
            "  inflating: /content/out/mask/47_19.png  \n",
            "  inflating: /content/out/mask/47_2.png  \n",
            "  inflating: /content/out/mask/47_20.png  \n",
            "  inflating: /content/out/mask/47_21.png  \n",
            "  inflating: /content/out/mask/47_22.png  \n",
            "  inflating: /content/out/mask/47_23.png  \n",
            "  inflating: /content/out/mask/47_24.png  \n",
            "  inflating: /content/out/mask/47_25.png  \n",
            "  inflating: /content/out/mask/47_26.png  \n",
            "  inflating: /content/out/mask/47_3.png  \n",
            "  inflating: /content/out/mask/47_4.png  \n",
            "  inflating: /content/out/mask/47_5.png  \n",
            "  inflating: /content/out/mask/47_6.png  \n",
            "  inflating: /content/out/mask/47_7.png  \n",
            "  inflating: /content/out/mask/47_8.png  \n",
            "  inflating: /content/out/mask/47_9.png  \n",
            "  inflating: /content/out/mask/480_1.png  \n",
            "  inflating: /content/out/mask/480_10.png  \n",
            "  inflating: /content/out/mask/480_11.png  \n",
            "  inflating: /content/out/mask/480_12.png  \n",
            "  inflating: /content/out/mask/480_13.png  \n",
            "  inflating: /content/out/mask/480_14.png  \n",
            "  inflating: /content/out/mask/480_15.png  \n",
            "  inflating: /content/out/mask/480_16.png  \n",
            "  inflating: /content/out/mask/480_17.png  \n",
            "  inflating: /content/out/mask/480_18.png  \n",
            "  inflating: /content/out/mask/480_19.png  \n",
            "  inflating: /content/out/mask/480_2.png  \n",
            "  inflating: /content/out/mask/480_20.png  \n",
            "  inflating: /content/out/mask/480_21.png  \n",
            "  inflating: /content/out/mask/480_22.png  \n",
            "  inflating: /content/out/mask/480_23.png  \n",
            "  inflating: /content/out/mask/480_24.png  \n",
            "  inflating: /content/out/mask/480_25.png  \n",
            "  inflating: /content/out/mask/480_26.png  \n",
            "  inflating: /content/out/mask/480_3.png  \n",
            "  inflating: /content/out/mask/480_4.png  \n",
            "  inflating: /content/out/mask/480_5.png  \n",
            "  inflating: /content/out/mask/480_6.png  \n",
            "  inflating: /content/out/mask/480_7.png  \n",
            "  inflating: /content/out/mask/480_8.png  \n",
            "  inflating: /content/out/mask/480_9.png  \n",
            "  inflating: /content/out/mask/481_1.png  \n",
            "  inflating: /content/out/mask/481_10.png  \n",
            "  inflating: /content/out/mask/481_11.png  \n",
            "  inflating: /content/out/mask/481_12.png  \n",
            "  inflating: /content/out/mask/481_13.png  \n",
            "  inflating: /content/out/mask/481_14.png  \n",
            "  inflating: /content/out/mask/481_15.png  \n",
            "  inflating: /content/out/mask/481_16.png  \n",
            "  inflating: /content/out/mask/481_17.png  \n",
            "  inflating: /content/out/mask/481_18.png  \n",
            "  inflating: /content/out/mask/481_19.png  \n",
            "  inflating: /content/out/mask/481_2.png  \n",
            "  inflating: /content/out/mask/481_20.png  \n",
            "  inflating: /content/out/mask/481_21.png  \n",
            "  inflating: /content/out/mask/481_22.png  \n",
            "  inflating: /content/out/mask/481_23.png  \n",
            "  inflating: /content/out/mask/481_24.png  \n",
            "  inflating: /content/out/mask/481_25.png  \n",
            "  inflating: /content/out/mask/481_26.png  \n",
            "  inflating: /content/out/mask/481_3.png  \n",
            "  inflating: /content/out/mask/481_4.png  \n",
            "  inflating: /content/out/mask/481_5.png  \n",
            "  inflating: /content/out/mask/481_6.png  \n",
            "  inflating: /content/out/mask/481_7.png  \n",
            "  inflating: /content/out/mask/481_8.png  \n",
            "  inflating: /content/out/mask/481_9.png  \n",
            "  inflating: /content/out/mask/482_1.png  \n",
            "  inflating: /content/out/mask/482_10.png  \n",
            "  inflating: /content/out/mask/482_11.png  \n",
            "  inflating: /content/out/mask/482_12.png  \n",
            "  inflating: /content/out/mask/482_13.png  \n",
            "  inflating: /content/out/mask/482_14.png  \n",
            "  inflating: /content/out/mask/482_15.png  \n",
            "  inflating: /content/out/mask/482_16.png  \n",
            "  inflating: /content/out/mask/482_17.png  \n",
            "  inflating: /content/out/mask/482_18.png  \n",
            "  inflating: /content/out/mask/482_19.png  \n",
            "  inflating: /content/out/mask/482_2.png  \n",
            "  inflating: /content/out/mask/482_20.png  \n",
            "  inflating: /content/out/mask/482_21.png  \n",
            "  inflating: /content/out/mask/482_22.png  \n",
            "  inflating: /content/out/mask/482_23.png  \n",
            "  inflating: /content/out/mask/482_24.png  \n",
            "  inflating: /content/out/mask/482_25.png  \n",
            "  inflating: /content/out/mask/482_26.png  \n",
            "  inflating: /content/out/mask/482_3.png  \n",
            "  inflating: /content/out/mask/482_4.png  \n",
            "  inflating: /content/out/mask/482_5.png  \n",
            "  inflating: /content/out/mask/482_6.png  \n",
            "  inflating: /content/out/mask/482_7.png  \n",
            "  inflating: /content/out/mask/482_8.png  \n",
            "  inflating: /content/out/mask/482_9.png  \n",
            "  inflating: /content/out/mask/483_1.png  \n",
            "  inflating: /content/out/mask/483_10.png  \n",
            "  inflating: /content/out/mask/483_11.png  \n",
            "  inflating: /content/out/mask/483_12.png  \n",
            "  inflating: /content/out/mask/483_13.png  \n",
            "  inflating: /content/out/mask/483_14.png  \n",
            "  inflating: /content/out/mask/483_15.png  \n",
            "  inflating: /content/out/mask/483_16.png  \n",
            "  inflating: /content/out/mask/483_17.png  \n",
            "  inflating: /content/out/mask/483_18.png  \n",
            "  inflating: /content/out/mask/483_19.png  \n",
            "  inflating: /content/out/mask/483_2.png  \n",
            "  inflating: /content/out/mask/483_20.png  \n",
            "  inflating: /content/out/mask/483_21.png  \n",
            "  inflating: /content/out/mask/483_22.png  \n",
            "  inflating: /content/out/mask/483_23.png  \n",
            "  inflating: /content/out/mask/483_24.png  \n",
            "  inflating: /content/out/mask/483_25.png  \n",
            "  inflating: /content/out/mask/483_26.png  \n",
            "  inflating: /content/out/mask/483_3.png  \n",
            "  inflating: /content/out/mask/483_4.png  \n",
            "  inflating: /content/out/mask/483_5.png  \n",
            "  inflating: /content/out/mask/483_6.png  \n",
            "  inflating: /content/out/mask/483_7.png  \n",
            "  inflating: /content/out/mask/483_8.png  \n",
            "  inflating: /content/out/mask/483_9.png  \n",
            "  inflating: /content/out/mask/484_1.png  \n",
            "  inflating: /content/out/mask/484_10.png  \n",
            "  inflating: /content/out/mask/484_11.png  \n",
            "  inflating: /content/out/mask/484_12.png  \n",
            "  inflating: /content/out/mask/484_13.png  \n",
            "  inflating: /content/out/mask/484_14.png  \n",
            "  inflating: /content/out/mask/484_15.png  \n",
            "  inflating: /content/out/mask/484_16.png  \n",
            "  inflating: /content/out/mask/484_17.png  \n",
            "  inflating: /content/out/mask/484_18.png  \n",
            "  inflating: /content/out/mask/484_19.png  \n",
            "  inflating: /content/out/mask/484_2.png  \n",
            "  inflating: /content/out/mask/484_20.png  \n",
            "  inflating: /content/out/mask/484_21.png  \n",
            "  inflating: /content/out/mask/484_22.png  \n",
            "  inflating: /content/out/mask/484_23.png  \n",
            "  inflating: /content/out/mask/484_24.png  \n",
            "  inflating: /content/out/mask/484_25.png  \n",
            "  inflating: /content/out/mask/484_26.png  \n",
            "  inflating: /content/out/mask/484_3.png  \n",
            "  inflating: /content/out/mask/484_4.png  \n",
            "  inflating: /content/out/mask/484_5.png  \n",
            "  inflating: /content/out/mask/484_6.png  \n",
            "  inflating: /content/out/mask/484_7.png  \n",
            "  inflating: /content/out/mask/484_8.png  \n",
            "  inflating: /content/out/mask/484_9.png  \n",
            "  inflating: /content/out/mask/485_1.png  \n",
            "  inflating: /content/out/mask/485_10.png  \n",
            "  inflating: /content/out/mask/485_11.png  \n",
            "  inflating: /content/out/mask/485_12.png  \n",
            "  inflating: /content/out/mask/485_13.png  \n",
            "  inflating: /content/out/mask/485_14.png  \n",
            "  inflating: /content/out/mask/485_15.png  \n",
            "  inflating: /content/out/mask/485_16.png  \n",
            "  inflating: /content/out/mask/485_17.png  \n",
            "  inflating: /content/out/mask/485_18.png  \n",
            "  inflating: /content/out/mask/485_19.png  \n",
            "  inflating: /content/out/mask/485_2.png  \n",
            "  inflating: /content/out/mask/485_20.png  \n",
            "  inflating: /content/out/mask/485_21.png  \n",
            "  inflating: /content/out/mask/485_22.png  \n",
            "  inflating: /content/out/mask/485_23.png  \n",
            "  inflating: /content/out/mask/485_24.png  \n",
            "  inflating: /content/out/mask/485_25.png  \n",
            "  inflating: /content/out/mask/485_26.png  \n",
            "  inflating: /content/out/mask/485_3.png  \n",
            "  inflating: /content/out/mask/485_4.png  \n",
            "  inflating: /content/out/mask/485_5.png  \n",
            "  inflating: /content/out/mask/485_6.png  \n",
            "  inflating: /content/out/mask/485_7.png  \n",
            "  inflating: /content/out/mask/485_8.png  \n",
            "  inflating: /content/out/mask/485_9.png  \n",
            "  inflating: /content/out/mask/486_1.png  \n",
            "  inflating: /content/out/mask/486_10.png  \n",
            "  inflating: /content/out/mask/486_11.png  \n",
            "  inflating: /content/out/mask/486_12.png  \n",
            "  inflating: /content/out/mask/486_13.png  \n",
            "  inflating: /content/out/mask/486_14.png  \n",
            "  inflating: /content/out/mask/486_15.png  \n",
            "  inflating: /content/out/mask/486_16.png  \n",
            "  inflating: /content/out/mask/486_17.png  \n",
            "  inflating: /content/out/mask/486_18.png  \n",
            "  inflating: /content/out/mask/486_19.png  \n",
            "  inflating: /content/out/mask/486_2.png  \n",
            "  inflating: /content/out/mask/486_20.png  \n",
            "  inflating: /content/out/mask/486_21.png  \n",
            "  inflating: /content/out/mask/486_22.png  \n",
            "  inflating: /content/out/mask/486_23.png  \n",
            "  inflating: /content/out/mask/486_24.png  \n",
            "  inflating: /content/out/mask/486_25.png  \n",
            "  inflating: /content/out/mask/486_26.png  \n",
            "  inflating: /content/out/mask/486_3.png  \n",
            "  inflating: /content/out/mask/486_4.png  \n",
            "  inflating: /content/out/mask/486_5.png  \n",
            "  inflating: /content/out/mask/486_6.png  \n",
            "  inflating: /content/out/mask/486_7.png  \n",
            "  inflating: /content/out/mask/486_8.png  \n",
            "  inflating: /content/out/mask/486_9.png  \n",
            "  inflating: /content/out/mask/487_1.png  \n",
            "  inflating: /content/out/mask/487_10.png  \n",
            "  inflating: /content/out/mask/487_11.png  \n",
            "  inflating: /content/out/mask/487_12.png  \n",
            "  inflating: /content/out/mask/487_13.png  \n",
            "  inflating: /content/out/mask/487_14.png  \n",
            "  inflating: /content/out/mask/487_15.png  \n",
            "  inflating: /content/out/mask/487_16.png  \n",
            "  inflating: /content/out/mask/487_17.png  \n",
            "  inflating: /content/out/mask/487_18.png  \n",
            "  inflating: /content/out/mask/487_19.png  \n",
            "  inflating: /content/out/mask/487_2.png  \n",
            "  inflating: /content/out/mask/487_20.png  \n",
            "  inflating: /content/out/mask/487_21.png  \n",
            "  inflating: /content/out/mask/487_22.png  \n",
            "  inflating: /content/out/mask/487_23.png  \n",
            "  inflating: /content/out/mask/487_24.png  \n",
            "  inflating: /content/out/mask/487_25.png  \n",
            "  inflating: /content/out/mask/487_26.png  \n",
            "  inflating: /content/out/mask/487_3.png  \n",
            "  inflating: /content/out/mask/487_4.png  \n",
            "  inflating: /content/out/mask/487_5.png  \n",
            "  inflating: /content/out/mask/487_6.png  \n",
            "  inflating: /content/out/mask/487_7.png  \n",
            "  inflating: /content/out/mask/487_8.png  \n",
            "  inflating: /content/out/mask/487_9.png  \n",
            "  inflating: /content/out/mask/488_1.png  \n",
            "  inflating: /content/out/mask/488_10.png  \n",
            "  inflating: /content/out/mask/488_11.png  \n",
            "  inflating: /content/out/mask/488_12.png  \n",
            "  inflating: /content/out/mask/488_13.png  \n",
            "  inflating: /content/out/mask/488_14.png  \n",
            "  inflating: /content/out/mask/488_15.png  \n",
            "  inflating: /content/out/mask/488_16.png  \n",
            "  inflating: /content/out/mask/488_17.png  \n",
            "  inflating: /content/out/mask/488_18.png  \n",
            "  inflating: /content/out/mask/488_19.png  \n",
            "  inflating: /content/out/mask/488_2.png  \n",
            "  inflating: /content/out/mask/488_20.png  \n",
            "  inflating: /content/out/mask/488_21.png  \n",
            "  inflating: /content/out/mask/488_22.png  \n",
            "  inflating: /content/out/mask/488_23.png  \n",
            "  inflating: /content/out/mask/488_24.png  \n",
            "  inflating: /content/out/mask/488_25.png  \n",
            "  inflating: /content/out/mask/488_26.png  \n",
            "  inflating: /content/out/mask/488_3.png  \n",
            "  inflating: /content/out/mask/488_4.png  \n",
            "  inflating: /content/out/mask/488_5.png  \n",
            "  inflating: /content/out/mask/488_6.png  \n",
            "  inflating: /content/out/mask/488_7.png  \n",
            "  inflating: /content/out/mask/488_8.png  \n",
            "  inflating: /content/out/mask/488_9.png  \n",
            "  inflating: /content/out/mask/489_1.png  \n",
            "  inflating: /content/out/mask/489_10.png  \n",
            "  inflating: /content/out/mask/489_11.png  \n",
            "  inflating: /content/out/mask/489_12.png  \n",
            "  inflating: /content/out/mask/489_13.png  \n",
            "  inflating: /content/out/mask/489_14.png  \n",
            "  inflating: /content/out/mask/489_15.png  \n",
            "  inflating: /content/out/mask/489_16.png  \n",
            "  inflating: /content/out/mask/489_17.png  \n",
            "  inflating: /content/out/mask/489_18.png  \n",
            "  inflating: /content/out/mask/489_19.png  \n",
            "  inflating: /content/out/mask/489_2.png  \n",
            "  inflating: /content/out/mask/489_20.png  \n",
            "  inflating: /content/out/mask/489_21.png  \n",
            "  inflating: /content/out/mask/489_22.png  \n",
            "  inflating: /content/out/mask/489_23.png  \n",
            "  inflating: /content/out/mask/489_24.png  \n",
            "  inflating: /content/out/mask/489_25.png  \n",
            "  inflating: /content/out/mask/489_26.png  \n",
            "  inflating: /content/out/mask/489_3.png  \n",
            "  inflating: /content/out/mask/489_4.png  \n",
            "  inflating: /content/out/mask/489_5.png  \n",
            "  inflating: /content/out/mask/489_6.png  \n",
            "  inflating: /content/out/mask/489_7.png  \n",
            "  inflating: /content/out/mask/489_8.png  \n",
            "  inflating: /content/out/mask/489_9.png  \n",
            "  inflating: /content/out/mask/48_1.png  \n",
            "  inflating: /content/out/mask/48_10.png  \n",
            "  inflating: /content/out/mask/48_11.png  \n",
            "  inflating: /content/out/mask/48_12.png  \n",
            "  inflating: /content/out/mask/48_13.png  \n",
            "  inflating: /content/out/mask/48_14.png  \n",
            "  inflating: /content/out/mask/48_15.png  \n",
            "  inflating: /content/out/mask/48_16.png  \n",
            "  inflating: /content/out/mask/48_17.png  \n",
            "  inflating: /content/out/mask/48_18.png  \n",
            "  inflating: /content/out/mask/48_19.png  \n",
            "  inflating: /content/out/mask/48_2.png  \n",
            "  inflating: /content/out/mask/48_20.png  \n",
            "  inflating: /content/out/mask/48_21.png  \n",
            "  inflating: /content/out/mask/48_22.png  \n",
            "  inflating: /content/out/mask/48_23.png  \n",
            "  inflating: /content/out/mask/48_24.png  \n",
            "  inflating: /content/out/mask/48_25.png  \n",
            "  inflating: /content/out/mask/48_26.png  \n",
            "  inflating: /content/out/mask/48_3.png  \n",
            "  inflating: /content/out/mask/48_4.png  \n",
            "  inflating: /content/out/mask/48_5.png  \n",
            "  inflating: /content/out/mask/48_6.png  \n",
            "  inflating: /content/out/mask/48_7.png  \n",
            "  inflating: /content/out/mask/48_8.png  \n",
            "  inflating: /content/out/mask/48_9.png  \n",
            "  inflating: /content/out/mask/490_1.png  \n",
            "  inflating: /content/out/mask/490_10.png  \n",
            "  inflating: /content/out/mask/490_11.png  \n",
            "  inflating: /content/out/mask/490_12.png  \n",
            "  inflating: /content/out/mask/490_13.png  \n",
            "  inflating: /content/out/mask/490_14.png  \n",
            "  inflating: /content/out/mask/490_15.png  \n",
            "  inflating: /content/out/mask/490_16.png  \n",
            "  inflating: /content/out/mask/490_17.png  \n",
            "  inflating: /content/out/mask/490_18.png  \n",
            "  inflating: /content/out/mask/490_19.png  \n",
            "  inflating: /content/out/mask/490_2.png  \n",
            "  inflating: /content/out/mask/490_20.png  \n",
            "  inflating: /content/out/mask/490_21.png  \n",
            "  inflating: /content/out/mask/490_22.png  \n",
            "  inflating: /content/out/mask/490_23.png  \n",
            "  inflating: /content/out/mask/490_24.png  \n",
            "  inflating: /content/out/mask/490_25.png  \n",
            "  inflating: /content/out/mask/490_26.png  \n",
            "  inflating: /content/out/mask/490_3.png  \n",
            "  inflating: /content/out/mask/490_4.png  \n",
            "  inflating: /content/out/mask/490_5.png  \n",
            "  inflating: /content/out/mask/490_6.png  \n",
            "  inflating: /content/out/mask/490_7.png  \n",
            "  inflating: /content/out/mask/490_8.png  \n",
            "  inflating: /content/out/mask/490_9.png  \n",
            "  inflating: /content/out/mask/491_1.png  \n",
            "  inflating: /content/out/mask/491_10.png  \n",
            "  inflating: /content/out/mask/491_11.png  \n",
            "  inflating: /content/out/mask/491_12.png  \n",
            "  inflating: /content/out/mask/491_13.png  \n",
            "  inflating: /content/out/mask/491_14.png  \n",
            "  inflating: /content/out/mask/491_15.png  \n",
            "  inflating: /content/out/mask/491_16.png  \n",
            "  inflating: /content/out/mask/491_17.png  \n",
            "  inflating: /content/out/mask/491_18.png  \n",
            "  inflating: /content/out/mask/491_19.png  \n",
            "  inflating: /content/out/mask/491_2.png  \n",
            "  inflating: /content/out/mask/491_20.png  \n",
            "  inflating: /content/out/mask/491_21.png  \n",
            "  inflating: /content/out/mask/491_22.png  \n",
            "  inflating: /content/out/mask/491_23.png  \n",
            "  inflating: /content/out/mask/491_24.png  \n",
            "  inflating: /content/out/mask/491_25.png  \n",
            "  inflating: /content/out/mask/491_26.png  \n",
            "  inflating: /content/out/mask/491_3.png  \n",
            "  inflating: /content/out/mask/491_4.png  \n",
            "  inflating: /content/out/mask/491_5.png  \n",
            "  inflating: /content/out/mask/491_6.png  \n",
            "  inflating: /content/out/mask/491_7.png  \n",
            "  inflating: /content/out/mask/491_8.png  \n",
            "  inflating: /content/out/mask/491_9.png  \n",
            "  inflating: /content/out/mask/492_1.png  \n",
            "  inflating: /content/out/mask/492_10.png  \n",
            "  inflating: /content/out/mask/492_11.png  \n",
            "  inflating: /content/out/mask/492_12.png  \n",
            "  inflating: /content/out/mask/492_13.png  \n",
            "  inflating: /content/out/mask/492_14.png  \n",
            "  inflating: /content/out/mask/492_15.png  \n",
            "  inflating: /content/out/mask/492_16.png  \n",
            "  inflating: /content/out/mask/492_17.png  \n",
            "  inflating: /content/out/mask/492_18.png  \n",
            "  inflating: /content/out/mask/492_19.png  \n",
            "  inflating: /content/out/mask/492_2.png  \n",
            "  inflating: /content/out/mask/492_20.png  \n",
            "  inflating: /content/out/mask/492_21.png  \n",
            "  inflating: /content/out/mask/492_22.png  \n",
            "  inflating: /content/out/mask/492_23.png  \n",
            "  inflating: /content/out/mask/492_24.png  \n",
            "  inflating: /content/out/mask/492_25.png  \n",
            "  inflating: /content/out/mask/492_26.png  \n",
            "  inflating: /content/out/mask/492_3.png  \n",
            "  inflating: /content/out/mask/492_4.png  \n",
            "  inflating: /content/out/mask/492_5.png  \n",
            "  inflating: /content/out/mask/492_6.png  \n",
            "  inflating: /content/out/mask/492_7.png  \n",
            "  inflating: /content/out/mask/492_8.png  \n",
            "  inflating: /content/out/mask/492_9.png  \n",
            "  inflating: /content/out/mask/493_1.png  \n",
            "  inflating: /content/out/mask/493_10.png  \n",
            "  inflating: /content/out/mask/493_11.png  \n",
            "  inflating: /content/out/mask/493_12.png  \n",
            "  inflating: /content/out/mask/493_13.png  \n",
            "  inflating: /content/out/mask/493_14.png  \n",
            "  inflating: /content/out/mask/493_15.png  \n",
            "  inflating: /content/out/mask/493_16.png  \n",
            "  inflating: /content/out/mask/493_17.png  \n",
            "  inflating: /content/out/mask/493_18.png  \n",
            "  inflating: /content/out/mask/493_19.png  \n",
            "  inflating: /content/out/mask/493_2.png  \n",
            "  inflating: /content/out/mask/493_20.png  \n",
            "  inflating: /content/out/mask/493_21.png  \n",
            "  inflating: /content/out/mask/493_22.png  \n",
            "  inflating: /content/out/mask/493_23.png  \n",
            "  inflating: /content/out/mask/493_24.png  \n",
            "  inflating: /content/out/mask/493_25.png  \n",
            "  inflating: /content/out/mask/493_26.png  \n",
            "  inflating: /content/out/mask/493_3.png  \n",
            "  inflating: /content/out/mask/493_4.png  \n",
            "  inflating: /content/out/mask/493_5.png  \n",
            "  inflating: /content/out/mask/493_6.png  \n",
            "  inflating: /content/out/mask/493_7.png  \n",
            "  inflating: /content/out/mask/493_8.png  \n",
            "  inflating: /content/out/mask/493_9.png  \n",
            "  inflating: /content/out/mask/494_1.png  \n",
            "  inflating: /content/out/mask/494_10.png  \n",
            "  inflating: /content/out/mask/494_11.png  \n",
            "  inflating: /content/out/mask/494_12.png  \n",
            "  inflating: /content/out/mask/494_13.png  \n",
            "  inflating: /content/out/mask/494_14.png  \n",
            "  inflating: /content/out/mask/494_15.png  \n",
            "  inflating: /content/out/mask/494_16.png  \n",
            "  inflating: /content/out/mask/494_17.png  \n",
            "  inflating: /content/out/mask/494_18.png  \n",
            "  inflating: /content/out/mask/494_19.png  \n",
            "  inflating: /content/out/mask/494_2.png  \n",
            "  inflating: /content/out/mask/494_20.png  \n",
            "  inflating: /content/out/mask/494_21.png  \n",
            "  inflating: /content/out/mask/494_22.png  \n",
            "  inflating: /content/out/mask/494_23.png  \n",
            "  inflating: /content/out/mask/494_24.png  \n",
            "  inflating: /content/out/mask/494_25.png  \n",
            "  inflating: /content/out/mask/494_26.png  \n",
            "  inflating: /content/out/mask/494_3.png  \n",
            "  inflating: /content/out/mask/494_4.png  \n",
            "  inflating: /content/out/mask/494_5.png  \n",
            "  inflating: /content/out/mask/494_6.png  \n",
            "  inflating: /content/out/mask/494_7.png  \n",
            "  inflating: /content/out/mask/494_8.png  \n",
            "  inflating: /content/out/mask/494_9.png  \n",
            "  inflating: /content/out/mask/495_1.png  \n",
            "  inflating: /content/out/mask/495_10.png  \n",
            "  inflating: /content/out/mask/495_11.png  \n",
            "  inflating: /content/out/mask/495_12.png  \n",
            "  inflating: /content/out/mask/495_13.png  \n",
            "  inflating: /content/out/mask/495_14.png  \n",
            "  inflating: /content/out/mask/495_15.png  \n",
            "  inflating: /content/out/mask/495_16.png  \n",
            "  inflating: /content/out/mask/495_17.png  \n",
            "  inflating: /content/out/mask/495_18.png  \n",
            "  inflating: /content/out/mask/495_19.png  \n",
            "  inflating: /content/out/mask/495_2.png  \n",
            "  inflating: /content/out/mask/495_20.png  \n",
            "  inflating: /content/out/mask/495_21.png  \n",
            "  inflating: /content/out/mask/495_22.png  \n",
            "  inflating: /content/out/mask/495_23.png  \n",
            "  inflating: /content/out/mask/495_24.png  \n",
            "  inflating: /content/out/mask/495_25.png  \n",
            "  inflating: /content/out/mask/495_26.png  \n",
            "  inflating: /content/out/mask/495_3.png  \n",
            "  inflating: /content/out/mask/495_4.png  \n",
            "  inflating: /content/out/mask/495_5.png  \n",
            "  inflating: /content/out/mask/495_6.png  \n",
            "  inflating: /content/out/mask/495_7.png  \n",
            "  inflating: /content/out/mask/495_8.png  \n",
            "  inflating: /content/out/mask/495_9.png  \n",
            "  inflating: /content/out/mask/496_1.png  \n",
            "  inflating: /content/out/mask/496_10.png  \n",
            "  inflating: /content/out/mask/496_11.png  \n",
            "  inflating: /content/out/mask/496_12.png  \n",
            "  inflating: /content/out/mask/496_13.png  \n",
            "  inflating: /content/out/mask/496_14.png  \n",
            "  inflating: /content/out/mask/496_15.png  \n",
            "  inflating: /content/out/mask/496_16.png  \n",
            "  inflating: /content/out/mask/496_17.png  \n",
            "  inflating: /content/out/mask/496_18.png  \n",
            "  inflating: /content/out/mask/496_19.png  \n",
            "  inflating: /content/out/mask/496_2.png  \n",
            "  inflating: /content/out/mask/496_20.png  \n",
            "  inflating: /content/out/mask/496_21.png  \n",
            "  inflating: /content/out/mask/496_22.png  \n",
            "  inflating: /content/out/mask/496_23.png  \n",
            "  inflating: /content/out/mask/496_24.png  \n",
            "  inflating: /content/out/mask/496_25.png  \n",
            "  inflating: /content/out/mask/496_26.png  \n",
            "  inflating: /content/out/mask/496_3.png  \n",
            "  inflating: /content/out/mask/496_4.png  \n",
            "  inflating: /content/out/mask/496_5.png  \n",
            "  inflating: /content/out/mask/496_6.png  \n",
            "  inflating: /content/out/mask/496_7.png  \n",
            "  inflating: /content/out/mask/496_8.png  \n",
            "  inflating: /content/out/mask/496_9.png  \n",
            "  inflating: /content/out/mask/497_1.png  \n",
            "  inflating: /content/out/mask/497_10.png  \n",
            "  inflating: /content/out/mask/497_11.png  \n",
            "  inflating: /content/out/mask/497_12.png  \n",
            "  inflating: /content/out/mask/497_13.png  \n",
            "  inflating: /content/out/mask/497_14.png  \n",
            "  inflating: /content/out/mask/497_15.png  \n",
            "  inflating: /content/out/mask/497_16.png  \n",
            "  inflating: /content/out/mask/497_17.png  \n",
            "  inflating: /content/out/mask/497_18.png  \n",
            "  inflating: /content/out/mask/497_19.png  \n",
            "  inflating: /content/out/mask/497_2.png  \n",
            "  inflating: /content/out/mask/497_20.png  \n",
            "  inflating: /content/out/mask/497_21.png  \n",
            "  inflating: /content/out/mask/497_22.png  \n",
            "  inflating: /content/out/mask/497_23.png  \n",
            "  inflating: /content/out/mask/497_24.png  \n",
            "  inflating: /content/out/mask/497_25.png  \n",
            "  inflating: /content/out/mask/497_26.png  \n",
            "  inflating: /content/out/mask/497_3.png  \n",
            "  inflating: /content/out/mask/497_4.png  \n",
            "  inflating: /content/out/mask/497_5.png  \n",
            "  inflating: /content/out/mask/497_6.png  \n",
            "  inflating: /content/out/mask/497_7.png  \n",
            "  inflating: /content/out/mask/497_8.png  \n",
            "  inflating: /content/out/mask/497_9.png  \n",
            "  inflating: /content/out/mask/498_1.png  \n",
            "  inflating: /content/out/mask/498_10.png  \n",
            "  inflating: /content/out/mask/498_11.png  \n",
            "  inflating: /content/out/mask/498_12.png  \n",
            "  inflating: /content/out/mask/498_13.png  \n",
            "  inflating: /content/out/mask/498_14.png  \n",
            "  inflating: /content/out/mask/498_15.png  \n",
            "  inflating: /content/out/mask/498_16.png  \n",
            "  inflating: /content/out/mask/498_17.png  \n",
            "  inflating: /content/out/mask/498_18.png  \n",
            "  inflating: /content/out/mask/498_19.png  \n",
            "  inflating: /content/out/mask/498_2.png  \n",
            "  inflating: /content/out/mask/498_20.png  \n",
            "  inflating: /content/out/mask/498_21.png  \n",
            "  inflating: /content/out/mask/498_22.png  \n",
            "  inflating: /content/out/mask/498_23.png  \n",
            "  inflating: /content/out/mask/498_24.png  \n",
            "  inflating: /content/out/mask/498_25.png  \n",
            "  inflating: /content/out/mask/498_26.png  \n",
            "  inflating: /content/out/mask/498_3.png  \n",
            "  inflating: /content/out/mask/498_4.png  \n",
            "  inflating: /content/out/mask/498_5.png  \n",
            "  inflating: /content/out/mask/498_6.png  \n",
            "  inflating: /content/out/mask/498_7.png  \n",
            "  inflating: /content/out/mask/498_8.png  \n",
            "  inflating: /content/out/mask/498_9.png  \n",
            "  inflating: /content/out/mask/499_1.png  \n",
            "  inflating: /content/out/mask/499_10.png  \n",
            "  inflating: /content/out/mask/499_11.png  \n",
            "  inflating: /content/out/mask/499_12.png  \n",
            "  inflating: /content/out/mask/499_13.png  \n",
            "  inflating: /content/out/mask/499_14.png  \n",
            "  inflating: /content/out/mask/499_15.png  \n",
            "  inflating: /content/out/mask/499_16.png  \n",
            "  inflating: /content/out/mask/499_17.png  \n",
            "  inflating: /content/out/mask/499_18.png  \n",
            "  inflating: /content/out/mask/499_19.png  \n",
            "  inflating: /content/out/mask/499_2.png  \n",
            "  inflating: /content/out/mask/499_20.png  \n",
            "  inflating: /content/out/mask/499_21.png  \n",
            "  inflating: /content/out/mask/499_22.png  \n",
            "  inflating: /content/out/mask/499_23.png  \n",
            "  inflating: /content/out/mask/499_24.png  \n",
            "  inflating: /content/out/mask/499_25.png  \n",
            "  inflating: /content/out/mask/499_26.png  \n",
            "  inflating: /content/out/mask/499_3.png  \n",
            "  inflating: /content/out/mask/499_4.png  \n",
            "  inflating: /content/out/mask/499_5.png  \n",
            "  inflating: /content/out/mask/499_6.png  \n",
            "  inflating: /content/out/mask/499_7.png  \n",
            "  inflating: /content/out/mask/499_8.png  \n",
            "  inflating: /content/out/mask/499_9.png  \n",
            "  inflating: /content/out/mask/49_1.png  \n",
            "  inflating: /content/out/mask/49_10.png  \n",
            "  inflating: /content/out/mask/49_11.png  \n",
            "  inflating: /content/out/mask/49_12.png  \n",
            "  inflating: /content/out/mask/49_13.png  \n",
            "  inflating: /content/out/mask/49_14.png  \n",
            "  inflating: /content/out/mask/49_15.png  \n",
            "  inflating: /content/out/mask/49_16.png  \n",
            "  inflating: /content/out/mask/49_17.png  \n",
            "  inflating: /content/out/mask/49_18.png  \n",
            "  inflating: /content/out/mask/49_19.png  \n",
            "  inflating: /content/out/mask/49_2.png  \n",
            "  inflating: /content/out/mask/49_20.png  \n",
            "  inflating: /content/out/mask/49_21.png  \n",
            "  inflating: /content/out/mask/49_22.png  \n",
            "  inflating: /content/out/mask/49_23.png  \n",
            "  inflating: /content/out/mask/49_24.png  \n",
            "  inflating: /content/out/mask/49_25.png  \n",
            "  inflating: /content/out/mask/49_26.png  \n",
            "  inflating: /content/out/mask/49_3.png  \n",
            "  inflating: /content/out/mask/49_4.png  \n",
            "  inflating: /content/out/mask/49_5.png  \n",
            "  inflating: /content/out/mask/49_6.png  \n",
            "  inflating: /content/out/mask/49_7.png  \n",
            "  inflating: /content/out/mask/49_8.png  \n",
            "  inflating: /content/out/mask/49_9.png  \n",
            "  inflating: /content/out/mask/4_1.png  \n",
            "  inflating: /content/out/mask/4_10.png  \n",
            "  inflating: /content/out/mask/4_11.png  \n",
            "  inflating: /content/out/mask/4_12.png  \n",
            "  inflating: /content/out/mask/4_13.png  \n",
            "  inflating: /content/out/mask/4_14.png  \n",
            "  inflating: /content/out/mask/4_15.png  \n",
            "  inflating: /content/out/mask/4_16.png  \n",
            "  inflating: /content/out/mask/4_17.png  \n",
            "  inflating: /content/out/mask/4_18.png  \n",
            "  inflating: /content/out/mask/4_19.png  \n",
            "  inflating: /content/out/mask/4_2.png  \n",
            "  inflating: /content/out/mask/4_20.png  \n",
            "  inflating: /content/out/mask/4_21.png  \n",
            "  inflating: /content/out/mask/4_22.png  \n",
            "  inflating: /content/out/mask/4_23.png  \n",
            "  inflating: /content/out/mask/4_24.png  \n",
            "  inflating: /content/out/mask/4_25.png  \n",
            "  inflating: /content/out/mask/4_26.png  \n",
            "  inflating: /content/out/mask/4_3.png  \n",
            "  inflating: /content/out/mask/4_4.png  \n",
            "  inflating: /content/out/mask/4_5.png  \n",
            "  inflating: /content/out/mask/4_6.png  \n",
            "  inflating: /content/out/mask/4_7.png  \n",
            "  inflating: /content/out/mask/4_8.png  \n",
            "  inflating: /content/out/mask/4_9.png  \n",
            "  inflating: /content/out/mask/500_1.png  \n",
            "  inflating: /content/out/mask/500_10.png  \n",
            "  inflating: /content/out/mask/500_11.png  \n",
            "  inflating: /content/out/mask/500_12.png  \n",
            "  inflating: /content/out/mask/500_13.png  \n",
            "  inflating: /content/out/mask/500_14.png  \n",
            "  inflating: /content/out/mask/500_15.png  \n",
            "  inflating: /content/out/mask/500_16.png  \n",
            "  inflating: /content/out/mask/500_17.png  \n",
            "  inflating: /content/out/mask/500_18.png  \n",
            "  inflating: /content/out/mask/500_19.png  \n",
            "  inflating: /content/out/mask/500_2.png  \n",
            "  inflating: /content/out/mask/500_20.png  \n",
            "  inflating: /content/out/mask/500_21.png  \n",
            "  inflating: /content/out/mask/500_22.png  \n",
            "  inflating: /content/out/mask/500_23.png  \n",
            "  inflating: /content/out/mask/500_24.png  \n",
            "  inflating: /content/out/mask/500_25.png  \n",
            "  inflating: /content/out/mask/500_26.png  \n",
            "  inflating: /content/out/mask/500_3.png  \n",
            "  inflating: /content/out/mask/500_4.png  \n",
            "  inflating: /content/out/mask/500_5.png  \n",
            "  inflating: /content/out/mask/500_6.png  \n",
            "  inflating: /content/out/mask/500_7.png  \n",
            "  inflating: /content/out/mask/500_8.png  \n",
            "  inflating: /content/out/mask/500_9.png  \n",
            "  inflating: /content/out/mask/501_1.png  \n",
            "  inflating: /content/out/mask/501_10.png  \n",
            "  inflating: /content/out/mask/501_11.png  \n",
            "  inflating: /content/out/mask/501_12.png  \n",
            "  inflating: /content/out/mask/501_13.png  \n",
            "  inflating: /content/out/mask/501_14.png  \n",
            "  inflating: /content/out/mask/501_15.png  \n",
            "  inflating: /content/out/mask/501_16.png  \n",
            "  inflating: /content/out/mask/501_17.png  \n",
            "  inflating: /content/out/mask/501_18.png  \n",
            "  inflating: /content/out/mask/501_19.png  \n",
            "  inflating: /content/out/mask/501_2.png  \n",
            "  inflating: /content/out/mask/501_20.png  \n",
            "  inflating: /content/out/mask/501_21.png  \n",
            "  inflating: /content/out/mask/501_22.png  \n",
            "  inflating: /content/out/mask/501_23.png  \n",
            "  inflating: /content/out/mask/501_24.png  \n",
            "  inflating: /content/out/mask/501_25.png  \n",
            "  inflating: /content/out/mask/501_26.png  \n",
            "  inflating: /content/out/mask/501_3.png  \n",
            "  inflating: /content/out/mask/501_4.png  \n",
            "  inflating: /content/out/mask/501_5.png  \n",
            "  inflating: /content/out/mask/501_6.png  \n",
            "  inflating: /content/out/mask/501_7.png  \n",
            "  inflating: /content/out/mask/501_8.png  \n",
            "  inflating: /content/out/mask/501_9.png  \n",
            "  inflating: /content/out/mask/502_1.png  \n",
            "  inflating: /content/out/mask/502_10.png  \n",
            "  inflating: /content/out/mask/502_11.png  \n",
            "  inflating: /content/out/mask/502_12.png  \n",
            "  inflating: /content/out/mask/502_13.png  \n",
            "  inflating: /content/out/mask/502_14.png  \n",
            "  inflating: /content/out/mask/502_15.png  \n",
            "  inflating: /content/out/mask/502_16.png  \n",
            "  inflating: /content/out/mask/502_17.png  \n",
            "  inflating: /content/out/mask/502_18.png  \n",
            "  inflating: /content/out/mask/502_19.png  \n",
            "  inflating: /content/out/mask/502_2.png  \n",
            "  inflating: /content/out/mask/502_20.png  \n",
            "  inflating: /content/out/mask/502_21.png  \n",
            "  inflating: /content/out/mask/502_22.png  \n",
            "  inflating: /content/out/mask/502_23.png  \n",
            "  inflating: /content/out/mask/502_24.png  \n",
            "  inflating: /content/out/mask/502_25.png  \n",
            "  inflating: /content/out/mask/502_26.png  \n",
            "  inflating: /content/out/mask/502_3.png  \n",
            "  inflating: /content/out/mask/502_4.png  \n",
            "  inflating: /content/out/mask/502_5.png  \n",
            "  inflating: /content/out/mask/502_6.png  \n",
            "  inflating: /content/out/mask/502_7.png  \n",
            "  inflating: /content/out/mask/502_8.png  \n",
            "  inflating: /content/out/mask/502_9.png  \n",
            "  inflating: /content/out/mask/503_1.png  \n",
            "  inflating: /content/out/mask/503_10.png  \n",
            "  inflating: /content/out/mask/503_11.png  \n",
            "  inflating: /content/out/mask/503_12.png  \n",
            "  inflating: /content/out/mask/503_13.png  \n",
            "  inflating: /content/out/mask/503_14.png  \n",
            "  inflating: /content/out/mask/503_15.png  \n",
            "  inflating: /content/out/mask/503_16.png  \n",
            "  inflating: /content/out/mask/503_17.png  \n",
            "  inflating: /content/out/mask/503_18.png  \n",
            "  inflating: /content/out/mask/503_19.png  \n",
            "  inflating: /content/out/mask/503_2.png  \n",
            "  inflating: /content/out/mask/503_20.png  \n",
            "  inflating: /content/out/mask/503_21.png  \n",
            "  inflating: /content/out/mask/503_22.png  \n",
            "  inflating: /content/out/mask/503_23.png  \n",
            "  inflating: /content/out/mask/503_24.png  \n",
            "  inflating: /content/out/mask/503_25.png  \n",
            "  inflating: /content/out/mask/503_26.png  \n",
            "  inflating: /content/out/mask/503_3.png  \n",
            "  inflating: /content/out/mask/503_4.png  \n",
            "  inflating: /content/out/mask/503_5.png  \n",
            "  inflating: /content/out/mask/503_6.png  \n",
            "  inflating: /content/out/mask/503_7.png  \n",
            "  inflating: /content/out/mask/503_8.png  \n",
            "  inflating: /content/out/mask/503_9.png  \n",
            "  inflating: /content/out/mask/504_1.png  \n",
            "  inflating: /content/out/mask/504_10.png  \n",
            "  inflating: /content/out/mask/504_11.png  \n",
            "  inflating: /content/out/mask/504_12.png  \n",
            "  inflating: /content/out/mask/504_13.png  \n",
            "  inflating: /content/out/mask/504_14.png  \n",
            "  inflating: /content/out/mask/504_15.png  \n",
            "  inflating: /content/out/mask/504_16.png  \n",
            "  inflating: /content/out/mask/504_17.png  \n",
            "  inflating: /content/out/mask/504_18.png  \n",
            "  inflating: /content/out/mask/504_19.png  \n",
            "  inflating: /content/out/mask/504_2.png  \n",
            "  inflating: /content/out/mask/504_20.png  \n",
            "  inflating: /content/out/mask/504_21.png  \n",
            "  inflating: /content/out/mask/504_22.png  \n",
            "  inflating: /content/out/mask/504_23.png  \n",
            "  inflating: /content/out/mask/504_24.png  \n",
            "  inflating: /content/out/mask/504_25.png  \n",
            "  inflating: /content/out/mask/504_26.png  \n",
            "  inflating: /content/out/mask/504_3.png  \n",
            "  inflating: /content/out/mask/504_4.png  \n",
            "  inflating: /content/out/mask/504_5.png  \n",
            "  inflating: /content/out/mask/504_6.png  \n",
            "  inflating: /content/out/mask/504_7.png  \n",
            "  inflating: /content/out/mask/504_8.png  \n",
            "  inflating: /content/out/mask/504_9.png  \n",
            "  inflating: /content/out/mask/505_1.png  \n",
            "  inflating: /content/out/mask/505_10.png  \n",
            "  inflating: /content/out/mask/505_11.png  \n",
            "  inflating: /content/out/mask/505_12.png  \n",
            "  inflating: /content/out/mask/505_13.png  \n",
            "  inflating: /content/out/mask/505_14.png  \n",
            "  inflating: /content/out/mask/505_15.png  \n",
            "  inflating: /content/out/mask/505_16.png  \n",
            "  inflating: /content/out/mask/505_17.png  \n",
            "  inflating: /content/out/mask/505_18.png  \n",
            "  inflating: /content/out/mask/505_19.png  \n",
            "  inflating: /content/out/mask/505_2.png  \n",
            "  inflating: /content/out/mask/505_20.png  \n",
            "  inflating: /content/out/mask/505_21.png  \n",
            "  inflating: /content/out/mask/505_22.png  \n",
            "  inflating: /content/out/mask/505_23.png  \n",
            "  inflating: /content/out/mask/505_24.png  \n",
            "  inflating: /content/out/mask/505_25.png  \n",
            "  inflating: /content/out/mask/505_26.png  \n",
            "  inflating: /content/out/mask/505_3.png  \n",
            "  inflating: /content/out/mask/505_4.png  \n",
            "  inflating: /content/out/mask/505_5.png  \n",
            "  inflating: /content/out/mask/505_6.png  \n",
            "  inflating: /content/out/mask/505_7.png  \n",
            "  inflating: /content/out/mask/505_8.png  \n",
            "  inflating: /content/out/mask/505_9.png  \n",
            "  inflating: /content/out/mask/506_1.png  \n",
            "  inflating: /content/out/mask/506_10.png  \n",
            "  inflating: /content/out/mask/506_11.png  \n",
            "  inflating: /content/out/mask/506_12.png  \n",
            "  inflating: /content/out/mask/506_13.png  \n",
            "  inflating: /content/out/mask/506_14.png  \n",
            "  inflating: /content/out/mask/506_15.png  \n",
            "  inflating: /content/out/mask/506_16.png  \n",
            "  inflating: /content/out/mask/506_17.png  \n",
            "  inflating: /content/out/mask/506_18.png  \n",
            "  inflating: /content/out/mask/506_19.png  \n",
            "  inflating: /content/out/mask/506_2.png  \n",
            "  inflating: /content/out/mask/506_20.png  \n",
            "  inflating: /content/out/mask/506_21.png  \n",
            "  inflating: /content/out/mask/506_22.png  \n",
            "  inflating: /content/out/mask/506_23.png  \n",
            "  inflating: /content/out/mask/506_24.png  \n",
            "  inflating: /content/out/mask/506_25.png  \n",
            "  inflating: /content/out/mask/506_26.png  \n",
            "  inflating: /content/out/mask/506_3.png  \n",
            "  inflating: /content/out/mask/506_4.png  \n",
            "  inflating: /content/out/mask/506_5.png  \n",
            "  inflating: /content/out/mask/506_6.png  \n",
            "  inflating: /content/out/mask/506_7.png  \n",
            "  inflating: /content/out/mask/506_8.png  \n",
            "  inflating: /content/out/mask/506_9.png  \n",
            "  inflating: /content/out/mask/507_1.png  \n",
            "  inflating: /content/out/mask/507_10.png  \n",
            "  inflating: /content/out/mask/507_11.png  \n",
            "  inflating: /content/out/mask/507_12.png  \n",
            "  inflating: /content/out/mask/507_13.png  \n",
            "  inflating: /content/out/mask/507_14.png  \n",
            "  inflating: /content/out/mask/507_15.png  \n",
            "  inflating: /content/out/mask/507_16.png  \n",
            "  inflating: /content/out/mask/507_17.png  \n",
            "  inflating: /content/out/mask/507_18.png  \n",
            "  inflating: /content/out/mask/507_19.png  \n",
            "  inflating: /content/out/mask/507_2.png  \n",
            "  inflating: /content/out/mask/507_20.png  \n",
            "  inflating: /content/out/mask/507_21.png  \n",
            "  inflating: /content/out/mask/507_22.png  \n",
            "  inflating: /content/out/mask/507_23.png  \n",
            "  inflating: /content/out/mask/507_24.png  \n",
            "  inflating: /content/out/mask/507_25.png  \n",
            "  inflating: /content/out/mask/507_26.png  \n",
            "  inflating: /content/out/mask/507_3.png  \n",
            "  inflating: /content/out/mask/507_4.png  \n",
            "  inflating: /content/out/mask/507_5.png  \n",
            "  inflating: /content/out/mask/507_6.png  \n",
            "  inflating: /content/out/mask/507_7.png  \n",
            "  inflating: /content/out/mask/507_8.png  \n",
            "  inflating: /content/out/mask/507_9.png  \n",
            "  inflating: /content/out/mask/508_1.png  \n",
            "  inflating: /content/out/mask/508_10.png  \n",
            "  inflating: /content/out/mask/508_11.png  \n",
            "  inflating: /content/out/mask/508_12.png  \n",
            "  inflating: /content/out/mask/508_13.png  \n",
            "  inflating: /content/out/mask/508_14.png  \n",
            "  inflating: /content/out/mask/508_15.png  \n",
            "  inflating: /content/out/mask/508_16.png  \n",
            "  inflating: /content/out/mask/508_17.png  \n",
            "  inflating: /content/out/mask/508_18.png  \n",
            "  inflating: /content/out/mask/508_19.png  \n",
            "  inflating: /content/out/mask/508_2.png  \n",
            "  inflating: /content/out/mask/508_20.png  \n",
            "  inflating: /content/out/mask/508_21.png  \n",
            "  inflating: /content/out/mask/508_22.png  \n",
            "  inflating: /content/out/mask/508_23.png  \n",
            "  inflating: /content/out/mask/508_24.png  \n",
            "  inflating: /content/out/mask/508_25.png  \n",
            "  inflating: /content/out/mask/508_26.png  \n",
            "  inflating: /content/out/mask/508_3.png  \n",
            "  inflating: /content/out/mask/508_4.png  \n",
            "  inflating: /content/out/mask/508_5.png  \n",
            "  inflating: /content/out/mask/508_6.png  \n",
            "  inflating: /content/out/mask/508_7.png  \n",
            "  inflating: /content/out/mask/508_8.png  \n",
            "  inflating: /content/out/mask/508_9.png  \n",
            "  inflating: /content/out/mask/509_1.png  \n",
            "  inflating: /content/out/mask/509_10.png  \n",
            "  inflating: /content/out/mask/509_11.png  \n",
            "  inflating: /content/out/mask/509_12.png  \n",
            "  inflating: /content/out/mask/509_13.png  \n",
            "  inflating: /content/out/mask/509_14.png  \n",
            "  inflating: /content/out/mask/509_15.png  \n",
            "  inflating: /content/out/mask/509_16.png  \n",
            "  inflating: /content/out/mask/509_17.png  \n",
            "  inflating: /content/out/mask/509_18.png  \n",
            "  inflating: /content/out/mask/509_19.png  \n",
            "  inflating: /content/out/mask/509_2.png  \n",
            "  inflating: /content/out/mask/509_20.png  \n",
            "  inflating: /content/out/mask/509_21.png  \n",
            "  inflating: /content/out/mask/509_22.png  \n",
            "  inflating: /content/out/mask/509_23.png  \n",
            "  inflating: /content/out/mask/509_24.png  \n",
            "  inflating: /content/out/mask/509_25.png  \n",
            "  inflating: /content/out/mask/509_26.png  \n",
            "  inflating: /content/out/mask/509_3.png  \n",
            "  inflating: /content/out/mask/509_4.png  \n",
            "  inflating: /content/out/mask/509_5.png  \n",
            "  inflating: /content/out/mask/509_6.png  \n",
            "  inflating: /content/out/mask/509_7.png  \n",
            "  inflating: /content/out/mask/509_8.png  \n",
            "  inflating: /content/out/mask/509_9.png  \n",
            "  inflating: /content/out/mask/50_1.png  \n",
            "  inflating: /content/out/mask/50_10.png  \n",
            "  inflating: /content/out/mask/50_11.png  \n",
            "  inflating: /content/out/mask/50_12.png  \n",
            "  inflating: /content/out/mask/50_13.png  \n",
            "  inflating: /content/out/mask/50_14.png  \n",
            "  inflating: /content/out/mask/50_15.png  \n",
            "  inflating: /content/out/mask/50_16.png  \n",
            "  inflating: /content/out/mask/50_17.png  \n",
            "  inflating: /content/out/mask/50_18.png  \n",
            "  inflating: /content/out/mask/50_19.png  \n",
            "  inflating: /content/out/mask/50_2.png  \n",
            "  inflating: /content/out/mask/50_20.png  \n",
            "  inflating: /content/out/mask/50_21.png  \n",
            "  inflating: /content/out/mask/50_22.png  \n",
            "  inflating: /content/out/mask/50_23.png  \n",
            "  inflating: /content/out/mask/50_24.png  \n",
            "  inflating: /content/out/mask/50_25.png  \n",
            "  inflating: /content/out/mask/50_26.png  \n",
            "  inflating: /content/out/mask/50_3.png  \n",
            "  inflating: /content/out/mask/50_4.png  \n",
            "  inflating: /content/out/mask/50_5.png  \n",
            "  inflating: /content/out/mask/50_6.png  \n",
            "  inflating: /content/out/mask/50_7.png  \n",
            "  inflating: /content/out/mask/50_8.png  \n",
            "  inflating: /content/out/mask/50_9.png  \n",
            "  inflating: /content/out/mask/510_1.png  \n",
            "  inflating: /content/out/mask/510_10.png  \n",
            "  inflating: /content/out/mask/510_11.png  \n",
            "  inflating: /content/out/mask/510_12.png  \n",
            "  inflating: /content/out/mask/510_13.png  \n",
            "  inflating: /content/out/mask/510_14.png  \n",
            "  inflating: /content/out/mask/510_15.png  \n",
            "  inflating: /content/out/mask/510_16.png  \n",
            "  inflating: /content/out/mask/510_17.png  \n",
            "  inflating: /content/out/mask/510_18.png  \n",
            "  inflating: /content/out/mask/510_19.png  \n",
            "  inflating: /content/out/mask/510_2.png  \n",
            "  inflating: /content/out/mask/510_20.png  \n",
            "  inflating: /content/out/mask/510_21.png  \n",
            "  inflating: /content/out/mask/510_22.png  \n",
            "  inflating: /content/out/mask/510_23.png  \n",
            "  inflating: /content/out/mask/510_24.png  \n",
            "  inflating: /content/out/mask/510_25.png  \n",
            "  inflating: /content/out/mask/510_26.png  \n",
            "  inflating: /content/out/mask/510_3.png  \n",
            "  inflating: /content/out/mask/510_4.png  \n",
            "  inflating: /content/out/mask/510_5.png  \n",
            "  inflating: /content/out/mask/510_6.png  \n",
            "  inflating: /content/out/mask/510_7.png  \n",
            "  inflating: /content/out/mask/510_8.png  \n",
            "  inflating: /content/out/mask/510_9.png  \n",
            "  inflating: /content/out/mask/511_1.png  \n",
            "  inflating: /content/out/mask/511_10.png  \n",
            "  inflating: /content/out/mask/511_11.png  \n",
            "  inflating: /content/out/mask/511_12.png  \n",
            "  inflating: /content/out/mask/511_13.png  \n",
            "  inflating: /content/out/mask/511_14.png  \n",
            "  inflating: /content/out/mask/511_15.png  \n",
            "  inflating: /content/out/mask/511_16.png  \n",
            "  inflating: /content/out/mask/511_17.png  \n",
            "  inflating: /content/out/mask/511_18.png  \n",
            "  inflating: /content/out/mask/511_19.png  \n",
            "  inflating: /content/out/mask/511_2.png  \n",
            "  inflating: /content/out/mask/511_20.png  \n",
            "  inflating: /content/out/mask/511_21.png  \n",
            "  inflating: /content/out/mask/511_22.png  \n",
            "  inflating: /content/out/mask/511_23.png  \n",
            "  inflating: /content/out/mask/511_24.png  \n",
            "  inflating: /content/out/mask/511_25.png  \n",
            "  inflating: /content/out/mask/511_26.png  \n",
            "  inflating: /content/out/mask/511_3.png  \n",
            "  inflating: /content/out/mask/511_4.png  \n",
            "  inflating: /content/out/mask/511_5.png  \n",
            "  inflating: /content/out/mask/511_6.png  \n",
            "  inflating: /content/out/mask/511_7.png  \n",
            "  inflating: /content/out/mask/511_8.png  \n",
            "  inflating: /content/out/mask/511_9.png  \n",
            "  inflating: /content/out/mask/512_1.png  \n",
            "  inflating: /content/out/mask/512_10.png  \n",
            "  inflating: /content/out/mask/512_11.png  \n",
            "  inflating: /content/out/mask/512_12.png  \n",
            "  inflating: /content/out/mask/512_13.png  \n",
            "  inflating: /content/out/mask/512_14.png  \n",
            "  inflating: /content/out/mask/512_15.png  \n",
            "  inflating: /content/out/mask/512_16.png  \n",
            "  inflating: /content/out/mask/512_17.png  \n",
            "  inflating: /content/out/mask/512_18.png  \n",
            "  inflating: /content/out/mask/512_19.png  \n",
            "  inflating: /content/out/mask/512_2.png  \n",
            "  inflating: /content/out/mask/512_20.png  \n",
            "  inflating: /content/out/mask/512_21.png  \n",
            "  inflating: /content/out/mask/512_22.png  \n",
            "  inflating: /content/out/mask/512_23.png  \n",
            "  inflating: /content/out/mask/512_24.png  \n",
            "  inflating: /content/out/mask/512_25.png  \n",
            "  inflating: /content/out/mask/512_26.png  \n",
            "  inflating: /content/out/mask/512_3.png  \n",
            "  inflating: /content/out/mask/512_4.png  \n",
            "  inflating: /content/out/mask/512_5.png  \n",
            "  inflating: /content/out/mask/512_6.png  \n",
            "  inflating: /content/out/mask/512_7.png  \n",
            "  inflating: /content/out/mask/512_8.png  \n",
            "  inflating: /content/out/mask/512_9.png  \n",
            "  inflating: /content/out/mask/513_1.png  \n",
            "  inflating: /content/out/mask/513_10.png  \n",
            "  inflating: /content/out/mask/513_11.png  \n",
            "  inflating: /content/out/mask/513_12.png  \n",
            "  inflating: /content/out/mask/513_13.png  \n",
            "  inflating: /content/out/mask/513_14.png  \n",
            "  inflating: /content/out/mask/513_15.png  \n",
            "  inflating: /content/out/mask/513_16.png  \n",
            "  inflating: /content/out/mask/513_17.png  \n",
            "  inflating: /content/out/mask/513_18.png  \n",
            "  inflating: /content/out/mask/513_19.png  \n",
            "  inflating: /content/out/mask/513_2.png  \n",
            "  inflating: /content/out/mask/513_20.png  \n",
            "  inflating: /content/out/mask/513_21.png  \n",
            "  inflating: /content/out/mask/513_22.png  \n",
            "  inflating: /content/out/mask/513_23.png  \n",
            "  inflating: /content/out/mask/513_24.png  \n",
            "  inflating: /content/out/mask/513_25.png  \n",
            "  inflating: /content/out/mask/513_26.png  \n",
            "  inflating: /content/out/mask/513_3.png  \n",
            "  inflating: /content/out/mask/513_4.png  \n",
            "  inflating: /content/out/mask/513_5.png  \n",
            "  inflating: /content/out/mask/513_6.png  \n",
            "  inflating: /content/out/mask/513_7.png  \n",
            "  inflating: /content/out/mask/513_8.png  \n",
            "  inflating: /content/out/mask/513_9.png  \n",
            "  inflating: /content/out/mask/514_1.png  \n",
            "  inflating: /content/out/mask/514_10.png  \n",
            "  inflating: /content/out/mask/514_11.png  \n",
            "  inflating: /content/out/mask/514_12.png  \n",
            "  inflating: /content/out/mask/514_13.png  \n",
            "  inflating: /content/out/mask/514_14.png  \n",
            "  inflating: /content/out/mask/514_15.png  \n",
            "  inflating: /content/out/mask/514_16.png  \n",
            "  inflating: /content/out/mask/514_17.png  \n",
            "  inflating: /content/out/mask/514_18.png  \n",
            "  inflating: /content/out/mask/514_19.png  \n",
            "  inflating: /content/out/mask/514_2.png  \n",
            "  inflating: /content/out/mask/514_20.png  \n",
            "  inflating: /content/out/mask/514_21.png  \n",
            "  inflating: /content/out/mask/514_22.png  \n",
            "  inflating: /content/out/mask/514_23.png  \n",
            "  inflating: /content/out/mask/514_24.png  \n",
            "  inflating: /content/out/mask/514_25.png  \n",
            "  inflating: /content/out/mask/514_26.png  \n",
            "  inflating: /content/out/mask/514_3.png  \n",
            "  inflating: /content/out/mask/514_4.png  \n",
            "  inflating: /content/out/mask/514_5.png  \n",
            "  inflating: /content/out/mask/514_6.png  \n",
            "  inflating: /content/out/mask/514_7.png  \n",
            "  inflating: /content/out/mask/514_8.png  \n",
            "  inflating: /content/out/mask/514_9.png  \n",
            "  inflating: /content/out/mask/515_1.png  \n",
            "  inflating: /content/out/mask/515_10.png  \n",
            "  inflating: /content/out/mask/515_11.png  \n",
            "  inflating: /content/out/mask/515_12.png  \n",
            "  inflating: /content/out/mask/515_13.png  \n",
            "  inflating: /content/out/mask/515_14.png  \n",
            "  inflating: /content/out/mask/515_15.png  \n",
            "  inflating: /content/out/mask/515_16.png  \n",
            "  inflating: /content/out/mask/515_17.png  \n",
            "  inflating: /content/out/mask/515_18.png  \n",
            "  inflating: /content/out/mask/515_19.png  \n",
            "  inflating: /content/out/mask/515_2.png  \n",
            "  inflating: /content/out/mask/515_20.png  \n",
            "  inflating: /content/out/mask/515_21.png  \n",
            "  inflating: /content/out/mask/515_22.png  \n",
            "  inflating: /content/out/mask/515_23.png  \n",
            "  inflating: /content/out/mask/515_24.png  \n",
            "  inflating: /content/out/mask/515_25.png  \n",
            "  inflating: /content/out/mask/515_26.png  \n",
            "  inflating: /content/out/mask/515_3.png  \n",
            "  inflating: /content/out/mask/515_4.png  \n",
            "  inflating: /content/out/mask/515_5.png  \n",
            "  inflating: /content/out/mask/515_6.png  \n",
            "  inflating: /content/out/mask/515_7.png  \n",
            "  inflating: /content/out/mask/515_8.png  \n",
            "  inflating: /content/out/mask/515_9.png  \n",
            "  inflating: /content/out/mask/516_1.png  \n",
            "  inflating: /content/out/mask/516_10.png  \n",
            "  inflating: /content/out/mask/516_11.png  \n",
            "  inflating: /content/out/mask/516_12.png  \n",
            "  inflating: /content/out/mask/516_13.png  \n",
            "  inflating: /content/out/mask/516_14.png  \n",
            "  inflating: /content/out/mask/516_15.png  \n",
            "  inflating: /content/out/mask/516_16.png  \n",
            "  inflating: /content/out/mask/516_17.png  \n",
            "  inflating: /content/out/mask/516_18.png  \n",
            "  inflating: /content/out/mask/516_19.png  \n",
            "  inflating: /content/out/mask/516_2.png  \n",
            "  inflating: /content/out/mask/516_20.png  \n",
            "  inflating: /content/out/mask/516_21.png  \n",
            "  inflating: /content/out/mask/516_22.png  \n",
            "  inflating: /content/out/mask/516_23.png  \n",
            "  inflating: /content/out/mask/516_24.png  \n",
            "  inflating: /content/out/mask/516_25.png  \n",
            "  inflating: /content/out/mask/516_26.png  \n",
            "  inflating: /content/out/mask/516_3.png  \n",
            "  inflating: /content/out/mask/516_4.png  \n",
            "  inflating: /content/out/mask/516_5.png  \n",
            "  inflating: /content/out/mask/516_6.png  \n",
            "  inflating: /content/out/mask/516_7.png  \n",
            "  inflating: /content/out/mask/516_8.png  \n",
            "  inflating: /content/out/mask/516_9.png  \n",
            "  inflating: /content/out/mask/517_1.png  \n",
            "  inflating: /content/out/mask/517_10.png  \n",
            "  inflating: /content/out/mask/517_11.png  \n",
            "  inflating: /content/out/mask/517_12.png  \n",
            "  inflating: /content/out/mask/517_13.png  \n",
            "  inflating: /content/out/mask/517_14.png  \n",
            "  inflating: /content/out/mask/517_15.png  \n",
            "  inflating: /content/out/mask/517_16.png  \n",
            "  inflating: /content/out/mask/517_17.png  \n",
            "  inflating: /content/out/mask/517_18.png  \n",
            "  inflating: /content/out/mask/517_19.png  \n",
            "  inflating: /content/out/mask/517_2.png  \n",
            "  inflating: /content/out/mask/517_20.png  \n",
            "  inflating: /content/out/mask/517_21.png  \n",
            "  inflating: /content/out/mask/517_22.png  \n",
            "  inflating: /content/out/mask/517_23.png  \n",
            "  inflating: /content/out/mask/517_24.png  \n",
            "  inflating: /content/out/mask/517_25.png  \n",
            "  inflating: /content/out/mask/517_26.png  \n",
            "  inflating: /content/out/mask/517_3.png  \n",
            "  inflating: /content/out/mask/517_4.png  \n",
            "  inflating: /content/out/mask/517_5.png  \n",
            "  inflating: /content/out/mask/517_6.png  \n",
            "  inflating: /content/out/mask/517_7.png  \n",
            "  inflating: /content/out/mask/517_8.png  \n",
            "  inflating: /content/out/mask/517_9.png  \n",
            "  inflating: /content/out/mask/518_1.png  \n",
            "  inflating: /content/out/mask/518_10.png  \n",
            "  inflating: /content/out/mask/518_11.png  \n",
            "  inflating: /content/out/mask/518_12.png  \n",
            "  inflating: /content/out/mask/518_13.png  \n",
            "  inflating: /content/out/mask/518_14.png  \n",
            "  inflating: /content/out/mask/518_15.png  \n",
            "  inflating: /content/out/mask/518_16.png  \n",
            "  inflating: /content/out/mask/518_17.png  \n",
            "  inflating: /content/out/mask/518_18.png  \n",
            "  inflating: /content/out/mask/518_19.png  \n",
            "  inflating: /content/out/mask/518_2.png  \n",
            "  inflating: /content/out/mask/518_20.png  \n",
            "  inflating: /content/out/mask/518_21.png  \n",
            "  inflating: /content/out/mask/518_22.png  \n",
            "  inflating: /content/out/mask/518_23.png  \n",
            "  inflating: /content/out/mask/518_24.png  \n",
            "  inflating: /content/out/mask/518_25.png  \n",
            "  inflating: /content/out/mask/518_26.png  \n",
            "  inflating: /content/out/mask/518_3.png  \n",
            "  inflating: /content/out/mask/518_4.png  \n",
            "  inflating: /content/out/mask/518_5.png  \n",
            "  inflating: /content/out/mask/518_6.png  \n",
            "  inflating: /content/out/mask/518_7.png  \n",
            "  inflating: /content/out/mask/518_8.png  \n",
            "  inflating: /content/out/mask/518_9.png  \n",
            "  inflating: /content/out/mask/519_1.png  \n",
            "  inflating: /content/out/mask/519_10.png  \n",
            "  inflating: /content/out/mask/519_11.png  \n",
            "  inflating: /content/out/mask/519_12.png  \n",
            "  inflating: /content/out/mask/519_13.png  \n",
            "  inflating: /content/out/mask/519_14.png  \n",
            "  inflating: /content/out/mask/519_15.png  \n",
            "  inflating: /content/out/mask/519_16.png  \n",
            "  inflating: /content/out/mask/519_17.png  \n",
            "  inflating: /content/out/mask/519_18.png  \n",
            "  inflating: /content/out/mask/519_19.png  \n",
            "  inflating: /content/out/mask/519_2.png  \n",
            "  inflating: /content/out/mask/519_20.png  \n",
            "  inflating: /content/out/mask/519_21.png  \n",
            "  inflating: /content/out/mask/519_22.png  \n",
            "  inflating: /content/out/mask/519_23.png  \n",
            "  inflating: /content/out/mask/519_24.png  \n",
            "  inflating: /content/out/mask/519_25.png  \n",
            "  inflating: /content/out/mask/519_26.png  \n",
            "  inflating: /content/out/mask/519_3.png  \n",
            "  inflating: /content/out/mask/519_4.png  \n",
            "  inflating: /content/out/mask/519_5.png  \n",
            "  inflating: /content/out/mask/519_6.png  \n",
            "  inflating: /content/out/mask/519_7.png  \n",
            "  inflating: /content/out/mask/519_8.png  \n",
            "  inflating: /content/out/mask/519_9.png  \n",
            "  inflating: /content/out/mask/51_1.png  \n",
            "  inflating: /content/out/mask/51_10.png  \n",
            "  inflating: /content/out/mask/51_11.png  \n",
            "  inflating: /content/out/mask/51_12.png  \n",
            "  inflating: /content/out/mask/51_13.png  \n",
            "  inflating: /content/out/mask/51_14.png  \n",
            "  inflating: /content/out/mask/51_15.png  \n",
            "  inflating: /content/out/mask/51_16.png  \n",
            "  inflating: /content/out/mask/51_17.png  \n",
            "  inflating: /content/out/mask/51_18.png  \n",
            "  inflating: /content/out/mask/51_19.png  \n",
            "  inflating: /content/out/mask/51_2.png  \n",
            "  inflating: /content/out/mask/51_20.png  \n",
            "  inflating: /content/out/mask/51_21.png  \n",
            "  inflating: /content/out/mask/51_22.png  \n",
            "  inflating: /content/out/mask/51_23.png  \n",
            "  inflating: /content/out/mask/51_24.png  \n",
            "  inflating: /content/out/mask/51_25.png  \n",
            "  inflating: /content/out/mask/51_26.png  \n",
            "  inflating: /content/out/mask/51_3.png  \n",
            "  inflating: /content/out/mask/51_4.png  \n",
            "  inflating: /content/out/mask/51_5.png  \n",
            "  inflating: /content/out/mask/51_6.png  \n",
            "  inflating: /content/out/mask/51_7.png  \n",
            "  inflating: /content/out/mask/51_8.png  \n",
            "  inflating: /content/out/mask/51_9.png  \n",
            "  inflating: /content/out/mask/520_1.png  \n",
            "  inflating: /content/out/mask/520_10.png  \n",
            "  inflating: /content/out/mask/520_11.png  \n",
            "  inflating: /content/out/mask/520_12.png  \n",
            "  inflating: /content/out/mask/520_13.png  \n",
            "  inflating: /content/out/mask/520_14.png  \n",
            "  inflating: /content/out/mask/520_15.png  \n",
            "  inflating: /content/out/mask/520_16.png  \n",
            "  inflating: /content/out/mask/520_17.png  \n",
            "  inflating: /content/out/mask/520_18.png  \n",
            "  inflating: /content/out/mask/520_19.png  \n",
            "  inflating: /content/out/mask/520_2.png  \n",
            "  inflating: /content/out/mask/520_20.png  \n",
            "  inflating: /content/out/mask/520_21.png  \n",
            "  inflating: /content/out/mask/520_22.png  \n",
            "  inflating: /content/out/mask/520_23.png  \n",
            "  inflating: /content/out/mask/520_24.png  \n",
            "  inflating: /content/out/mask/520_25.png  \n",
            "  inflating: /content/out/mask/520_26.png  \n",
            "  inflating: /content/out/mask/520_3.png  \n",
            "  inflating: /content/out/mask/520_4.png  \n",
            "  inflating: /content/out/mask/520_5.png  \n",
            "  inflating: /content/out/mask/520_6.png  \n",
            "  inflating: /content/out/mask/520_7.png  \n",
            "  inflating: /content/out/mask/520_8.png  \n",
            "  inflating: /content/out/mask/520_9.png  \n",
            "  inflating: /content/out/mask/521_1.png  \n",
            "  inflating: /content/out/mask/521_10.png  \n",
            "  inflating: /content/out/mask/521_11.png  \n",
            "  inflating: /content/out/mask/521_12.png  \n",
            "  inflating: /content/out/mask/521_13.png  \n",
            "  inflating: /content/out/mask/521_14.png  \n",
            "  inflating: /content/out/mask/521_15.png  \n",
            "  inflating: /content/out/mask/521_16.png  \n",
            "  inflating: /content/out/mask/521_17.png  \n",
            "  inflating: /content/out/mask/521_18.png  \n",
            "  inflating: /content/out/mask/521_19.png  \n",
            "  inflating: /content/out/mask/521_2.png  \n",
            "  inflating: /content/out/mask/521_20.png  \n",
            "  inflating: /content/out/mask/521_21.png  \n",
            "  inflating: /content/out/mask/521_22.png  \n",
            "  inflating: /content/out/mask/521_23.png  \n",
            "  inflating: /content/out/mask/521_24.png  \n",
            "  inflating: /content/out/mask/521_25.png  \n",
            "  inflating: /content/out/mask/521_26.png  \n",
            "  inflating: /content/out/mask/521_3.png  \n",
            "  inflating: /content/out/mask/521_4.png  \n",
            "  inflating: /content/out/mask/521_5.png  \n",
            "  inflating: /content/out/mask/521_6.png  \n",
            "  inflating: /content/out/mask/521_7.png  \n",
            "  inflating: /content/out/mask/521_8.png  \n",
            "  inflating: /content/out/mask/521_9.png  \n",
            "  inflating: /content/out/mask/522_1.png  \n",
            "  inflating: /content/out/mask/522_10.png  \n",
            "  inflating: /content/out/mask/522_11.png  \n",
            "  inflating: /content/out/mask/522_12.png  \n",
            "  inflating: /content/out/mask/522_13.png  \n",
            "  inflating: /content/out/mask/522_14.png  \n",
            "  inflating: /content/out/mask/522_15.png  \n",
            "  inflating: /content/out/mask/522_16.png  \n",
            "  inflating: /content/out/mask/522_17.png  \n",
            "  inflating: /content/out/mask/522_18.png  \n",
            "  inflating: /content/out/mask/522_19.png  \n",
            "  inflating: /content/out/mask/522_2.png  \n",
            "  inflating: /content/out/mask/522_20.png  \n",
            "  inflating: /content/out/mask/522_21.png  \n",
            "  inflating: /content/out/mask/522_22.png  \n",
            "  inflating: /content/out/mask/522_23.png  \n",
            "  inflating: /content/out/mask/522_24.png  \n",
            "  inflating: /content/out/mask/522_25.png  \n",
            "  inflating: /content/out/mask/522_26.png  \n",
            "  inflating: /content/out/mask/522_3.png  \n",
            "  inflating: /content/out/mask/522_4.png  \n",
            "  inflating: /content/out/mask/522_5.png  \n",
            "  inflating: /content/out/mask/522_6.png  \n",
            "  inflating: /content/out/mask/522_7.png  \n",
            "  inflating: /content/out/mask/522_8.png  \n",
            "  inflating: /content/out/mask/522_9.png  \n",
            "  inflating: /content/out/mask/523_1.png  \n",
            "  inflating: /content/out/mask/523_10.png  \n",
            "  inflating: /content/out/mask/523_11.png  \n",
            "  inflating: /content/out/mask/523_12.png  \n",
            "  inflating: /content/out/mask/523_13.png  \n",
            "  inflating: /content/out/mask/523_14.png  \n",
            "  inflating: /content/out/mask/523_15.png  \n",
            "  inflating: /content/out/mask/523_16.png  \n",
            "  inflating: /content/out/mask/523_17.png  \n",
            "  inflating: /content/out/mask/523_18.png  \n",
            "  inflating: /content/out/mask/523_19.png  \n",
            "  inflating: /content/out/mask/523_2.png  \n",
            "  inflating: /content/out/mask/523_20.png  \n",
            "  inflating: /content/out/mask/523_21.png  \n",
            "  inflating: /content/out/mask/523_22.png  \n",
            "  inflating: /content/out/mask/523_23.png  \n",
            "  inflating: /content/out/mask/523_24.png  \n",
            "  inflating: /content/out/mask/523_25.png  \n",
            "  inflating: /content/out/mask/523_26.png  \n",
            "  inflating: /content/out/mask/523_3.png  \n",
            "  inflating: /content/out/mask/523_4.png  \n",
            "  inflating: /content/out/mask/523_5.png  \n",
            "  inflating: /content/out/mask/523_6.png  \n",
            "  inflating: /content/out/mask/523_7.png  \n",
            "  inflating: /content/out/mask/523_8.png  \n",
            "  inflating: /content/out/mask/523_9.png  \n",
            "  inflating: /content/out/mask/524_1.png  \n",
            "  inflating: /content/out/mask/524_10.png  \n",
            "  inflating: /content/out/mask/524_11.png  \n",
            "  inflating: /content/out/mask/524_12.png  \n",
            "  inflating: /content/out/mask/524_13.png  \n",
            "  inflating: /content/out/mask/524_14.png  \n",
            "  inflating: /content/out/mask/524_15.png  \n",
            "  inflating: /content/out/mask/524_16.png  \n",
            "  inflating: /content/out/mask/524_17.png  \n",
            "  inflating: /content/out/mask/524_18.png  \n",
            "  inflating: /content/out/mask/524_19.png  \n",
            "  inflating: /content/out/mask/524_2.png  \n",
            "  inflating: /content/out/mask/524_20.png  \n",
            "  inflating: /content/out/mask/524_21.png  \n",
            "  inflating: /content/out/mask/524_22.png  \n",
            "  inflating: /content/out/mask/524_23.png  \n",
            "  inflating: /content/out/mask/524_24.png  \n",
            "  inflating: /content/out/mask/524_25.png  \n",
            "  inflating: /content/out/mask/524_26.png  \n",
            "  inflating: /content/out/mask/524_3.png  \n",
            "  inflating: /content/out/mask/524_4.png  \n",
            "  inflating: /content/out/mask/524_5.png  \n",
            "  inflating: /content/out/mask/524_6.png  \n",
            "  inflating: /content/out/mask/524_7.png  \n",
            "  inflating: /content/out/mask/524_8.png  \n",
            "  inflating: /content/out/mask/524_9.png  \n",
            "  inflating: /content/out/mask/525_1.png  \n",
            "  inflating: /content/out/mask/525_10.png  \n",
            "  inflating: /content/out/mask/525_11.png  \n",
            "  inflating: /content/out/mask/525_12.png  \n",
            "  inflating: /content/out/mask/525_13.png  \n",
            "  inflating: /content/out/mask/525_14.png  \n",
            "  inflating: /content/out/mask/525_15.png  \n",
            "  inflating: /content/out/mask/525_16.png  \n",
            "  inflating: /content/out/mask/525_17.png  \n",
            "  inflating: /content/out/mask/525_18.png  \n",
            "  inflating: /content/out/mask/525_19.png  \n",
            "  inflating: /content/out/mask/525_2.png  \n",
            "  inflating: /content/out/mask/525_20.png  \n",
            "  inflating: /content/out/mask/525_21.png  \n",
            "  inflating: /content/out/mask/525_22.png  \n",
            "  inflating: /content/out/mask/525_23.png  \n",
            "  inflating: /content/out/mask/525_24.png  \n",
            "  inflating: /content/out/mask/525_25.png  \n",
            "  inflating: /content/out/mask/525_26.png  \n",
            "  inflating: /content/out/mask/525_3.png  \n",
            "  inflating: /content/out/mask/525_4.png  \n",
            "  inflating: /content/out/mask/525_5.png  \n",
            "  inflating: /content/out/mask/525_6.png  \n",
            "  inflating: /content/out/mask/525_7.png  \n",
            "  inflating: /content/out/mask/525_8.png  \n",
            "  inflating: /content/out/mask/525_9.png  \n",
            "  inflating: /content/out/mask/526_1.png  \n",
            "  inflating: /content/out/mask/526_10.png  \n",
            "  inflating: /content/out/mask/526_11.png  \n",
            "  inflating: /content/out/mask/526_12.png  \n",
            "  inflating: /content/out/mask/526_13.png  \n",
            "  inflating: /content/out/mask/526_14.png  \n",
            "  inflating: /content/out/mask/526_15.png  \n",
            "  inflating: /content/out/mask/526_16.png  \n",
            "  inflating: /content/out/mask/526_17.png  \n",
            "  inflating: /content/out/mask/526_18.png  \n",
            "  inflating: /content/out/mask/526_19.png  \n",
            "  inflating: /content/out/mask/526_2.png  \n",
            "  inflating: /content/out/mask/526_20.png  \n",
            "  inflating: /content/out/mask/526_21.png  \n",
            "  inflating: /content/out/mask/526_22.png  \n",
            "  inflating: /content/out/mask/526_23.png  \n",
            "  inflating: /content/out/mask/526_24.png  \n",
            "  inflating: /content/out/mask/526_25.png  \n",
            "  inflating: /content/out/mask/526_26.png  \n",
            "  inflating: /content/out/mask/526_3.png  \n",
            "  inflating: /content/out/mask/526_4.png  \n",
            "  inflating: /content/out/mask/526_5.png  \n",
            "  inflating: /content/out/mask/526_6.png  \n",
            "  inflating: /content/out/mask/526_7.png  \n",
            "  inflating: /content/out/mask/526_8.png  \n",
            "  inflating: /content/out/mask/526_9.png  \n",
            "  inflating: /content/out/mask/527_1.png  \n",
            "  inflating: /content/out/mask/527_10.png  \n",
            "  inflating: /content/out/mask/527_11.png  \n",
            "  inflating: /content/out/mask/527_12.png  \n",
            "  inflating: /content/out/mask/527_13.png  \n",
            "  inflating: /content/out/mask/527_14.png  \n",
            "  inflating: /content/out/mask/527_15.png  \n",
            "  inflating: /content/out/mask/527_16.png  \n",
            "  inflating: /content/out/mask/527_17.png  \n",
            "  inflating: /content/out/mask/527_18.png  \n",
            "  inflating: /content/out/mask/527_19.png  \n",
            "  inflating: /content/out/mask/527_2.png  \n",
            "  inflating: /content/out/mask/527_20.png  \n",
            "  inflating: /content/out/mask/527_21.png  \n",
            "  inflating: /content/out/mask/527_22.png  \n",
            "  inflating: /content/out/mask/527_23.png  \n",
            "  inflating: /content/out/mask/527_24.png  \n",
            "  inflating: /content/out/mask/527_25.png  \n",
            "  inflating: /content/out/mask/527_26.png  \n",
            "  inflating: /content/out/mask/527_3.png  \n",
            "  inflating: /content/out/mask/527_4.png  \n",
            "  inflating: /content/out/mask/527_5.png  \n",
            "  inflating: /content/out/mask/527_6.png  \n",
            "  inflating: /content/out/mask/527_7.png  \n",
            "  inflating: /content/out/mask/527_8.png  \n",
            "  inflating: /content/out/mask/527_9.png  \n",
            "  inflating: /content/out/mask/528_1.png  \n",
            "  inflating: /content/out/mask/528_10.png  \n",
            "  inflating: /content/out/mask/528_11.png  \n",
            "  inflating: /content/out/mask/528_12.png  \n",
            "  inflating: /content/out/mask/528_13.png  \n",
            "  inflating: /content/out/mask/528_14.png  \n",
            "  inflating: /content/out/mask/528_15.png  \n",
            "  inflating: /content/out/mask/528_16.png  \n",
            "  inflating: /content/out/mask/528_17.png  \n",
            "  inflating: /content/out/mask/528_18.png  \n",
            "  inflating: /content/out/mask/528_19.png  \n",
            "  inflating: /content/out/mask/528_2.png  \n",
            "  inflating: /content/out/mask/528_20.png  \n",
            "  inflating: /content/out/mask/528_21.png  \n",
            "  inflating: /content/out/mask/528_22.png  \n",
            "  inflating: /content/out/mask/528_23.png  \n",
            "  inflating: /content/out/mask/528_24.png  \n",
            "  inflating: /content/out/mask/528_25.png  \n",
            "  inflating: /content/out/mask/528_26.png  \n",
            "  inflating: /content/out/mask/528_3.png  \n",
            "  inflating: /content/out/mask/528_4.png  \n",
            "  inflating: /content/out/mask/528_5.png  \n",
            "  inflating: /content/out/mask/528_6.png  \n",
            "  inflating: /content/out/mask/528_7.png  \n",
            "  inflating: /content/out/mask/528_8.png  \n",
            "  inflating: /content/out/mask/528_9.png  \n",
            "  inflating: /content/out/mask/529_1.png  \n",
            "  inflating: /content/out/mask/529_10.png  \n",
            "  inflating: /content/out/mask/529_11.png  \n",
            "  inflating: /content/out/mask/529_12.png  \n",
            "  inflating: /content/out/mask/529_13.png  \n",
            "  inflating: /content/out/mask/529_14.png  \n",
            "  inflating: /content/out/mask/529_15.png  \n",
            "  inflating: /content/out/mask/529_16.png  \n",
            "  inflating: /content/out/mask/529_17.png  \n",
            "  inflating: /content/out/mask/529_18.png  \n",
            "  inflating: /content/out/mask/529_19.png  \n",
            "  inflating: /content/out/mask/529_2.png  \n",
            "  inflating: /content/out/mask/529_20.png  \n",
            "  inflating: /content/out/mask/529_21.png  \n",
            "  inflating: /content/out/mask/529_22.png  \n",
            "  inflating: /content/out/mask/529_23.png  \n",
            "  inflating: /content/out/mask/529_24.png  \n",
            "  inflating: /content/out/mask/529_25.png  \n",
            "  inflating: /content/out/mask/529_26.png  \n",
            "  inflating: /content/out/mask/529_3.png  \n",
            "  inflating: /content/out/mask/529_4.png  \n",
            "  inflating: /content/out/mask/529_5.png  \n",
            "  inflating: /content/out/mask/529_6.png  \n",
            "  inflating: /content/out/mask/529_7.png  \n",
            "  inflating: /content/out/mask/529_8.png  \n",
            "  inflating: /content/out/mask/529_9.png  \n",
            "  inflating: /content/out/mask/52_1.png  \n",
            "  inflating: /content/out/mask/52_10.png  \n",
            "  inflating: /content/out/mask/52_11.png  \n",
            "  inflating: /content/out/mask/52_12.png  \n",
            "  inflating: /content/out/mask/52_13.png  \n",
            "  inflating: /content/out/mask/52_14.png  \n",
            "  inflating: /content/out/mask/52_15.png  \n",
            "  inflating: /content/out/mask/52_16.png  \n",
            "  inflating: /content/out/mask/52_17.png  \n",
            "  inflating: /content/out/mask/52_18.png  \n",
            "  inflating: /content/out/mask/52_19.png  \n",
            "  inflating: /content/out/mask/52_2.png  \n",
            "  inflating: /content/out/mask/52_20.png  \n",
            "  inflating: /content/out/mask/52_21.png  \n",
            "  inflating: /content/out/mask/52_22.png  \n",
            "  inflating: /content/out/mask/52_23.png  \n",
            "  inflating: /content/out/mask/52_24.png  \n",
            "  inflating: /content/out/mask/52_25.png  \n",
            "  inflating: /content/out/mask/52_26.png  \n",
            "  inflating: /content/out/mask/52_3.png  \n",
            "  inflating: /content/out/mask/52_4.png  \n",
            "  inflating: /content/out/mask/52_5.png  \n",
            "  inflating: /content/out/mask/52_6.png  \n",
            "  inflating: /content/out/mask/52_7.png  \n",
            "  inflating: /content/out/mask/52_8.png  \n",
            "  inflating: /content/out/mask/52_9.png  \n",
            "  inflating: /content/out/mask/530_1.png  \n",
            "  inflating: /content/out/mask/530_10.png  \n",
            "  inflating: /content/out/mask/530_11.png  \n",
            "  inflating: /content/out/mask/530_12.png  \n",
            "  inflating: /content/out/mask/530_13.png  \n",
            "  inflating: /content/out/mask/530_14.png  \n",
            "  inflating: /content/out/mask/530_15.png  \n",
            "  inflating: /content/out/mask/530_16.png  \n",
            "  inflating: /content/out/mask/530_17.png  \n",
            "  inflating: /content/out/mask/530_18.png  \n",
            "  inflating: /content/out/mask/530_19.png  \n",
            "  inflating: /content/out/mask/530_2.png  \n",
            "  inflating: /content/out/mask/530_20.png  \n",
            "  inflating: /content/out/mask/530_21.png  \n",
            "  inflating: /content/out/mask/530_22.png  \n",
            "  inflating: /content/out/mask/530_23.png  \n",
            "  inflating: /content/out/mask/530_24.png  \n",
            "  inflating: /content/out/mask/530_25.png  \n",
            "  inflating: /content/out/mask/530_26.png  \n",
            "  inflating: /content/out/mask/530_3.png  \n",
            "  inflating: /content/out/mask/530_4.png  \n",
            "  inflating: /content/out/mask/530_5.png  \n",
            "  inflating: /content/out/mask/530_6.png  \n",
            "  inflating: /content/out/mask/530_7.png  \n",
            "  inflating: /content/out/mask/530_8.png  \n",
            "  inflating: /content/out/mask/530_9.png  \n",
            "  inflating: /content/out/mask/531_1.png  \n",
            "  inflating: /content/out/mask/531_10.png  \n",
            "  inflating: /content/out/mask/531_11.png  \n",
            "  inflating: /content/out/mask/531_12.png  \n",
            "  inflating: /content/out/mask/531_13.png  \n",
            "  inflating: /content/out/mask/531_14.png  \n",
            "  inflating: /content/out/mask/531_15.png  \n",
            "  inflating: /content/out/mask/531_16.png  \n",
            "  inflating: /content/out/mask/531_17.png  \n",
            "  inflating: /content/out/mask/531_18.png  \n",
            "  inflating: /content/out/mask/531_19.png  \n",
            "  inflating: /content/out/mask/531_2.png  \n",
            "  inflating: /content/out/mask/531_20.png  \n",
            "  inflating: /content/out/mask/531_21.png  \n",
            "  inflating: /content/out/mask/531_22.png  \n",
            "  inflating: /content/out/mask/531_23.png  \n",
            "  inflating: /content/out/mask/531_24.png  \n",
            "  inflating: /content/out/mask/531_25.png  \n",
            "  inflating: /content/out/mask/531_26.png  \n",
            "  inflating: /content/out/mask/531_3.png  \n",
            "  inflating: /content/out/mask/531_4.png  \n",
            "  inflating: /content/out/mask/531_5.png  \n",
            "  inflating: /content/out/mask/531_6.png  \n",
            "  inflating: /content/out/mask/531_7.png  \n",
            "  inflating: /content/out/mask/531_8.png  \n",
            "  inflating: /content/out/mask/531_9.png  \n",
            "  inflating: /content/out/mask/532_1.png  \n",
            "  inflating: /content/out/mask/532_10.png  \n",
            "  inflating: /content/out/mask/532_11.png  \n",
            "  inflating: /content/out/mask/532_12.png  \n",
            "  inflating: /content/out/mask/532_13.png  \n",
            "  inflating: /content/out/mask/532_14.png  \n",
            "  inflating: /content/out/mask/532_15.png  \n",
            "  inflating: /content/out/mask/532_16.png  \n",
            "  inflating: /content/out/mask/532_17.png  \n",
            "  inflating: /content/out/mask/532_18.png  \n",
            "  inflating: /content/out/mask/532_19.png  \n",
            "  inflating: /content/out/mask/532_2.png  \n",
            "  inflating: /content/out/mask/532_20.png  \n",
            "  inflating: /content/out/mask/532_21.png  \n",
            "  inflating: /content/out/mask/532_22.png  \n",
            "  inflating: /content/out/mask/532_23.png  \n",
            "  inflating: /content/out/mask/532_24.png  \n",
            "  inflating: /content/out/mask/532_25.png  \n",
            "  inflating: /content/out/mask/532_26.png  \n",
            "  inflating: /content/out/mask/532_3.png  \n",
            "  inflating: /content/out/mask/532_4.png  \n",
            "  inflating: /content/out/mask/532_5.png  \n",
            "  inflating: /content/out/mask/532_6.png  \n",
            "  inflating: /content/out/mask/532_7.png  \n",
            "  inflating: /content/out/mask/532_8.png  \n",
            "  inflating: /content/out/mask/532_9.png  \n",
            "  inflating: /content/out/mask/533_1.png  \n",
            "  inflating: /content/out/mask/533_10.png  \n",
            "  inflating: /content/out/mask/533_11.png  \n",
            "  inflating: /content/out/mask/533_12.png  \n",
            "  inflating: /content/out/mask/533_13.png  \n",
            "  inflating: /content/out/mask/533_14.png  \n",
            "  inflating: /content/out/mask/533_15.png  \n",
            "  inflating: /content/out/mask/533_16.png  \n",
            "  inflating: /content/out/mask/533_17.png  \n",
            "  inflating: /content/out/mask/533_18.png  \n",
            "  inflating: /content/out/mask/533_19.png  \n",
            "  inflating: /content/out/mask/533_2.png  \n",
            "  inflating: /content/out/mask/533_20.png  \n",
            "  inflating: /content/out/mask/533_21.png  \n",
            "  inflating: /content/out/mask/533_22.png  \n",
            "  inflating: /content/out/mask/533_23.png  \n",
            "  inflating: /content/out/mask/533_24.png  \n",
            "  inflating: /content/out/mask/533_25.png  \n",
            "  inflating: /content/out/mask/533_26.png  \n",
            "  inflating: /content/out/mask/533_3.png  \n",
            "  inflating: /content/out/mask/533_4.png  \n",
            "  inflating: /content/out/mask/533_5.png  \n",
            "  inflating: /content/out/mask/533_6.png  \n",
            "  inflating: /content/out/mask/533_7.png  \n",
            "  inflating: /content/out/mask/533_8.png  \n",
            "  inflating: /content/out/mask/533_9.png  \n",
            "  inflating: /content/out/mask/534_1.png  \n",
            "  inflating: /content/out/mask/534_10.png  \n",
            "  inflating: /content/out/mask/534_11.png  \n",
            "  inflating: /content/out/mask/534_12.png  \n",
            "  inflating: /content/out/mask/534_13.png  \n",
            "  inflating: /content/out/mask/534_14.png  \n",
            "  inflating: /content/out/mask/534_15.png  \n",
            "  inflating: /content/out/mask/534_16.png  \n",
            "  inflating: /content/out/mask/534_17.png  \n",
            "  inflating: /content/out/mask/534_18.png  \n",
            "  inflating: /content/out/mask/534_19.png  \n",
            "  inflating: /content/out/mask/534_2.png  \n",
            "  inflating: /content/out/mask/534_20.png  \n",
            "  inflating: /content/out/mask/534_21.png  \n",
            "  inflating: /content/out/mask/534_22.png  \n",
            "  inflating: /content/out/mask/534_23.png  \n",
            "  inflating: /content/out/mask/534_24.png  \n",
            "  inflating: /content/out/mask/534_25.png  \n",
            "  inflating: /content/out/mask/534_26.png  \n",
            "  inflating: /content/out/mask/534_3.png  \n",
            "  inflating: /content/out/mask/534_4.png  \n",
            "  inflating: /content/out/mask/534_5.png  \n",
            "  inflating: /content/out/mask/534_6.png  \n",
            "  inflating: /content/out/mask/534_7.png  \n",
            "  inflating: /content/out/mask/534_8.png  \n",
            "  inflating: /content/out/mask/534_9.png  \n",
            "  inflating: /content/out/mask/535_1.png  \n",
            "  inflating: /content/out/mask/535_10.png  \n",
            "  inflating: /content/out/mask/535_11.png  \n",
            "  inflating: /content/out/mask/535_12.png  \n",
            "  inflating: /content/out/mask/535_13.png  \n",
            "  inflating: /content/out/mask/535_14.png  \n",
            "  inflating: /content/out/mask/535_15.png  \n",
            "  inflating: /content/out/mask/535_16.png  \n",
            "  inflating: /content/out/mask/535_17.png  \n",
            "  inflating: /content/out/mask/535_18.png  \n",
            "  inflating: /content/out/mask/535_19.png  \n",
            "  inflating: /content/out/mask/535_2.png  \n",
            "  inflating: /content/out/mask/535_20.png  \n",
            "  inflating: /content/out/mask/535_21.png  \n",
            "  inflating: /content/out/mask/535_22.png  \n",
            "  inflating: /content/out/mask/535_23.png  \n",
            "  inflating: /content/out/mask/535_24.png  \n",
            "  inflating: /content/out/mask/535_25.png  \n",
            "  inflating: /content/out/mask/535_26.png  \n",
            "  inflating: /content/out/mask/535_3.png  \n",
            "  inflating: /content/out/mask/535_4.png  \n",
            "  inflating: /content/out/mask/535_5.png  \n",
            "  inflating: /content/out/mask/535_6.png  \n",
            "  inflating: /content/out/mask/535_7.png  \n",
            "  inflating: /content/out/mask/535_8.png  \n",
            "  inflating: /content/out/mask/535_9.png  \n",
            "  inflating: /content/out/mask/536_1.png  \n",
            "  inflating: /content/out/mask/536_10.png  \n",
            "  inflating: /content/out/mask/536_11.png  \n",
            "  inflating: /content/out/mask/536_12.png  \n",
            "  inflating: /content/out/mask/536_13.png  \n",
            "  inflating: /content/out/mask/536_14.png  \n",
            "  inflating: /content/out/mask/536_15.png  \n",
            "  inflating: /content/out/mask/536_16.png  \n",
            "  inflating: /content/out/mask/536_17.png  \n",
            "  inflating: /content/out/mask/536_18.png  \n",
            "  inflating: /content/out/mask/536_19.png  \n",
            "  inflating: /content/out/mask/536_2.png  \n",
            "  inflating: /content/out/mask/536_20.png  \n",
            "  inflating: /content/out/mask/536_21.png  \n",
            "  inflating: /content/out/mask/536_22.png  \n",
            "  inflating: /content/out/mask/536_23.png  \n",
            "  inflating: /content/out/mask/536_24.png  \n",
            "  inflating: /content/out/mask/536_25.png  \n",
            "  inflating: /content/out/mask/536_26.png  \n",
            "  inflating: /content/out/mask/536_3.png  \n",
            "  inflating: /content/out/mask/536_4.png  \n",
            "  inflating: /content/out/mask/536_5.png  \n",
            "  inflating: /content/out/mask/536_6.png  \n",
            "  inflating: /content/out/mask/536_7.png  \n",
            "  inflating: /content/out/mask/536_8.png  \n",
            "  inflating: /content/out/mask/536_9.png  \n",
            "  inflating: /content/out/mask/537_1.png  \n",
            "  inflating: /content/out/mask/537_10.png  \n",
            "  inflating: /content/out/mask/537_11.png  \n",
            "  inflating: /content/out/mask/537_12.png  \n",
            "  inflating: /content/out/mask/537_13.png  \n",
            "  inflating: /content/out/mask/537_14.png  \n",
            "  inflating: /content/out/mask/537_15.png  \n",
            "  inflating: /content/out/mask/537_16.png  \n",
            "  inflating: /content/out/mask/537_17.png  \n",
            "  inflating: /content/out/mask/537_18.png  \n",
            "  inflating: /content/out/mask/537_19.png  \n",
            "  inflating: /content/out/mask/537_2.png  \n",
            "  inflating: /content/out/mask/537_20.png  \n",
            "  inflating: /content/out/mask/537_21.png  \n",
            "  inflating: /content/out/mask/537_22.png  \n",
            "  inflating: /content/out/mask/537_23.png  \n",
            "  inflating: /content/out/mask/537_24.png  \n",
            "  inflating: /content/out/mask/537_25.png  \n",
            "  inflating: /content/out/mask/537_26.png  \n",
            "  inflating: /content/out/mask/537_3.png  \n",
            "  inflating: /content/out/mask/537_4.png  \n",
            "  inflating: /content/out/mask/537_5.png  \n",
            "  inflating: /content/out/mask/537_6.png  \n",
            "  inflating: /content/out/mask/537_7.png  \n",
            "  inflating: /content/out/mask/537_8.png  \n",
            "  inflating: /content/out/mask/537_9.png  \n",
            "  inflating: /content/out/mask/538_1.png  \n",
            "  inflating: /content/out/mask/538_10.png  \n",
            "  inflating: /content/out/mask/538_11.png  \n",
            "  inflating: /content/out/mask/538_12.png  \n",
            "  inflating: /content/out/mask/538_13.png  \n",
            "  inflating: /content/out/mask/538_14.png  \n",
            "  inflating: /content/out/mask/538_15.png  \n",
            "  inflating: /content/out/mask/538_16.png  \n",
            "  inflating: /content/out/mask/538_17.png  \n",
            "  inflating: /content/out/mask/538_18.png  \n",
            "  inflating: /content/out/mask/538_19.png  \n",
            "  inflating: /content/out/mask/538_2.png  \n",
            "  inflating: /content/out/mask/538_20.png  \n",
            "  inflating: /content/out/mask/538_21.png  \n",
            "  inflating: /content/out/mask/538_22.png  \n",
            "  inflating: /content/out/mask/538_23.png  \n",
            "  inflating: /content/out/mask/538_24.png  \n",
            "  inflating: /content/out/mask/538_25.png  \n",
            "  inflating: /content/out/mask/538_26.png  \n",
            "  inflating: /content/out/mask/538_3.png  \n",
            "  inflating: /content/out/mask/538_4.png  \n",
            "  inflating: /content/out/mask/538_5.png  \n",
            "  inflating: /content/out/mask/538_6.png  \n",
            "  inflating: /content/out/mask/538_7.png  \n",
            "  inflating: /content/out/mask/538_8.png  \n",
            "  inflating: /content/out/mask/538_9.png  \n",
            "  inflating: /content/out/mask/539_1.png  \n",
            "  inflating: /content/out/mask/539_10.png  \n",
            "  inflating: /content/out/mask/539_11.png  \n",
            "  inflating: /content/out/mask/539_12.png  \n",
            "  inflating: /content/out/mask/539_13.png  \n",
            "  inflating: /content/out/mask/539_14.png  \n",
            "  inflating: /content/out/mask/539_15.png  \n",
            "  inflating: /content/out/mask/539_16.png  \n",
            "  inflating: /content/out/mask/539_17.png  \n",
            "  inflating: /content/out/mask/539_18.png  \n",
            "  inflating: /content/out/mask/539_19.png  \n",
            "  inflating: /content/out/mask/539_2.png  \n",
            "  inflating: /content/out/mask/539_20.png  \n",
            "  inflating: /content/out/mask/539_21.png  \n",
            "  inflating: /content/out/mask/539_22.png  \n",
            "  inflating: /content/out/mask/539_23.png  \n",
            "  inflating: /content/out/mask/539_24.png  \n",
            "  inflating: /content/out/mask/539_25.png  \n",
            "  inflating: /content/out/mask/539_26.png  \n",
            "  inflating: /content/out/mask/539_3.png  \n",
            "  inflating: /content/out/mask/539_4.png  \n",
            "  inflating: /content/out/mask/539_5.png  \n",
            "  inflating: /content/out/mask/539_6.png  \n",
            "  inflating: /content/out/mask/539_7.png  \n",
            "  inflating: /content/out/mask/539_8.png  \n",
            "  inflating: /content/out/mask/539_9.png  \n",
            "  inflating: /content/out/mask/53_1.png  \n",
            "  inflating: /content/out/mask/53_10.png  \n",
            "  inflating: /content/out/mask/53_11.png  \n",
            "  inflating: /content/out/mask/53_12.png  \n",
            "  inflating: /content/out/mask/53_13.png  \n",
            "  inflating: /content/out/mask/53_14.png  \n",
            "  inflating: /content/out/mask/53_15.png  \n",
            "  inflating: /content/out/mask/53_16.png  \n",
            "  inflating: /content/out/mask/53_17.png  \n",
            "  inflating: /content/out/mask/53_18.png  \n",
            "  inflating: /content/out/mask/53_19.png  \n",
            "  inflating: /content/out/mask/53_2.png  \n",
            "  inflating: /content/out/mask/53_20.png  \n",
            "  inflating: /content/out/mask/53_21.png  \n",
            "  inflating: /content/out/mask/53_22.png  \n",
            "  inflating: /content/out/mask/53_23.png  \n",
            "  inflating: /content/out/mask/53_24.png  \n",
            "  inflating: /content/out/mask/53_25.png  \n",
            "  inflating: /content/out/mask/53_26.png  \n",
            "  inflating: /content/out/mask/53_3.png  \n",
            "  inflating: /content/out/mask/53_4.png  \n",
            "  inflating: /content/out/mask/53_5.png  \n",
            "  inflating: /content/out/mask/53_6.png  \n",
            "  inflating: /content/out/mask/53_7.png  \n",
            "  inflating: /content/out/mask/53_8.png  \n",
            "  inflating: /content/out/mask/53_9.png  \n",
            "  inflating: /content/out/mask/540_1.png  \n",
            "  inflating: /content/out/mask/540_10.png  \n",
            "  inflating: /content/out/mask/540_11.png  \n",
            "  inflating: /content/out/mask/540_12.png  \n",
            "  inflating: /content/out/mask/540_13.png  \n",
            "  inflating: /content/out/mask/540_14.png  \n",
            "  inflating: /content/out/mask/540_15.png  \n",
            "  inflating: /content/out/mask/540_16.png  \n",
            "  inflating: /content/out/mask/540_17.png  \n",
            "  inflating: /content/out/mask/540_18.png  \n",
            "  inflating: /content/out/mask/540_19.png  \n",
            "  inflating: /content/out/mask/540_2.png  \n",
            "  inflating: /content/out/mask/540_20.png  \n",
            "  inflating: /content/out/mask/540_21.png  \n",
            "  inflating: /content/out/mask/540_22.png  \n",
            "  inflating: /content/out/mask/540_23.png  \n",
            "  inflating: /content/out/mask/540_24.png  \n",
            "  inflating: /content/out/mask/540_25.png  \n",
            "  inflating: /content/out/mask/540_26.png  \n",
            "  inflating: /content/out/mask/540_3.png  \n",
            "  inflating: /content/out/mask/540_4.png  \n",
            "  inflating: /content/out/mask/540_5.png  \n",
            "  inflating: /content/out/mask/540_6.png  \n",
            "  inflating: /content/out/mask/540_7.png  \n",
            "  inflating: /content/out/mask/540_8.png  \n",
            "  inflating: /content/out/mask/540_9.png  \n",
            "  inflating: /content/out/mask/541_1.png  \n",
            "  inflating: /content/out/mask/541_10.png  \n",
            "  inflating: /content/out/mask/541_11.png  \n",
            "  inflating: /content/out/mask/541_12.png  \n",
            "  inflating: /content/out/mask/541_13.png  \n",
            "  inflating: /content/out/mask/541_14.png  \n",
            "  inflating: /content/out/mask/541_15.png  \n",
            "  inflating: /content/out/mask/541_16.png  \n",
            "  inflating: /content/out/mask/541_17.png  \n",
            "  inflating: /content/out/mask/541_18.png  \n",
            "  inflating: /content/out/mask/541_19.png  \n",
            "  inflating: /content/out/mask/541_2.png  \n",
            "  inflating: /content/out/mask/541_20.png  \n",
            "  inflating: /content/out/mask/541_21.png  \n",
            "  inflating: /content/out/mask/541_22.png  \n",
            "  inflating: /content/out/mask/541_23.png  \n",
            "  inflating: /content/out/mask/541_24.png  \n",
            "  inflating: /content/out/mask/541_25.png  \n",
            "  inflating: /content/out/mask/541_26.png  \n",
            "  inflating: /content/out/mask/541_3.png  \n",
            "  inflating: /content/out/mask/541_4.png  \n",
            "  inflating: /content/out/mask/541_5.png  \n",
            "  inflating: /content/out/mask/541_6.png  \n",
            "  inflating: /content/out/mask/541_7.png  \n",
            "  inflating: /content/out/mask/541_8.png  \n",
            "  inflating: /content/out/mask/541_9.png  \n",
            "  inflating: /content/out/mask/542_1.png  \n",
            "  inflating: /content/out/mask/542_10.png  \n",
            "  inflating: /content/out/mask/542_11.png  \n",
            "  inflating: /content/out/mask/542_12.png  \n",
            "  inflating: /content/out/mask/542_13.png  \n",
            "  inflating: /content/out/mask/542_14.png  \n",
            "  inflating: /content/out/mask/542_15.png  \n",
            "  inflating: /content/out/mask/542_16.png  \n",
            "  inflating: /content/out/mask/542_17.png  \n",
            "  inflating: /content/out/mask/542_18.png  \n",
            "  inflating: /content/out/mask/542_19.png  \n",
            "  inflating: /content/out/mask/542_2.png  \n",
            "  inflating: /content/out/mask/542_20.png  \n",
            "  inflating: /content/out/mask/542_21.png  \n",
            "  inflating: /content/out/mask/542_22.png  \n",
            "  inflating: /content/out/mask/542_23.png  \n",
            "  inflating: /content/out/mask/542_24.png  \n",
            "  inflating: /content/out/mask/542_25.png  \n",
            "  inflating: /content/out/mask/542_26.png  \n",
            "  inflating: /content/out/mask/542_3.png  \n",
            "  inflating: /content/out/mask/542_4.png  \n",
            "  inflating: /content/out/mask/542_5.png  \n",
            "  inflating: /content/out/mask/542_6.png  \n",
            "  inflating: /content/out/mask/542_7.png  \n",
            "  inflating: /content/out/mask/542_8.png  \n",
            "  inflating: /content/out/mask/542_9.png  \n",
            "  inflating: /content/out/mask/543_1.png  \n",
            "  inflating: /content/out/mask/543_10.png  \n",
            "  inflating: /content/out/mask/543_11.png  \n",
            "  inflating: /content/out/mask/543_12.png  \n",
            "  inflating: /content/out/mask/543_13.png  \n",
            "  inflating: /content/out/mask/543_14.png  \n",
            "  inflating: /content/out/mask/543_15.png  \n",
            "  inflating: /content/out/mask/543_16.png  \n",
            "  inflating: /content/out/mask/543_17.png  \n",
            "  inflating: /content/out/mask/543_18.png  \n",
            "  inflating: /content/out/mask/543_19.png  \n",
            "  inflating: /content/out/mask/543_2.png  \n",
            "  inflating: /content/out/mask/543_20.png  \n",
            "  inflating: /content/out/mask/543_21.png  \n",
            "  inflating: /content/out/mask/543_22.png  \n",
            "  inflating: /content/out/mask/543_23.png  \n",
            "  inflating: /content/out/mask/543_24.png  \n",
            "  inflating: /content/out/mask/543_25.png  \n",
            "  inflating: /content/out/mask/543_26.png  \n",
            "  inflating: /content/out/mask/543_3.png  \n",
            "  inflating: /content/out/mask/543_4.png  \n",
            "  inflating: /content/out/mask/543_5.png  \n",
            "  inflating: /content/out/mask/543_6.png  \n",
            "  inflating: /content/out/mask/543_7.png  \n",
            "  inflating: /content/out/mask/543_8.png  \n",
            "  inflating: /content/out/mask/543_9.png  \n",
            "  inflating: /content/out/mask/544_1.png  \n",
            "  inflating: /content/out/mask/544_10.png  \n",
            "  inflating: /content/out/mask/544_11.png  \n",
            "  inflating: /content/out/mask/544_12.png  \n",
            "  inflating: /content/out/mask/544_13.png  \n",
            "  inflating: /content/out/mask/544_14.png  \n",
            "  inflating: /content/out/mask/544_15.png  \n",
            "  inflating: /content/out/mask/544_16.png  \n",
            "  inflating: /content/out/mask/544_17.png  \n",
            "  inflating: /content/out/mask/544_18.png  \n",
            "  inflating: /content/out/mask/544_19.png  \n",
            "  inflating: /content/out/mask/544_2.png  \n",
            "  inflating: /content/out/mask/544_20.png  \n",
            "  inflating: /content/out/mask/544_21.png  \n",
            "  inflating: /content/out/mask/544_22.png  \n",
            "  inflating: /content/out/mask/544_23.png  \n",
            "  inflating: /content/out/mask/544_24.png  \n",
            "  inflating: /content/out/mask/544_25.png  \n",
            "  inflating: /content/out/mask/544_26.png  \n",
            "  inflating: /content/out/mask/544_3.png  \n",
            "  inflating: /content/out/mask/544_4.png  \n",
            "  inflating: /content/out/mask/544_5.png  \n",
            "  inflating: /content/out/mask/544_6.png  \n",
            "  inflating: /content/out/mask/544_7.png  \n",
            "  inflating: /content/out/mask/544_8.png  \n",
            "  inflating: /content/out/mask/544_9.png  \n",
            "  inflating: /content/out/mask/545_1.png  \n",
            "  inflating: /content/out/mask/545_10.png  \n",
            "  inflating: /content/out/mask/545_11.png  \n",
            "  inflating: /content/out/mask/545_12.png  \n",
            "  inflating: /content/out/mask/545_13.png  \n",
            "  inflating: /content/out/mask/545_14.png  \n",
            "  inflating: /content/out/mask/545_15.png  \n",
            "  inflating: /content/out/mask/545_16.png  \n",
            "  inflating: /content/out/mask/545_17.png  \n",
            "  inflating: /content/out/mask/545_18.png  \n",
            "  inflating: /content/out/mask/545_19.png  \n",
            "  inflating: /content/out/mask/545_2.png  \n",
            "  inflating: /content/out/mask/545_20.png  \n",
            "  inflating: /content/out/mask/545_21.png  \n",
            "  inflating: /content/out/mask/545_22.png  \n",
            "  inflating: /content/out/mask/545_23.png  \n",
            "  inflating: /content/out/mask/545_24.png  \n",
            "  inflating: /content/out/mask/545_25.png  \n",
            "  inflating: /content/out/mask/545_26.png  \n",
            "  inflating: /content/out/mask/545_3.png  \n",
            "  inflating: /content/out/mask/545_4.png  \n",
            "  inflating: /content/out/mask/545_5.png  \n",
            "  inflating: /content/out/mask/545_6.png  \n",
            "  inflating: /content/out/mask/545_7.png  \n",
            "  inflating: /content/out/mask/545_8.png  \n",
            "  inflating: /content/out/mask/545_9.png  \n",
            "  inflating: /content/out/mask/546_1.png  \n",
            "  inflating: /content/out/mask/546_10.png  \n",
            "  inflating: /content/out/mask/546_11.png  \n",
            "  inflating: /content/out/mask/546_12.png  \n",
            "  inflating: /content/out/mask/546_13.png  \n",
            "  inflating: /content/out/mask/546_14.png  \n",
            "  inflating: /content/out/mask/546_15.png  \n",
            "  inflating: /content/out/mask/546_16.png  \n",
            "  inflating: /content/out/mask/546_17.png  \n",
            "  inflating: /content/out/mask/546_18.png  \n",
            "  inflating: /content/out/mask/546_19.png  \n",
            "  inflating: /content/out/mask/546_2.png  \n",
            "  inflating: /content/out/mask/546_20.png  \n",
            "  inflating: /content/out/mask/546_21.png  \n",
            "  inflating: /content/out/mask/546_22.png  \n",
            "  inflating: /content/out/mask/546_23.png  \n",
            "  inflating: /content/out/mask/546_24.png  \n",
            "  inflating: /content/out/mask/546_25.png  \n",
            "  inflating: /content/out/mask/546_26.png  \n",
            "  inflating: /content/out/mask/546_3.png  \n",
            "  inflating: /content/out/mask/546_4.png  \n",
            "  inflating: /content/out/mask/546_5.png  \n",
            "  inflating: /content/out/mask/546_6.png  \n",
            "  inflating: /content/out/mask/546_7.png  \n",
            "  inflating: /content/out/mask/546_8.png  \n",
            "  inflating: /content/out/mask/546_9.png  \n",
            "  inflating: /content/out/mask/547_1.png  \n",
            "  inflating: /content/out/mask/547_10.png  \n",
            "  inflating: /content/out/mask/547_11.png  \n",
            "  inflating: /content/out/mask/547_12.png  \n",
            "  inflating: /content/out/mask/547_13.png  \n",
            "  inflating: /content/out/mask/547_14.png  \n",
            "  inflating: /content/out/mask/547_15.png  \n",
            "  inflating: /content/out/mask/547_16.png  \n",
            "  inflating: /content/out/mask/547_17.png  \n",
            "  inflating: /content/out/mask/547_18.png  \n",
            "  inflating: /content/out/mask/547_19.png  \n",
            "  inflating: /content/out/mask/547_2.png  \n",
            "  inflating: /content/out/mask/547_20.png  \n",
            "  inflating: /content/out/mask/547_21.png  \n",
            "  inflating: /content/out/mask/547_22.png  \n",
            "  inflating: /content/out/mask/547_23.png  \n",
            "  inflating: /content/out/mask/547_24.png  \n",
            "  inflating: /content/out/mask/547_25.png  \n",
            "  inflating: /content/out/mask/547_26.png  \n",
            "  inflating: /content/out/mask/547_3.png  \n",
            "  inflating: /content/out/mask/547_4.png  \n",
            "  inflating: /content/out/mask/547_5.png  \n",
            "  inflating: /content/out/mask/547_6.png  \n",
            "  inflating: /content/out/mask/547_7.png  \n",
            "  inflating: /content/out/mask/547_8.png  \n",
            "  inflating: /content/out/mask/547_9.png  \n",
            "  inflating: /content/out/mask/548_1.png  \n",
            "  inflating: /content/out/mask/548_10.png  \n",
            "  inflating: /content/out/mask/548_11.png  \n",
            "  inflating: /content/out/mask/548_12.png  \n",
            "  inflating: /content/out/mask/548_13.png  \n",
            "  inflating: /content/out/mask/548_14.png  \n",
            "  inflating: /content/out/mask/548_15.png  \n",
            "  inflating: /content/out/mask/548_16.png  \n",
            "  inflating: /content/out/mask/548_17.png  \n",
            "  inflating: /content/out/mask/548_18.png  \n",
            "  inflating: /content/out/mask/548_19.png  \n",
            "  inflating: /content/out/mask/548_2.png  \n",
            "  inflating: /content/out/mask/548_20.png  \n",
            "  inflating: /content/out/mask/548_21.png  \n",
            "  inflating: /content/out/mask/548_22.png  \n",
            "  inflating: /content/out/mask/548_23.png  \n",
            "  inflating: /content/out/mask/548_24.png  \n",
            "  inflating: /content/out/mask/548_25.png  \n",
            "  inflating: /content/out/mask/548_26.png  \n",
            "  inflating: /content/out/mask/548_3.png  \n",
            "  inflating: /content/out/mask/548_4.png  \n",
            "  inflating: /content/out/mask/548_5.png  \n",
            "  inflating: /content/out/mask/548_6.png  \n",
            "  inflating: /content/out/mask/548_7.png  \n",
            "  inflating: /content/out/mask/548_8.png  \n",
            "  inflating: /content/out/mask/548_9.png  \n",
            "  inflating: /content/out/mask/549_1.png  \n",
            "  inflating: /content/out/mask/549_10.png  \n",
            "  inflating: /content/out/mask/549_11.png  \n",
            "  inflating: /content/out/mask/549_12.png  \n",
            "  inflating: /content/out/mask/549_13.png  \n",
            "  inflating: /content/out/mask/549_14.png  \n",
            "  inflating: /content/out/mask/549_15.png  \n",
            "  inflating: /content/out/mask/549_16.png  \n",
            "  inflating: /content/out/mask/549_17.png  \n",
            "  inflating: /content/out/mask/549_18.png  \n",
            "  inflating: /content/out/mask/549_19.png  \n",
            "  inflating: /content/out/mask/549_2.png  \n",
            "  inflating: /content/out/mask/549_20.png  \n",
            "  inflating: /content/out/mask/549_21.png  \n",
            "  inflating: /content/out/mask/549_22.png  \n",
            "  inflating: /content/out/mask/549_23.png  \n",
            "  inflating: /content/out/mask/549_24.png  \n",
            "  inflating: /content/out/mask/549_25.png  \n",
            "  inflating: /content/out/mask/549_26.png  \n",
            "  inflating: /content/out/mask/549_3.png  \n",
            "  inflating: /content/out/mask/549_4.png  \n",
            "  inflating: /content/out/mask/549_5.png  \n",
            "  inflating: /content/out/mask/549_6.png  \n",
            "  inflating: /content/out/mask/549_7.png  \n",
            "  inflating: /content/out/mask/549_8.png  \n",
            "  inflating: /content/out/mask/549_9.png  \n",
            "  inflating: /content/out/mask/54_1.png  \n",
            "  inflating: /content/out/mask/54_10.png  \n",
            "  inflating: /content/out/mask/54_11.png  \n",
            "  inflating: /content/out/mask/54_12.png  \n",
            "  inflating: /content/out/mask/54_13.png  \n",
            "  inflating: /content/out/mask/54_14.png  \n",
            "  inflating: /content/out/mask/54_15.png  \n",
            "  inflating: /content/out/mask/54_16.png  \n",
            "  inflating: /content/out/mask/54_17.png  \n",
            "  inflating: /content/out/mask/54_18.png  \n",
            "  inflating: /content/out/mask/54_19.png  \n",
            "  inflating: /content/out/mask/54_2.png  \n",
            "  inflating: /content/out/mask/54_20.png  \n",
            "  inflating: /content/out/mask/54_21.png  \n",
            "  inflating: /content/out/mask/54_22.png  \n",
            "  inflating: /content/out/mask/54_23.png  \n",
            "  inflating: /content/out/mask/54_24.png  \n",
            "  inflating: /content/out/mask/54_25.png  \n",
            "  inflating: /content/out/mask/54_26.png  \n",
            "  inflating: /content/out/mask/54_3.png  \n",
            "  inflating: /content/out/mask/54_4.png  \n",
            "  inflating: /content/out/mask/54_5.png  \n",
            "  inflating: /content/out/mask/54_6.png  \n",
            "  inflating: /content/out/mask/54_7.png  \n",
            "  inflating: /content/out/mask/54_8.png  \n",
            "  inflating: /content/out/mask/54_9.png  \n",
            "  inflating: /content/out/mask/550_1.png  \n",
            "  inflating: /content/out/mask/550_10.png  \n",
            "  inflating: /content/out/mask/550_11.png  \n",
            "  inflating: /content/out/mask/550_12.png  \n",
            "  inflating: /content/out/mask/550_13.png  \n",
            "  inflating: /content/out/mask/550_14.png  \n",
            "  inflating: /content/out/mask/550_15.png  \n",
            "  inflating: /content/out/mask/550_16.png  \n",
            "  inflating: /content/out/mask/550_17.png  \n",
            "  inflating: /content/out/mask/550_18.png  \n",
            "  inflating: /content/out/mask/550_19.png  \n",
            "  inflating: /content/out/mask/550_2.png  \n",
            "  inflating: /content/out/mask/550_20.png  \n",
            "  inflating: /content/out/mask/550_21.png  \n",
            "  inflating: /content/out/mask/550_22.png  \n",
            "  inflating: /content/out/mask/550_23.png  \n",
            "  inflating: /content/out/mask/550_24.png  \n",
            "  inflating: /content/out/mask/550_25.png  \n",
            "  inflating: /content/out/mask/550_26.png  \n",
            "  inflating: /content/out/mask/550_3.png  \n",
            "  inflating: /content/out/mask/550_4.png  \n",
            "  inflating: /content/out/mask/550_5.png  \n",
            "  inflating: /content/out/mask/550_6.png  \n",
            "  inflating: /content/out/mask/550_7.png  \n",
            "  inflating: /content/out/mask/550_8.png  \n",
            "  inflating: /content/out/mask/550_9.png  \n",
            "  inflating: /content/out/mask/551_1.png  \n",
            "  inflating: /content/out/mask/551_10.png  \n",
            "  inflating: /content/out/mask/551_11.png  \n",
            "  inflating: /content/out/mask/551_12.png  \n",
            "  inflating: /content/out/mask/551_13.png  \n",
            "  inflating: /content/out/mask/551_14.png  \n",
            "  inflating: /content/out/mask/551_15.png  \n",
            "  inflating: /content/out/mask/551_16.png  \n",
            "  inflating: /content/out/mask/551_17.png  \n",
            "  inflating: /content/out/mask/551_18.png  \n",
            "  inflating: /content/out/mask/551_19.png  \n",
            "  inflating: /content/out/mask/551_2.png  \n",
            "  inflating: /content/out/mask/551_20.png  \n",
            "  inflating: /content/out/mask/551_21.png  \n",
            "  inflating: /content/out/mask/551_22.png  \n",
            "  inflating: /content/out/mask/551_23.png  \n",
            "  inflating: /content/out/mask/551_24.png  \n",
            "  inflating: /content/out/mask/551_25.png  \n",
            "  inflating: /content/out/mask/551_26.png  \n",
            "  inflating: /content/out/mask/551_3.png  \n",
            "  inflating: /content/out/mask/551_4.png  \n",
            "  inflating: /content/out/mask/551_5.png  \n",
            "  inflating: /content/out/mask/551_6.png  \n",
            "  inflating: /content/out/mask/551_7.png  \n",
            "  inflating: /content/out/mask/551_8.png  \n",
            "  inflating: /content/out/mask/551_9.png  \n",
            "  inflating: /content/out/mask/552_1.png  \n",
            "  inflating: /content/out/mask/552_10.png  \n",
            "  inflating: /content/out/mask/552_11.png  \n",
            "  inflating: /content/out/mask/552_12.png  \n",
            "  inflating: /content/out/mask/552_13.png  \n",
            "  inflating: /content/out/mask/552_14.png  \n",
            "  inflating: /content/out/mask/552_15.png  \n",
            "  inflating: /content/out/mask/552_16.png  \n",
            "  inflating: /content/out/mask/552_17.png  \n",
            "  inflating: /content/out/mask/552_18.png  \n",
            "  inflating: /content/out/mask/552_19.png  \n",
            "  inflating: /content/out/mask/552_2.png  \n",
            "  inflating: /content/out/mask/552_20.png  \n",
            "  inflating: /content/out/mask/552_21.png  \n",
            "  inflating: /content/out/mask/552_22.png  \n",
            "  inflating: /content/out/mask/552_23.png  \n",
            "  inflating: /content/out/mask/552_24.png  \n",
            "  inflating: /content/out/mask/552_25.png  \n",
            "  inflating: /content/out/mask/552_26.png  \n",
            "  inflating: /content/out/mask/552_3.png  \n",
            "  inflating: /content/out/mask/552_4.png  \n",
            "  inflating: /content/out/mask/552_5.png  \n",
            "  inflating: /content/out/mask/552_6.png  \n",
            "  inflating: /content/out/mask/552_7.png  \n",
            "  inflating: /content/out/mask/552_8.png  \n",
            "  inflating: /content/out/mask/552_9.png  \n",
            "  inflating: /content/out/mask/553_1.png  \n",
            "  inflating: /content/out/mask/553_10.png  \n",
            "  inflating: /content/out/mask/553_11.png  \n",
            "  inflating: /content/out/mask/553_12.png  \n",
            "  inflating: /content/out/mask/553_13.png  \n",
            "  inflating: /content/out/mask/553_14.png  \n",
            "  inflating: /content/out/mask/553_15.png  \n",
            "  inflating: /content/out/mask/553_16.png  \n",
            "  inflating: /content/out/mask/553_17.png  \n",
            "  inflating: /content/out/mask/553_18.png  \n",
            "  inflating: /content/out/mask/553_19.png  \n",
            "  inflating: /content/out/mask/553_2.png  \n",
            "  inflating: /content/out/mask/553_20.png  \n",
            "  inflating: /content/out/mask/553_21.png  \n",
            "  inflating: /content/out/mask/553_22.png  \n",
            "  inflating: /content/out/mask/553_23.png  \n",
            "  inflating: /content/out/mask/553_24.png  \n",
            "  inflating: /content/out/mask/553_25.png  \n",
            "  inflating: /content/out/mask/553_26.png  \n",
            "  inflating: /content/out/mask/553_3.png  \n",
            "  inflating: /content/out/mask/553_4.png  \n",
            "  inflating: /content/out/mask/553_5.png  \n",
            "  inflating: /content/out/mask/553_6.png  \n",
            "  inflating: /content/out/mask/553_7.png  \n",
            "  inflating: /content/out/mask/553_8.png  \n",
            "  inflating: /content/out/mask/553_9.png  \n",
            "  inflating: /content/out/mask/554_1.png  \n",
            "  inflating: /content/out/mask/554_10.png  \n",
            "  inflating: /content/out/mask/554_11.png  \n",
            "  inflating: /content/out/mask/554_12.png  \n",
            "  inflating: /content/out/mask/554_13.png  \n",
            "  inflating: /content/out/mask/554_14.png  \n",
            "  inflating: /content/out/mask/554_15.png  \n",
            "  inflating: /content/out/mask/554_16.png  \n",
            "  inflating: /content/out/mask/554_17.png  \n",
            "  inflating: /content/out/mask/554_18.png  \n",
            "  inflating: /content/out/mask/554_19.png  \n",
            "  inflating: /content/out/mask/554_2.png  \n",
            "  inflating: /content/out/mask/554_20.png  \n",
            "  inflating: /content/out/mask/554_21.png  \n",
            "  inflating: /content/out/mask/554_22.png  \n",
            "  inflating: /content/out/mask/554_23.png  \n",
            "  inflating: /content/out/mask/554_24.png  \n",
            "  inflating: /content/out/mask/554_25.png  \n",
            "  inflating: /content/out/mask/554_26.png  \n",
            "  inflating: /content/out/mask/554_3.png  \n",
            "  inflating: /content/out/mask/554_4.png  \n",
            "  inflating: /content/out/mask/554_5.png  \n",
            "  inflating: /content/out/mask/554_6.png  \n",
            "  inflating: /content/out/mask/554_7.png  \n",
            "  inflating: /content/out/mask/554_8.png  \n",
            "  inflating: /content/out/mask/554_9.png  \n",
            "  inflating: /content/out/mask/555_1.png  \n",
            "  inflating: /content/out/mask/555_10.png  \n",
            "  inflating: /content/out/mask/555_11.png  \n",
            "  inflating: /content/out/mask/555_12.png  \n",
            "  inflating: /content/out/mask/555_13.png  \n",
            "  inflating: /content/out/mask/555_14.png  \n",
            "  inflating: /content/out/mask/555_15.png  \n",
            "  inflating: /content/out/mask/555_16.png  \n",
            "  inflating: /content/out/mask/555_17.png  \n",
            "  inflating: /content/out/mask/555_18.png  \n",
            "  inflating: /content/out/mask/555_19.png  \n",
            "  inflating: /content/out/mask/555_2.png  \n",
            "  inflating: /content/out/mask/555_20.png  \n",
            "  inflating: /content/out/mask/555_21.png  \n",
            "  inflating: /content/out/mask/555_22.png  \n",
            "  inflating: /content/out/mask/555_23.png  \n",
            "  inflating: /content/out/mask/555_24.png  \n",
            "  inflating: /content/out/mask/555_25.png  \n",
            "  inflating: /content/out/mask/555_26.png  \n",
            "  inflating: /content/out/mask/555_3.png  \n",
            "  inflating: /content/out/mask/555_4.png  \n",
            "  inflating: /content/out/mask/555_5.png  \n",
            "  inflating: /content/out/mask/555_6.png  \n",
            "  inflating: /content/out/mask/555_7.png  \n",
            "  inflating: /content/out/mask/555_8.png  \n",
            "  inflating: /content/out/mask/555_9.png  \n",
            "  inflating: /content/out/mask/556_1.png  \n",
            "  inflating: /content/out/mask/556_10.png  \n",
            "  inflating: /content/out/mask/556_11.png  \n",
            "  inflating: /content/out/mask/556_12.png  \n",
            "  inflating: /content/out/mask/556_13.png  \n",
            "  inflating: /content/out/mask/556_14.png  \n",
            "  inflating: /content/out/mask/556_15.png  \n",
            "  inflating: /content/out/mask/556_16.png  \n",
            "  inflating: /content/out/mask/556_17.png  \n",
            "  inflating: /content/out/mask/556_18.png  \n",
            "  inflating: /content/out/mask/556_19.png  \n",
            "  inflating: /content/out/mask/556_2.png  \n",
            "  inflating: /content/out/mask/556_20.png  \n",
            "  inflating: /content/out/mask/556_21.png  \n",
            "  inflating: /content/out/mask/556_22.png  \n",
            "  inflating: /content/out/mask/556_23.png  \n",
            "  inflating: /content/out/mask/556_24.png  \n",
            "  inflating: /content/out/mask/556_25.png  \n",
            "  inflating: /content/out/mask/556_26.png  \n",
            "  inflating: /content/out/mask/556_3.png  \n",
            "  inflating: /content/out/mask/556_4.png  \n",
            "  inflating: /content/out/mask/556_5.png  \n",
            "  inflating: /content/out/mask/556_6.png  \n",
            "  inflating: /content/out/mask/556_7.png  \n",
            "  inflating: /content/out/mask/556_8.png  \n",
            "  inflating: /content/out/mask/556_9.png  \n",
            "  inflating: /content/out/mask/557_1.png  \n",
            "  inflating: /content/out/mask/557_10.png  \n",
            "  inflating: /content/out/mask/557_11.png  \n",
            "  inflating: /content/out/mask/557_12.png  \n",
            "  inflating: /content/out/mask/557_13.png  \n",
            "  inflating: /content/out/mask/557_14.png  \n",
            "  inflating: /content/out/mask/557_15.png  \n",
            "  inflating: /content/out/mask/557_16.png  \n",
            "  inflating: /content/out/mask/557_17.png  \n",
            "  inflating: /content/out/mask/557_18.png  \n",
            "  inflating: /content/out/mask/557_19.png  \n",
            "  inflating: /content/out/mask/557_2.png  \n",
            "  inflating: /content/out/mask/557_20.png  \n",
            "  inflating: /content/out/mask/557_21.png  \n",
            "  inflating: /content/out/mask/557_22.png  \n",
            "  inflating: /content/out/mask/557_23.png  \n",
            "  inflating: /content/out/mask/557_24.png  \n",
            "  inflating: /content/out/mask/557_25.png  \n",
            "  inflating: /content/out/mask/557_26.png  \n",
            "  inflating: /content/out/mask/557_3.png  \n",
            "  inflating: /content/out/mask/557_4.png  \n",
            "  inflating: /content/out/mask/557_5.png  \n",
            "  inflating: /content/out/mask/557_6.png  \n",
            "  inflating: /content/out/mask/557_7.png  \n",
            "  inflating: /content/out/mask/557_8.png  \n",
            "  inflating: /content/out/mask/557_9.png  \n",
            "  inflating: /content/out/mask/558_1.png  \n",
            "  inflating: /content/out/mask/558_10.png  \n",
            "  inflating: /content/out/mask/558_11.png  \n",
            "  inflating: /content/out/mask/558_12.png  \n",
            "  inflating: /content/out/mask/558_13.png  \n",
            "  inflating: /content/out/mask/558_14.png  \n",
            "  inflating: /content/out/mask/558_15.png  \n",
            "  inflating: /content/out/mask/558_16.png  \n",
            "  inflating: /content/out/mask/558_17.png  \n",
            "  inflating: /content/out/mask/558_18.png  \n",
            "  inflating: /content/out/mask/558_19.png  \n",
            "  inflating: /content/out/mask/558_2.png  \n",
            "  inflating: /content/out/mask/558_20.png  \n",
            "  inflating: /content/out/mask/558_21.png  \n",
            "  inflating: /content/out/mask/558_22.png  \n",
            "  inflating: /content/out/mask/558_23.png  \n",
            "  inflating: /content/out/mask/558_24.png  \n",
            "  inflating: /content/out/mask/558_25.png  \n",
            "  inflating: /content/out/mask/558_26.png  \n",
            "  inflating: /content/out/mask/558_3.png  \n",
            "  inflating: /content/out/mask/558_4.png  \n",
            "  inflating: /content/out/mask/558_5.png  \n",
            "  inflating: /content/out/mask/558_6.png  \n",
            "  inflating: /content/out/mask/558_7.png  \n",
            "  inflating: /content/out/mask/558_8.png  \n",
            "  inflating: /content/out/mask/558_9.png  \n",
            "  inflating: /content/out/mask/559_1.png  \n",
            "  inflating: /content/out/mask/559_10.png  \n",
            "  inflating: /content/out/mask/559_11.png  \n",
            "  inflating: /content/out/mask/559_12.png  \n",
            "  inflating: /content/out/mask/559_13.png  \n",
            "  inflating: /content/out/mask/559_14.png  \n",
            "  inflating: /content/out/mask/559_15.png  \n",
            "  inflating: /content/out/mask/559_16.png  \n",
            "  inflating: /content/out/mask/559_17.png  \n",
            "  inflating: /content/out/mask/559_18.png  \n",
            "  inflating: /content/out/mask/559_19.png  \n",
            "  inflating: /content/out/mask/559_2.png  \n",
            "  inflating: /content/out/mask/559_20.png  \n",
            "  inflating: /content/out/mask/559_21.png  \n",
            "  inflating: /content/out/mask/559_22.png  \n",
            "  inflating: /content/out/mask/559_23.png  \n",
            "  inflating: /content/out/mask/559_24.png  \n",
            "  inflating: /content/out/mask/559_25.png  \n",
            "  inflating: /content/out/mask/559_26.png  \n",
            "  inflating: /content/out/mask/559_3.png  \n",
            "  inflating: /content/out/mask/559_4.png  \n",
            "  inflating: /content/out/mask/559_5.png  \n",
            "  inflating: /content/out/mask/559_6.png  \n",
            "  inflating: /content/out/mask/559_7.png  \n",
            "  inflating: /content/out/mask/559_8.png  \n",
            "  inflating: /content/out/mask/559_9.png  \n",
            "  inflating: /content/out/mask/55_1.png  \n",
            "  inflating: /content/out/mask/55_10.png  \n",
            "  inflating: /content/out/mask/55_11.png  \n",
            "  inflating: /content/out/mask/55_12.png  \n",
            "  inflating: /content/out/mask/55_13.png  \n",
            "  inflating: /content/out/mask/55_14.png  \n",
            "  inflating: /content/out/mask/55_15.png  \n",
            "  inflating: /content/out/mask/55_16.png  \n",
            "  inflating: /content/out/mask/55_17.png  \n",
            "  inflating: /content/out/mask/55_18.png  \n",
            "  inflating: /content/out/mask/55_19.png  \n",
            "  inflating: /content/out/mask/55_2.png  \n",
            "  inflating: /content/out/mask/55_20.png  \n",
            "  inflating: /content/out/mask/55_21.png  \n",
            "  inflating: /content/out/mask/55_22.png  \n",
            "  inflating: /content/out/mask/55_23.png  \n",
            "  inflating: /content/out/mask/55_24.png  \n",
            "  inflating: /content/out/mask/55_25.png  \n",
            "  inflating: /content/out/mask/55_26.png  \n",
            "  inflating: /content/out/mask/55_3.png  \n",
            "  inflating: /content/out/mask/55_4.png  \n",
            "  inflating: /content/out/mask/55_5.png  \n",
            "  inflating: /content/out/mask/55_6.png  \n",
            "  inflating: /content/out/mask/55_7.png  \n",
            "  inflating: /content/out/mask/55_8.png  \n",
            "  inflating: /content/out/mask/55_9.png  \n",
            "  inflating: /content/out/mask/560_1.png  \n",
            "  inflating: /content/out/mask/560_10.png  \n",
            "  inflating: /content/out/mask/560_11.png  \n",
            "  inflating: /content/out/mask/560_12.png  \n",
            "  inflating: /content/out/mask/560_13.png  \n",
            "  inflating: /content/out/mask/560_14.png  \n",
            "  inflating: /content/out/mask/560_15.png  \n",
            "  inflating: /content/out/mask/560_16.png  \n",
            "  inflating: /content/out/mask/560_17.png  \n",
            "  inflating: /content/out/mask/560_18.png  \n",
            "  inflating: /content/out/mask/560_19.png  \n",
            "  inflating: /content/out/mask/560_2.png  \n",
            "  inflating: /content/out/mask/560_20.png  \n",
            "  inflating: /content/out/mask/560_21.png  \n",
            "  inflating: /content/out/mask/560_22.png  \n",
            "  inflating: /content/out/mask/560_23.png  \n",
            "  inflating: /content/out/mask/560_24.png  \n",
            "  inflating: /content/out/mask/560_25.png  \n",
            "  inflating: /content/out/mask/560_26.png  \n",
            "  inflating: /content/out/mask/560_3.png  \n",
            "  inflating: /content/out/mask/560_4.png  \n",
            "  inflating: /content/out/mask/560_5.png  \n",
            "  inflating: /content/out/mask/560_6.png  \n",
            "  inflating: /content/out/mask/560_7.png  \n",
            "  inflating: /content/out/mask/560_8.png  \n",
            "  inflating: /content/out/mask/560_9.png  \n",
            "  inflating: /content/out/mask/561_1.png  \n",
            "  inflating: /content/out/mask/561_10.png  \n",
            "  inflating: /content/out/mask/561_11.png  \n",
            "  inflating: /content/out/mask/561_12.png  \n",
            "  inflating: /content/out/mask/561_13.png  \n",
            "  inflating: /content/out/mask/561_14.png  \n",
            "  inflating: /content/out/mask/561_15.png  \n",
            "  inflating: /content/out/mask/561_16.png  \n",
            "  inflating: /content/out/mask/561_17.png  \n",
            "  inflating: /content/out/mask/561_18.png  \n",
            "  inflating: /content/out/mask/561_19.png  \n",
            "  inflating: /content/out/mask/561_2.png  \n",
            "  inflating: /content/out/mask/561_20.png  \n",
            "  inflating: /content/out/mask/561_21.png  \n",
            "  inflating: /content/out/mask/561_22.png  \n",
            "  inflating: /content/out/mask/561_23.png  \n",
            "  inflating: /content/out/mask/561_24.png  \n",
            "  inflating: /content/out/mask/561_25.png  \n",
            "  inflating: /content/out/mask/561_26.png  \n",
            "  inflating: /content/out/mask/561_3.png  \n",
            "  inflating: /content/out/mask/561_4.png  \n",
            "  inflating: /content/out/mask/561_5.png  \n",
            "  inflating: /content/out/mask/561_6.png  \n",
            "  inflating: /content/out/mask/561_7.png  \n",
            "  inflating: /content/out/mask/561_8.png  \n",
            "  inflating: /content/out/mask/561_9.png  \n",
            "  inflating: /content/out/mask/562_1.png  \n",
            "  inflating: /content/out/mask/562_10.png  \n",
            "  inflating: /content/out/mask/562_11.png  \n",
            "  inflating: /content/out/mask/562_12.png  \n",
            "  inflating: /content/out/mask/562_13.png  \n",
            "  inflating: /content/out/mask/562_14.png  \n",
            "  inflating: /content/out/mask/562_15.png  \n",
            "  inflating: /content/out/mask/562_16.png  \n",
            "  inflating: /content/out/mask/562_17.png  \n",
            "  inflating: /content/out/mask/562_18.png  \n",
            "  inflating: /content/out/mask/562_19.png  \n",
            "  inflating: /content/out/mask/562_2.png  \n",
            "  inflating: /content/out/mask/562_20.png  \n",
            "  inflating: /content/out/mask/562_21.png  \n",
            "  inflating: /content/out/mask/562_22.png  \n",
            "  inflating: /content/out/mask/562_23.png  \n",
            "  inflating: /content/out/mask/562_24.png  \n",
            "  inflating: /content/out/mask/562_25.png  \n",
            "  inflating: /content/out/mask/562_26.png  \n",
            "  inflating: /content/out/mask/562_3.png  \n",
            "  inflating: /content/out/mask/562_4.png  \n",
            "  inflating: /content/out/mask/562_5.png  \n",
            "  inflating: /content/out/mask/562_6.png  \n",
            "  inflating: /content/out/mask/562_7.png  \n",
            "  inflating: /content/out/mask/562_8.png  \n",
            "  inflating: /content/out/mask/562_9.png  \n",
            "  inflating: /content/out/mask/563_1.png  \n",
            "  inflating: /content/out/mask/563_10.png  \n",
            "  inflating: /content/out/mask/563_11.png  \n",
            "  inflating: /content/out/mask/563_12.png  \n",
            "  inflating: /content/out/mask/563_13.png  \n",
            "  inflating: /content/out/mask/563_14.png  \n",
            "  inflating: /content/out/mask/563_15.png  \n",
            "  inflating: /content/out/mask/563_16.png  \n",
            "  inflating: /content/out/mask/563_17.png  \n",
            "  inflating: /content/out/mask/563_18.png  \n",
            "  inflating: /content/out/mask/563_19.png  \n",
            "  inflating: /content/out/mask/563_2.png  \n",
            "  inflating: /content/out/mask/563_20.png  \n",
            "  inflating: /content/out/mask/563_21.png  \n",
            "  inflating: /content/out/mask/563_22.png  \n",
            "  inflating: /content/out/mask/563_23.png  \n",
            "  inflating: /content/out/mask/563_24.png  \n",
            "  inflating: /content/out/mask/563_25.png  \n",
            "  inflating: /content/out/mask/563_26.png  \n",
            "  inflating: /content/out/mask/563_3.png  \n",
            "  inflating: /content/out/mask/563_4.png  \n",
            "  inflating: /content/out/mask/563_5.png  \n",
            "  inflating: /content/out/mask/563_6.png  \n",
            "  inflating: /content/out/mask/563_7.png  \n",
            "  inflating: /content/out/mask/563_8.png  \n",
            "  inflating: /content/out/mask/563_9.png  \n",
            "  inflating: /content/out/mask/564_1.png  \n",
            "  inflating: /content/out/mask/564_10.png  \n",
            "  inflating: /content/out/mask/564_11.png  \n",
            "  inflating: /content/out/mask/564_12.png  \n",
            "  inflating: /content/out/mask/564_13.png  \n",
            "  inflating: /content/out/mask/564_14.png  \n",
            "  inflating: /content/out/mask/564_15.png  \n",
            "  inflating: /content/out/mask/564_16.png  \n",
            "  inflating: /content/out/mask/564_17.png  \n",
            "  inflating: /content/out/mask/564_18.png  \n",
            "  inflating: /content/out/mask/564_19.png  \n",
            "  inflating: /content/out/mask/564_2.png  \n",
            "  inflating: /content/out/mask/564_20.png  \n",
            "  inflating: /content/out/mask/564_21.png  \n",
            "  inflating: /content/out/mask/564_22.png  \n",
            "  inflating: /content/out/mask/564_23.png  \n",
            "  inflating: /content/out/mask/564_24.png  \n",
            "  inflating: /content/out/mask/564_25.png  \n",
            "  inflating: /content/out/mask/564_26.png  \n",
            "  inflating: /content/out/mask/564_3.png  \n",
            "  inflating: /content/out/mask/564_4.png  \n",
            "  inflating: /content/out/mask/564_5.png  \n",
            "  inflating: /content/out/mask/564_6.png  \n",
            "  inflating: /content/out/mask/564_7.png  \n",
            "  inflating: /content/out/mask/564_8.png  \n",
            "  inflating: /content/out/mask/564_9.png  \n",
            "  inflating: /content/out/mask/565_1.png  \n",
            "  inflating: /content/out/mask/565_10.png  \n",
            "  inflating: /content/out/mask/565_11.png  \n",
            "  inflating: /content/out/mask/565_12.png  \n",
            "  inflating: /content/out/mask/565_13.png  \n",
            "  inflating: /content/out/mask/565_14.png  \n",
            "  inflating: /content/out/mask/565_15.png  \n",
            "  inflating: /content/out/mask/565_16.png  \n",
            "  inflating: /content/out/mask/565_17.png  \n",
            "  inflating: /content/out/mask/565_18.png  \n",
            "  inflating: /content/out/mask/565_19.png  \n",
            "  inflating: /content/out/mask/565_2.png  \n",
            "  inflating: /content/out/mask/565_20.png  \n",
            "  inflating: /content/out/mask/565_21.png  \n",
            "  inflating: /content/out/mask/565_22.png  \n",
            "  inflating: /content/out/mask/565_23.png  \n",
            "  inflating: /content/out/mask/565_24.png  \n",
            "  inflating: /content/out/mask/565_25.png  \n",
            "  inflating: /content/out/mask/565_26.png  \n",
            "  inflating: /content/out/mask/565_3.png  \n",
            "  inflating: /content/out/mask/565_4.png  \n",
            "  inflating: /content/out/mask/565_5.png  \n",
            "  inflating: /content/out/mask/565_6.png  \n",
            "  inflating: /content/out/mask/565_7.png  \n",
            "  inflating: /content/out/mask/565_8.png  \n",
            "  inflating: /content/out/mask/565_9.png  \n",
            "  inflating: /content/out/mask/566_1.png  \n",
            "  inflating: /content/out/mask/566_10.png  \n",
            "  inflating: /content/out/mask/566_11.png  \n",
            "  inflating: /content/out/mask/566_12.png  \n",
            "  inflating: /content/out/mask/566_13.png  \n",
            "  inflating: /content/out/mask/566_14.png  \n",
            "  inflating: /content/out/mask/566_15.png  \n",
            "  inflating: /content/out/mask/566_16.png  \n",
            "  inflating: /content/out/mask/566_17.png  \n",
            "  inflating: /content/out/mask/566_18.png  \n",
            "  inflating: /content/out/mask/566_19.png  \n",
            "  inflating: /content/out/mask/566_2.png  \n",
            "  inflating: /content/out/mask/566_20.png  \n",
            "  inflating: /content/out/mask/566_21.png  \n",
            "  inflating: /content/out/mask/566_22.png  \n",
            "  inflating: /content/out/mask/566_23.png  \n",
            "  inflating: /content/out/mask/566_24.png  \n",
            "  inflating: /content/out/mask/566_25.png  \n",
            "  inflating: /content/out/mask/566_26.png  \n",
            "  inflating: /content/out/mask/566_3.png  \n",
            "  inflating: /content/out/mask/566_4.png  \n",
            "  inflating: /content/out/mask/566_5.png  \n",
            "  inflating: /content/out/mask/566_6.png  \n",
            "  inflating: /content/out/mask/566_7.png  \n",
            "  inflating: /content/out/mask/566_8.png  \n",
            "  inflating: /content/out/mask/566_9.png  \n",
            "  inflating: /content/out/mask/567_1.png  \n",
            "  inflating: /content/out/mask/567_10.png  \n",
            "  inflating: /content/out/mask/567_11.png  \n",
            "  inflating: /content/out/mask/567_12.png  \n",
            "  inflating: /content/out/mask/567_13.png  \n",
            "  inflating: /content/out/mask/567_14.png  \n",
            "  inflating: /content/out/mask/567_15.png  \n",
            "  inflating: /content/out/mask/567_16.png  \n",
            "  inflating: /content/out/mask/567_17.png  \n",
            "  inflating: /content/out/mask/567_18.png  \n",
            "  inflating: /content/out/mask/567_19.png  \n",
            "  inflating: /content/out/mask/567_2.png  \n",
            "  inflating: /content/out/mask/567_20.png  \n",
            "  inflating: /content/out/mask/567_21.png  \n",
            "  inflating: /content/out/mask/567_22.png  \n",
            "  inflating: /content/out/mask/567_23.png  \n",
            "  inflating: /content/out/mask/567_24.png  \n",
            "  inflating: /content/out/mask/567_25.png  \n",
            "  inflating: /content/out/mask/567_26.png  \n",
            "  inflating: /content/out/mask/567_3.png  \n",
            "  inflating: /content/out/mask/567_4.png  \n",
            "  inflating: /content/out/mask/567_5.png  \n",
            "  inflating: /content/out/mask/567_6.png  \n",
            "  inflating: /content/out/mask/567_7.png  \n",
            "  inflating: /content/out/mask/567_8.png  \n",
            "  inflating: /content/out/mask/567_9.png  \n",
            "  inflating: /content/out/mask/568_1.png  \n",
            "  inflating: /content/out/mask/568_10.png  \n",
            "  inflating: /content/out/mask/568_11.png  \n",
            "  inflating: /content/out/mask/568_12.png  \n",
            "  inflating: /content/out/mask/568_13.png  \n",
            "  inflating: /content/out/mask/568_14.png  \n",
            "  inflating: /content/out/mask/568_15.png  \n",
            "  inflating: /content/out/mask/568_16.png  \n",
            "  inflating: /content/out/mask/568_17.png  \n",
            "  inflating: /content/out/mask/568_18.png  \n",
            "  inflating: /content/out/mask/568_19.png  \n",
            "  inflating: /content/out/mask/568_2.png  \n",
            "  inflating: /content/out/mask/568_20.png  \n",
            "  inflating: /content/out/mask/568_21.png  \n",
            "  inflating: /content/out/mask/568_22.png  \n",
            "  inflating: /content/out/mask/568_23.png  \n",
            "  inflating: /content/out/mask/568_24.png  \n",
            "  inflating: /content/out/mask/568_25.png  \n",
            "  inflating: /content/out/mask/568_26.png  \n",
            "  inflating: /content/out/mask/568_3.png  \n",
            "  inflating: /content/out/mask/568_4.png  \n",
            "  inflating: /content/out/mask/568_5.png  \n",
            "  inflating: /content/out/mask/568_6.png  \n",
            "  inflating: /content/out/mask/568_7.png  \n",
            "  inflating: /content/out/mask/568_8.png  \n",
            "  inflating: /content/out/mask/568_9.png  \n",
            "  inflating: /content/out/mask/569_1.png  \n",
            "  inflating: /content/out/mask/569_10.png  \n",
            "  inflating: /content/out/mask/569_11.png  \n",
            "  inflating: /content/out/mask/569_12.png  \n",
            "  inflating: /content/out/mask/569_13.png  \n",
            "  inflating: /content/out/mask/569_14.png  \n",
            "  inflating: /content/out/mask/569_15.png  \n",
            "  inflating: /content/out/mask/569_16.png  \n",
            "  inflating: /content/out/mask/569_17.png  \n",
            "  inflating: /content/out/mask/569_18.png  \n",
            "  inflating: /content/out/mask/569_19.png  \n",
            "  inflating: /content/out/mask/569_2.png  \n",
            "  inflating: /content/out/mask/569_20.png  \n",
            "  inflating: /content/out/mask/569_21.png  \n",
            "  inflating: /content/out/mask/569_22.png  \n",
            "  inflating: /content/out/mask/569_23.png  \n",
            "  inflating: /content/out/mask/569_24.png  \n",
            "  inflating: /content/out/mask/569_25.png  \n",
            "  inflating: /content/out/mask/569_26.png  \n",
            "  inflating: /content/out/mask/569_3.png  \n",
            "  inflating: /content/out/mask/569_4.png  \n",
            "  inflating: /content/out/mask/569_5.png  \n",
            "  inflating: /content/out/mask/569_6.png  \n",
            "  inflating: /content/out/mask/569_7.png  \n",
            "  inflating: /content/out/mask/569_8.png  \n",
            "  inflating: /content/out/mask/569_9.png  \n",
            "  inflating: /content/out/mask/56_1.png  \n",
            "  inflating: /content/out/mask/56_10.png  \n",
            "  inflating: /content/out/mask/56_11.png  \n",
            "  inflating: /content/out/mask/56_12.png  \n",
            "  inflating: /content/out/mask/56_13.png  \n",
            "  inflating: /content/out/mask/56_14.png  \n",
            "  inflating: /content/out/mask/56_15.png  \n",
            "  inflating: /content/out/mask/56_16.png  \n",
            "  inflating: /content/out/mask/56_17.png  \n",
            "  inflating: /content/out/mask/56_18.png  \n",
            "  inflating: /content/out/mask/56_19.png  \n",
            "  inflating: /content/out/mask/56_2.png  \n",
            "  inflating: /content/out/mask/56_20.png  \n",
            "  inflating: /content/out/mask/56_21.png  \n",
            "  inflating: /content/out/mask/56_22.png  \n",
            "  inflating: /content/out/mask/56_23.png  \n",
            "  inflating: /content/out/mask/56_24.png  \n",
            "  inflating: /content/out/mask/56_25.png  \n",
            "  inflating: /content/out/mask/56_26.png  \n",
            "  inflating: /content/out/mask/56_3.png  \n",
            "  inflating: /content/out/mask/56_4.png  \n",
            "  inflating: /content/out/mask/56_5.png  \n",
            "  inflating: /content/out/mask/56_6.png  \n",
            "  inflating: /content/out/mask/56_7.png  \n",
            "  inflating: /content/out/mask/56_8.png  \n",
            "  inflating: /content/out/mask/56_9.png  \n",
            "  inflating: /content/out/mask/570_1.png  \n",
            "  inflating: /content/out/mask/570_10.png  \n",
            "  inflating: /content/out/mask/570_11.png  \n",
            "  inflating: /content/out/mask/570_12.png  \n",
            "  inflating: /content/out/mask/570_13.png  \n",
            "  inflating: /content/out/mask/570_14.png  \n",
            "  inflating: /content/out/mask/570_15.png  \n",
            "  inflating: /content/out/mask/570_16.png  \n",
            "  inflating: /content/out/mask/570_17.png  \n",
            "  inflating: /content/out/mask/570_18.png  \n",
            "  inflating: /content/out/mask/570_19.png  \n",
            "  inflating: /content/out/mask/570_2.png  \n",
            "  inflating: /content/out/mask/570_20.png  \n",
            "  inflating: /content/out/mask/570_21.png  \n",
            "  inflating: /content/out/mask/570_22.png  \n",
            "  inflating: /content/out/mask/570_23.png  \n",
            "  inflating: /content/out/mask/570_24.png  \n",
            "  inflating: /content/out/mask/570_25.png  \n",
            "  inflating: /content/out/mask/570_26.png  \n",
            "  inflating: /content/out/mask/570_3.png  \n",
            "  inflating: /content/out/mask/570_4.png  \n",
            "  inflating: /content/out/mask/570_5.png  \n",
            "  inflating: /content/out/mask/570_6.png  \n",
            "  inflating: /content/out/mask/570_7.png  \n",
            "  inflating: /content/out/mask/570_8.png  \n",
            "  inflating: /content/out/mask/570_9.png  \n",
            "  inflating: /content/out/mask/571_1.png  \n",
            "  inflating: /content/out/mask/571_10.png  \n",
            "  inflating: /content/out/mask/571_11.png  \n",
            "  inflating: /content/out/mask/571_12.png  \n",
            "  inflating: /content/out/mask/571_13.png  \n",
            "  inflating: /content/out/mask/571_14.png  \n",
            "  inflating: /content/out/mask/571_15.png  \n",
            "  inflating: /content/out/mask/571_16.png  \n",
            "  inflating: /content/out/mask/571_17.png  \n",
            "  inflating: /content/out/mask/571_18.png  \n",
            "  inflating: /content/out/mask/571_19.png  \n",
            "  inflating: /content/out/mask/571_2.png  \n",
            "  inflating: /content/out/mask/571_20.png  \n",
            "  inflating: /content/out/mask/571_21.png  \n",
            "  inflating: /content/out/mask/571_22.png  \n",
            "  inflating: /content/out/mask/571_23.png  \n",
            "  inflating: /content/out/mask/571_24.png  \n",
            "  inflating: /content/out/mask/571_25.png  \n",
            "  inflating: /content/out/mask/571_26.png  \n",
            "  inflating: /content/out/mask/571_3.png  \n",
            "  inflating: /content/out/mask/571_4.png  \n",
            "  inflating: /content/out/mask/571_5.png  \n",
            "  inflating: /content/out/mask/571_6.png  \n",
            "  inflating: /content/out/mask/571_7.png  \n",
            "  inflating: /content/out/mask/571_8.png  \n",
            "  inflating: /content/out/mask/571_9.png  \n",
            "  inflating: /content/out/mask/572_1.png  \n",
            "  inflating: /content/out/mask/572_10.png  \n",
            "  inflating: /content/out/mask/572_11.png  \n",
            "  inflating: /content/out/mask/572_12.png  \n",
            "  inflating: /content/out/mask/572_13.png  \n",
            "  inflating: /content/out/mask/572_14.png  \n",
            "  inflating: /content/out/mask/572_15.png  \n",
            "  inflating: /content/out/mask/572_16.png  \n",
            "  inflating: /content/out/mask/572_17.png  \n",
            "  inflating: /content/out/mask/572_18.png  \n",
            "  inflating: /content/out/mask/572_19.png  \n",
            "  inflating: /content/out/mask/572_2.png  \n",
            "  inflating: /content/out/mask/572_20.png  \n",
            "  inflating: /content/out/mask/572_21.png  \n",
            "  inflating: /content/out/mask/572_22.png  \n",
            "  inflating: /content/out/mask/572_23.png  \n",
            "  inflating: /content/out/mask/572_24.png  \n",
            "  inflating: /content/out/mask/572_25.png  \n",
            "  inflating: /content/out/mask/572_26.png  \n",
            "  inflating: /content/out/mask/572_3.png  \n",
            "  inflating: /content/out/mask/572_4.png  \n",
            "  inflating: /content/out/mask/572_5.png  \n",
            "  inflating: /content/out/mask/572_6.png  \n",
            "  inflating: /content/out/mask/572_7.png  \n",
            "  inflating: /content/out/mask/572_8.png  \n",
            "  inflating: /content/out/mask/572_9.png  \n",
            "  inflating: /content/out/mask/573_1.png  \n",
            "  inflating: /content/out/mask/573_10.png  \n",
            "  inflating: /content/out/mask/573_11.png  \n",
            "  inflating: /content/out/mask/573_12.png  \n",
            "  inflating: /content/out/mask/573_13.png  \n",
            "  inflating: /content/out/mask/573_14.png  \n",
            "  inflating: /content/out/mask/573_15.png  \n",
            "  inflating: /content/out/mask/573_16.png  \n",
            "  inflating: /content/out/mask/573_17.png  \n",
            "  inflating: /content/out/mask/573_18.png  \n",
            "  inflating: /content/out/mask/573_19.png  \n",
            "  inflating: /content/out/mask/573_2.png  \n",
            "  inflating: /content/out/mask/573_20.png  \n",
            "  inflating: /content/out/mask/573_21.png  \n",
            "  inflating: /content/out/mask/573_22.png  \n",
            "  inflating: /content/out/mask/573_23.png  \n",
            "  inflating: /content/out/mask/573_24.png  \n",
            "  inflating: /content/out/mask/573_25.png  \n",
            "  inflating: /content/out/mask/573_26.png  \n",
            "  inflating: /content/out/mask/573_3.png  \n",
            "  inflating: /content/out/mask/573_4.png  \n",
            "  inflating: /content/out/mask/573_5.png  \n",
            "  inflating: /content/out/mask/573_6.png  \n",
            "  inflating: /content/out/mask/573_7.png  \n",
            "  inflating: /content/out/mask/573_8.png  \n",
            "  inflating: /content/out/mask/573_9.png  \n",
            "  inflating: /content/out/mask/574_1.png  \n",
            "  inflating: /content/out/mask/574_10.png  \n",
            "  inflating: /content/out/mask/574_11.png  \n",
            "  inflating: /content/out/mask/574_12.png  \n",
            "  inflating: /content/out/mask/574_13.png  \n",
            "  inflating: /content/out/mask/574_14.png  \n",
            "  inflating: /content/out/mask/574_15.png  \n",
            "  inflating: /content/out/mask/574_16.png  \n",
            "  inflating: /content/out/mask/574_17.png  \n",
            "  inflating: /content/out/mask/574_18.png  \n",
            "  inflating: /content/out/mask/574_19.png  \n",
            "  inflating: /content/out/mask/574_2.png  \n",
            "  inflating: /content/out/mask/574_20.png  \n",
            "  inflating: /content/out/mask/574_21.png  \n",
            "  inflating: /content/out/mask/574_22.png  \n",
            "  inflating: /content/out/mask/574_23.png  \n",
            "  inflating: /content/out/mask/574_24.png  \n",
            "  inflating: /content/out/mask/574_25.png  \n",
            "  inflating: /content/out/mask/574_26.png  \n",
            "  inflating: /content/out/mask/574_3.png  \n",
            "  inflating: /content/out/mask/574_4.png  \n",
            "  inflating: /content/out/mask/574_5.png  \n",
            "  inflating: /content/out/mask/574_6.png  \n",
            "  inflating: /content/out/mask/574_7.png  \n",
            "  inflating: /content/out/mask/574_8.png  \n",
            "  inflating: /content/out/mask/574_9.png  \n",
            "  inflating: /content/out/mask/575_1.png  \n",
            "  inflating: /content/out/mask/575_10.png  \n",
            "  inflating: /content/out/mask/575_11.png  \n",
            "  inflating: /content/out/mask/575_12.png  \n",
            "  inflating: /content/out/mask/575_13.png  \n",
            "  inflating: /content/out/mask/575_14.png  \n",
            "  inflating: /content/out/mask/575_15.png  \n",
            "  inflating: /content/out/mask/575_16.png  \n",
            "  inflating: /content/out/mask/575_17.png  \n",
            "  inflating: /content/out/mask/575_18.png  \n",
            "  inflating: /content/out/mask/575_19.png  \n",
            "  inflating: /content/out/mask/575_2.png  \n",
            "  inflating: /content/out/mask/575_20.png  \n",
            "  inflating: /content/out/mask/575_21.png  \n",
            "  inflating: /content/out/mask/575_22.png  \n",
            "  inflating: /content/out/mask/575_23.png  \n",
            "  inflating: /content/out/mask/575_24.png  \n",
            "  inflating: /content/out/mask/575_25.png  \n",
            "  inflating: /content/out/mask/575_26.png  \n",
            "  inflating: /content/out/mask/575_3.png  \n",
            "  inflating: /content/out/mask/575_4.png  \n",
            "  inflating: /content/out/mask/575_5.png  \n",
            "  inflating: /content/out/mask/575_6.png  \n",
            "  inflating: /content/out/mask/575_7.png  \n",
            "  inflating: /content/out/mask/575_8.png  \n",
            "  inflating: /content/out/mask/575_9.png  \n",
            "  inflating: /content/out/mask/576_1.png  \n",
            "  inflating: /content/out/mask/576_10.png  \n",
            "  inflating: /content/out/mask/576_11.png  \n",
            "  inflating: /content/out/mask/576_12.png  \n",
            "  inflating: /content/out/mask/576_13.png  \n",
            "  inflating: /content/out/mask/576_14.png  \n",
            "  inflating: /content/out/mask/576_15.png  \n",
            "  inflating: /content/out/mask/576_16.png  \n",
            "  inflating: /content/out/mask/576_17.png  \n",
            "  inflating: /content/out/mask/576_18.png  \n",
            "  inflating: /content/out/mask/576_19.png  \n",
            "  inflating: /content/out/mask/576_2.png  \n",
            "  inflating: /content/out/mask/576_20.png  \n",
            "  inflating: /content/out/mask/576_21.png  \n",
            "  inflating: /content/out/mask/576_22.png  \n",
            "  inflating: /content/out/mask/576_23.png  \n",
            "  inflating: /content/out/mask/576_24.png  \n",
            "  inflating: /content/out/mask/576_25.png  \n",
            "  inflating: /content/out/mask/576_26.png  \n",
            "  inflating: /content/out/mask/576_3.png  \n",
            "  inflating: /content/out/mask/576_4.png  \n",
            "  inflating: /content/out/mask/576_5.png  \n",
            "  inflating: /content/out/mask/576_6.png  \n",
            "  inflating: /content/out/mask/576_7.png  \n",
            "  inflating: /content/out/mask/576_8.png  \n",
            "  inflating: /content/out/mask/576_9.png  \n",
            "  inflating: /content/out/mask/577_1.png  \n",
            "  inflating: /content/out/mask/577_10.png  \n",
            "  inflating: /content/out/mask/577_11.png  \n",
            "  inflating: /content/out/mask/577_12.png  \n",
            "  inflating: /content/out/mask/577_13.png  \n",
            "  inflating: /content/out/mask/577_14.png  \n",
            "  inflating: /content/out/mask/577_15.png  \n",
            "  inflating: /content/out/mask/577_16.png  \n",
            "  inflating: /content/out/mask/577_17.png  \n",
            "  inflating: /content/out/mask/577_18.png  \n",
            "  inflating: /content/out/mask/577_19.png  \n",
            "  inflating: /content/out/mask/577_2.png  \n",
            "  inflating: /content/out/mask/577_20.png  \n",
            "  inflating: /content/out/mask/577_21.png  \n",
            "  inflating: /content/out/mask/577_22.png  \n",
            "  inflating: /content/out/mask/577_23.png  \n",
            "  inflating: /content/out/mask/577_24.png  \n",
            "  inflating: /content/out/mask/577_25.png  \n",
            "  inflating: /content/out/mask/577_26.png  \n",
            "  inflating: /content/out/mask/577_3.png  \n",
            "  inflating: /content/out/mask/577_4.png  \n",
            "  inflating: /content/out/mask/577_5.png  \n",
            "  inflating: /content/out/mask/577_6.png  \n",
            "  inflating: /content/out/mask/577_7.png  \n",
            "  inflating: /content/out/mask/577_8.png  \n",
            "  inflating: /content/out/mask/577_9.png  \n",
            "  inflating: /content/out/mask/578_1.png  \n",
            "  inflating: /content/out/mask/578_10.png  \n",
            "  inflating: /content/out/mask/578_11.png  \n",
            "  inflating: /content/out/mask/578_12.png  \n",
            "  inflating: /content/out/mask/578_13.png  \n",
            "  inflating: /content/out/mask/578_14.png  \n",
            "  inflating: /content/out/mask/578_15.png  \n",
            "  inflating: /content/out/mask/578_16.png  \n",
            "  inflating: /content/out/mask/578_17.png  \n",
            "  inflating: /content/out/mask/578_18.png  \n",
            "  inflating: /content/out/mask/578_19.png  \n",
            "  inflating: /content/out/mask/578_2.png  \n",
            "  inflating: /content/out/mask/578_20.png  \n",
            "  inflating: /content/out/mask/578_21.png  \n",
            "  inflating: /content/out/mask/578_22.png  \n",
            "  inflating: /content/out/mask/578_23.png  \n",
            "  inflating: /content/out/mask/578_24.png  \n",
            "  inflating: /content/out/mask/578_25.png  \n",
            "  inflating: /content/out/mask/578_26.png  \n",
            "  inflating: /content/out/mask/578_3.png  \n",
            "  inflating: /content/out/mask/578_4.png  \n",
            "  inflating: /content/out/mask/578_5.png  \n",
            "  inflating: /content/out/mask/578_6.png  \n",
            "  inflating: /content/out/mask/578_7.png  \n",
            "  inflating: /content/out/mask/578_8.png  \n",
            "  inflating: /content/out/mask/578_9.png  \n",
            "  inflating: /content/out/mask/579_1.png  \n",
            "  inflating: /content/out/mask/579_10.png  \n",
            "  inflating: /content/out/mask/579_11.png  \n",
            "  inflating: /content/out/mask/579_12.png  \n",
            "  inflating: /content/out/mask/579_13.png  \n",
            "  inflating: /content/out/mask/579_14.png  \n",
            "  inflating: /content/out/mask/579_15.png  \n",
            "  inflating: /content/out/mask/579_16.png  \n",
            "  inflating: /content/out/mask/579_17.png  \n",
            "  inflating: /content/out/mask/579_18.png  \n",
            "  inflating: /content/out/mask/579_19.png  \n",
            "  inflating: /content/out/mask/579_2.png  \n",
            "  inflating: /content/out/mask/579_20.png  \n",
            "  inflating: /content/out/mask/579_21.png  \n",
            "  inflating: /content/out/mask/579_22.png  \n",
            "  inflating: /content/out/mask/579_23.png  \n",
            "  inflating: /content/out/mask/579_24.png  \n",
            "  inflating: /content/out/mask/579_25.png  \n",
            "  inflating: /content/out/mask/579_26.png  \n",
            "  inflating: /content/out/mask/579_3.png  \n",
            "  inflating: /content/out/mask/579_4.png  \n",
            "  inflating: /content/out/mask/579_5.png  \n",
            "  inflating: /content/out/mask/579_6.png  \n",
            "  inflating: /content/out/mask/579_7.png  \n",
            "  inflating: /content/out/mask/579_8.png  \n",
            "  inflating: /content/out/mask/579_9.png  \n",
            "  inflating: /content/out/mask/57_1.png  \n",
            "  inflating: /content/out/mask/57_10.png  \n",
            "  inflating: /content/out/mask/57_11.png  \n",
            "  inflating: /content/out/mask/57_12.png  \n",
            "  inflating: /content/out/mask/57_13.png  \n",
            "  inflating: /content/out/mask/57_14.png  \n",
            "  inflating: /content/out/mask/57_15.png  \n",
            "  inflating: /content/out/mask/57_16.png  \n",
            "  inflating: /content/out/mask/57_17.png  \n",
            "  inflating: /content/out/mask/57_18.png  \n",
            "  inflating: /content/out/mask/57_19.png  \n",
            "  inflating: /content/out/mask/57_2.png  \n",
            "  inflating: /content/out/mask/57_20.png  \n",
            "  inflating: /content/out/mask/57_21.png  \n",
            "  inflating: /content/out/mask/57_22.png  \n",
            "  inflating: /content/out/mask/57_23.png  \n",
            "  inflating: /content/out/mask/57_24.png  \n",
            "  inflating: /content/out/mask/57_25.png  \n",
            "  inflating: /content/out/mask/57_26.png  \n",
            "  inflating: /content/out/mask/57_3.png  \n",
            "  inflating: /content/out/mask/57_4.png  \n",
            "  inflating: /content/out/mask/57_5.png  \n",
            "  inflating: /content/out/mask/57_6.png  \n",
            "  inflating: /content/out/mask/57_7.png  \n",
            "  inflating: /content/out/mask/57_8.png  \n",
            "  inflating: /content/out/mask/57_9.png  \n",
            "  inflating: /content/out/mask/580_1.png  \n",
            "  inflating: /content/out/mask/580_10.png  \n",
            "  inflating: /content/out/mask/580_11.png  \n",
            "  inflating: /content/out/mask/580_12.png  \n",
            "  inflating: /content/out/mask/580_13.png  \n",
            "  inflating: /content/out/mask/580_14.png  \n",
            "  inflating: /content/out/mask/580_15.png  \n",
            "  inflating: /content/out/mask/580_16.png  \n",
            "  inflating: /content/out/mask/580_17.png  \n",
            "  inflating: /content/out/mask/580_18.png  \n",
            "  inflating: /content/out/mask/580_19.png  \n",
            "  inflating: /content/out/mask/580_2.png  \n",
            "  inflating: /content/out/mask/580_20.png  \n",
            "  inflating: /content/out/mask/580_21.png  \n",
            "  inflating: /content/out/mask/580_22.png  \n",
            "  inflating: /content/out/mask/580_23.png  \n",
            "  inflating: /content/out/mask/580_24.png  \n",
            "  inflating: /content/out/mask/580_25.png  \n",
            "  inflating: /content/out/mask/580_26.png  \n",
            "  inflating: /content/out/mask/580_3.png  \n",
            "  inflating: /content/out/mask/580_4.png  \n",
            "  inflating: /content/out/mask/580_5.png  \n",
            "  inflating: /content/out/mask/580_6.png  \n",
            "  inflating: /content/out/mask/580_7.png  \n",
            "  inflating: /content/out/mask/580_8.png  \n",
            "  inflating: /content/out/mask/580_9.png  \n",
            "  inflating: /content/out/mask/581_1.png  \n",
            "  inflating: /content/out/mask/581_10.png  \n",
            "  inflating: /content/out/mask/581_11.png  \n",
            "  inflating: /content/out/mask/581_12.png  \n",
            "  inflating: /content/out/mask/581_13.png  \n",
            "  inflating: /content/out/mask/581_14.png  \n",
            "  inflating: /content/out/mask/581_15.png  \n",
            "  inflating: /content/out/mask/581_16.png  \n",
            "  inflating: /content/out/mask/581_17.png  \n",
            "  inflating: /content/out/mask/581_18.png  \n",
            "  inflating: /content/out/mask/581_19.png  \n",
            "  inflating: /content/out/mask/581_2.png  \n",
            "  inflating: /content/out/mask/581_20.png  \n",
            "  inflating: /content/out/mask/581_21.png  \n",
            "  inflating: /content/out/mask/581_22.png  \n",
            "  inflating: /content/out/mask/581_23.png  \n",
            "  inflating: /content/out/mask/581_24.png  \n",
            "  inflating: /content/out/mask/581_25.png  \n",
            "  inflating: /content/out/mask/581_26.png  \n",
            "  inflating: /content/out/mask/581_3.png  \n",
            "  inflating: /content/out/mask/581_4.png  \n",
            "  inflating: /content/out/mask/581_5.png  \n",
            "  inflating: /content/out/mask/581_6.png  \n",
            "  inflating: /content/out/mask/581_7.png  \n",
            "  inflating: /content/out/mask/581_8.png  \n",
            "  inflating: /content/out/mask/581_9.png  \n",
            "  inflating: /content/out/mask/582_1.png  \n",
            "  inflating: /content/out/mask/582_10.png  \n",
            "  inflating: /content/out/mask/582_11.png  \n",
            "  inflating: /content/out/mask/582_12.png  \n",
            "  inflating: /content/out/mask/582_13.png  \n",
            "  inflating: /content/out/mask/582_14.png  \n",
            "  inflating: /content/out/mask/582_15.png  \n",
            "  inflating: /content/out/mask/582_16.png  \n",
            "  inflating: /content/out/mask/582_17.png  \n",
            "  inflating: /content/out/mask/582_18.png  \n",
            "  inflating: /content/out/mask/582_19.png  \n",
            "  inflating: /content/out/mask/582_2.png  \n",
            "  inflating: /content/out/mask/582_20.png  \n",
            "  inflating: /content/out/mask/582_21.png  \n",
            "  inflating: /content/out/mask/582_22.png  \n",
            "  inflating: /content/out/mask/582_23.png  \n",
            "  inflating: /content/out/mask/582_24.png  \n",
            "  inflating: /content/out/mask/582_25.png  \n",
            "  inflating: /content/out/mask/582_26.png  \n",
            "  inflating: /content/out/mask/582_3.png  \n",
            "  inflating: /content/out/mask/582_4.png  \n",
            "  inflating: /content/out/mask/582_5.png  \n",
            "  inflating: /content/out/mask/582_6.png  \n",
            "  inflating: /content/out/mask/582_7.png  \n",
            "  inflating: /content/out/mask/582_8.png  \n",
            "  inflating: /content/out/mask/582_9.png  \n",
            "  inflating: /content/out/mask/583_1.png  \n",
            "  inflating: /content/out/mask/583_10.png  \n",
            "  inflating: /content/out/mask/583_11.png  \n",
            "  inflating: /content/out/mask/583_12.png  \n",
            "  inflating: /content/out/mask/583_13.png  \n",
            "  inflating: /content/out/mask/583_14.png  \n",
            "  inflating: /content/out/mask/583_15.png  \n",
            "  inflating: /content/out/mask/583_16.png  \n",
            "  inflating: /content/out/mask/583_17.png  \n",
            "  inflating: /content/out/mask/583_18.png  \n",
            "  inflating: /content/out/mask/583_19.png  \n",
            "  inflating: /content/out/mask/583_2.png  \n",
            "  inflating: /content/out/mask/583_20.png  \n",
            "  inflating: /content/out/mask/583_21.png  \n",
            "  inflating: /content/out/mask/583_22.png  \n",
            "  inflating: /content/out/mask/583_23.png  \n",
            "  inflating: /content/out/mask/583_24.png  \n",
            "  inflating: /content/out/mask/583_25.png  \n",
            "  inflating: /content/out/mask/583_26.png  \n",
            "  inflating: /content/out/mask/583_3.png  \n",
            "  inflating: /content/out/mask/583_4.png  \n",
            "  inflating: /content/out/mask/583_5.png  \n",
            "  inflating: /content/out/mask/583_6.png  \n",
            "  inflating: /content/out/mask/583_7.png  \n",
            "  inflating: /content/out/mask/583_8.png  \n",
            "  inflating: /content/out/mask/583_9.png  \n",
            "  inflating: /content/out/mask/584_1.png  \n",
            "  inflating: /content/out/mask/584_10.png  \n",
            "  inflating: /content/out/mask/584_11.png  \n",
            "  inflating: /content/out/mask/584_12.png  \n",
            "  inflating: /content/out/mask/584_13.png  \n",
            "  inflating: /content/out/mask/584_14.png  \n",
            "  inflating: /content/out/mask/584_15.png  \n",
            "  inflating: /content/out/mask/584_16.png  \n",
            "  inflating: /content/out/mask/584_17.png  \n",
            "  inflating: /content/out/mask/584_18.png  \n",
            "  inflating: /content/out/mask/584_19.png  \n",
            "  inflating: /content/out/mask/584_2.png  \n",
            "  inflating: /content/out/mask/584_20.png  \n",
            "  inflating: /content/out/mask/584_21.png  \n",
            "  inflating: /content/out/mask/584_22.png  \n",
            "  inflating: /content/out/mask/584_23.png  \n",
            "  inflating: /content/out/mask/584_24.png  \n",
            "  inflating: /content/out/mask/584_25.png  \n",
            "  inflating: /content/out/mask/584_26.png  \n",
            "  inflating: /content/out/mask/584_3.png  \n",
            "  inflating: /content/out/mask/584_4.png  \n",
            "  inflating: /content/out/mask/584_5.png  \n",
            "  inflating: /content/out/mask/584_6.png  \n",
            "  inflating: /content/out/mask/584_7.png  \n",
            "  inflating: /content/out/mask/584_8.png  \n",
            "  inflating: /content/out/mask/584_9.png  \n",
            "  inflating: /content/out/mask/585_1.png  \n",
            "  inflating: /content/out/mask/585_10.png  \n",
            "  inflating: /content/out/mask/585_11.png  \n",
            "  inflating: /content/out/mask/585_12.png  \n",
            "  inflating: /content/out/mask/585_13.png  \n",
            "  inflating: /content/out/mask/585_14.png  \n",
            "  inflating: /content/out/mask/585_15.png  \n",
            "  inflating: /content/out/mask/585_16.png  \n",
            "  inflating: /content/out/mask/585_17.png  \n",
            "  inflating: /content/out/mask/585_18.png  \n",
            "  inflating: /content/out/mask/585_19.png  \n",
            "  inflating: /content/out/mask/585_2.png  \n",
            "  inflating: /content/out/mask/585_20.png  \n",
            "  inflating: /content/out/mask/585_21.png  \n",
            "  inflating: /content/out/mask/585_22.png  \n",
            "  inflating: /content/out/mask/585_23.png  \n",
            "  inflating: /content/out/mask/585_24.png  \n",
            "  inflating: /content/out/mask/585_25.png  \n",
            "  inflating: /content/out/mask/585_26.png  \n",
            "  inflating: /content/out/mask/585_3.png  \n",
            "  inflating: /content/out/mask/585_4.png  \n",
            "  inflating: /content/out/mask/585_5.png  \n",
            "  inflating: /content/out/mask/585_6.png  \n",
            "  inflating: /content/out/mask/585_7.png  \n",
            "  inflating: /content/out/mask/585_8.png  \n",
            "  inflating: /content/out/mask/585_9.png  \n",
            "  inflating: /content/out/mask/586_1.png  \n",
            "  inflating: /content/out/mask/586_10.png  \n",
            "  inflating: /content/out/mask/586_11.png  \n",
            "  inflating: /content/out/mask/586_12.png  \n",
            "  inflating: /content/out/mask/586_13.png  \n",
            "  inflating: /content/out/mask/586_14.png  \n",
            "  inflating: /content/out/mask/586_15.png  \n",
            "  inflating: /content/out/mask/586_16.png  \n",
            "  inflating: /content/out/mask/586_17.png  \n",
            "  inflating: /content/out/mask/586_18.png  \n",
            "  inflating: /content/out/mask/586_19.png  \n",
            "  inflating: /content/out/mask/586_2.png  \n",
            "  inflating: /content/out/mask/586_20.png  \n",
            "  inflating: /content/out/mask/586_21.png  \n",
            "  inflating: /content/out/mask/586_22.png  \n",
            "  inflating: /content/out/mask/586_23.png  \n",
            "  inflating: /content/out/mask/586_24.png  \n",
            "  inflating: /content/out/mask/586_25.png  \n",
            "  inflating: /content/out/mask/586_26.png  \n",
            "  inflating: /content/out/mask/586_3.png  \n",
            "  inflating: /content/out/mask/586_4.png  \n",
            "  inflating: /content/out/mask/586_5.png  \n",
            "  inflating: /content/out/mask/586_6.png  \n",
            "  inflating: /content/out/mask/586_7.png  \n",
            "  inflating: /content/out/mask/586_8.png  \n",
            "  inflating: /content/out/mask/586_9.png  \n",
            "  inflating: /content/out/mask/587_1.png  \n",
            "  inflating: /content/out/mask/587_10.png  \n",
            "  inflating: /content/out/mask/587_11.png  \n",
            "  inflating: /content/out/mask/587_12.png  \n",
            "  inflating: /content/out/mask/587_13.png  \n",
            "  inflating: /content/out/mask/587_14.png  \n",
            "  inflating: /content/out/mask/587_15.png  \n",
            "  inflating: /content/out/mask/587_16.png  \n",
            "  inflating: /content/out/mask/587_17.png  \n",
            "  inflating: /content/out/mask/587_18.png  \n",
            "  inflating: /content/out/mask/587_19.png  \n",
            "  inflating: /content/out/mask/587_2.png  \n",
            "  inflating: /content/out/mask/587_20.png  \n",
            "  inflating: /content/out/mask/587_21.png  \n",
            "  inflating: /content/out/mask/587_22.png  \n",
            "  inflating: /content/out/mask/587_23.png  \n",
            "  inflating: /content/out/mask/587_24.png  \n",
            "  inflating: /content/out/mask/587_25.png  \n",
            "  inflating: /content/out/mask/587_26.png  \n",
            "  inflating: /content/out/mask/587_3.png  \n",
            "  inflating: /content/out/mask/587_4.png  \n",
            "  inflating: /content/out/mask/587_5.png  \n",
            "  inflating: /content/out/mask/587_6.png  \n",
            "  inflating: /content/out/mask/587_7.png  \n",
            "  inflating: /content/out/mask/587_8.png  \n",
            "  inflating: /content/out/mask/587_9.png  \n",
            "  inflating: /content/out/mask/588_1.png  \n",
            "  inflating: /content/out/mask/588_10.png  \n",
            "  inflating: /content/out/mask/588_11.png  \n",
            "  inflating: /content/out/mask/588_12.png  \n",
            "  inflating: /content/out/mask/588_13.png  \n",
            "  inflating: /content/out/mask/588_14.png  \n",
            "  inflating: /content/out/mask/588_15.png  \n",
            "  inflating: /content/out/mask/588_16.png  \n",
            "  inflating: /content/out/mask/588_17.png  \n",
            "  inflating: /content/out/mask/588_18.png  \n",
            "  inflating: /content/out/mask/588_19.png  \n",
            "  inflating: /content/out/mask/588_2.png  \n",
            "  inflating: /content/out/mask/588_20.png  \n",
            "  inflating: /content/out/mask/588_21.png  \n",
            "  inflating: /content/out/mask/588_22.png  \n",
            "  inflating: /content/out/mask/588_23.png  \n",
            "  inflating: /content/out/mask/588_24.png  \n",
            "  inflating: /content/out/mask/588_25.png  \n",
            "  inflating: /content/out/mask/588_26.png  \n",
            "  inflating: /content/out/mask/588_3.png  \n",
            "  inflating: /content/out/mask/588_4.png  \n",
            "  inflating: /content/out/mask/588_5.png  \n",
            "  inflating: /content/out/mask/588_6.png  \n",
            "  inflating: /content/out/mask/588_7.png  \n",
            "  inflating: /content/out/mask/588_8.png  \n",
            "  inflating: /content/out/mask/588_9.png  \n",
            "  inflating: /content/out/mask/589_1.png  \n",
            "  inflating: /content/out/mask/589_10.png  \n",
            "  inflating: /content/out/mask/589_11.png  \n",
            "  inflating: /content/out/mask/589_12.png  \n",
            "  inflating: /content/out/mask/589_13.png  \n",
            "  inflating: /content/out/mask/589_14.png  \n",
            "  inflating: /content/out/mask/589_15.png  \n",
            "  inflating: /content/out/mask/589_16.png  \n",
            "  inflating: /content/out/mask/589_17.png  \n",
            "  inflating: /content/out/mask/589_18.png  \n",
            "  inflating: /content/out/mask/589_19.png  \n",
            "  inflating: /content/out/mask/589_2.png  \n",
            "  inflating: /content/out/mask/589_20.png  \n",
            "  inflating: /content/out/mask/589_21.png  \n",
            "  inflating: /content/out/mask/589_22.png  \n",
            "  inflating: /content/out/mask/589_23.png  \n",
            "  inflating: /content/out/mask/589_24.png  \n",
            "  inflating: /content/out/mask/589_25.png  \n",
            "  inflating: /content/out/mask/589_26.png  \n",
            "  inflating: /content/out/mask/589_3.png  \n",
            "  inflating: /content/out/mask/589_4.png  \n",
            "  inflating: /content/out/mask/589_5.png  \n",
            "  inflating: /content/out/mask/589_6.png  \n",
            "  inflating: /content/out/mask/589_7.png  \n",
            "  inflating: /content/out/mask/589_8.png  \n",
            "  inflating: /content/out/mask/589_9.png  \n",
            "  inflating: /content/out/mask/58_1.png  \n",
            "  inflating: /content/out/mask/58_10.png  \n",
            "  inflating: /content/out/mask/58_11.png  \n",
            "  inflating: /content/out/mask/58_12.png  \n",
            "  inflating: /content/out/mask/58_13.png  \n",
            "  inflating: /content/out/mask/58_14.png  \n",
            "  inflating: /content/out/mask/58_15.png  \n",
            "  inflating: /content/out/mask/58_16.png  \n",
            "  inflating: /content/out/mask/58_17.png  \n",
            "  inflating: /content/out/mask/58_18.png  \n",
            "  inflating: /content/out/mask/58_19.png  \n",
            "  inflating: /content/out/mask/58_2.png  \n",
            "  inflating: /content/out/mask/58_20.png  \n",
            "  inflating: /content/out/mask/58_21.png  \n",
            "  inflating: /content/out/mask/58_22.png  \n",
            "  inflating: /content/out/mask/58_23.png  \n",
            "  inflating: /content/out/mask/58_24.png  \n",
            "  inflating: /content/out/mask/58_25.png  \n",
            "  inflating: /content/out/mask/58_26.png  \n",
            "  inflating: /content/out/mask/58_3.png  \n",
            "  inflating: /content/out/mask/58_4.png  \n",
            "  inflating: /content/out/mask/58_5.png  \n",
            "  inflating: /content/out/mask/58_6.png  \n",
            "  inflating: /content/out/mask/58_7.png  \n",
            "  inflating: /content/out/mask/58_8.png  \n",
            "  inflating: /content/out/mask/58_9.png  \n",
            "  inflating: /content/out/mask/590_1.png  \n",
            "  inflating: /content/out/mask/590_10.png  \n",
            "  inflating: /content/out/mask/590_11.png  \n",
            "  inflating: /content/out/mask/590_12.png  \n",
            "  inflating: /content/out/mask/590_13.png  \n",
            "  inflating: /content/out/mask/590_14.png  \n",
            "  inflating: /content/out/mask/590_15.png  \n",
            "  inflating: /content/out/mask/590_16.png  \n",
            "  inflating: /content/out/mask/590_17.png  \n",
            "  inflating: /content/out/mask/590_18.png  \n",
            "  inflating: /content/out/mask/590_19.png  \n",
            "  inflating: /content/out/mask/590_2.png  \n",
            "  inflating: /content/out/mask/590_20.png  \n",
            "  inflating: /content/out/mask/590_21.png  \n",
            "  inflating: /content/out/mask/590_22.png  \n",
            "  inflating: /content/out/mask/590_23.png  \n",
            "  inflating: /content/out/mask/590_24.png  \n",
            "  inflating: /content/out/mask/590_25.png  \n",
            "  inflating: /content/out/mask/590_26.png  \n",
            "  inflating: /content/out/mask/590_3.png  \n",
            "  inflating: /content/out/mask/590_4.png  \n",
            "  inflating: /content/out/mask/590_5.png  \n",
            "  inflating: /content/out/mask/590_6.png  \n",
            "  inflating: /content/out/mask/590_7.png  \n",
            "  inflating: /content/out/mask/590_8.png  \n",
            "  inflating: /content/out/mask/590_9.png  \n",
            "  inflating: /content/out/mask/591_1.png  \n",
            "  inflating: /content/out/mask/591_10.png  \n",
            "  inflating: /content/out/mask/591_11.png  \n",
            "  inflating: /content/out/mask/591_12.png  \n",
            "  inflating: /content/out/mask/591_13.png  \n",
            "  inflating: /content/out/mask/591_14.png  \n",
            "  inflating: /content/out/mask/591_15.png  \n",
            "  inflating: /content/out/mask/591_16.png  \n",
            "  inflating: /content/out/mask/591_17.png  \n",
            "  inflating: /content/out/mask/591_18.png  \n",
            "  inflating: /content/out/mask/591_19.png  \n",
            "  inflating: /content/out/mask/591_2.png  \n",
            "  inflating: /content/out/mask/591_20.png  \n",
            "  inflating: /content/out/mask/591_21.png  \n",
            "  inflating: /content/out/mask/591_22.png  \n",
            "  inflating: /content/out/mask/591_23.png  \n",
            "  inflating: /content/out/mask/591_24.png  \n",
            "  inflating: /content/out/mask/591_25.png  \n",
            "  inflating: /content/out/mask/591_26.png  \n",
            "  inflating: /content/out/mask/591_3.png  \n",
            "  inflating: /content/out/mask/591_4.png  \n",
            "  inflating: /content/out/mask/591_5.png  \n",
            "  inflating: /content/out/mask/591_6.png  \n",
            "  inflating: /content/out/mask/591_7.png  \n",
            "  inflating: /content/out/mask/591_8.png  \n",
            "  inflating: /content/out/mask/591_9.png  \n",
            "  inflating: /content/out/mask/592_1.png  \n",
            "  inflating: /content/out/mask/592_10.png  \n",
            "  inflating: /content/out/mask/592_11.png  \n",
            "  inflating: /content/out/mask/592_12.png  \n",
            "  inflating: /content/out/mask/592_13.png  \n",
            "  inflating: /content/out/mask/592_14.png  \n",
            "  inflating: /content/out/mask/592_15.png  \n",
            "  inflating: /content/out/mask/592_16.png  \n",
            "  inflating: /content/out/mask/592_17.png  \n",
            "  inflating: /content/out/mask/592_18.png  \n",
            "  inflating: /content/out/mask/592_19.png  \n",
            "  inflating: /content/out/mask/592_2.png  \n",
            "  inflating: /content/out/mask/592_20.png  \n",
            "  inflating: /content/out/mask/592_21.png  \n",
            "  inflating: /content/out/mask/592_22.png  \n",
            "  inflating: /content/out/mask/592_23.png  \n",
            "  inflating: /content/out/mask/592_24.png  \n",
            "  inflating: /content/out/mask/592_25.png  \n",
            "  inflating: /content/out/mask/592_26.png  \n",
            "  inflating: /content/out/mask/592_3.png  \n",
            "  inflating: /content/out/mask/592_4.png  \n",
            "  inflating: /content/out/mask/592_5.png  \n",
            "  inflating: /content/out/mask/592_6.png  \n",
            "  inflating: /content/out/mask/592_7.png  \n",
            "  inflating: /content/out/mask/592_8.png  \n",
            "  inflating: /content/out/mask/592_9.png  \n",
            "  inflating: /content/out/mask/593_1.png  \n",
            "  inflating: /content/out/mask/593_10.png  \n",
            "  inflating: /content/out/mask/593_11.png  \n",
            "  inflating: /content/out/mask/593_12.png  \n",
            "  inflating: /content/out/mask/593_13.png  \n",
            "  inflating: /content/out/mask/593_14.png  \n",
            "  inflating: /content/out/mask/593_15.png  \n",
            "  inflating: /content/out/mask/593_16.png  \n",
            "  inflating: /content/out/mask/593_17.png  \n",
            "  inflating: /content/out/mask/593_18.png  \n",
            "  inflating: /content/out/mask/593_19.png  \n",
            "  inflating: /content/out/mask/593_2.png  \n",
            "  inflating: /content/out/mask/593_20.png  \n",
            "  inflating: /content/out/mask/593_21.png  \n",
            "  inflating: /content/out/mask/593_22.png  \n",
            "  inflating: /content/out/mask/593_23.png  \n",
            "  inflating: /content/out/mask/593_24.png  \n",
            "  inflating: /content/out/mask/593_25.png  \n",
            "  inflating: /content/out/mask/593_26.png  \n",
            "  inflating: /content/out/mask/593_3.png  \n",
            "  inflating: /content/out/mask/593_4.png  \n",
            "  inflating: /content/out/mask/593_5.png  \n",
            "  inflating: /content/out/mask/593_6.png  \n",
            "  inflating: /content/out/mask/593_7.png  \n",
            "  inflating: /content/out/mask/593_8.png  \n",
            "  inflating: /content/out/mask/593_9.png  \n",
            "  inflating: /content/out/mask/594_1.png  \n",
            "  inflating: /content/out/mask/594_10.png  \n",
            "  inflating: /content/out/mask/594_11.png  \n",
            "  inflating: /content/out/mask/594_12.png  \n",
            "  inflating: /content/out/mask/594_13.png  \n",
            "  inflating: /content/out/mask/594_14.png  \n",
            "  inflating: /content/out/mask/594_15.png  \n",
            "  inflating: /content/out/mask/594_16.png  \n",
            "  inflating: /content/out/mask/594_17.png  \n",
            "  inflating: /content/out/mask/594_18.png  \n",
            "  inflating: /content/out/mask/594_19.png  \n",
            "  inflating: /content/out/mask/594_2.png  \n",
            "  inflating: /content/out/mask/594_20.png  \n",
            "  inflating: /content/out/mask/594_21.png  \n",
            "  inflating: /content/out/mask/594_22.png  \n",
            "  inflating: /content/out/mask/594_23.png  \n",
            "  inflating: /content/out/mask/594_24.png  \n",
            "  inflating: /content/out/mask/594_25.png  \n",
            "  inflating: /content/out/mask/594_26.png  \n",
            "  inflating: /content/out/mask/594_3.png  \n",
            "  inflating: /content/out/mask/594_4.png  \n",
            "  inflating: /content/out/mask/594_5.png  \n",
            "  inflating: /content/out/mask/594_6.png  \n",
            "  inflating: /content/out/mask/594_7.png  \n",
            "  inflating: /content/out/mask/594_8.png  \n",
            "  inflating: /content/out/mask/594_9.png  \n",
            "  inflating: /content/out/mask/595_1.png  \n",
            "  inflating: /content/out/mask/595_10.png  \n",
            "  inflating: /content/out/mask/595_11.png  \n",
            "  inflating: /content/out/mask/595_12.png  \n",
            "  inflating: /content/out/mask/595_13.png  \n",
            "  inflating: /content/out/mask/595_14.png  \n",
            "  inflating: /content/out/mask/595_15.png  \n",
            "  inflating: /content/out/mask/595_16.png  \n",
            "  inflating: /content/out/mask/595_17.png  \n",
            "  inflating: /content/out/mask/595_18.png  \n",
            "  inflating: /content/out/mask/595_19.png  \n",
            "  inflating: /content/out/mask/595_2.png  \n",
            "  inflating: /content/out/mask/595_20.png  \n",
            "  inflating: /content/out/mask/595_21.png  \n",
            "  inflating: /content/out/mask/595_22.png  \n",
            "  inflating: /content/out/mask/595_23.png  \n",
            "  inflating: /content/out/mask/595_24.png  \n",
            "  inflating: /content/out/mask/595_25.png  \n",
            "  inflating: /content/out/mask/595_26.png  \n",
            "  inflating: /content/out/mask/595_3.png  \n",
            "  inflating: /content/out/mask/595_4.png  \n",
            "  inflating: /content/out/mask/595_5.png  \n",
            "  inflating: /content/out/mask/595_6.png  \n",
            "  inflating: /content/out/mask/595_7.png  \n",
            "  inflating: /content/out/mask/595_8.png  \n",
            "  inflating: /content/out/mask/595_9.png  \n",
            "  inflating: /content/out/mask/596_1.png  \n",
            "  inflating: /content/out/mask/596_10.png  \n",
            "  inflating: /content/out/mask/596_11.png  \n",
            "  inflating: /content/out/mask/596_12.png  \n",
            "  inflating: /content/out/mask/596_13.png  \n",
            "  inflating: /content/out/mask/596_14.png  \n",
            "  inflating: /content/out/mask/596_15.png  \n",
            "  inflating: /content/out/mask/596_16.png  \n",
            "  inflating: /content/out/mask/596_17.png  \n",
            "  inflating: /content/out/mask/596_18.png  \n",
            "  inflating: /content/out/mask/596_19.png  \n",
            "  inflating: /content/out/mask/596_2.png  \n",
            "  inflating: /content/out/mask/596_20.png  \n",
            "  inflating: /content/out/mask/596_21.png  \n",
            "  inflating: /content/out/mask/596_22.png  \n",
            "  inflating: /content/out/mask/596_23.png  \n",
            "  inflating: /content/out/mask/596_24.png  \n",
            "  inflating: /content/out/mask/596_25.png  \n",
            "  inflating: /content/out/mask/596_26.png  \n",
            "  inflating: /content/out/mask/596_3.png  \n",
            "  inflating: /content/out/mask/596_4.png  \n",
            "  inflating: /content/out/mask/596_5.png  \n",
            "  inflating: /content/out/mask/596_6.png  \n",
            "  inflating: /content/out/mask/596_7.png  \n",
            "  inflating: /content/out/mask/596_8.png  \n",
            "  inflating: /content/out/mask/596_9.png  \n",
            "  inflating: /content/out/mask/597_1.png  \n",
            "  inflating: /content/out/mask/597_10.png  \n",
            "  inflating: /content/out/mask/597_11.png  \n",
            "  inflating: /content/out/mask/597_12.png  \n",
            "  inflating: /content/out/mask/597_13.png  \n",
            "  inflating: /content/out/mask/597_14.png  \n",
            "  inflating: /content/out/mask/597_15.png  \n",
            "  inflating: /content/out/mask/597_16.png  \n",
            "  inflating: /content/out/mask/597_17.png  \n",
            "  inflating: /content/out/mask/597_18.png  \n",
            "  inflating: /content/out/mask/597_19.png  \n",
            "  inflating: /content/out/mask/597_2.png  \n",
            "  inflating: /content/out/mask/597_20.png  \n",
            "  inflating: /content/out/mask/597_21.png  \n",
            "  inflating: /content/out/mask/597_22.png  \n",
            "  inflating: /content/out/mask/597_23.png  \n",
            "  inflating: /content/out/mask/597_24.png  \n",
            "  inflating: /content/out/mask/597_25.png  \n",
            "  inflating: /content/out/mask/597_26.png  \n",
            "  inflating: /content/out/mask/597_3.png  \n",
            "  inflating: /content/out/mask/597_4.png  \n",
            "  inflating: /content/out/mask/597_5.png  \n",
            "  inflating: /content/out/mask/597_6.png  \n",
            "  inflating: /content/out/mask/597_7.png  \n",
            "  inflating: /content/out/mask/597_8.png  \n",
            "  inflating: /content/out/mask/597_9.png  \n",
            "  inflating: /content/out/mask/598_1.png  \n",
            "  inflating: /content/out/mask/598_10.png  \n",
            "  inflating: /content/out/mask/598_11.png  \n",
            "  inflating: /content/out/mask/598_12.png  \n",
            "  inflating: /content/out/mask/598_13.png  \n",
            "  inflating: /content/out/mask/598_14.png  \n",
            "  inflating: /content/out/mask/598_15.png  \n",
            "  inflating: /content/out/mask/598_16.png  \n",
            "  inflating: /content/out/mask/598_17.png  \n",
            "  inflating: /content/out/mask/598_18.png  \n",
            "  inflating: /content/out/mask/598_19.png  \n",
            "  inflating: /content/out/mask/598_2.png  \n",
            "  inflating: /content/out/mask/598_20.png  \n",
            "  inflating: /content/out/mask/598_21.png  \n",
            "  inflating: /content/out/mask/598_22.png  \n",
            "  inflating: /content/out/mask/598_23.png  \n",
            "  inflating: /content/out/mask/598_24.png  \n",
            "  inflating: /content/out/mask/598_25.png  \n",
            "  inflating: /content/out/mask/598_26.png  \n",
            "  inflating: /content/out/mask/598_3.png  \n",
            "  inflating: /content/out/mask/598_4.png  \n",
            "  inflating: /content/out/mask/598_5.png  \n",
            "  inflating: /content/out/mask/598_6.png  \n",
            "  inflating: /content/out/mask/598_7.png  \n",
            "  inflating: /content/out/mask/598_8.png  \n",
            "  inflating: /content/out/mask/598_9.png  \n",
            "  inflating: /content/out/mask/599_1.png  \n",
            "  inflating: /content/out/mask/599_10.png  \n",
            "  inflating: /content/out/mask/599_11.png  \n",
            "  inflating: /content/out/mask/599_12.png  \n",
            "  inflating: /content/out/mask/599_13.png  \n",
            "  inflating: /content/out/mask/599_14.png  \n",
            "  inflating: /content/out/mask/599_15.png  \n",
            "  inflating: /content/out/mask/599_16.png  \n",
            "  inflating: /content/out/mask/599_17.png  \n",
            "  inflating: /content/out/mask/599_18.png  \n",
            "  inflating: /content/out/mask/599_19.png  \n",
            "  inflating: /content/out/mask/599_2.png  \n",
            "  inflating: /content/out/mask/599_20.png  \n",
            "  inflating: /content/out/mask/599_21.png  \n",
            "  inflating: /content/out/mask/599_22.png  \n",
            "  inflating: /content/out/mask/599_23.png  \n",
            "  inflating: /content/out/mask/599_24.png  \n",
            "  inflating: /content/out/mask/599_25.png  \n",
            "  inflating: /content/out/mask/599_26.png  \n",
            "  inflating: /content/out/mask/599_3.png  \n",
            "  inflating: /content/out/mask/599_4.png  \n",
            "  inflating: /content/out/mask/599_5.png  \n",
            "  inflating: /content/out/mask/599_6.png  \n",
            "  inflating: /content/out/mask/599_7.png  \n",
            "  inflating: /content/out/mask/599_8.png  \n",
            "  inflating: /content/out/mask/599_9.png  \n",
            "  inflating: /content/out/mask/59_1.png  \n",
            "  inflating: /content/out/mask/59_10.png  \n",
            "  inflating: /content/out/mask/59_11.png  \n",
            "  inflating: /content/out/mask/59_12.png  \n",
            "  inflating: /content/out/mask/59_13.png  \n",
            "  inflating: /content/out/mask/59_14.png  \n",
            "  inflating: /content/out/mask/59_15.png  \n",
            "  inflating: /content/out/mask/59_16.png  \n",
            "  inflating: /content/out/mask/59_17.png  \n",
            "  inflating: /content/out/mask/59_18.png  \n",
            "  inflating: /content/out/mask/59_19.png  \n",
            "  inflating: /content/out/mask/59_2.png  \n",
            "  inflating: /content/out/mask/59_20.png  \n",
            "  inflating: /content/out/mask/59_21.png  \n",
            "  inflating: /content/out/mask/59_22.png  \n",
            "  inflating: /content/out/mask/59_23.png  \n",
            "  inflating: /content/out/mask/59_24.png  \n",
            "  inflating: /content/out/mask/59_25.png  \n",
            "  inflating: /content/out/mask/59_26.png  \n",
            "  inflating: /content/out/mask/59_3.png  \n",
            "  inflating: /content/out/mask/59_4.png  \n",
            "  inflating: /content/out/mask/59_5.png  \n",
            "  inflating: /content/out/mask/59_6.png  \n",
            "  inflating: /content/out/mask/59_7.png  \n",
            "  inflating: /content/out/mask/59_8.png  \n",
            "  inflating: /content/out/mask/59_9.png  \n",
            "  inflating: /content/out/mask/5_1.png  \n",
            "  inflating: /content/out/mask/5_10.png  \n",
            "  inflating: /content/out/mask/5_11.png  \n",
            "  inflating: /content/out/mask/5_12.png  \n",
            "  inflating: /content/out/mask/5_13.png  \n",
            "  inflating: /content/out/mask/5_14.png  \n",
            "  inflating: /content/out/mask/5_15.png  \n",
            "  inflating: /content/out/mask/5_16.png  \n",
            "  inflating: /content/out/mask/5_17.png  \n",
            "  inflating: /content/out/mask/5_18.png  \n",
            "  inflating: /content/out/mask/5_19.png  \n",
            "  inflating: /content/out/mask/5_2.png  \n",
            "  inflating: /content/out/mask/5_20.png  \n",
            "  inflating: /content/out/mask/5_21.png  \n",
            "  inflating: /content/out/mask/5_22.png  \n",
            "  inflating: /content/out/mask/5_23.png  \n",
            "  inflating: /content/out/mask/5_24.png  \n",
            "  inflating: /content/out/mask/5_25.png  \n",
            "  inflating: /content/out/mask/5_26.png  \n",
            "  inflating: /content/out/mask/5_3.png  \n",
            "  inflating: /content/out/mask/5_4.png  \n",
            "  inflating: /content/out/mask/5_5.png  \n",
            "  inflating: /content/out/mask/5_6.png  \n",
            "  inflating: /content/out/mask/5_7.png  \n",
            "  inflating: /content/out/mask/5_8.png  \n",
            "  inflating: /content/out/mask/5_9.png  \n",
            "  inflating: /content/out/mask/600_1.png  \n",
            "  inflating: /content/out/mask/600_10.png  \n",
            "  inflating: /content/out/mask/600_11.png  \n",
            "  inflating: /content/out/mask/600_12.png  \n",
            "  inflating: /content/out/mask/600_13.png  \n",
            "  inflating: /content/out/mask/600_14.png  \n",
            "  inflating: /content/out/mask/600_15.png  \n",
            "  inflating: /content/out/mask/600_16.png  \n",
            "  inflating: /content/out/mask/600_17.png  \n",
            "  inflating: /content/out/mask/600_18.png  \n",
            "  inflating: /content/out/mask/600_19.png  \n",
            "  inflating: /content/out/mask/600_2.png  \n",
            "  inflating: /content/out/mask/600_20.png  \n",
            "  inflating: /content/out/mask/600_21.png  \n",
            "  inflating: /content/out/mask/600_22.png  \n",
            "  inflating: /content/out/mask/600_23.png  \n",
            "  inflating: /content/out/mask/600_24.png  \n",
            "  inflating: /content/out/mask/600_25.png  \n",
            "  inflating: /content/out/mask/600_26.png  \n",
            "  inflating: /content/out/mask/600_3.png  \n",
            "  inflating: /content/out/mask/600_4.png  \n",
            "  inflating: /content/out/mask/600_5.png  \n",
            "  inflating: /content/out/mask/600_6.png  \n",
            "  inflating: /content/out/mask/600_7.png  \n",
            "  inflating: /content/out/mask/600_8.png  \n",
            "  inflating: /content/out/mask/600_9.png  \n",
            "  inflating: /content/out/mask/601_1.png  \n",
            "  inflating: /content/out/mask/601_10.png  \n",
            "  inflating: /content/out/mask/601_11.png  \n",
            "  inflating: /content/out/mask/601_12.png  \n",
            "  inflating: /content/out/mask/601_13.png  \n",
            "  inflating: /content/out/mask/601_14.png  \n",
            "  inflating: /content/out/mask/601_15.png  \n",
            "  inflating: /content/out/mask/601_16.png  \n",
            "  inflating: /content/out/mask/601_17.png  \n",
            "  inflating: /content/out/mask/601_18.png  \n",
            "  inflating: /content/out/mask/601_19.png  \n",
            "  inflating: /content/out/mask/601_2.png  \n",
            "  inflating: /content/out/mask/601_20.png  \n",
            "  inflating: /content/out/mask/601_21.png  \n",
            "  inflating: /content/out/mask/601_22.png  \n",
            "  inflating: /content/out/mask/601_23.png  \n",
            "  inflating: /content/out/mask/601_24.png  \n",
            "  inflating: /content/out/mask/601_25.png  \n",
            "  inflating: /content/out/mask/601_26.png  \n",
            "  inflating: /content/out/mask/601_3.png  \n",
            "  inflating: /content/out/mask/601_4.png  \n",
            "  inflating: /content/out/mask/601_5.png  \n",
            "  inflating: /content/out/mask/601_6.png  \n",
            "  inflating: /content/out/mask/601_7.png  \n",
            "  inflating: /content/out/mask/601_8.png  \n",
            "  inflating: /content/out/mask/601_9.png  \n",
            "  inflating: /content/out/mask/602_1.png  \n",
            "  inflating: /content/out/mask/602_10.png  \n",
            "  inflating: /content/out/mask/602_11.png  \n",
            "  inflating: /content/out/mask/602_12.png  \n",
            "  inflating: /content/out/mask/602_13.png  \n",
            "  inflating: /content/out/mask/602_14.png  \n",
            "  inflating: /content/out/mask/602_15.png  \n",
            "  inflating: /content/out/mask/602_16.png  \n",
            "  inflating: /content/out/mask/602_17.png  \n",
            "  inflating: /content/out/mask/602_18.png  \n",
            "  inflating: /content/out/mask/602_19.png  \n",
            "  inflating: /content/out/mask/602_2.png  \n",
            "  inflating: /content/out/mask/602_20.png  \n",
            "  inflating: /content/out/mask/602_21.png  \n",
            "  inflating: /content/out/mask/602_22.png  \n",
            "  inflating: /content/out/mask/602_23.png  \n",
            "  inflating: /content/out/mask/602_24.png  \n",
            "  inflating: /content/out/mask/602_25.png  \n",
            "  inflating: /content/out/mask/602_26.png  \n",
            "  inflating: /content/out/mask/602_3.png  \n",
            "  inflating: /content/out/mask/602_4.png  \n",
            "  inflating: /content/out/mask/602_5.png  \n",
            "  inflating: /content/out/mask/602_6.png  \n",
            "  inflating: /content/out/mask/602_7.png  \n",
            "  inflating: /content/out/mask/602_8.png  \n",
            "  inflating: /content/out/mask/602_9.png  \n",
            "  inflating: /content/out/mask/603_1.png  \n",
            "  inflating: /content/out/mask/603_10.png  \n",
            "  inflating: /content/out/mask/603_11.png  \n",
            "  inflating: /content/out/mask/603_12.png  \n",
            "  inflating: /content/out/mask/603_13.png  \n",
            "  inflating: /content/out/mask/603_14.png  \n",
            "  inflating: /content/out/mask/603_15.png  \n",
            "  inflating: /content/out/mask/603_16.png  \n",
            "  inflating: /content/out/mask/603_17.png  \n",
            "  inflating: /content/out/mask/603_18.png  \n",
            "  inflating: /content/out/mask/603_19.png  \n",
            "  inflating: /content/out/mask/603_2.png  \n",
            "  inflating: /content/out/mask/603_20.png  \n",
            "  inflating: /content/out/mask/603_21.png  \n",
            "  inflating: /content/out/mask/603_22.png  \n",
            "  inflating: /content/out/mask/603_23.png  \n",
            "  inflating: /content/out/mask/603_24.png  \n",
            "  inflating: /content/out/mask/603_25.png  \n",
            "  inflating: /content/out/mask/603_26.png  \n",
            "  inflating: /content/out/mask/603_3.png  \n",
            "  inflating: /content/out/mask/603_4.png  \n",
            "  inflating: /content/out/mask/603_5.png  \n",
            "  inflating: /content/out/mask/603_6.png  \n",
            "  inflating: /content/out/mask/603_7.png  \n",
            "  inflating: /content/out/mask/603_8.png  \n",
            "  inflating: /content/out/mask/603_9.png  \n",
            "  inflating: /content/out/mask/604_1.png  \n",
            "  inflating: /content/out/mask/604_10.png  \n",
            "  inflating: /content/out/mask/604_11.png  \n",
            "  inflating: /content/out/mask/604_12.png  \n",
            "  inflating: /content/out/mask/604_13.png  \n",
            "  inflating: /content/out/mask/604_14.png  \n",
            "  inflating: /content/out/mask/604_15.png  \n",
            "  inflating: /content/out/mask/604_16.png  \n",
            "  inflating: /content/out/mask/604_17.png  \n",
            "  inflating: /content/out/mask/604_18.png  \n",
            "  inflating: /content/out/mask/604_19.png  \n",
            "  inflating: /content/out/mask/604_2.png  \n",
            "  inflating: /content/out/mask/604_20.png  \n",
            "  inflating: /content/out/mask/604_21.png  \n",
            "  inflating: /content/out/mask/604_22.png  \n",
            "  inflating: /content/out/mask/604_23.png  \n",
            "  inflating: /content/out/mask/604_24.png  \n",
            "  inflating: /content/out/mask/604_25.png  \n",
            "  inflating: /content/out/mask/604_26.png  \n",
            "  inflating: /content/out/mask/604_3.png  \n",
            "  inflating: /content/out/mask/604_4.png  \n",
            "  inflating: /content/out/mask/604_5.png  \n",
            "  inflating: /content/out/mask/604_6.png  \n",
            "  inflating: /content/out/mask/604_7.png  \n",
            "  inflating: /content/out/mask/604_8.png  \n",
            "  inflating: /content/out/mask/604_9.png  \n",
            "  inflating: /content/out/mask/605_1.png  \n",
            "  inflating: /content/out/mask/605_10.png  \n",
            "  inflating: /content/out/mask/605_11.png  \n",
            "  inflating: /content/out/mask/605_12.png  \n",
            "  inflating: /content/out/mask/605_13.png  \n",
            "  inflating: /content/out/mask/605_14.png  \n",
            "  inflating: /content/out/mask/605_15.png  \n",
            "  inflating: /content/out/mask/605_16.png  \n",
            "  inflating: /content/out/mask/605_17.png  \n",
            "  inflating: /content/out/mask/605_18.png  \n",
            "  inflating: /content/out/mask/605_19.png  \n",
            "  inflating: /content/out/mask/605_2.png  \n",
            "  inflating: /content/out/mask/605_20.png  \n",
            "  inflating: /content/out/mask/605_21.png  \n",
            "  inflating: /content/out/mask/605_22.png  \n",
            "  inflating: /content/out/mask/605_23.png  \n",
            "  inflating: /content/out/mask/605_24.png  \n",
            "  inflating: /content/out/mask/605_25.png  \n",
            "  inflating: /content/out/mask/605_26.png  \n",
            "  inflating: /content/out/mask/605_3.png  \n",
            "  inflating: /content/out/mask/605_4.png  \n",
            "  inflating: /content/out/mask/605_5.png  \n",
            "  inflating: /content/out/mask/605_6.png  \n",
            "  inflating: /content/out/mask/605_7.png  \n",
            "  inflating: /content/out/mask/605_8.png  \n",
            "  inflating: /content/out/mask/605_9.png  \n",
            "  inflating: /content/out/mask/606_1.png  \n",
            "  inflating: /content/out/mask/606_10.png  \n",
            "  inflating: /content/out/mask/606_11.png  \n",
            "  inflating: /content/out/mask/606_12.png  \n",
            "  inflating: /content/out/mask/606_13.png  \n",
            "  inflating: /content/out/mask/606_14.png  \n",
            "  inflating: /content/out/mask/606_15.png  \n",
            "  inflating: /content/out/mask/606_16.png  \n",
            "  inflating: /content/out/mask/606_17.png  \n",
            "  inflating: /content/out/mask/606_18.png  \n",
            "  inflating: /content/out/mask/606_19.png  \n",
            "  inflating: /content/out/mask/606_2.png  \n",
            "  inflating: /content/out/mask/606_20.png  \n",
            "  inflating: /content/out/mask/606_21.png  \n",
            "  inflating: /content/out/mask/606_22.png  \n",
            "  inflating: /content/out/mask/606_23.png  \n",
            "  inflating: /content/out/mask/606_24.png  \n",
            "  inflating: /content/out/mask/606_25.png  \n",
            "  inflating: /content/out/mask/606_26.png  \n",
            "  inflating: /content/out/mask/606_3.png  \n",
            "  inflating: /content/out/mask/606_4.png  \n",
            "  inflating: /content/out/mask/606_5.png  \n",
            "  inflating: /content/out/mask/606_6.png  \n",
            "  inflating: /content/out/mask/606_7.png  \n",
            "  inflating: /content/out/mask/606_8.png  \n",
            "  inflating: /content/out/mask/606_9.png  \n",
            "  inflating: /content/out/mask/607_1.png  \n",
            "  inflating: /content/out/mask/607_10.png  \n",
            "  inflating: /content/out/mask/607_11.png  \n",
            "  inflating: /content/out/mask/607_12.png  \n",
            "  inflating: /content/out/mask/607_13.png  \n",
            "  inflating: /content/out/mask/607_14.png  \n",
            "  inflating: /content/out/mask/607_15.png  \n",
            "  inflating: /content/out/mask/607_16.png  \n",
            "  inflating: /content/out/mask/607_17.png  \n",
            "  inflating: /content/out/mask/607_18.png  \n",
            "  inflating: /content/out/mask/607_19.png  \n",
            "  inflating: /content/out/mask/607_2.png  \n",
            "  inflating: /content/out/mask/607_20.png  \n",
            "  inflating: /content/out/mask/607_21.png  \n",
            "  inflating: /content/out/mask/607_22.png  \n",
            "  inflating: /content/out/mask/607_23.png  \n",
            "  inflating: /content/out/mask/607_24.png  \n",
            "  inflating: /content/out/mask/607_25.png  \n",
            "  inflating: /content/out/mask/607_26.png  \n",
            "  inflating: /content/out/mask/607_3.png  \n",
            "  inflating: /content/out/mask/607_4.png  \n",
            "  inflating: /content/out/mask/607_5.png  \n",
            "  inflating: /content/out/mask/607_6.png  \n",
            "  inflating: /content/out/mask/607_7.png  \n",
            "  inflating: /content/out/mask/607_8.png  \n",
            "  inflating: /content/out/mask/607_9.png  \n",
            "  inflating: /content/out/mask/608_1.png  \n",
            "  inflating: /content/out/mask/608_10.png  \n",
            "  inflating: /content/out/mask/608_11.png  \n",
            "  inflating: /content/out/mask/608_12.png  \n",
            "  inflating: /content/out/mask/608_13.png  \n",
            "  inflating: /content/out/mask/608_14.png  \n",
            "  inflating: /content/out/mask/608_15.png  \n",
            "  inflating: /content/out/mask/608_16.png  \n",
            "  inflating: /content/out/mask/608_17.png  \n",
            "  inflating: /content/out/mask/608_18.png  \n",
            "  inflating: /content/out/mask/608_19.png  \n",
            "  inflating: /content/out/mask/608_2.png  \n",
            "  inflating: /content/out/mask/608_20.png  \n",
            "  inflating: /content/out/mask/608_21.png  \n",
            "  inflating: /content/out/mask/608_22.png  \n",
            "  inflating: /content/out/mask/608_23.png  \n",
            "  inflating: /content/out/mask/608_24.png  \n",
            "  inflating: /content/out/mask/608_25.png  \n",
            "  inflating: /content/out/mask/608_26.png  \n",
            "  inflating: /content/out/mask/608_3.png  \n",
            "  inflating: /content/out/mask/608_4.png  \n",
            "  inflating: /content/out/mask/608_5.png  \n",
            "  inflating: /content/out/mask/608_6.png  \n",
            "  inflating: /content/out/mask/608_7.png  \n",
            "  inflating: /content/out/mask/608_8.png  \n",
            "  inflating: /content/out/mask/608_9.png  \n",
            "  inflating: /content/out/mask/609_1.png  \n",
            "  inflating: /content/out/mask/609_10.png  \n",
            "  inflating: /content/out/mask/609_11.png  \n",
            "  inflating: /content/out/mask/609_12.png  \n",
            "  inflating: /content/out/mask/609_13.png  \n",
            "  inflating: /content/out/mask/609_14.png  \n",
            "  inflating: /content/out/mask/609_15.png  \n",
            "  inflating: /content/out/mask/609_16.png  \n",
            "  inflating: /content/out/mask/609_17.png  \n",
            "  inflating: /content/out/mask/609_18.png  \n",
            "  inflating: /content/out/mask/609_19.png  \n",
            "  inflating: /content/out/mask/609_2.png  \n",
            "  inflating: /content/out/mask/609_20.png  \n",
            "  inflating: /content/out/mask/609_21.png  \n",
            "  inflating: /content/out/mask/609_22.png  \n",
            "  inflating: /content/out/mask/609_23.png  \n",
            "  inflating: /content/out/mask/609_24.png  \n",
            "  inflating: /content/out/mask/609_25.png  \n",
            "  inflating: /content/out/mask/609_26.png  \n",
            "  inflating: /content/out/mask/609_3.png  \n",
            "  inflating: /content/out/mask/609_4.png  \n",
            "  inflating: /content/out/mask/609_5.png  \n",
            "  inflating: /content/out/mask/609_6.png  \n",
            "  inflating: /content/out/mask/609_7.png  \n",
            "  inflating: /content/out/mask/609_8.png  \n",
            "  inflating: /content/out/mask/609_9.png  \n",
            "  inflating: /content/out/mask/60_1.png  \n",
            "  inflating: /content/out/mask/60_10.png  \n",
            "  inflating: /content/out/mask/60_11.png  \n",
            "  inflating: /content/out/mask/60_12.png  \n",
            "  inflating: /content/out/mask/60_13.png  \n",
            "  inflating: /content/out/mask/60_14.png  \n",
            "  inflating: /content/out/mask/60_15.png  \n",
            "  inflating: /content/out/mask/60_16.png  \n",
            "  inflating: /content/out/mask/60_17.png  \n",
            "  inflating: /content/out/mask/60_18.png  \n",
            "  inflating: /content/out/mask/60_19.png  \n",
            "  inflating: /content/out/mask/60_2.png  \n",
            "  inflating: /content/out/mask/60_20.png  \n",
            "  inflating: /content/out/mask/60_21.png  \n",
            "  inflating: /content/out/mask/60_22.png  \n",
            "  inflating: /content/out/mask/60_23.png  \n",
            "  inflating: /content/out/mask/60_24.png  \n",
            "  inflating: /content/out/mask/60_25.png  \n",
            "  inflating: /content/out/mask/60_26.png  \n",
            "  inflating: /content/out/mask/60_3.png  \n",
            "  inflating: /content/out/mask/60_4.png  \n",
            "  inflating: /content/out/mask/60_5.png  \n",
            "  inflating: /content/out/mask/60_6.png  \n",
            "  inflating: /content/out/mask/60_7.png  \n",
            "  inflating: /content/out/mask/60_8.png  \n",
            "  inflating: /content/out/mask/60_9.png  \n",
            "  inflating: /content/out/mask/610_1.png  \n",
            "  inflating: /content/out/mask/610_10.png  \n",
            "  inflating: /content/out/mask/610_11.png  \n",
            "  inflating: /content/out/mask/610_12.png  \n",
            "  inflating: /content/out/mask/610_13.png  \n",
            "  inflating: /content/out/mask/610_14.png  \n",
            "  inflating: /content/out/mask/610_15.png  \n",
            "  inflating: /content/out/mask/610_16.png  \n",
            "  inflating: /content/out/mask/610_17.png  \n",
            "  inflating: /content/out/mask/610_18.png  \n",
            "  inflating: /content/out/mask/610_19.png  \n",
            "  inflating: /content/out/mask/610_2.png  \n",
            "  inflating: /content/out/mask/610_20.png  \n",
            "  inflating: /content/out/mask/610_21.png  \n",
            "  inflating: /content/out/mask/610_22.png  \n",
            "  inflating: /content/out/mask/610_23.png  \n",
            "  inflating: /content/out/mask/610_24.png  \n",
            "  inflating: /content/out/mask/610_25.png  \n",
            "  inflating: /content/out/mask/610_26.png  \n",
            "  inflating: /content/out/mask/610_3.png  \n",
            "  inflating: /content/out/mask/610_4.png  \n",
            "  inflating: /content/out/mask/610_5.png  \n",
            "  inflating: /content/out/mask/610_6.png  \n",
            "  inflating: /content/out/mask/610_7.png  \n",
            "  inflating: /content/out/mask/610_8.png  \n",
            "  inflating: /content/out/mask/610_9.png  \n",
            "  inflating: /content/out/mask/611_1.png  \n",
            "  inflating: /content/out/mask/611_10.png  \n",
            "  inflating: /content/out/mask/611_11.png  \n",
            "  inflating: /content/out/mask/611_12.png  \n",
            "  inflating: /content/out/mask/611_13.png  \n",
            "  inflating: /content/out/mask/611_14.png  \n",
            "  inflating: /content/out/mask/611_15.png  \n",
            "  inflating: /content/out/mask/611_16.png  \n",
            "  inflating: /content/out/mask/611_17.png  \n",
            "  inflating: /content/out/mask/611_18.png  \n",
            "  inflating: /content/out/mask/611_19.png  \n",
            "  inflating: /content/out/mask/611_2.png  \n",
            "  inflating: /content/out/mask/611_20.png  \n",
            "  inflating: /content/out/mask/611_21.png  \n",
            "  inflating: /content/out/mask/611_22.png  \n",
            "  inflating: /content/out/mask/611_23.png  \n",
            "  inflating: /content/out/mask/611_24.png  \n",
            "  inflating: /content/out/mask/611_25.png  \n",
            "  inflating: /content/out/mask/611_26.png  \n",
            "  inflating: /content/out/mask/611_3.png  \n",
            "  inflating: /content/out/mask/611_4.png  \n",
            "  inflating: /content/out/mask/611_5.png  \n",
            "  inflating: /content/out/mask/611_6.png  \n",
            "  inflating: /content/out/mask/611_7.png  \n",
            "  inflating: /content/out/mask/611_8.png  \n",
            "  inflating: /content/out/mask/611_9.png  \n",
            "  inflating: /content/out/mask/612_1.png  \n",
            "  inflating: /content/out/mask/612_10.png  \n",
            "  inflating: /content/out/mask/612_11.png  \n",
            "  inflating: /content/out/mask/612_12.png  \n",
            "  inflating: /content/out/mask/612_13.png  \n",
            "  inflating: /content/out/mask/612_14.png  \n",
            "  inflating: /content/out/mask/612_15.png  \n",
            "  inflating: /content/out/mask/612_16.png  \n",
            "  inflating: /content/out/mask/612_17.png  \n",
            "  inflating: /content/out/mask/612_18.png  \n",
            "  inflating: /content/out/mask/612_19.png  \n",
            "  inflating: /content/out/mask/612_2.png  \n",
            "  inflating: /content/out/mask/612_20.png  \n",
            "  inflating: /content/out/mask/612_21.png  \n",
            "  inflating: /content/out/mask/612_22.png  \n",
            "  inflating: /content/out/mask/612_23.png  \n",
            "  inflating: /content/out/mask/612_24.png  \n",
            "  inflating: /content/out/mask/612_25.png  \n",
            "  inflating: /content/out/mask/612_26.png  \n",
            "  inflating: /content/out/mask/612_3.png  \n",
            "  inflating: /content/out/mask/612_4.png  \n",
            "  inflating: /content/out/mask/612_5.png  \n",
            "  inflating: /content/out/mask/612_6.png  \n",
            "  inflating: /content/out/mask/612_7.png  \n",
            "  inflating: /content/out/mask/612_8.png  \n",
            "  inflating: /content/out/mask/612_9.png  \n",
            "  inflating: /content/out/mask/61_1.png  \n",
            "  inflating: /content/out/mask/61_10.png  \n",
            "  inflating: /content/out/mask/61_11.png  \n",
            "  inflating: /content/out/mask/61_12.png  \n",
            "  inflating: /content/out/mask/61_13.png  \n",
            "  inflating: /content/out/mask/61_14.png  \n",
            "  inflating: /content/out/mask/61_15.png  \n",
            "  inflating: /content/out/mask/61_16.png  \n",
            "  inflating: /content/out/mask/61_17.png  \n",
            "  inflating: /content/out/mask/61_18.png  \n",
            "  inflating: /content/out/mask/61_19.png  \n",
            "  inflating: /content/out/mask/61_2.png  \n",
            "  inflating: /content/out/mask/61_20.png  \n",
            "  inflating: /content/out/mask/61_21.png  \n",
            "  inflating: /content/out/mask/61_22.png  \n",
            "  inflating: /content/out/mask/61_23.png  \n",
            "  inflating: /content/out/mask/61_24.png  \n",
            "  inflating: /content/out/mask/61_25.png  \n",
            "  inflating: /content/out/mask/61_26.png  \n",
            "  inflating: /content/out/mask/61_3.png  \n",
            "  inflating: /content/out/mask/61_4.png  \n",
            "  inflating: /content/out/mask/61_5.png  \n",
            "  inflating: /content/out/mask/61_6.png  \n",
            "  inflating: /content/out/mask/61_7.png  \n",
            "  inflating: /content/out/mask/61_8.png  \n",
            "  inflating: /content/out/mask/61_9.png  \n",
            "  inflating: /content/out/mask/62_1.png  \n",
            "  inflating: /content/out/mask/62_10.png  \n",
            "  inflating: /content/out/mask/62_11.png  \n",
            "  inflating: /content/out/mask/62_12.png  \n",
            "  inflating: /content/out/mask/62_13.png  \n",
            "  inflating: /content/out/mask/62_14.png  \n",
            "  inflating: /content/out/mask/62_15.png  \n",
            "  inflating: /content/out/mask/62_16.png  \n",
            "  inflating: /content/out/mask/62_17.png  \n",
            "  inflating: /content/out/mask/62_18.png  \n",
            "  inflating: /content/out/mask/62_19.png  \n",
            "  inflating: /content/out/mask/62_2.png  \n",
            "  inflating: /content/out/mask/62_20.png  \n",
            "  inflating: /content/out/mask/62_21.png  \n",
            "  inflating: /content/out/mask/62_22.png  \n",
            "  inflating: /content/out/mask/62_23.png  \n",
            "  inflating: /content/out/mask/62_24.png  \n",
            "  inflating: /content/out/mask/62_25.png  \n",
            "  inflating: /content/out/mask/62_26.png  \n",
            "  inflating: /content/out/mask/62_3.png  \n",
            "  inflating: /content/out/mask/62_4.png  \n",
            "  inflating: /content/out/mask/62_5.png  \n",
            "  inflating: /content/out/mask/62_6.png  \n",
            "  inflating: /content/out/mask/62_7.png  \n",
            "  inflating: /content/out/mask/62_8.png  \n",
            "  inflating: /content/out/mask/62_9.png  \n",
            "  inflating: /content/out/mask/63_1.png  \n",
            "  inflating: /content/out/mask/63_10.png  \n",
            "  inflating: /content/out/mask/63_11.png  \n",
            "  inflating: /content/out/mask/63_12.png  \n",
            "  inflating: /content/out/mask/63_13.png  \n",
            "  inflating: /content/out/mask/63_14.png  \n",
            "  inflating: /content/out/mask/63_15.png  \n",
            "  inflating: /content/out/mask/63_16.png  \n",
            "  inflating: /content/out/mask/63_17.png  \n",
            "  inflating: /content/out/mask/63_18.png  \n",
            "  inflating: /content/out/mask/63_19.png  \n",
            "  inflating: /content/out/mask/63_2.png  \n",
            "  inflating: /content/out/mask/63_20.png  \n",
            "  inflating: /content/out/mask/63_21.png  \n",
            "  inflating: /content/out/mask/63_22.png  \n",
            "  inflating: /content/out/mask/63_23.png  \n",
            "  inflating: /content/out/mask/63_24.png  \n",
            "  inflating: /content/out/mask/63_25.png  \n",
            "  inflating: /content/out/mask/63_26.png  \n",
            "  inflating: /content/out/mask/63_3.png  \n",
            "  inflating: /content/out/mask/63_4.png  \n",
            "  inflating: /content/out/mask/63_5.png  \n",
            "  inflating: /content/out/mask/63_6.png  \n",
            "  inflating: /content/out/mask/63_7.png  \n",
            "  inflating: /content/out/mask/63_8.png  \n",
            "  inflating: /content/out/mask/63_9.png  \n",
            "  inflating: /content/out/mask/64_1.png  \n",
            "  inflating: /content/out/mask/64_10.png  \n",
            "  inflating: /content/out/mask/64_11.png  \n",
            "  inflating: /content/out/mask/64_12.png  \n",
            "  inflating: /content/out/mask/64_13.png  \n",
            "  inflating: /content/out/mask/64_14.png  \n",
            "  inflating: /content/out/mask/64_15.png  \n",
            "  inflating: /content/out/mask/64_16.png  \n",
            "  inflating: /content/out/mask/64_17.png  \n",
            "  inflating: /content/out/mask/64_18.png  \n",
            "  inflating: /content/out/mask/64_19.png  \n",
            "  inflating: /content/out/mask/64_2.png  \n",
            "  inflating: /content/out/mask/64_20.png  \n",
            "  inflating: /content/out/mask/64_21.png  \n",
            "  inflating: /content/out/mask/64_22.png  \n",
            "  inflating: /content/out/mask/64_23.png  \n",
            "  inflating: /content/out/mask/64_24.png  \n",
            "  inflating: /content/out/mask/64_25.png  \n",
            "  inflating: /content/out/mask/64_26.png  \n",
            "  inflating: /content/out/mask/64_3.png  \n",
            "  inflating: /content/out/mask/64_4.png  \n",
            "  inflating: /content/out/mask/64_5.png  \n",
            "  inflating: /content/out/mask/64_6.png  \n",
            "  inflating: /content/out/mask/64_7.png  \n",
            "  inflating: /content/out/mask/64_8.png  \n",
            "  inflating: /content/out/mask/64_9.png  \n",
            "  inflating: /content/out/mask/65_1.png  \n",
            "  inflating: /content/out/mask/65_10.png  \n",
            "  inflating: /content/out/mask/65_11.png  \n",
            "  inflating: /content/out/mask/65_12.png  \n",
            "  inflating: /content/out/mask/65_13.png  \n",
            "  inflating: /content/out/mask/65_14.png  \n",
            "  inflating: /content/out/mask/65_15.png  \n",
            "  inflating: /content/out/mask/65_16.png  \n",
            "  inflating: /content/out/mask/65_17.png  \n",
            "  inflating: /content/out/mask/65_18.png  \n",
            "  inflating: /content/out/mask/65_19.png  \n",
            "  inflating: /content/out/mask/65_2.png  \n",
            "  inflating: /content/out/mask/65_20.png  \n",
            "  inflating: /content/out/mask/65_21.png  \n",
            "  inflating: /content/out/mask/65_22.png  \n",
            "  inflating: /content/out/mask/65_23.png  \n",
            "  inflating: /content/out/mask/65_24.png  \n",
            "  inflating: /content/out/mask/65_25.png  \n",
            "  inflating: /content/out/mask/65_26.png  \n",
            "  inflating: /content/out/mask/65_3.png  \n",
            "  inflating: /content/out/mask/65_4.png  \n",
            "  inflating: /content/out/mask/65_5.png  \n",
            "  inflating: /content/out/mask/65_6.png  \n",
            "  inflating: /content/out/mask/65_7.png  \n",
            "  inflating: /content/out/mask/65_8.png  \n",
            "  inflating: /content/out/mask/65_9.png  \n",
            "  inflating: /content/out/mask/66_1.png  \n",
            "  inflating: /content/out/mask/66_10.png  \n",
            "  inflating: /content/out/mask/66_11.png  \n",
            "  inflating: /content/out/mask/66_12.png  \n",
            "  inflating: /content/out/mask/66_13.png  \n",
            "  inflating: /content/out/mask/66_14.png  \n",
            "  inflating: /content/out/mask/66_15.png  \n",
            "  inflating: /content/out/mask/66_16.png  \n",
            "  inflating: /content/out/mask/66_17.png  \n",
            "  inflating: /content/out/mask/66_18.png  \n",
            "  inflating: /content/out/mask/66_19.png  \n",
            "  inflating: /content/out/mask/66_2.png  \n",
            "  inflating: /content/out/mask/66_20.png  \n",
            "  inflating: /content/out/mask/66_21.png  \n",
            "  inflating: /content/out/mask/66_22.png  \n",
            "  inflating: /content/out/mask/66_23.png  \n",
            "  inflating: /content/out/mask/66_24.png  \n",
            "  inflating: /content/out/mask/66_25.png  \n",
            "  inflating: /content/out/mask/66_26.png  \n",
            "  inflating: /content/out/mask/66_3.png  \n",
            "  inflating: /content/out/mask/66_4.png  \n",
            "  inflating: /content/out/mask/66_5.png  \n",
            "  inflating: /content/out/mask/66_6.png  \n",
            "  inflating: /content/out/mask/66_7.png  \n",
            "  inflating: /content/out/mask/66_8.png  \n",
            "  inflating: /content/out/mask/66_9.png  \n",
            "  inflating: /content/out/mask/67_1.png  \n",
            "  inflating: /content/out/mask/67_10.png  \n",
            "  inflating: /content/out/mask/67_11.png  \n",
            "  inflating: /content/out/mask/67_12.png  \n",
            "  inflating: /content/out/mask/67_13.png  \n",
            "  inflating: /content/out/mask/67_14.png  \n",
            "  inflating: /content/out/mask/67_15.png  \n",
            "  inflating: /content/out/mask/67_16.png  \n",
            "  inflating: /content/out/mask/67_17.png  \n",
            "  inflating: /content/out/mask/67_18.png  \n",
            "  inflating: /content/out/mask/67_19.png  \n",
            "  inflating: /content/out/mask/67_2.png  \n",
            "  inflating: /content/out/mask/67_20.png  \n",
            "  inflating: /content/out/mask/67_21.png  \n",
            "  inflating: /content/out/mask/67_22.png  \n",
            "  inflating: /content/out/mask/67_23.png  \n",
            "  inflating: /content/out/mask/67_24.png  \n",
            "  inflating: /content/out/mask/67_25.png  \n",
            "  inflating: /content/out/mask/67_26.png  \n",
            "  inflating: /content/out/mask/67_3.png  \n",
            "  inflating: /content/out/mask/67_4.png  \n",
            "  inflating: /content/out/mask/67_5.png  \n",
            "  inflating: /content/out/mask/67_6.png  \n",
            "  inflating: /content/out/mask/67_7.png  \n",
            "  inflating: /content/out/mask/67_8.png  \n",
            "  inflating: /content/out/mask/67_9.png  \n",
            "  inflating: /content/out/mask/68_1.png  \n",
            "  inflating: /content/out/mask/68_10.png  \n",
            "  inflating: /content/out/mask/68_11.png  \n",
            "  inflating: /content/out/mask/68_12.png  \n",
            "  inflating: /content/out/mask/68_13.png  \n",
            "  inflating: /content/out/mask/68_14.png  \n",
            "  inflating: /content/out/mask/68_15.png  \n",
            "  inflating: /content/out/mask/68_16.png  \n",
            "  inflating: /content/out/mask/68_17.png  \n",
            "  inflating: /content/out/mask/68_18.png  \n",
            "  inflating: /content/out/mask/68_19.png  \n",
            "  inflating: /content/out/mask/68_2.png  \n",
            "  inflating: /content/out/mask/68_20.png  \n",
            "  inflating: /content/out/mask/68_21.png  \n",
            "  inflating: /content/out/mask/68_22.png  \n",
            "  inflating: /content/out/mask/68_23.png  \n",
            "  inflating: /content/out/mask/68_24.png  \n",
            "  inflating: /content/out/mask/68_25.png  \n",
            "  inflating: /content/out/mask/68_26.png  \n",
            "  inflating: /content/out/mask/68_3.png  \n",
            "  inflating: /content/out/mask/68_4.png  \n",
            "  inflating: /content/out/mask/68_5.png  \n",
            "  inflating: /content/out/mask/68_6.png  \n",
            "  inflating: /content/out/mask/68_7.png  \n",
            "  inflating: /content/out/mask/68_8.png  \n",
            "  inflating: /content/out/mask/68_9.png  \n",
            "  inflating: /content/out/mask/69_1.png  \n",
            "  inflating: /content/out/mask/69_10.png  \n",
            "  inflating: /content/out/mask/69_11.png  \n",
            "  inflating: /content/out/mask/69_12.png  \n",
            "  inflating: /content/out/mask/69_13.png  \n",
            "  inflating: /content/out/mask/69_14.png  \n",
            "  inflating: /content/out/mask/69_15.png  \n",
            "  inflating: /content/out/mask/69_16.png  \n",
            "  inflating: /content/out/mask/69_17.png  \n",
            "  inflating: /content/out/mask/69_18.png  \n",
            "  inflating: /content/out/mask/69_19.png  \n",
            "  inflating: /content/out/mask/69_2.png  \n",
            "  inflating: /content/out/mask/69_20.png  \n",
            "  inflating: /content/out/mask/69_21.png  \n",
            "  inflating: /content/out/mask/69_22.png  \n",
            "  inflating: /content/out/mask/69_23.png  \n",
            "  inflating: /content/out/mask/69_24.png  \n",
            "  inflating: /content/out/mask/69_25.png  \n",
            "  inflating: /content/out/mask/69_26.png  \n",
            "  inflating: /content/out/mask/69_3.png  \n",
            "  inflating: /content/out/mask/69_4.png  \n",
            "  inflating: /content/out/mask/69_5.png  \n",
            "  inflating: /content/out/mask/69_6.png  \n",
            "  inflating: /content/out/mask/69_7.png  \n",
            "  inflating: /content/out/mask/69_8.png  \n",
            "  inflating: /content/out/mask/69_9.png  \n",
            "  inflating: /content/out/mask/6_1.png  \n",
            "  inflating: /content/out/mask/6_10.png  \n",
            "  inflating: /content/out/mask/6_11.png  \n",
            "  inflating: /content/out/mask/6_12.png  \n",
            "  inflating: /content/out/mask/6_13.png  \n",
            "  inflating: /content/out/mask/6_14.png  \n",
            "  inflating: /content/out/mask/6_15.png  \n",
            "  inflating: /content/out/mask/6_16.png  \n",
            "  inflating: /content/out/mask/6_17.png  \n",
            "  inflating: /content/out/mask/6_18.png  \n",
            "  inflating: /content/out/mask/6_19.png  \n",
            "  inflating: /content/out/mask/6_2.png  \n",
            "  inflating: /content/out/mask/6_20.png  \n",
            "  inflating: /content/out/mask/6_21.png  \n",
            "  inflating: /content/out/mask/6_22.png  \n",
            "  inflating: /content/out/mask/6_23.png  \n",
            "  inflating: /content/out/mask/6_24.png  \n",
            "  inflating: /content/out/mask/6_25.png  \n",
            "  inflating: /content/out/mask/6_26.png  \n",
            "  inflating: /content/out/mask/6_3.png  \n",
            "  inflating: /content/out/mask/6_4.png  \n",
            "  inflating: /content/out/mask/6_5.png  \n",
            "  inflating: /content/out/mask/6_6.png  \n",
            "  inflating: /content/out/mask/6_7.png  \n",
            "  inflating: /content/out/mask/6_8.png  \n",
            "  inflating: /content/out/mask/6_9.png  \n",
            "  inflating: /content/out/mask/70_1.png  \n",
            "  inflating: /content/out/mask/70_10.png  \n",
            "  inflating: /content/out/mask/70_11.png  \n",
            "  inflating: /content/out/mask/70_12.png  \n",
            "  inflating: /content/out/mask/70_13.png  \n",
            "  inflating: /content/out/mask/70_14.png  \n",
            "  inflating: /content/out/mask/70_15.png  \n",
            "  inflating: /content/out/mask/70_16.png  \n",
            "  inflating: /content/out/mask/70_17.png  \n",
            "  inflating: /content/out/mask/70_18.png  \n",
            "  inflating: /content/out/mask/70_19.png  \n",
            "  inflating: /content/out/mask/70_2.png  \n",
            "  inflating: /content/out/mask/70_20.png  \n",
            "  inflating: /content/out/mask/70_21.png  \n",
            "  inflating: /content/out/mask/70_22.png  \n",
            "  inflating: /content/out/mask/70_23.png  \n",
            "  inflating: /content/out/mask/70_24.png  \n",
            "  inflating: /content/out/mask/70_25.png  \n",
            "  inflating: /content/out/mask/70_26.png  \n",
            "  inflating: /content/out/mask/70_3.png  \n",
            "  inflating: /content/out/mask/70_4.png  \n",
            "  inflating: /content/out/mask/70_5.png  \n",
            "  inflating: /content/out/mask/70_6.png  \n",
            "  inflating: /content/out/mask/70_7.png  \n",
            "  inflating: /content/out/mask/70_8.png  \n",
            "  inflating: /content/out/mask/70_9.png  \n",
            "  inflating: /content/out/mask/71_1.png  \n",
            "  inflating: /content/out/mask/71_10.png  \n",
            "  inflating: /content/out/mask/71_11.png  \n",
            "  inflating: /content/out/mask/71_12.png  \n",
            "  inflating: /content/out/mask/71_13.png  \n",
            "  inflating: /content/out/mask/71_14.png  \n",
            "  inflating: /content/out/mask/71_15.png  \n",
            "  inflating: /content/out/mask/71_16.png  \n",
            "  inflating: /content/out/mask/71_17.png  \n",
            "  inflating: /content/out/mask/71_18.png  \n",
            "  inflating: /content/out/mask/71_19.png  \n",
            "  inflating: /content/out/mask/71_2.png  \n",
            "  inflating: /content/out/mask/71_20.png  \n",
            "  inflating: /content/out/mask/71_21.png  \n",
            "  inflating: /content/out/mask/71_22.png  \n",
            "  inflating: /content/out/mask/71_23.png  \n",
            "  inflating: /content/out/mask/71_24.png  \n",
            "  inflating: /content/out/mask/71_25.png  \n",
            "  inflating: /content/out/mask/71_26.png  \n",
            "  inflating: /content/out/mask/71_3.png  \n",
            "  inflating: /content/out/mask/71_4.png  \n",
            "  inflating: /content/out/mask/71_5.png  \n",
            "  inflating: /content/out/mask/71_6.png  \n",
            "  inflating: /content/out/mask/71_7.png  \n",
            "  inflating: /content/out/mask/71_8.png  \n",
            "  inflating: /content/out/mask/71_9.png  \n",
            "  inflating: /content/out/mask/72_1.png  \n",
            "  inflating: /content/out/mask/72_10.png  \n",
            "  inflating: /content/out/mask/72_11.png  \n",
            "  inflating: /content/out/mask/72_12.png  \n",
            "  inflating: /content/out/mask/72_13.png  \n",
            "  inflating: /content/out/mask/72_14.png  \n",
            "  inflating: /content/out/mask/72_15.png  \n",
            "  inflating: /content/out/mask/72_16.png  \n",
            "  inflating: /content/out/mask/72_17.png  \n",
            "  inflating: /content/out/mask/72_18.png  \n",
            "  inflating: /content/out/mask/72_19.png  \n",
            "  inflating: /content/out/mask/72_2.png  \n",
            "  inflating: /content/out/mask/72_20.png  \n",
            "  inflating: /content/out/mask/72_21.png  \n",
            "  inflating: /content/out/mask/72_22.png  \n",
            "  inflating: /content/out/mask/72_23.png  \n",
            "  inflating: /content/out/mask/72_24.png  \n",
            "  inflating: /content/out/mask/72_25.png  \n",
            "  inflating: /content/out/mask/72_26.png  \n",
            "  inflating: /content/out/mask/72_3.png  \n",
            "  inflating: /content/out/mask/72_4.png  \n",
            "  inflating: /content/out/mask/72_5.png  \n",
            "  inflating: /content/out/mask/72_6.png  \n",
            "  inflating: /content/out/mask/72_7.png  \n",
            "  inflating: /content/out/mask/72_8.png  \n",
            "  inflating: /content/out/mask/72_9.png  \n",
            "  inflating: /content/out/mask/73_1.png  \n",
            "  inflating: /content/out/mask/73_10.png  \n",
            "  inflating: /content/out/mask/73_11.png  \n",
            "  inflating: /content/out/mask/73_12.png  \n",
            "  inflating: /content/out/mask/73_13.png  \n",
            "  inflating: /content/out/mask/73_14.png  \n",
            "  inflating: /content/out/mask/73_15.png  \n",
            "  inflating: /content/out/mask/73_16.png  \n",
            "  inflating: /content/out/mask/73_17.png  \n",
            "  inflating: /content/out/mask/73_18.png  \n",
            "  inflating: /content/out/mask/73_19.png  \n",
            "  inflating: /content/out/mask/73_2.png  \n",
            "  inflating: /content/out/mask/73_20.png  \n",
            "  inflating: /content/out/mask/73_21.png  \n",
            "  inflating: /content/out/mask/73_22.png  \n",
            "  inflating: /content/out/mask/73_23.png  \n",
            "  inflating: /content/out/mask/73_24.png  \n",
            "  inflating: /content/out/mask/73_25.png  \n",
            "  inflating: /content/out/mask/73_26.png  \n",
            "  inflating: /content/out/mask/73_3.png  \n",
            "  inflating: /content/out/mask/73_4.png  \n",
            "  inflating: /content/out/mask/73_5.png  \n",
            "  inflating: /content/out/mask/73_6.png  \n",
            "  inflating: /content/out/mask/73_7.png  \n",
            "  inflating: /content/out/mask/73_8.png  \n",
            "  inflating: /content/out/mask/73_9.png  \n",
            "  inflating: /content/out/mask/74_1.png  \n",
            "  inflating: /content/out/mask/74_10.png  \n",
            "  inflating: /content/out/mask/74_11.png  \n",
            "  inflating: /content/out/mask/74_12.png  \n",
            "  inflating: /content/out/mask/74_13.png  \n",
            "  inflating: /content/out/mask/74_14.png  \n",
            "  inflating: /content/out/mask/74_15.png  \n",
            "  inflating: /content/out/mask/74_16.png  \n",
            "  inflating: /content/out/mask/74_17.png  \n",
            "  inflating: /content/out/mask/74_18.png  \n",
            "  inflating: /content/out/mask/74_19.png  \n",
            "  inflating: /content/out/mask/74_2.png  \n",
            "  inflating: /content/out/mask/74_20.png  \n",
            "  inflating: /content/out/mask/74_21.png  \n",
            "  inflating: /content/out/mask/74_22.png  \n",
            "  inflating: /content/out/mask/74_23.png  \n",
            "  inflating: /content/out/mask/74_24.png  \n",
            "  inflating: /content/out/mask/74_25.png  \n",
            "  inflating: /content/out/mask/74_26.png  \n",
            "  inflating: /content/out/mask/74_3.png  \n",
            "  inflating: /content/out/mask/74_4.png  \n",
            "  inflating: /content/out/mask/74_5.png  \n",
            "  inflating: /content/out/mask/74_6.png  \n",
            "  inflating: /content/out/mask/74_7.png  \n",
            "  inflating: /content/out/mask/74_8.png  \n",
            "  inflating: /content/out/mask/74_9.png  \n",
            "  inflating: /content/out/mask/75_1.png  \n",
            "  inflating: /content/out/mask/75_10.png  \n",
            "  inflating: /content/out/mask/75_11.png  \n",
            "  inflating: /content/out/mask/75_12.png  \n",
            "  inflating: /content/out/mask/75_13.png  \n",
            "  inflating: /content/out/mask/75_14.png  \n",
            "  inflating: /content/out/mask/75_15.png  \n",
            "  inflating: /content/out/mask/75_16.png  \n",
            "  inflating: /content/out/mask/75_17.png  \n",
            "  inflating: /content/out/mask/75_18.png  \n",
            "  inflating: /content/out/mask/75_19.png  \n",
            "  inflating: /content/out/mask/75_2.png  \n",
            "  inflating: /content/out/mask/75_20.png  \n",
            "  inflating: /content/out/mask/75_21.png  \n",
            "  inflating: /content/out/mask/75_22.png  \n",
            "  inflating: /content/out/mask/75_23.png  \n",
            "  inflating: /content/out/mask/75_24.png  \n",
            "  inflating: /content/out/mask/75_25.png  \n",
            "  inflating: /content/out/mask/75_26.png  \n",
            "  inflating: /content/out/mask/75_3.png  \n",
            "  inflating: /content/out/mask/75_4.png  \n",
            "  inflating: /content/out/mask/75_5.png  \n",
            "  inflating: /content/out/mask/75_6.png  \n",
            "  inflating: /content/out/mask/75_7.png  \n",
            "  inflating: /content/out/mask/75_8.png  \n",
            "  inflating: /content/out/mask/75_9.png  \n",
            "  inflating: /content/out/mask/76_1.png  \n",
            "  inflating: /content/out/mask/76_10.png  \n",
            "  inflating: /content/out/mask/76_11.png  \n",
            "  inflating: /content/out/mask/76_12.png  \n",
            "  inflating: /content/out/mask/76_13.png  \n",
            "  inflating: /content/out/mask/76_14.png  \n",
            "  inflating: /content/out/mask/76_15.png  \n",
            "  inflating: /content/out/mask/76_16.png  \n",
            "  inflating: /content/out/mask/76_17.png  \n",
            "  inflating: /content/out/mask/76_18.png  \n",
            "  inflating: /content/out/mask/76_19.png  \n",
            "  inflating: /content/out/mask/76_2.png  \n",
            "  inflating: /content/out/mask/76_20.png  \n",
            "  inflating: /content/out/mask/76_21.png  \n",
            "  inflating: /content/out/mask/76_22.png  \n",
            "  inflating: /content/out/mask/76_23.png  \n",
            "  inflating: /content/out/mask/76_24.png  \n",
            "  inflating: /content/out/mask/76_25.png  \n",
            "  inflating: /content/out/mask/76_26.png  \n",
            "  inflating: /content/out/mask/76_3.png  \n",
            "  inflating: /content/out/mask/76_4.png  \n",
            "  inflating: /content/out/mask/76_5.png  \n",
            "  inflating: /content/out/mask/76_6.png  \n",
            "  inflating: /content/out/mask/76_7.png  \n",
            "  inflating: /content/out/mask/76_8.png  \n",
            "  inflating: /content/out/mask/76_9.png  \n",
            "  inflating: /content/out/mask/77_1.png  \n",
            "  inflating: /content/out/mask/77_10.png  \n",
            "  inflating: /content/out/mask/77_11.png  \n",
            "  inflating: /content/out/mask/77_12.png  \n",
            "  inflating: /content/out/mask/77_13.png  \n",
            "  inflating: /content/out/mask/77_14.png  \n",
            "  inflating: /content/out/mask/77_15.png  \n",
            "  inflating: /content/out/mask/77_16.png  \n",
            "  inflating: /content/out/mask/77_17.png  \n",
            "  inflating: /content/out/mask/77_18.png  \n",
            "  inflating: /content/out/mask/77_19.png  \n",
            "  inflating: /content/out/mask/77_2.png  \n",
            "  inflating: /content/out/mask/77_20.png  \n",
            "  inflating: /content/out/mask/77_21.png  \n",
            "  inflating: /content/out/mask/77_22.png  \n",
            "  inflating: /content/out/mask/77_23.png  \n",
            "  inflating: /content/out/mask/77_24.png  \n",
            "  inflating: /content/out/mask/77_25.png  \n",
            "  inflating: /content/out/mask/77_26.png  \n",
            "  inflating: /content/out/mask/77_3.png  \n",
            "  inflating: /content/out/mask/77_4.png  \n",
            "  inflating: /content/out/mask/77_5.png  \n",
            "  inflating: /content/out/mask/77_6.png  \n",
            "  inflating: /content/out/mask/77_7.png  \n",
            "  inflating: /content/out/mask/77_8.png  \n",
            "  inflating: /content/out/mask/77_9.png  \n",
            "  inflating: /content/out/mask/78_1.png  \n",
            "  inflating: /content/out/mask/78_10.png  \n",
            "  inflating: /content/out/mask/78_11.png  \n",
            "  inflating: /content/out/mask/78_12.png  \n",
            "  inflating: /content/out/mask/78_13.png  \n",
            "  inflating: /content/out/mask/78_14.png  \n",
            "  inflating: /content/out/mask/78_15.png  \n",
            "  inflating: /content/out/mask/78_16.png  \n",
            "  inflating: /content/out/mask/78_17.png  \n",
            "  inflating: /content/out/mask/78_18.png  \n",
            "  inflating: /content/out/mask/78_19.png  \n",
            "  inflating: /content/out/mask/78_2.png  \n",
            "  inflating: /content/out/mask/78_20.png  \n",
            "  inflating: /content/out/mask/78_21.png  \n",
            "  inflating: /content/out/mask/78_22.png  \n",
            "  inflating: /content/out/mask/78_23.png  \n",
            "  inflating: /content/out/mask/78_24.png  \n",
            "  inflating: /content/out/mask/78_25.png  \n",
            "  inflating: /content/out/mask/78_26.png  \n",
            "  inflating: /content/out/mask/78_3.png  \n",
            "  inflating: /content/out/mask/78_4.png  \n",
            "  inflating: /content/out/mask/78_5.png  \n",
            "  inflating: /content/out/mask/78_6.png  \n",
            "  inflating: /content/out/mask/78_7.png  \n",
            "  inflating: /content/out/mask/78_8.png  \n",
            "  inflating: /content/out/mask/78_9.png  \n",
            "  inflating: /content/out/mask/79_1.png  \n",
            "  inflating: /content/out/mask/79_10.png  \n",
            "  inflating: /content/out/mask/79_11.png  \n",
            "  inflating: /content/out/mask/79_12.png  \n",
            "  inflating: /content/out/mask/79_13.png  \n",
            "  inflating: /content/out/mask/79_14.png  \n",
            "  inflating: /content/out/mask/79_15.png  \n",
            "  inflating: /content/out/mask/79_16.png  \n",
            "  inflating: /content/out/mask/79_17.png  \n",
            "  inflating: /content/out/mask/79_18.png  \n",
            "  inflating: /content/out/mask/79_19.png  \n",
            "  inflating: /content/out/mask/79_2.png  \n",
            "  inflating: /content/out/mask/79_20.png  \n",
            "  inflating: /content/out/mask/79_21.png  \n",
            "  inflating: /content/out/mask/79_22.png  \n",
            "  inflating: /content/out/mask/79_23.png  \n",
            "  inflating: /content/out/mask/79_24.png  \n",
            "  inflating: /content/out/mask/79_25.png  \n",
            "  inflating: /content/out/mask/79_26.png  \n",
            "  inflating: /content/out/mask/79_3.png  \n",
            "  inflating: /content/out/mask/79_4.png  \n",
            "  inflating: /content/out/mask/79_5.png  \n",
            "  inflating: /content/out/mask/79_6.png  \n",
            "  inflating: /content/out/mask/79_7.png  \n",
            "  inflating: /content/out/mask/79_8.png  \n",
            "  inflating: /content/out/mask/79_9.png  \n",
            "  inflating: /content/out/mask/7_1.png  \n",
            "  inflating: /content/out/mask/7_10.png  \n",
            "  inflating: /content/out/mask/7_11.png  \n",
            "  inflating: /content/out/mask/7_12.png  \n",
            "  inflating: /content/out/mask/7_13.png  \n",
            "  inflating: /content/out/mask/7_14.png  \n",
            "  inflating: /content/out/mask/7_15.png  \n",
            "  inflating: /content/out/mask/7_16.png  \n",
            "  inflating: /content/out/mask/7_17.png  \n",
            "  inflating: /content/out/mask/7_18.png  \n",
            "  inflating: /content/out/mask/7_19.png  \n",
            "  inflating: /content/out/mask/7_2.png  \n",
            "  inflating: /content/out/mask/7_20.png  \n",
            "  inflating: /content/out/mask/7_21.png  \n",
            "  inflating: /content/out/mask/7_22.png  \n",
            "  inflating: /content/out/mask/7_23.png  \n",
            "  inflating: /content/out/mask/7_24.png  \n",
            "  inflating: /content/out/mask/7_25.png  \n",
            "  inflating: /content/out/mask/7_26.png  \n",
            "  inflating: /content/out/mask/7_3.png  \n",
            "  inflating: /content/out/mask/7_4.png  \n",
            "  inflating: /content/out/mask/7_5.png  \n",
            "  inflating: /content/out/mask/7_6.png  \n",
            "  inflating: /content/out/mask/7_7.png  \n",
            "  inflating: /content/out/mask/7_8.png  \n",
            "  inflating: /content/out/mask/7_9.png  \n",
            "  inflating: /content/out/mask/80_1.png  \n",
            "  inflating: /content/out/mask/80_10.png  \n",
            "  inflating: /content/out/mask/80_11.png  \n",
            "  inflating: /content/out/mask/80_12.png  \n",
            "  inflating: /content/out/mask/80_13.png  \n",
            "  inflating: /content/out/mask/80_14.png  \n",
            "  inflating: /content/out/mask/80_15.png  \n",
            "  inflating: /content/out/mask/80_16.png  \n",
            "  inflating: /content/out/mask/80_17.png  \n",
            "  inflating: /content/out/mask/80_18.png  \n",
            "  inflating: /content/out/mask/80_19.png  \n",
            "  inflating: /content/out/mask/80_2.png  \n",
            "  inflating: /content/out/mask/80_20.png  \n",
            "  inflating: /content/out/mask/80_21.png  \n",
            "  inflating: /content/out/mask/80_22.png  \n",
            "  inflating: /content/out/mask/80_23.png  \n",
            "  inflating: /content/out/mask/80_24.png  \n",
            "  inflating: /content/out/mask/80_25.png  \n",
            "  inflating: /content/out/mask/80_26.png  \n",
            "  inflating: /content/out/mask/80_3.png  \n",
            "  inflating: /content/out/mask/80_4.png  \n",
            "  inflating: /content/out/mask/80_5.png  \n",
            "  inflating: /content/out/mask/80_6.png  \n",
            "  inflating: /content/out/mask/80_7.png  \n",
            "  inflating: /content/out/mask/80_8.png  \n",
            "  inflating: /content/out/mask/80_9.png  \n",
            "  inflating: /content/out/mask/81_1.png  \n",
            "  inflating: /content/out/mask/81_10.png  \n",
            "  inflating: /content/out/mask/81_11.png  \n",
            "  inflating: /content/out/mask/81_12.png  \n",
            "  inflating: /content/out/mask/81_13.png  \n",
            "  inflating: /content/out/mask/81_14.png  \n",
            "  inflating: /content/out/mask/81_15.png  \n",
            "  inflating: /content/out/mask/81_16.png  \n",
            "  inflating: /content/out/mask/81_17.png  \n",
            "  inflating: /content/out/mask/81_18.png  \n",
            "  inflating: /content/out/mask/81_19.png  \n",
            "  inflating: /content/out/mask/81_2.png  \n",
            "  inflating: /content/out/mask/81_20.png  \n",
            "  inflating: /content/out/mask/81_21.png  \n",
            "  inflating: /content/out/mask/81_22.png  \n",
            "  inflating: /content/out/mask/81_23.png  \n",
            "  inflating: /content/out/mask/81_24.png  \n",
            "  inflating: /content/out/mask/81_25.png  \n",
            "  inflating: /content/out/mask/81_26.png  \n",
            "  inflating: /content/out/mask/81_3.png  \n",
            "  inflating: /content/out/mask/81_4.png  \n",
            "  inflating: /content/out/mask/81_5.png  \n",
            "  inflating: /content/out/mask/81_6.png  \n",
            "  inflating: /content/out/mask/81_7.png  \n",
            "  inflating: /content/out/mask/81_8.png  \n",
            "  inflating: /content/out/mask/81_9.png  \n",
            "  inflating: /content/out/mask/82_1.png  \n",
            "  inflating: /content/out/mask/82_10.png  \n",
            "  inflating: /content/out/mask/82_11.png  \n",
            "  inflating: /content/out/mask/82_12.png  \n",
            "  inflating: /content/out/mask/82_13.png  \n",
            "  inflating: /content/out/mask/82_14.png  \n",
            "  inflating: /content/out/mask/82_15.png  \n",
            "  inflating: /content/out/mask/82_16.png  \n",
            "  inflating: /content/out/mask/82_17.png  \n",
            "  inflating: /content/out/mask/82_18.png  \n",
            "  inflating: /content/out/mask/82_19.png  \n",
            "  inflating: /content/out/mask/82_2.png  \n",
            "  inflating: /content/out/mask/82_20.png  \n",
            "  inflating: /content/out/mask/82_21.png  \n",
            "  inflating: /content/out/mask/82_22.png  \n",
            "  inflating: /content/out/mask/82_23.png  \n",
            "  inflating: /content/out/mask/82_24.png  \n",
            "  inflating: /content/out/mask/82_25.png  \n",
            "  inflating: /content/out/mask/82_26.png  \n",
            "  inflating: /content/out/mask/82_3.png  \n",
            "  inflating: /content/out/mask/82_4.png  \n",
            "  inflating: /content/out/mask/82_5.png  \n",
            "  inflating: /content/out/mask/82_6.png  \n",
            "  inflating: /content/out/mask/82_7.png  \n",
            "  inflating: /content/out/mask/82_8.png  \n",
            "  inflating: /content/out/mask/82_9.png  \n",
            "  inflating: /content/out/mask/83_1.png  \n",
            "  inflating: /content/out/mask/83_10.png  \n",
            "  inflating: /content/out/mask/83_11.png  \n",
            "  inflating: /content/out/mask/83_12.png  \n",
            "  inflating: /content/out/mask/83_13.png  \n",
            "  inflating: /content/out/mask/83_14.png  \n",
            "  inflating: /content/out/mask/83_15.png  \n",
            "  inflating: /content/out/mask/83_16.png  \n",
            "  inflating: /content/out/mask/83_17.png  \n",
            "  inflating: /content/out/mask/83_18.png  \n",
            "  inflating: /content/out/mask/83_19.png  \n",
            "  inflating: /content/out/mask/83_2.png  \n",
            "  inflating: /content/out/mask/83_20.png  \n",
            "  inflating: /content/out/mask/83_21.png  \n",
            "  inflating: /content/out/mask/83_22.png  \n",
            "  inflating: /content/out/mask/83_23.png  \n",
            "  inflating: /content/out/mask/83_24.png  \n",
            "  inflating: /content/out/mask/83_25.png  \n",
            "  inflating: /content/out/mask/83_26.png  \n",
            "  inflating: /content/out/mask/83_3.png  \n",
            "  inflating: /content/out/mask/83_4.png  \n",
            "  inflating: /content/out/mask/83_5.png  \n",
            "  inflating: /content/out/mask/83_6.png  \n",
            "  inflating: /content/out/mask/83_7.png  \n",
            "  inflating: /content/out/mask/83_8.png  \n",
            "  inflating: /content/out/mask/83_9.png  \n",
            "  inflating: /content/out/mask/84_1.png  \n",
            "  inflating: /content/out/mask/84_10.png  \n",
            "  inflating: /content/out/mask/84_11.png  \n",
            "  inflating: /content/out/mask/84_12.png  \n",
            "  inflating: /content/out/mask/84_13.png  \n",
            "  inflating: /content/out/mask/84_14.png  \n",
            "  inflating: /content/out/mask/84_15.png  \n",
            "  inflating: /content/out/mask/84_16.png  \n",
            "  inflating: /content/out/mask/84_17.png  \n",
            "  inflating: /content/out/mask/84_18.png  \n",
            "  inflating: /content/out/mask/84_19.png  \n",
            "  inflating: /content/out/mask/84_2.png  \n",
            "  inflating: /content/out/mask/84_20.png  \n",
            "  inflating: /content/out/mask/84_21.png  \n",
            "  inflating: /content/out/mask/84_22.png  \n",
            "  inflating: /content/out/mask/84_23.png  \n",
            "  inflating: /content/out/mask/84_24.png  \n",
            "  inflating: /content/out/mask/84_25.png  \n",
            "  inflating: /content/out/mask/84_26.png  \n",
            "  inflating: /content/out/mask/84_3.png  \n",
            "  inflating: /content/out/mask/84_4.png  \n",
            "  inflating: /content/out/mask/84_5.png  \n",
            "  inflating: /content/out/mask/84_6.png  \n",
            "  inflating: /content/out/mask/84_7.png  \n",
            "  inflating: /content/out/mask/84_8.png  \n",
            "  inflating: /content/out/mask/84_9.png  \n",
            "  inflating: /content/out/mask/85_1.png  \n",
            "  inflating: /content/out/mask/85_10.png  \n",
            "  inflating: /content/out/mask/85_11.png  \n",
            "  inflating: /content/out/mask/85_12.png  \n",
            "  inflating: /content/out/mask/85_13.png  \n",
            "  inflating: /content/out/mask/85_14.png  \n",
            "  inflating: /content/out/mask/85_15.png  \n",
            "  inflating: /content/out/mask/85_16.png  \n",
            "  inflating: /content/out/mask/85_17.png  \n",
            "  inflating: /content/out/mask/85_18.png  \n",
            "  inflating: /content/out/mask/85_19.png  \n",
            "  inflating: /content/out/mask/85_2.png  \n",
            "  inflating: /content/out/mask/85_20.png  \n",
            "  inflating: /content/out/mask/85_21.png  \n",
            "  inflating: /content/out/mask/85_22.png  \n",
            "  inflating: /content/out/mask/85_23.png  \n",
            "  inflating: /content/out/mask/85_24.png  \n",
            "  inflating: /content/out/mask/85_25.png  \n",
            "  inflating: /content/out/mask/85_26.png  \n",
            "  inflating: /content/out/mask/85_3.png  \n",
            "  inflating: /content/out/mask/85_4.png  \n",
            "  inflating: /content/out/mask/85_5.png  \n",
            "  inflating: /content/out/mask/85_6.png  \n",
            "  inflating: /content/out/mask/85_7.png  \n",
            "  inflating: /content/out/mask/85_8.png  \n",
            "  inflating: /content/out/mask/85_9.png  \n",
            "  inflating: /content/out/mask/86_1.png  \n",
            "  inflating: /content/out/mask/86_10.png  \n",
            "  inflating: /content/out/mask/86_11.png  \n",
            "  inflating: /content/out/mask/86_12.png  \n",
            "  inflating: /content/out/mask/86_13.png  \n",
            "  inflating: /content/out/mask/86_14.png  \n",
            "  inflating: /content/out/mask/86_15.png  \n",
            "  inflating: /content/out/mask/86_16.png  \n",
            "  inflating: /content/out/mask/86_17.png  \n",
            "  inflating: /content/out/mask/86_18.png  \n",
            "  inflating: /content/out/mask/86_19.png  \n",
            "  inflating: /content/out/mask/86_2.png  \n",
            "  inflating: /content/out/mask/86_20.png  \n",
            "  inflating: /content/out/mask/86_21.png  \n",
            "  inflating: /content/out/mask/86_22.png  \n",
            "  inflating: /content/out/mask/86_23.png  \n",
            "  inflating: /content/out/mask/86_24.png  \n",
            "  inflating: /content/out/mask/86_25.png  \n",
            "  inflating: /content/out/mask/86_26.png  \n",
            "  inflating: /content/out/mask/86_3.png  \n",
            "  inflating: /content/out/mask/86_4.png  \n",
            "  inflating: /content/out/mask/86_5.png  \n",
            "  inflating: /content/out/mask/86_6.png  \n",
            "  inflating: /content/out/mask/86_7.png  \n",
            "  inflating: /content/out/mask/86_8.png  \n",
            "  inflating: /content/out/mask/86_9.png  \n",
            "  inflating: /content/out/mask/87_1.png  \n",
            "  inflating: /content/out/mask/87_10.png  \n",
            "  inflating: /content/out/mask/87_11.png  \n",
            "  inflating: /content/out/mask/87_12.png  \n",
            "  inflating: /content/out/mask/87_13.png  \n",
            "  inflating: /content/out/mask/87_14.png  \n",
            "  inflating: /content/out/mask/87_15.png  \n",
            "  inflating: /content/out/mask/87_16.png  \n",
            "  inflating: /content/out/mask/87_17.png  \n",
            "  inflating: /content/out/mask/87_18.png  \n",
            "  inflating: /content/out/mask/87_19.png  \n",
            "  inflating: /content/out/mask/87_2.png  \n",
            "  inflating: /content/out/mask/87_20.png  \n",
            "  inflating: /content/out/mask/87_21.png  \n",
            "  inflating: /content/out/mask/87_22.png  \n",
            "  inflating: /content/out/mask/87_23.png  \n",
            "  inflating: /content/out/mask/87_24.png  \n",
            "  inflating: /content/out/mask/87_25.png  \n",
            "  inflating: /content/out/mask/87_26.png  \n",
            "  inflating: /content/out/mask/87_3.png  \n",
            "  inflating: /content/out/mask/87_4.png  \n",
            "  inflating: /content/out/mask/87_5.png  \n",
            "  inflating: /content/out/mask/87_6.png  \n",
            "  inflating: /content/out/mask/87_7.png  \n",
            "  inflating: /content/out/mask/87_8.png  \n",
            "  inflating: /content/out/mask/87_9.png  \n",
            "  inflating: /content/out/mask/88_1.png  \n",
            "  inflating: /content/out/mask/88_10.png  \n",
            "  inflating: /content/out/mask/88_11.png  \n",
            "  inflating: /content/out/mask/88_12.png  \n",
            "  inflating: /content/out/mask/88_13.png  \n",
            "  inflating: /content/out/mask/88_14.png  \n",
            "  inflating: /content/out/mask/88_15.png  \n",
            "  inflating: /content/out/mask/88_16.png  \n",
            "  inflating: /content/out/mask/88_17.png  \n",
            "  inflating: /content/out/mask/88_18.png  \n",
            "  inflating: /content/out/mask/88_19.png  \n",
            "  inflating: /content/out/mask/88_2.png  \n",
            "  inflating: /content/out/mask/88_20.png  \n",
            "  inflating: /content/out/mask/88_21.png  \n",
            "  inflating: /content/out/mask/88_22.png  \n",
            "  inflating: /content/out/mask/88_23.png  \n",
            "  inflating: /content/out/mask/88_24.png  \n",
            "  inflating: /content/out/mask/88_25.png  \n",
            "  inflating: /content/out/mask/88_26.png  \n",
            "  inflating: /content/out/mask/88_3.png  \n",
            "  inflating: /content/out/mask/88_4.png  \n",
            "  inflating: /content/out/mask/88_5.png  \n",
            "  inflating: /content/out/mask/88_6.png  \n",
            "  inflating: /content/out/mask/88_7.png  \n",
            "  inflating: /content/out/mask/88_8.png  \n",
            "  inflating: /content/out/mask/88_9.png  \n",
            "  inflating: /content/out/mask/89_1.png  \n",
            "  inflating: /content/out/mask/89_10.png  \n",
            "  inflating: /content/out/mask/89_11.png  \n",
            "  inflating: /content/out/mask/89_12.png  \n",
            "  inflating: /content/out/mask/89_13.png  \n",
            "  inflating: /content/out/mask/89_14.png  \n",
            "  inflating: /content/out/mask/89_15.png  \n",
            "  inflating: /content/out/mask/89_16.png  \n",
            "  inflating: /content/out/mask/89_17.png  \n",
            "  inflating: /content/out/mask/89_18.png  \n",
            "  inflating: /content/out/mask/89_19.png  \n",
            "  inflating: /content/out/mask/89_2.png  \n",
            "  inflating: /content/out/mask/89_20.png  \n",
            "  inflating: /content/out/mask/89_21.png  \n",
            "  inflating: /content/out/mask/89_22.png  \n",
            "  inflating: /content/out/mask/89_23.png  \n",
            "  inflating: /content/out/mask/89_24.png  \n",
            "  inflating: /content/out/mask/89_25.png  \n",
            "  inflating: /content/out/mask/89_26.png  \n",
            "  inflating: /content/out/mask/89_3.png  \n",
            "  inflating: /content/out/mask/89_4.png  \n",
            "  inflating: /content/out/mask/89_5.png  \n",
            "  inflating: /content/out/mask/89_6.png  \n",
            "  inflating: /content/out/mask/89_7.png  \n",
            "  inflating: /content/out/mask/89_8.png  \n",
            "  inflating: /content/out/mask/89_9.png  \n",
            "  inflating: /content/out/mask/8_1.png  \n",
            "  inflating: /content/out/mask/8_10.png  \n",
            "  inflating: /content/out/mask/8_11.png  \n",
            "  inflating: /content/out/mask/8_12.png  \n",
            "  inflating: /content/out/mask/8_13.png  \n",
            "  inflating: /content/out/mask/8_14.png  \n",
            "  inflating: /content/out/mask/8_15.png  \n",
            "  inflating: /content/out/mask/8_16.png  \n",
            "  inflating: /content/out/mask/8_17.png  \n",
            "  inflating: /content/out/mask/8_18.png  \n",
            "  inflating: /content/out/mask/8_19.png  \n",
            "  inflating: /content/out/mask/8_2.png  \n",
            "  inflating: /content/out/mask/8_20.png  \n",
            "  inflating: /content/out/mask/8_21.png  \n",
            "  inflating: /content/out/mask/8_22.png  \n",
            "  inflating: /content/out/mask/8_23.png  \n",
            "  inflating: /content/out/mask/8_24.png  \n",
            "  inflating: /content/out/mask/8_25.png  \n",
            "  inflating: /content/out/mask/8_26.png  \n",
            "  inflating: /content/out/mask/8_3.png  \n",
            "  inflating: /content/out/mask/8_4.png  \n",
            "  inflating: /content/out/mask/8_5.png  \n",
            "  inflating: /content/out/mask/8_6.png  \n",
            "  inflating: /content/out/mask/8_7.png  \n",
            "  inflating: /content/out/mask/8_8.png  \n",
            "  inflating: /content/out/mask/8_9.png  \n",
            "  inflating: /content/out/mask/90_1.png  \n",
            "  inflating: /content/out/mask/90_10.png  \n",
            "  inflating: /content/out/mask/90_11.png  \n",
            "  inflating: /content/out/mask/90_12.png  \n",
            "  inflating: /content/out/mask/90_13.png  \n",
            "  inflating: /content/out/mask/90_14.png  \n",
            "  inflating: /content/out/mask/90_15.png  \n",
            "  inflating: /content/out/mask/90_16.png  \n",
            "  inflating: /content/out/mask/90_17.png  \n",
            "  inflating: /content/out/mask/90_18.png  \n",
            "  inflating: /content/out/mask/90_19.png  \n",
            "  inflating: /content/out/mask/90_2.png  \n",
            "  inflating: /content/out/mask/90_20.png  \n",
            "  inflating: /content/out/mask/90_21.png  \n",
            "  inflating: /content/out/mask/90_22.png  \n",
            "  inflating: /content/out/mask/90_23.png  \n",
            "  inflating: /content/out/mask/90_24.png  \n",
            "  inflating: /content/out/mask/90_25.png  \n",
            "  inflating: /content/out/mask/90_26.png  \n",
            "  inflating: /content/out/mask/90_3.png  \n",
            "  inflating: /content/out/mask/90_4.png  \n",
            "  inflating: /content/out/mask/90_5.png  \n",
            "  inflating: /content/out/mask/90_6.png  \n",
            "  inflating: /content/out/mask/90_7.png  \n",
            "  inflating: /content/out/mask/90_8.png  \n",
            "  inflating: /content/out/mask/90_9.png  \n",
            "  inflating: /content/out/mask/91_1.png  \n",
            "  inflating: /content/out/mask/91_10.png  \n",
            "  inflating: /content/out/mask/91_11.png  \n",
            "  inflating: /content/out/mask/91_12.png  \n",
            "  inflating: /content/out/mask/91_13.png  \n",
            "  inflating: /content/out/mask/91_14.png  \n",
            "  inflating: /content/out/mask/91_15.png  \n",
            "  inflating: /content/out/mask/91_16.png  \n",
            "  inflating: /content/out/mask/91_17.png  \n",
            "  inflating: /content/out/mask/91_18.png  \n",
            "  inflating: /content/out/mask/91_19.png  \n",
            "  inflating: /content/out/mask/91_2.png  \n",
            "  inflating: /content/out/mask/91_20.png  \n",
            "  inflating: /content/out/mask/91_21.png  \n",
            "  inflating: /content/out/mask/91_22.png  \n",
            "  inflating: /content/out/mask/91_23.png  \n",
            "  inflating: /content/out/mask/91_24.png  \n",
            "  inflating: /content/out/mask/91_25.png  \n",
            "  inflating: /content/out/mask/91_26.png  \n",
            "  inflating: /content/out/mask/91_3.png  \n",
            "  inflating: /content/out/mask/91_4.png  \n",
            "  inflating: /content/out/mask/91_5.png  \n",
            "  inflating: /content/out/mask/91_6.png  \n",
            "  inflating: /content/out/mask/91_7.png  \n",
            "  inflating: /content/out/mask/91_8.png  \n",
            "  inflating: /content/out/mask/91_9.png  \n",
            "  inflating: /content/out/mask/92_1.png  \n",
            "  inflating: /content/out/mask/92_10.png  \n",
            "  inflating: /content/out/mask/92_11.png  \n",
            "  inflating: /content/out/mask/92_12.png  \n",
            "  inflating: /content/out/mask/92_13.png  \n",
            "  inflating: /content/out/mask/92_14.png  \n",
            "  inflating: /content/out/mask/92_15.png  \n",
            "  inflating: /content/out/mask/92_16.png  \n",
            "  inflating: /content/out/mask/92_17.png  \n",
            "  inflating: /content/out/mask/92_18.png  \n",
            "  inflating: /content/out/mask/92_19.png  \n",
            "  inflating: /content/out/mask/92_2.png  \n",
            "  inflating: /content/out/mask/92_20.png  \n",
            "  inflating: /content/out/mask/92_21.png  \n",
            "  inflating: /content/out/mask/92_22.png  \n",
            "  inflating: /content/out/mask/92_23.png  \n",
            "  inflating: /content/out/mask/92_24.png  \n",
            "  inflating: /content/out/mask/92_25.png  \n",
            "  inflating: /content/out/mask/92_26.png  \n",
            "  inflating: /content/out/mask/92_3.png  \n",
            "  inflating: /content/out/mask/92_4.png  \n",
            "  inflating: /content/out/mask/92_5.png  \n",
            "  inflating: /content/out/mask/92_6.png  \n",
            "  inflating: /content/out/mask/92_7.png  \n",
            "  inflating: /content/out/mask/92_8.png  \n",
            "  inflating: /content/out/mask/92_9.png  \n",
            "  inflating: /content/out/mask/93_1.png  \n",
            "  inflating: /content/out/mask/93_10.png  \n",
            "  inflating: /content/out/mask/93_11.png  \n",
            "  inflating: /content/out/mask/93_12.png  \n",
            "  inflating: /content/out/mask/93_13.png  \n",
            "  inflating: /content/out/mask/93_14.png  \n",
            "  inflating: /content/out/mask/93_15.png  \n",
            "  inflating: /content/out/mask/93_16.png  \n",
            "  inflating: /content/out/mask/93_17.png  \n",
            "  inflating: /content/out/mask/93_18.png  \n",
            "  inflating: /content/out/mask/93_19.png  \n",
            "  inflating: /content/out/mask/93_2.png  \n",
            "  inflating: /content/out/mask/93_20.png  \n",
            "  inflating: /content/out/mask/93_21.png  \n",
            "  inflating: /content/out/mask/93_22.png  \n",
            "  inflating: /content/out/mask/93_23.png  \n",
            "  inflating: /content/out/mask/93_24.png  \n",
            "  inflating: /content/out/mask/93_25.png  \n",
            "  inflating: /content/out/mask/93_26.png  \n",
            "  inflating: /content/out/mask/93_3.png  \n",
            "  inflating: /content/out/mask/93_4.png  \n",
            "  inflating: /content/out/mask/93_5.png  \n",
            "  inflating: /content/out/mask/93_6.png  \n",
            "  inflating: /content/out/mask/93_7.png  \n",
            "  inflating: /content/out/mask/93_8.png  \n",
            "  inflating: /content/out/mask/93_9.png  \n",
            "  inflating: /content/out/mask/94_1.png  \n",
            "  inflating: /content/out/mask/94_10.png  \n",
            "  inflating: /content/out/mask/94_11.png  \n",
            "  inflating: /content/out/mask/94_12.png  \n",
            "  inflating: /content/out/mask/94_13.png  \n",
            "  inflating: /content/out/mask/94_14.png  \n",
            "  inflating: /content/out/mask/94_15.png  \n",
            "  inflating: /content/out/mask/94_16.png  \n",
            "  inflating: /content/out/mask/94_17.png  \n",
            "  inflating: /content/out/mask/94_18.png  \n",
            "  inflating: /content/out/mask/94_19.png  \n",
            "  inflating: /content/out/mask/94_2.png  \n",
            "  inflating: /content/out/mask/94_20.png  \n",
            "  inflating: /content/out/mask/94_21.png  \n",
            "  inflating: /content/out/mask/94_22.png  \n",
            "  inflating: /content/out/mask/94_23.png  \n",
            "  inflating: /content/out/mask/94_24.png  \n",
            "  inflating: /content/out/mask/94_25.png  \n",
            "  inflating: /content/out/mask/94_26.png  \n",
            "  inflating: /content/out/mask/94_3.png  \n",
            "  inflating: /content/out/mask/94_4.png  \n",
            "  inflating: /content/out/mask/94_5.png  \n",
            "  inflating: /content/out/mask/94_6.png  \n",
            "  inflating: /content/out/mask/94_7.png  \n",
            "  inflating: /content/out/mask/94_8.png  \n",
            "  inflating: /content/out/mask/94_9.png  \n",
            "  inflating: /content/out/mask/95_1.png  \n",
            "  inflating: /content/out/mask/95_10.png  \n",
            "  inflating: /content/out/mask/95_11.png  \n",
            "  inflating: /content/out/mask/95_12.png  \n",
            "  inflating: /content/out/mask/95_13.png  \n",
            "  inflating: /content/out/mask/95_14.png  \n",
            "  inflating: /content/out/mask/95_15.png  \n",
            "  inflating: /content/out/mask/95_16.png  \n",
            "  inflating: /content/out/mask/95_17.png  \n",
            "  inflating: /content/out/mask/95_18.png  \n",
            "  inflating: /content/out/mask/95_19.png  \n",
            "  inflating: /content/out/mask/95_2.png  \n",
            "  inflating: /content/out/mask/95_20.png  \n",
            "  inflating: /content/out/mask/95_21.png  \n",
            "  inflating: /content/out/mask/95_22.png  \n",
            "  inflating: /content/out/mask/95_23.png  \n",
            "  inflating: /content/out/mask/95_24.png  \n",
            "  inflating: /content/out/mask/95_25.png  \n",
            "  inflating: /content/out/mask/95_26.png  \n",
            "  inflating: /content/out/mask/95_3.png  \n",
            "  inflating: /content/out/mask/95_4.png  \n",
            "  inflating: /content/out/mask/95_5.png  \n",
            "  inflating: /content/out/mask/95_6.png  \n",
            "  inflating: /content/out/mask/95_7.png  \n",
            "  inflating: /content/out/mask/95_8.png  \n",
            "  inflating: /content/out/mask/95_9.png  \n",
            "  inflating: /content/out/mask/96_1.png  \n",
            "  inflating: /content/out/mask/96_10.png  \n",
            "  inflating: /content/out/mask/96_11.png  \n",
            "  inflating: /content/out/mask/96_12.png  \n",
            "  inflating: /content/out/mask/96_13.png  \n",
            "  inflating: /content/out/mask/96_14.png  \n",
            "  inflating: /content/out/mask/96_15.png  \n",
            "  inflating: /content/out/mask/96_16.png  \n",
            "  inflating: /content/out/mask/96_17.png  \n",
            "  inflating: /content/out/mask/96_18.png  \n",
            "  inflating: /content/out/mask/96_19.png  \n",
            "  inflating: /content/out/mask/96_2.png  \n",
            "  inflating: /content/out/mask/96_20.png  \n",
            "  inflating: /content/out/mask/96_21.png  \n",
            "  inflating: /content/out/mask/96_22.png  \n",
            "  inflating: /content/out/mask/96_23.png  \n",
            "  inflating: /content/out/mask/96_24.png  \n",
            "  inflating: /content/out/mask/96_25.png  \n",
            "  inflating: /content/out/mask/96_26.png  \n",
            "  inflating: /content/out/mask/96_3.png  \n",
            "  inflating: /content/out/mask/96_4.png  \n",
            "  inflating: /content/out/mask/96_5.png  \n",
            "  inflating: /content/out/mask/96_6.png  \n",
            "  inflating: /content/out/mask/96_7.png  \n",
            "  inflating: /content/out/mask/96_8.png  \n",
            "  inflating: /content/out/mask/96_9.png  \n",
            "  inflating: /content/out/mask/97_1.png  \n",
            "  inflating: /content/out/mask/97_10.png  \n",
            "  inflating: /content/out/mask/97_11.png  \n",
            "  inflating: /content/out/mask/97_12.png  \n",
            "  inflating: /content/out/mask/97_13.png  \n",
            "  inflating: /content/out/mask/97_14.png  \n",
            "  inflating: /content/out/mask/97_15.png  \n",
            "  inflating: /content/out/mask/97_16.png  \n",
            "  inflating: /content/out/mask/97_17.png  \n",
            "  inflating: /content/out/mask/97_18.png  \n",
            "  inflating: /content/out/mask/97_19.png  \n",
            "  inflating: /content/out/mask/97_2.png  \n",
            "  inflating: /content/out/mask/97_20.png  \n",
            "  inflating: /content/out/mask/97_21.png  \n",
            "  inflating: /content/out/mask/97_22.png  \n",
            "  inflating: /content/out/mask/97_23.png  \n",
            "  inflating: /content/out/mask/97_24.png  \n",
            "  inflating: /content/out/mask/97_25.png  \n",
            "  inflating: /content/out/mask/97_26.png  \n",
            "  inflating: /content/out/mask/97_3.png  \n",
            "  inflating: /content/out/mask/97_4.png  \n",
            "  inflating: /content/out/mask/97_5.png  \n",
            "  inflating: /content/out/mask/97_6.png  \n",
            "  inflating: /content/out/mask/97_7.png  \n",
            "  inflating: /content/out/mask/97_8.png  \n",
            "  inflating: /content/out/mask/97_9.png  \n",
            "  inflating: /content/out/mask/98_1.png  \n",
            "  inflating: /content/out/mask/98_10.png  \n",
            "  inflating: /content/out/mask/98_11.png  \n",
            "  inflating: /content/out/mask/98_12.png  \n",
            "  inflating: /content/out/mask/98_13.png  \n",
            "  inflating: /content/out/mask/98_14.png  \n",
            "  inflating: /content/out/mask/98_15.png  \n",
            "  inflating: /content/out/mask/98_16.png  \n",
            "  inflating: /content/out/mask/98_17.png  \n",
            "  inflating: /content/out/mask/98_18.png  \n",
            "  inflating: /content/out/mask/98_19.png  \n",
            "  inflating: /content/out/mask/98_2.png  \n",
            "  inflating: /content/out/mask/98_20.png  \n",
            "  inflating: /content/out/mask/98_21.png  \n",
            "  inflating: /content/out/mask/98_22.png  \n",
            "  inflating: /content/out/mask/98_23.png  \n",
            "  inflating: /content/out/mask/98_24.png  \n",
            "  inflating: /content/out/mask/98_25.png  \n",
            "  inflating: /content/out/mask/98_26.png  \n",
            "  inflating: /content/out/mask/98_3.png  \n",
            "  inflating: /content/out/mask/98_4.png  \n",
            "  inflating: /content/out/mask/98_5.png  \n",
            "  inflating: /content/out/mask/98_6.png  \n",
            "  inflating: /content/out/mask/98_7.png  \n",
            "  inflating: /content/out/mask/98_8.png  \n",
            "  inflating: /content/out/mask/98_9.png  \n",
            "  inflating: /content/out/mask/99_1.png  \n",
            "  inflating: /content/out/mask/99_10.png  \n",
            "  inflating: /content/out/mask/99_11.png  \n",
            "  inflating: /content/out/mask/99_12.png  \n",
            "  inflating: /content/out/mask/99_13.png  \n",
            "  inflating: /content/out/mask/99_14.png  \n",
            "  inflating: /content/out/mask/99_15.png  \n",
            "  inflating: /content/out/mask/99_16.png  \n",
            "  inflating: /content/out/mask/99_17.png  \n",
            "  inflating: /content/out/mask/99_18.png  \n",
            "  inflating: /content/out/mask/99_19.png  \n",
            "  inflating: /content/out/mask/99_2.png  \n",
            "  inflating: /content/out/mask/99_20.png  \n",
            "  inflating: /content/out/mask/99_21.png  \n",
            "  inflating: /content/out/mask/99_22.png  \n",
            "  inflating: /content/out/mask/99_23.png  \n",
            "  inflating: /content/out/mask/99_24.png  \n",
            "  inflating: /content/out/mask/99_25.png  \n",
            "  inflating: /content/out/mask/99_26.png  \n",
            "  inflating: /content/out/mask/99_3.png  \n",
            "  inflating: /content/out/mask/99_4.png  \n",
            "  inflating: /content/out/mask/99_5.png  \n",
            "  inflating: /content/out/mask/99_6.png  \n",
            "  inflating: /content/out/mask/99_7.png  \n",
            "  inflating: /content/out/mask/99_8.png  \n",
            "  inflating: /content/out/mask/99_9.png  \n",
            "  inflating: /content/out/mask/9_1.png  \n",
            "  inflating: /content/out/mask/9_10.png  \n",
            "  inflating: /content/out/mask/9_11.png  \n",
            "  inflating: /content/out/mask/9_12.png  \n",
            "  inflating: /content/out/mask/9_13.png  \n",
            "  inflating: /content/out/mask/9_14.png  \n",
            "  inflating: /content/out/mask/9_15.png  \n",
            "  inflating: /content/out/mask/9_16.png  \n",
            "  inflating: /content/out/mask/9_17.png  \n",
            "  inflating: /content/out/mask/9_18.png  \n",
            "  inflating: /content/out/mask/9_19.png  \n",
            "  inflating: /content/out/mask/9_2.png  \n",
            "  inflating: /content/out/mask/9_20.png  \n",
            "  inflating: /content/out/mask/9_21.png  \n",
            "  inflating: /content/out/mask/9_22.png  \n",
            "  inflating: /content/out/mask/9_23.png  \n",
            "  inflating: /content/out/mask/9_24.png  \n",
            "  inflating: /content/out/mask/9_25.png  \n",
            "  inflating: /content/out/mask/9_26.png  \n",
            "  inflating: /content/out/mask/9_3.png  \n",
            "  inflating: /content/out/mask/9_4.png  \n",
            "  inflating: /content/out/mask/9_5.png  \n",
            "  inflating: /content/out/mask/9_6.png  \n",
            "  inflating: /content/out/mask/9_7.png  \n",
            "  inflating: /content/out/mask/9_8.png  \n",
            "  inflating: /content/out/mask/9_9.png  \n",
            "/content\n"
          ]
        }
      ]
    },
    {
      "cell_type": "code",
      "source": [
        "!pip install torchgeometry\n",
        "\n",
        "import torch\n",
        "import torch.nn as nn\n",
        "import torch.nn.functional as F\n",
        "import numpy as np\n",
        "import torch.optim as optim\n",
        "from torchgeometry.losses.dice import DiceLoss\n",
        "from torchvision.models.resnet import BasicBlock\n",
        "import cv2"
      ],
      "metadata": {
        "colab": {
          "base_uri": "https://localhost:8080/"
        },
        "id": "cpZPS1gWQn6i",
        "outputId": "8d5b9f70-d342-4168-e545-564410ab7acf"
      },
      "execution_count": 3,
      "outputs": [
        {
          "output_type": "stream",
          "name": "stdout",
          "text": [
            "Requirement already satisfied: torchgeometry in /usr/local/lib/python3.7/dist-packages (0.1.2)\n",
            "Requirement already satisfied: torch>=1.0.0 in /usr/local/lib/python3.7/dist-packages (from torchgeometry) (1.11.0+cu113)\n",
            "Requirement already satisfied: typing-extensions in /usr/local/lib/python3.7/dist-packages (from torch>=1.0.0->torchgeometry) (4.2.0)\n"
          ]
        }
      ]
    },
    {
      "cell_type": "markdown",
      "source": [
        "Defining Device"
      ],
      "metadata": {
        "id": "Xltga2eHRKUh"
      }
    },
    {
      "cell_type": "code",
      "source": [
        "device = torch.device(\"cuda:0\" if torch.cuda.is_available() else \"cpu\")"
      ],
      "metadata": {
        "id": "f8FtrYWtQ-a5"
      },
      "execution_count": 4,
      "outputs": []
    },
    {
      "cell_type": "markdown",
      "source": [
        "Utils"
      ],
      "metadata": {
        "id": "jlMPGmQCRIre"
      }
    },
    {
      "cell_type": "code",
      "source": [
        "import cv2\n",
        "import glob\n",
        "import numpy as np\n",
        "from tqdm import tqdm as tqdm\n",
        "import pickle as pkl\n",
        "import os\n",
        "\n",
        "'''\n",
        "Reads the image specified by 'path' and returns it\n",
        "param : path - path of image file\n",
        "return : image as a numpy array\n",
        "'''\n",
        "def read_img(path):\n",
        "    image = cv2.imread(path, cv2.IMREAD_COLOR)\n",
        "    image = np.clip(image - np.median(image)+127, 0, 255)\n",
        "    image = image/255.0\n",
        "    image = image.astype(np.float32)\n",
        "    return image\n",
        "\n",
        "def read_mask(path):\n",
        "    mask = cv2.imread(path, cv2.IMREAD_GRAYSCALE)\n",
        "    mask = mask/255.0\n",
        "    mask = mask.astype(np.float32)\n",
        "    #mask = np.expand_dims(mask, axis=-1)\n",
        "    return mask\n",
        "\n",
        "'''\n",
        "Converts numpy img to tensor\n",
        "param : img - numpy arr containing image data\n",
        "return : t - torch tensor of shape [1, 3, H, W]\n",
        "'''\n",
        "def img_to_tensor(img):\n",
        "    t = torch.from_numpy(img)\n",
        "    t = t.view(-1, 3, t.shape[0], t.shape[1])\n",
        "    return t\n",
        "\n",
        "def mask_to_tensor(mask):\n",
        "    t = torch.from_numpy(mask)\n",
        "    t = t.view(-1, t.shape[0], t.shape[1])\n",
        "    return t\n",
        "\n",
        "'''\n",
        "t - tensor of shape [H, W]\n",
        "'''\n",
        "def tensor_to_mask(t):\n",
        "    t = t.view(t.shape[0], t.shape[1])\n",
        "    return t.numpy()\n",
        "\n",
        "'''\n",
        "Converts tensor back to numpy img\n",
        "param : t - torch tensor of shape [1, 3, H, W]\n",
        "return : img - numpy arr containing image data\n",
        "'''\n",
        "def tensor_to_img(t):\n",
        "    t = t.view(t.shape[2], t.shape[3], 3)\n",
        "    return t.numpy()"
      ],
      "metadata": {
        "id": "DEk5RLy1RHcB"
      },
      "execution_count": 5,
      "outputs": []
    },
    {
      "cell_type": "markdown",
      "source": [
        "Deep Learning Architecture"
      ],
      "metadata": {
        "id": "mDQue8ngRNVk"
      }
    },
    {
      "cell_type": "code",
      "source": [
        "\"\"\"\n",
        "Squeeze & Excitation Block\n",
        "\"\"\"\n",
        "class SE_Block(nn.Module):\n",
        "    def __init__(self, in_ch, ratio = 16):\n",
        "        super().__init__()\n",
        "        self.block = nn.Sequential(nn.Linear(in_ch, in_ch//ratio), nn.ReLU(), nn.Linear(in_ch//ratio, in_ch), nn.Sigmoid())\n",
        "    \n",
        "    def forward(self, x):\n",
        "        y = x.mean((-2,-1))\n",
        "        y = self.block(y).unsqueeze(-1).unsqueeze(-1)\n",
        "        return x*y\n",
        "\"\"\"\n",
        "Encoder Block\n",
        "\"\"\"\n",
        "class Encoder(nn.Module):\n",
        "    def __init__(self, in_ch, init_feat = 32):\n",
        "\n",
        "        super().__init__()\n",
        "\n",
        "        '''Instantiations of all subclasses of nn.Module will be callable objects because nn.Module has __call__() built-in (which is inherited by the subclass)\n",
        "        which in turn calls forward(). So, if forward() is overridden in the subclass, the new forward() will be called!'''\n",
        "\n",
        "        self.enc1 = nn.Sequential(nn.Conv2d(in_ch, init_feat, kernel_size = (3,3), stride = (1,1), padding = (1,1)),\n",
        "        nn.ReLU(), nn.Conv2d(init_feat, init_feat, kernel_size = (3,3), stride = (1,1), padding = (1,1)), nn.ReLU(),\n",
        "        nn.BatchNorm2d(init_feat), SE_Block(init_feat, ratio = init_feat // 2))\n",
        "\n",
        "        self.enc2 = nn.Sequential(nn.MaxPool2d(kernel_size = (2,2)), nn.Dropout(0.2),\n",
        "        nn.Conv2d(init_feat, init_feat*2, kernel_size = (3,3), stride = (1,1), padding = (1,1)),\n",
        "        nn.ReLU(),\n",
        "        nn.Conv2d(init_feat*2, init_feat*2, kernel_size = (3,3), stride = (1,1), padding = (1,1)),\n",
        "        nn.ReLU(),\n",
        "        nn.BatchNorm2d(init_feat*2), SE_Block(init_feat*2, ratio = init_feat // 2))\n",
        "\n",
        "        self.enc3 = nn.Sequential(nn.MaxPool2d(kernel_size = (2,2)), nn.Dropout(0.2),\n",
        "        nn.Conv2d(init_feat*2, init_feat*4, kernel_size = (3,3), stride = (1,1), padding = (1,1)),\n",
        "        nn.ReLU(),\n",
        "        nn.Conv2d(init_feat*4, init_feat*4, kernel_size = (3,3), stride = (1,1), padding = (1,1)),\n",
        "        nn.ReLU(),\n",
        "        nn.BatchNorm2d(init_feat*4), SE_Block(init_feat*4, ratio = init_feat // 2))\n",
        "\n",
        "        self.enc4 = nn.Sequential(nn.MaxPool2d(kernel_size = (2,2)), nn.Dropout(0.2),\n",
        "        nn.Conv2d(init_feat*4, init_feat*8, kernel_size = (3,3), stride = (1,1), padding = (1,1)),\n",
        "        nn.ReLU(),\n",
        "        nn.Conv2d(init_feat*8, init_feat*8, kernel_size = (3,3), stride = (1,1), padding = (1,1)),\n",
        "        nn.ReLU(),\n",
        "        nn.BatchNorm2d(init_feat*8))\n",
        "\n",
        "    def forward(self, x):\n",
        "        x1 = self.enc1(x)\n",
        "        x2 = self.enc2(x1)\n",
        "        x3 = self.enc3(x2)\n",
        "        x4 = self.enc4(x3)\n",
        "        return x1, x2, x3, x4\n",
        "        \n",
        "\"\"\"\n",
        "DSDF (Dual Scale Dense Fusion) Block\n",
        "\"\"\"\n",
        "class DSDF(nn.Module):\n",
        "    def __init__(self, in_ch_x, in_ch_y, nf1 = 128, nf2 = 256, gc = 64, bias = True):\n",
        "        super().__init__()\n",
        "\n",
        "        self.nx1 = nn.Sequential(nn.Conv2d(in_ch_x, gc, kernel_size = (3,3), stride = (1,1), padding = (1,1),bias = bias),\n",
        "        nn.LeakyReLU(negative_slope = 0.25))\n",
        "\n",
        "        self.ny1 = nn.Sequential(nn.Conv2d(in_ch_y, gc, kernel_size = (3,3), stride = (1,1), padding = (1,1), bias = bias),\n",
        "        nn.LeakyReLU(negative_slope = 0.25))\n",
        "\n",
        "        #TO DO\n",
        "        self.nx1c = nn.Sequential(nn.Conv2d(in_ch_x, gc, kernel_size = (4,4), stride = (2,2), padding = (1,1), bias = bias),\n",
        "        nn.LeakyReLU(negative_slope = 0.25))\n",
        "\n",
        "        #TO DO\n",
        "        self.ny1t = nn.Sequential(nn.ConvTranspose2d(in_ch_y, gc, kernel_size = (4,4), stride = (2, 2), padding = (1,1), bias = bias),\n",
        "        nn.LeakyReLU(negative_slope = 0.25))\n",
        "\n",
        "        self.nx2 = nn.Sequential(nn.Conv2d(in_ch_x + gc + gc, gc, kernel_size = (3,3), stride = (1,1), padding = (1,1),bias = bias),\n",
        "        nn.LeakyReLU(negative_slope = 0.25))\n",
        "\n",
        "        self.ny2 = nn.Sequential(nn.Conv2d(in_ch_y + gc + gc, gc, kernel_size = (3,3), stride = (1,1), padding = (1,1),bias = bias),\n",
        "        nn.LeakyReLU(negative_slope = 0.25))\n",
        "\n",
        "        #TO DO\n",
        "        self.nx2c = nn.Sequential(nn.Conv2d(gc, gc, kernel_size = (4,4), stride = (2,2), padding = (1,1), bias = bias),\n",
        "        nn.LeakyReLU(negative_slope = 0.25))\n",
        "\n",
        "        #TO DO\n",
        "        self.ny2t = nn.Sequential(nn.ConvTranspose2d(gc, gc, kernel_size = (4,4), stride = (2,2), padding = (1,1), bias = bias),\n",
        "        nn.LeakyReLU(negative_slope = 0.25))\n",
        "\n",
        "        self.nx3 = nn.Sequential(nn.Conv2d(in_ch_x + gc + gc + gc, gc, kernel_size = (3,3), stride = (1,1), padding = (1,1), bias = bias),\n",
        "        nn.LeakyReLU(negative_slope = 0.25))\n",
        "\n",
        "        self.ny3 = nn.Sequential(nn.Conv2d(in_ch_y + gc + gc + gc, gc, kernel_size = (3,3), stride = (1,1), padding = (1,1), bias = bias),\n",
        "        nn.LeakyReLU(negative_slope = 0.25))\n",
        "\n",
        "        #TO DO\n",
        "        self.nx3c = nn.Sequential(nn.Conv2d(gc, gc, kernel_size = (4,4), stride = (2,2), padding = (1,1), bias = bias),\n",
        "        nn.LeakyReLU(negative_slope = 0.25))\n",
        "\n",
        "        #TO DO\n",
        "        self.ny3t = nn.Sequential(nn.ConvTranspose2d(gc, gc, kernel_size = (4,4), stride = (2,2), padding = (1,1), bias = bias),\n",
        "        nn.LeakyReLU(negative_slope = 0.25))\n",
        "\n",
        "        self.nx4 = nn.Sequential(nn.Conv2d(in_ch_x + gc + gc + gc + gc, gc, kernel_size = (3,3), stride = (1,1), padding = (1,1), bias = bias),\n",
        "        nn.LeakyReLU(negative_slope = 0.25))\n",
        "\n",
        "        self.ny4 = nn.Sequential(nn.Conv2d(in_ch_y + gc + gc + gc + gc, gc, kernel_size = (3,3), stride = (1,1), padding = (1,1), bias = bias),\n",
        "        nn.LeakyReLU(negative_slope = 0.25))\n",
        "\n",
        "        #TO DO\n",
        "        self.nx4c = nn.Sequential(nn.Conv2d(gc, gc, kernel_size = (4,4), stride = (2,2), padding = (1,1), bias = bias),\n",
        "        nn.LeakyReLU(negative_slope = 0.25))\n",
        "\n",
        "        #TO DO\n",
        "        self.ny4t = nn.Sequential(nn.ConvTranspose2d(gc, gc, kernel_size = (4,4), stride = (2,2), padding = (1,1), bias = bias),\n",
        "        nn.LeakyReLU(negative_slope = 0.25))\n",
        "\n",
        "        self.nx5 = nn.Sequential(nn.Conv2d(in_ch_x + gc + gc + gc + gc + gc, nf1, kernel_size = (3,3), stride = (1,1), padding = (1,1), bias = bias),\n",
        "        nn.LeakyReLU(negative_slope = 0.25))\n",
        "\n",
        "        self.ny5 = nn.Sequential(nn.Conv2d(in_ch_y + gc + gc + gc + gc + gc, nf2, kernel_size = (3,3), stride = (1,1), padding = (1,1), bias = bias),\n",
        "        nn.LeakyReLU(negative_slope = 0.25))\n",
        "\n",
        "\n",
        "    def forward(self, x, y):\n",
        "        x1 = self.nx1(x)\n",
        "        y1 = self.ny1(y)\n",
        "\n",
        "        x1c = self.nx1c(x)\n",
        "        y1t = self.ny1t(y)\n",
        "\n",
        "        x2_input = torch.cat([x, x1, y1t], dim = 1)\n",
        "        x2 = self.nx2(x2_input)\n",
        "\n",
        "        y2_input = torch.cat([y, y1, x1c], dim = 1)\n",
        "        y2 = self.ny2(y2_input)\n",
        "\n",
        "        x2c = self.nx2c(x1)\n",
        "        y2t = self.ny2t(y1)\n",
        "\n",
        "        x3_input = torch.cat([x, x1, x2, y2t], dim = 1)\n",
        "        x3 = self.nx3(x3_input)\n",
        "\n",
        "        y3_input = torch.cat([y, y1, y2, x2c], dim = 1)\n",
        "        y3 = self.ny3(y3_input)\n",
        "\n",
        "        x3c = self.nx3c(x2)\n",
        "        y3t = self.ny3t(y2)\n",
        "\n",
        "        x4_input = torch.cat([x, x1, x2, x3, y3t], dim = 1)\n",
        "        x4 = self.nx4(x4_input)\n",
        "\n",
        "        y4_input = torch.cat([y, y1, y2, y3, x3c], dim = 1)\n",
        "        y4 = self.ny4(y4_input)\n",
        "\n",
        "        x4c = self.nx4c(x3)\n",
        "        y4t = self.ny4t(y3)\n",
        "\n",
        "        x5_input = torch.cat([x, x1, x2, x3, x4, y4t], dim = 1)\n",
        "        x5 = self.nx5(x5_input)\n",
        "\n",
        "        y5_input = torch.cat([y, y1, y2, y3, y4, x4c], dim = 1)\n",
        "        y5 = self.ny5(y5_input)\n",
        "        \n",
        "        x5 *= 0.4\n",
        "        y5 *= 0.4\n",
        "\n",
        "        return x5 + x, y5 + y\n",
        "\"\"\"\n",
        "MSRF Sub-Network implementing Multi-Scale Fusion using DSDF Blocks\n",
        "\"\"\"\n",
        "class MSRF_SubNet(nn.Module):\n",
        "    def __init__(self, init_feat):\n",
        "        super().__init__() \n",
        "        self.dsfs_1  = DSDF(init_feat, init_feat*2, nf1=init_feat, nf2=init_feat*2, gc=init_feat//2)\n",
        "        self.dsfs_2  = DSDF(init_feat*4, init_feat*8, nf1=init_feat*4, nf2=init_feat*8, gc=init_feat*4//2)\n",
        "        self.dsfs_3  = DSDF(init_feat, init_feat*2, nf1=init_feat, nf2=init_feat*2, gc=init_feat//2)\n",
        "        self.dsfs_4  = DSDF(init_feat*4, init_feat*8, nf1=init_feat*4, nf2=init_feat*8, gc=init_feat*4//2)\n",
        "        self.dsfs_5  = DSDF(init_feat*2, init_feat*4, nf1=init_feat*2, nf2=init_feat*4, gc=init_feat*2//2)\n",
        "        self.dsfs_6  = DSDF(init_feat, init_feat*2, nf1=init_feat, nf2=init_feat*2, gc=init_feat//2)\n",
        "        self.dsfs_7  = DSDF(init_feat*4, init_feat*8, nf1=init_feat*4, nf2=init_feat*8, gc=init_feat*4//2)\n",
        "        self.dsfs_8  = DSDF(init_feat*2, init_feat*4, nf1=init_feat*2, nf2=init_feat*4, gc=init_feat*2//2)\n",
        "        self.dsfs_9  = DSDF(init_feat, init_feat*2, nf1=init_feat, nf2=init_feat*2, gc=init_feat//2)\n",
        "        self.dsfs_10 = DSDF(init_feat*4, init_feat*8, nf1=init_feat*4, nf2=init_feat*8, gc=init_feat*4//2)\n",
        "\n",
        "    def forward(self, x11, x21, x31, x41):\n",
        "        x12, x22 = self.dsfs_1(x11, x21)\n",
        "        x32, x42 = self.dsfs_2(x31, x41)\n",
        "        x12, x22 = self.dsfs_3(x12, x22)\n",
        "        x32, x42 = self.dsfs_4(x32, x42)\n",
        "        x22, x32 = self.dsfs_5(x22, x32)\n",
        "        x13, x23 = self.dsfs_6(x12, x22)\n",
        "        x33, x43 = self.dsfs_7(x32, x42)\n",
        "        x23, x33 = self.dsfs_8(x23, x33)\n",
        "        x13, x23 = self.dsfs_9(x13, x23)\n",
        "        x33, x43 = self.dsfs_10(x33, x43)\n",
        "\n",
        "        x13 = (x13*0.4) + x11\n",
        "        x23 = (x23*0.4) + x21\n",
        "        x33 = (x33*0.4) + x31\n",
        "        x43 = (x43*0.4) + x41\n",
        "\n",
        "        return x13, x23, x33, x43\n",
        "\n",
        "\"\"\"\n",
        "Gated Convolutions\n",
        "\"\"\"\n",
        "class GatedConv(nn.Conv2d):\n",
        "    def __init__(self, in_channels, out_channels):\n",
        "        super().__init__(in_channels, out_channels, 1, bias=False)\n",
        "        self.attention = nn.Sequential(\n",
        "            nn.BatchNorm2d(in_channels + 1),\n",
        "            nn.Conv2d(in_channels + 1, in_channels + 1, 1),\n",
        "            nn.ReLU(),\n",
        "            nn.Conv2d(in_channels + 1, 1, 1),\n",
        "            nn.BatchNorm2d(1),\n",
        "            nn.Sigmoid()\n",
        "        )\n",
        "\n",
        "    def forward(self, feat, gate):\n",
        "        attention = self.attention(torch.cat((feat, gate), dim=1))\n",
        "        out = F.conv2d(feat * (attention + 1), self.weight)\n",
        "        return out\n",
        "\"\"\"\n",
        "Shape Stream\n",
        "\"\"\"\n",
        "class ShapeStream(nn.Module):\n",
        "    def __init__(self, init_feat):\n",
        "        super().__init__()\n",
        "        self.res2_conv = nn.Conv2d(init_feat * 2, 1, 1)\n",
        "        self.res3_conv = nn.Conv2d(init_feat * 4, 1, 1)\n",
        "        self.res4_conv = nn.Conv2d(init_feat * 8, 1, 1)\n",
        "        self.res1 = BasicBlock(init_feat, init_feat, 1)\n",
        "        self.res2 = BasicBlock(32, 32, 1)\n",
        "        self.res3 = BasicBlock(16, 16, 1)\n",
        "        self.res1_pre = nn.Conv2d(init_feat, 32, 1)\n",
        "        self.res2_pre = nn.Conv2d(32, 16, 1)\n",
        "        self.res3_pre = nn.Conv2d(16, 8, 1)\n",
        "        self.gate1 = GatedConv(32, 32)\n",
        "        self.gate2 = GatedConv(16, 16)\n",
        "        self.gate3 = GatedConv(8, 8)\n",
        "        self.gate = nn.Conv2d(8, 1, 1, bias=False)\n",
        "        self.fuse = nn.Conv2d(2, 1, 1, bias=False)\n",
        "    \n",
        "    def forward(self, x, res2, res3, res4, grad):\n",
        "        size = grad.shape[-2:]\n",
        "        x = F.interpolate(x, size, mode='bilinear', align_corners=True)\n",
        "        res2 = F.interpolate(self.res2_conv(res2), size, mode='bilinear', align_corners=True)\n",
        "        res3 = F.interpolate(self.res3_conv(res3), size, mode='bilinear', align_corners=True)\n",
        "        res4 = F.interpolate(self.res4_conv(res4), size, mode='bilinear', align_corners=True)\n",
        "        gate1 = self.gate1(self.res1_pre(self.res1(x)), res2)\n",
        "        gate2 = self.gate2(self.res2_pre(self.res2(gate1)), res3)\n",
        "        gate3 = self.gate3(self.res3_pre(self.res3(gate2)), res4)\n",
        "        gate = torch.sigmoid(self.gate(gate3))\n",
        "        feat = torch.sigmoid(self.fuse(torch.cat((gate, grad), dim=1)))\n",
        "        return gate, feat\n",
        "\n",
        "class AttentionBlock(nn.Module):\n",
        "    def __init__(self, in_ch_x, in_ch_g, med_ch):\n",
        "        super().__init__()\n",
        "        self.theta = nn.Conv2d(in_ch_x, med_ch, kernel_size=(2, 2), stride=(2, 2), padding=(0, 0), bias=True)\n",
        "        self.phi = nn.Conv2d(in_ch_g, med_ch, kernel_size=(1, 1), stride=(1, 1), padding=(0, 0), bias=True)\n",
        "        self.block = nn.Sequential(nn.ReLU(), nn.Conv2d(med_ch, 1, kernel_size=(1, 1), stride=(1, 1), padding=(0, 0), bias=True),\n",
        "                                   nn.Sigmoid(), nn.ConvTranspose2d(1, 1, kernel_size=(2, 2), stride=(2, 2), padding=(0, 0), bias=True))\n",
        "        self.batchnorm = nn.BatchNorm2d(in_ch_x)\n",
        "\n",
        "    def forward(self, x, g):\n",
        "        theta = self.theta(x) + self.phi(g)\n",
        "        out = self.batchnorm(self.block(theta) * x)\n",
        "        return out\n",
        "\n",
        "class UpBlock(nn.Module):\n",
        "    def __init__(self, inp1_ch, inp2_ch):\n",
        "        super().__init__()\n",
        "        self.up = nn.ConvTranspose2d(inp2_ch, inp1_ch, kernel_size=(2, 2), stride=(2, 2), padding=(0, 0), bias=True)\n",
        "    \n",
        "    def forward(self, input_1, input_2):\n",
        "        x = torch.cat([self.up(input_2), input_1], dim=1)\n",
        "        return x\n",
        "\n",
        "class SpatialATTBlock(nn.Module):\n",
        "    def __init__(self, in_ch, med_ch):\n",
        "        super().__init__()\n",
        "        self.block = nn.Sequential(nn.Conv2d(in_ch, med_ch, kernel_size=(1, 1), stride=(1, 1), padding=(0, 0), bias=True),\n",
        "                                   nn.BatchNorm2d(med_ch),\n",
        "                                   nn.ReLU(),\n",
        "                                   nn.Conv2d(med_ch, 1, kernel_size=(1, 1), stride=(1, 1), padding=(0, 0), bias=True),\n",
        "                                   nn.Sigmoid())\n",
        "    def forward(self, x):\n",
        "        x = self.block(x)\n",
        "        return x\n",
        "\n",
        "class DualATTBlock(nn.Module):\n",
        "    def __init__(self, skip_in_ch, prev_in_ch, out_ch):\n",
        "        super().__init__()\n",
        "        self.prev_block = nn.Sequential(nn.ConvTranspose2d(prev_in_ch, out_ch, kernel_size=(2, 2), stride=(2, 2), padding=(0, 0), bias=True),\n",
        "                                        nn.BatchNorm2d(out_ch),\n",
        "                                        nn.ReLU())\n",
        "        self.block = nn.Sequential(nn.Conv2d(skip_in_ch+out_ch, out_ch, kernel_size=(3, 3), stride=(1, 1), padding=(1, 1), bias=True),\n",
        "                                   nn.BatchNorm2d(out_ch),\n",
        "                                   nn.ReLU())\n",
        "        self.se_block = SE_Block(out_ch, ratio=16)\n",
        "        self.spatial_att = SpatialATTBlock(out_ch, out_ch)\n",
        "    \n",
        "    def forward(self, skip, prev):\n",
        "        prev = self.prev_block(prev)\n",
        "        x = torch.cat([skip, prev], dim=1)\n",
        "        inpt_layer = self.block(x)\n",
        "        se_out = self.se_block(inpt_layer)\n",
        "        sab = self.spatial_att(inpt_layer) + 1\n",
        "\n",
        "        return sab * se_out\n",
        "\n",
        "class Decoder(nn.Module):\n",
        "    def __init__(self, init_feat, n_classes):\n",
        "        super().__init__()\n",
        "        # Stage 1\n",
        "        self.att_1 = AttentionBlock(init_feat*4, init_feat*8, init_feat*8)\n",
        "        self.up_1 = UpBlock(init_feat*4, init_feat*8)\n",
        "        self.dualatt_1 = DualATTBlock(init_feat*4, init_feat*8, init_feat*4)\n",
        "        self.n34_t = nn.Conv2d(init_feat * 4 + init_feat * 8, init_feat * 4, kernel_size=(1, 1), stride=(1, 1), padding=(0, 0))\n",
        "        self.dec_block_1 = nn.Sequential(nn.BatchNorm2d(init_feat*4),\n",
        "                                         nn.ReLU(),\n",
        "                                         nn.Conv2d(init_feat*4, init_feat*4, kernel_size=(3, 3), stride=(1, 1), padding=(1, 1)),\n",
        "                                         nn.BatchNorm2d(init_feat*4),\n",
        "                                         nn.ReLU(),\n",
        "                                         nn.Conv2d(init_feat*4, init_feat*4, kernel_size=(3, 3), stride=(1, 1), padding=(1, 1))\n",
        "                                         )\n",
        "        self.head_dec_1 = nn.Sequential(nn.Conv2d(init_feat*4, n_classes, kernel_size=(1, 1), stride=(1, 1), padding=(0, 0)),\n",
        "                                        #nn.Sigmoid(), #TODO : Inform spanish guy!\n",
        "                                        nn.Upsample(scale_factor=4, mode='bilinear', align_corners=True))\n",
        "\n",
        "        # Stage 2\n",
        "        self.att_2 = AttentionBlock(init_feat * 2, init_feat * 4, init_feat * 2)\n",
        "        self.up_2 = UpBlock(init_feat * 2, init_feat * 4)\n",
        "        self.dualatt_2 = DualATTBlock(init_feat * 2, init_feat * 4, init_feat * 2)\n",
        "        self.n24_t = nn.Conv2d(init_feat * 2 + init_feat * 4, init_feat * 2, kernel_size=(1, 1), stride=(1, 1), padding=(0,0))\n",
        "        self.dec_block_2 = nn.Sequential(nn.BatchNorm2d(init_feat * 2),\n",
        "                                         nn.ReLU(),\n",
        "                                         nn.Conv2d(init_feat * 2, init_feat * 2, kernel_size=(3, 3), stride=(1, 1), padding=(1, 1)),\n",
        "                                         nn.BatchNorm2d(init_feat * 2),\n",
        "                                         nn.ReLU(),\n",
        "                                         nn.Conv2d(init_feat*2, init_feat * 2, kernel_size=(3, 3), stride=(1, 1), padding=(1, 1))\n",
        "                                         )\n",
        "        self.head_dec_2 = nn.Sequential(nn.Conv2d(init_feat * 2, n_classes, kernel_size=(1, 1), stride=(1, 1), padding=(0, 0)),\n",
        "                                        #nn.Sigmoid(), #TODO : Inform spanish guy!\n",
        "                                        nn.Upsample(scale_factor=2, mode='bilinear', align_corners=True))\n",
        "\n",
        "        # Stage 3\n",
        "        self.up_3 = nn.ConvTranspose2d(init_feat * 2, init_feat, kernel_size=(4, 4), stride=(2, 2), padding=(1, 1))\n",
        "        self.n14_input = nn.Sequential(nn.Conv2d(init_feat + init_feat + 1, init_feat, kernel_size=(1, 1), stride=(1, 1), padding=(0, 0)),\n",
        "                                       nn.ReLU()) #TODO : This ain't in the paper!\n",
        "        self.dec_block_3 = nn.Sequential(nn.Conv2d(init_feat, init_feat, kernel_size=(3, 3), stride=(1, 1), padding=(1, 1)), #TODO : Missing 1x1 Conv, ReLu before this\n",
        "                                         nn.ReLU(),\n",
        "                                         nn.BatchNorm2d(init_feat))\n",
        "\n",
        "        self.head_dec_3 = nn.Sequential(nn.Conv2d(init_feat, init_feat, kernel_size=(3, 3), stride=(1, 1), padding=(1, 1)),\n",
        "                                        nn.ReLU(),\n",
        "                                        nn.Conv2d(init_feat, n_classes, kernel_size=(1, 1), stride=(1, 1), padding=(0, 0)))\n",
        "                                        #nn.Sigmoid()) #TODO : Inform spanish guy!\n",
        "        \n",
        "    def forward(self, x13, x33, x43, x23, canny_feat):\n",
        "\n",
        "        # Stage 1\n",
        "        x34_preinput = self.att_1(x33, x43)\n",
        "        x34 = self.up_1(x34_preinput, x43)\n",
        "        x34_t = self.dualatt_1(x33, x43)\n",
        "        x34_t = torch.cat([x34, x34_t], dim=1)\n",
        "        x34_t = self.n34_t(x34_t)\n",
        "        x34 = self.dec_block_1(x34_t) + x34_t\n",
        "        pred_1 = self.head_dec_1(x34)\n",
        "\n",
        "        # Stage 2\n",
        "        x24_preinput = self.att_2(x23, x34)\n",
        "        x24 = self.up_2(x24_preinput, x34)\n",
        "        x24_t = self.dualatt_2(x23, x34)\n",
        "        x24_t = torch.cat([x24, x24_t], dim=1)\n",
        "        x24_t = self.n24_t(x24_t)\n",
        "        x24 = self.dec_block_2(x24_t) + x24_t\n",
        "        pred_2 = self.head_dec_2(x24)\n",
        "\n",
        "        # Stage 3\n",
        "        x14_preinput = self.up_3(x24)\n",
        "        x14_input = torch.cat([x14_preinput, x13, canny_feat], dim=1)\n",
        "        x14_input = self.n14_input(x14_input)\n",
        "        x14 = self.dec_block_3(x14_input)\n",
        "        x14 = x14 + x14_input\n",
        "        pred_3 = self.head_dec_3(x14)\n",
        "\n",
        "        return pred_1, pred_2, pred_3\n",
        "\n",
        "class MSRF(nn.Module):\n",
        "    def __init__(self, in_ch, n_classes, init_feat = 32):\n",
        "        super().__init__()\n",
        "        self.encoder1 = Encoder(in_ch, init_feat)\n",
        "        self.msrf_subnet = MSRF_SubNet(init_feat)\n",
        "        self.shape_stream = ShapeStream(init_feat)\n",
        "        self.decoder = Decoder(init_feat, n_classes)\n",
        "\n",
        "    def forward(self, x, canny):\n",
        "        e1, e2, e3, e4 = self.encoder1(x)\n",
        "        x13, x23, x33, x43 = self.msrf_subnet(e1, e2, e3, e4)\n",
        "        canny_gate, canny_feat = self.shape_stream(x13, x23, x33, x43, canny)\n",
        "        pred_1, pred_2, pred_3 = self.decoder(x13, x33, x43, x23, canny_feat)\n",
        "        return pred_1, pred_2, pred_3, canny_gate"
      ],
      "metadata": {
        "id": "Bzie0oFjQqrY"
      },
      "execution_count": 6,
      "outputs": []
    },
    {
      "cell_type": "markdown",
      "source": [
        "Data Pre-processing"
      ],
      "metadata": {
        "id": "5L4F6kvKRZjw"
      }
    },
    {
      "cell_type": "code",
      "source": [
        "img_list = [] #sorted(glob.glob(\"out/image/*\"))\n",
        "mask_list = [] #sorted(glob.glob(\"out/mask/*\"))\n",
        "\n",
        "for i in range(1, 5):\n",
        "    img_list += sorted(glob.glob(\"out/image/*_\" + str(i) + \".png\"))\n",
        "    mask_list += sorted(glob.glob(\"out/mask/*_\" + str(i) + \".png\"))\n",
        "\n",
        "print(len(img_list))\n",
        "print(len(mask_list))\n",
        "\n",
        "img_data = list(zip(img_list,mask_list))\n",
        "\n",
        "data_len = len(img_data)\n",
        "print(data_len)"
      ],
      "metadata": {
        "colab": {
          "base_uri": "https://localhost:8080/"
        },
        "id": "OyO8TwtFQrD6",
        "outputId": "a8d4af56-2246-44c4-aef6-e038a37cce50"
      },
      "execution_count": 7,
      "outputs": [
        {
          "output_type": "stream",
          "name": "stdout",
          "text": [
            "2448\n",
            "2448\n",
            "2448\n"
          ]
        }
      ]
    },
    {
      "cell_type": "markdown",
      "source": [
        "Hyperparameters"
      ],
      "metadata": {
        "id": "jSPGIboiRhxF"
      }
    },
    {
      "cell_type": "code",
      "source": [
        "learning_rate = 1e-4\n",
        "num_epochs = 50\n",
        "batch_size = 3"
      ],
      "metadata": {
        "id": "B-kI0VzfQrTw"
      },
      "execution_count": 8,
      "outputs": []
    },
    {
      "cell_type": "markdown",
      "source": [
        "Loading Train-Test-Validation Splits"
      ],
      "metadata": {
        "id": "ohfmUBr4RuUh"
      }
    },
    {
      "cell_type": "code",
      "source": [
        "import math\n",
        "\n",
        "print(\"Using old train-val-test split!\")\n",
        "with open(\"/content/drive/MyDrive/Colab Notebooks/train_set.pkl\", 'rb') as f:\n",
        "    train_set = pkl.load(f)\n",
        "with open(\"/content/drive/MyDrive/Colab Notebooks/val_set.pkl\", 'rb') as f:\n",
        "    val_set = pkl.load(f)\n",
        "with open(\"/content/drive/MyDrive/Colab Notebooks/test_set.pkl\", 'rb') as f:\n",
        "    test_set = pkl.load(f)\n",
        "\n",
        "num_batches = math.ceil(len(train_set)/batch_size)"
      ],
      "metadata": {
        "colab": {
          "base_uri": "https://localhost:8080/"
        },
        "id": "w9TcO7CqR1_k",
        "outputId": "6aecd007-2680-4790-c1a0-5f8f3a6426ae"
      },
      "execution_count": 9,
      "outputs": [
        {
          "output_type": "stream",
          "name": "stdout",
          "text": [
            "Using old train-val-test split!\n"
          ]
        }
      ]
    },
    {
      "cell_type": "markdown",
      "source": [
        "Loading data batchwise"
      ],
      "metadata": {
        "id": "rhQKAwIfSHfT"
      }
    },
    {
      "cell_type": "code",
      "source": [
        "#Divide Train Data Into List of Batches for Training Loop\n",
        "train_loader_x = []\n",
        "train_loader_y = []\n",
        "\n",
        "for idx in range(0, len(train_set), batch_size):\n",
        "  if idx + batch_size > len(train_set):\n",
        "    x_tup, y_tup = list(zip(*(list(train_set)[idx:])))\n",
        "  else:\n",
        "    x_tup, y_tup = list(zip(*(list(train_set)[idx:idx + batch_size])))\n",
        "  train_loader_x.append(x_tup)\n",
        "  train_loader_y.append(y_tup)"
      ],
      "metadata": {
        "id": "ZUJltt6bR_Yo"
      },
      "execution_count": 10,
      "outputs": []
    },
    {
      "cell_type": "markdown",
      "source": [
        "Defining Combined Losses"
      ],
      "metadata": {
        "id": "a8UJ5yrrTzqk"
      }
    },
    {
      "cell_type": "code",
      "source": [
        "class CombinedLoss(nn.Module):\n",
        "    def __init__(self):\n",
        "        super().__init__()\n",
        "        self.ce_loss   = nn.CrossEntropyLoss()\n",
        "        self.dice_loss = DiceLoss()\n",
        "        self.bce_loss = nn.BCEWithLogitsLoss()\n",
        "\n",
        "    def forward(self, pred_1, pred_2, pred_3, pred_canny, msk, canny_label):\n",
        "        loss_pred_1 = self.ce_loss(pred_1, msk)# + self.dice_loss(pred_1, msk)\n",
        "        loss_pred_2 = self.ce_loss(pred_2, msk)# + self.dice_loss(pred_2, msk)\n",
        "        loss_pred_3 = self.ce_loss(pred_3, msk)# + self.dice_loss(pred_3, msk)\n",
        "        loss_canny = self.bce_loss(pred_canny, canny_label) #TAKE CARE HERE\n",
        "        loss = loss_pred_3 + loss_pred_1 + loss_pred_2 + loss_canny\n",
        "\n",
        "        return loss"
      ],
      "metadata": {
        "id": "vwV3FvUQT3PF"
      },
      "execution_count": 11,
      "outputs": []
    },
    {
      "cell_type": "markdown",
      "source": [
        "Define Optimizer, Loss function"
      ],
      "metadata": {
        "id": "hHYiiVBpSRWj"
      }
    },
    {
      "cell_type": "code",
      "source": [
        "#tmp = torch.ones(batch_size, 3, 288, 384)\n",
        "print(torch.cuda.memory_allocated() / (1024 * 1024))\n",
        "with torch.no_grad():\n",
        "  msrf_net = MSRF(in_ch = 3, n_classes = 1, init_feat = 32).to(device)\n",
        "\n",
        "#Loading partially trained model\n",
        "#double_u_net.load_state_dict(torch.load(\"/content/drive/MyDrive/Colab Notebooks/double_unet_cvc-clinic_10_33.27252979576588.pt\"))\n",
        "\n",
        "print(torch.cuda.memory_allocated() / (1024 * 1024))\n",
        "# for parameter in double_u_net.parameters():\n",
        "#    print(f\"Parameter = {parameter}\")\n",
        "\n",
        "optimizer = optim.Adam(msrf_net.parameters(), lr = learning_rate, betas=(0.9, 0.999), eps=1e-8)\n",
        "\n",
        "criterion  = CombinedLoss()\n",
        "\n",
        "!nvidia-smi"
      ],
      "metadata": {
        "colab": {
          "base_uri": "https://localhost:8080/"
        },
        "id": "YLk_tGT9R_u9",
        "outputId": "b93c698b-963e-4a68-a155-a98729a8a9a9"
      },
      "execution_count": 12,
      "outputs": [
        {
          "output_type": "stream",
          "name": "stdout",
          "text": [
            "0.0\n",
            "86.337890625\n",
            "Fri Apr 29 00:27:01 2022       \n",
            "+-----------------------------------------------------------------------------+\n",
            "| NVIDIA-SMI 460.32.03    Driver Version: 460.32.03    CUDA Version: 11.2     |\n",
            "|-------------------------------+----------------------+----------------------+\n",
            "| GPU  Name        Persistence-M| Bus-Id        Disp.A | Volatile Uncorr. ECC |\n",
            "| Fan  Temp  Perf  Pwr:Usage/Cap|         Memory-Usage | GPU-Util  Compute M. |\n",
            "|                               |                      |               MIG M. |\n",
            "|===============================+======================+======================|\n",
            "|   0  Tesla T4            Off  | 00000000:00:04.0 Off |                    0 |\n",
            "| N/A   46C    P0    27W /  70W |   1336MiB / 15109MiB |      0%      Default |\n",
            "|                               |                      |                  N/A |\n",
            "+-------------------------------+----------------------+----------------------+\n",
            "                                                                               \n",
            "+-----------------------------------------------------------------------------+\n",
            "| Processes:                                                                  |\n",
            "|  GPU   GI   CI        PID   Type   Process name                  GPU Memory |\n",
            "|        ID   ID                                                   Usage      |\n",
            "|=============================================================================|\n",
            "+-----------------------------------------------------------------------------+\n"
          ]
        }
      ]
    },
    {
      "cell_type": "code",
      "source": [
        "for epochs in tqdm(range(num_epochs)):\n",
        "    running_loss = 0\n",
        "    for idx in tqdm(range(num_batches)):\n",
        "        # Array of CV2 images\n",
        "        cv2_img_data = [read_img(ele) for ele in train_loader_x[idx]]\n",
        "\n",
        "        img_data = [img_to_tensor(cv2_img) for cv2_img in cv2_img_data]\n",
        "        img_data = torch.cat(img_data, dim = 0).to(device)\n",
        "        \n",
        "        canny_data = [torch.FloatTensor(np.asarray(cv2.Canny(cv2.imread(ele), 10, 100), np.float32)/255.0) for ele in train_loader_x[idx]]\n",
        "        canny_data = [t.view(-1, t.shape[0], t.shape[1]) for t in canny_data]\n",
        "        canny_data = torch.stack(canny_data, dim = 0).to(device)\n",
        "\n",
        "        mask_data = [mask_to_tensor(read_mask(ele)) for ele in train_loader_y[idx]]\n",
        "        mask_data = torch.stack(mask_data, dim = 0).to(device)\n",
        "\n",
        "        # print(f'Image shape = {img_data.shape}')\n",
        "        # print(f'Canny shape = {canny_data.shape}')\n",
        "        # print(f'Mask shape = {mask_data.shape}')\n",
        "\n",
        "        # print('Before forward pass ->')\n",
        "        # print(torch.cuda.memory_allocated() / (1024 * 1024))\n",
        "        \n",
        "        pred_1, pred_2, pred_3, pred_canny = msrf_net.forward(img_data.float(), canny_data)\n",
        "        print(pred_1.shape)\n",
        "        print(pred_2.shape)\n",
        "        print(pred_3.shape)\n",
        "        print(pred_canny.shape)\n",
        "\n",
        "        # print('After forward pass ->')\n",
        "        # print(torch.cuda.memory_allocated() / (1024 * 1024))\n",
        "\n",
        "        del img_data\n",
        "        loss = criterion(pred_1, pred_2, pred_3, pred_canny, mask_data, canny_data)\n",
        "        del pred_1, pred_2, pred_3, pred_canny, mask_data, canny_data\n",
        "        optimizer.zero_grad()\n",
        "        loss.backward()\n",
        "\n",
        "        # print('After backward pass ->')\n",
        "        # print(torch.cuda.memory_allocated() / (1024 * 1024))\n",
        "\n",
        "        optimizer.step()\n",
        "        running_loss += float(loss.detach())\n",
        "        del loss\n",
        "        #losses.append(running_loss)\n",
        "        #torch.cuda.empty_cache()\n",
        "        #!nvidia-smi\n",
        "\n",
        "        print('*************')\n",
        "\n",
        "    print(f\"For epoch {epochs + 1}, BCE Loss is {running_loss}\")\n",
        "#     if (epochs + 1) % 5 == 0:\n",
        "#         torch.save(double_u_net.state_dict(), f'/content/drive/MyDrive/Colab Notebooks/double_unet_cvc-clinic_{epochs+1}_{running_loss}.pt')\n",
        "\n",
        "# # Save PyTorch model to disk\n",
        "# torch.save(double_u_net.state_dict(), '/content/drive/MyDrive/Colab Notebooks/double_unet_cvc-clinic.pt')"
      ],
      "metadata": {
        "colab": {
          "base_uri": "https://localhost:8080/",
          "height": 1000
        },
        "id": "sBRuDVp-SADx",
        "outputId": "dcf20cab-850a-4cef-886d-78f3f1053447"
      },
      "execution_count": 13,
      "outputs": [
        {
          "output_type": "stream",
          "name": "stderr",
          "text": [
            "  0%|          | 0/50 [00:00<?, ?it/s]\n",
            "  0%|          | 0/653 [00:00<?, ?it/s]\u001b[A"
          ]
        },
        {
          "output_type": "stream",
          "name": "stdout",
          "text": [
            "torch.Size([3, 1, 288, 384])\n",
            "torch.Size([3, 1, 288, 384])\n",
            "torch.Size([3, 1, 288, 384])\n",
            "torch.Size([3, 1, 288, 384])\n"
          ]
        },
        {
          "output_type": "stream",
          "name": "stderr",
          "text": [
            "\n",
            "  0%|          | 1/653 [00:01<18:39,  1.72s/it]\u001b[A"
          ]
        },
        {
          "output_type": "stream",
          "name": "stdout",
          "text": [
            "*************\n",
            "torch.Size([3, 1, 288, 384])\n",
            "torch.Size([3, 1, 288, 384])\n",
            "torch.Size([3, 1, 288, 384])\n",
            "torch.Size([3, 1, 288, 384])\n"
          ]
        },
        {
          "output_type": "stream",
          "name": "stderr",
          "text": [
            "\n",
            "  0%|          | 2/653 [00:03<16:09,  1.49s/it]\u001b[A"
          ]
        },
        {
          "output_type": "stream",
          "name": "stdout",
          "text": [
            "*************\n",
            "torch.Size([3, 1, 288, 384])\n",
            "torch.Size([3, 1, 288, 384])\n",
            "torch.Size([3, 1, 288, 384])\n",
            "torch.Size([3, 1, 288, 384])\n"
          ]
        },
        {
          "output_type": "stream",
          "name": "stderr",
          "text": [
            "\n",
            "  0%|          | 3/653 [00:04<15:03,  1.39s/it]\u001b[A"
          ]
        },
        {
          "output_type": "stream",
          "name": "stdout",
          "text": [
            "*************\n",
            "torch.Size([3, 1, 288, 384])\n",
            "torch.Size([3, 1, 288, 384])\n",
            "torch.Size([3, 1, 288, 384])\n",
            "torch.Size([3, 1, 288, 384])\n"
          ]
        },
        {
          "output_type": "stream",
          "name": "stderr",
          "text": [
            "\n",
            "  1%|          | 4/653 [00:05<14:32,  1.35s/it]\u001b[A"
          ]
        },
        {
          "output_type": "stream",
          "name": "stdout",
          "text": [
            "*************\n",
            "torch.Size([3, 1, 288, 384])\n",
            "torch.Size([3, 1, 288, 384])\n",
            "torch.Size([3, 1, 288, 384])\n",
            "torch.Size([3, 1, 288, 384])\n"
          ]
        },
        {
          "output_type": "stream",
          "name": "stderr",
          "text": [
            "\n",
            "  1%|          | 5/653 [00:06<14:14,  1.32s/it]\u001b[A"
          ]
        },
        {
          "output_type": "stream",
          "name": "stdout",
          "text": [
            "*************\n",
            "torch.Size([3, 1, 288, 384])\n",
            "torch.Size([3, 1, 288, 384])\n",
            "torch.Size([3, 1, 288, 384])\n",
            "torch.Size([3, 1, 288, 384])\n"
          ]
        },
        {
          "output_type": "stream",
          "name": "stderr",
          "text": [
            "\n",
            "  1%|          | 6/653 [00:08<14:06,  1.31s/it]\u001b[A"
          ]
        },
        {
          "output_type": "stream",
          "name": "stdout",
          "text": [
            "*************\n",
            "torch.Size([3, 1, 288, 384])\n",
            "torch.Size([3, 1, 288, 384])\n",
            "torch.Size([3, 1, 288, 384])\n",
            "torch.Size([3, 1, 288, 384])\n"
          ]
        },
        {
          "output_type": "stream",
          "name": "stderr",
          "text": [
            "\n",
            "  1%|          | 7/653 [00:09<13:57,  1.30s/it]\u001b[A"
          ]
        },
        {
          "output_type": "stream",
          "name": "stdout",
          "text": [
            "*************\n",
            "torch.Size([3, 1, 288, 384])\n",
            "torch.Size([3, 1, 288, 384])\n",
            "torch.Size([3, 1, 288, 384])\n",
            "torch.Size([3, 1, 288, 384])\n"
          ]
        },
        {
          "output_type": "stream",
          "name": "stderr",
          "text": [
            "\n",
            "  1%|          | 8/653 [00:10<13:52,  1.29s/it]\u001b[A"
          ]
        },
        {
          "output_type": "stream",
          "name": "stdout",
          "text": [
            "*************\n",
            "torch.Size([3, 1, 288, 384])\n",
            "torch.Size([3, 1, 288, 384])\n",
            "torch.Size([3, 1, 288, 384])\n",
            "torch.Size([3, 1, 288, 384])\n"
          ]
        },
        {
          "output_type": "stream",
          "name": "stderr",
          "text": [
            "\n",
            "  1%|▏         | 9/653 [00:12<13:52,  1.29s/it]\u001b[A"
          ]
        },
        {
          "output_type": "stream",
          "name": "stdout",
          "text": [
            "*************\n",
            "torch.Size([3, 1, 288, 384])\n",
            "torch.Size([3, 1, 288, 384])\n",
            "torch.Size([3, 1, 288, 384])\n",
            "torch.Size([3, 1, 288, 384])\n"
          ]
        },
        {
          "output_type": "stream",
          "name": "stderr",
          "text": [
            "\n",
            "  2%|▏         | 10/653 [00:13<13:49,  1.29s/it]\u001b[A"
          ]
        },
        {
          "output_type": "stream",
          "name": "stdout",
          "text": [
            "*************\n",
            "torch.Size([3, 1, 288, 384])\n",
            "torch.Size([3, 1, 288, 384])\n",
            "torch.Size([3, 1, 288, 384])\n",
            "torch.Size([3, 1, 288, 384])\n"
          ]
        },
        {
          "output_type": "stream",
          "name": "stderr",
          "text": [
            "\n",
            "  2%|▏         | 11/653 [00:14<13:47,  1.29s/it]\u001b[A"
          ]
        },
        {
          "output_type": "stream",
          "name": "stdout",
          "text": [
            "*************\n",
            "torch.Size([3, 1, 288, 384])\n",
            "torch.Size([3, 1, 288, 384])\n",
            "torch.Size([3, 1, 288, 384])\n",
            "torch.Size([3, 1, 288, 384])\n"
          ]
        },
        {
          "output_type": "stream",
          "name": "stderr",
          "text": [
            "\n",
            "  2%|▏         | 12/653 [00:15<13:46,  1.29s/it]\u001b[A"
          ]
        },
        {
          "output_type": "stream",
          "name": "stdout",
          "text": [
            "*************\n",
            "torch.Size([3, 1, 288, 384])\n",
            "torch.Size([3, 1, 288, 384])\n",
            "torch.Size([3, 1, 288, 384])\n",
            "torch.Size([3, 1, 288, 384])\n"
          ]
        },
        {
          "output_type": "stream",
          "name": "stderr",
          "text": [
            "\n",
            "  2%|▏         | 13/653 [00:17<13:44,  1.29s/it]\u001b[A"
          ]
        },
        {
          "output_type": "stream",
          "name": "stdout",
          "text": [
            "*************\n",
            "torch.Size([3, 1, 288, 384])\n",
            "torch.Size([3, 1, 288, 384])\n",
            "torch.Size([3, 1, 288, 384])\n",
            "torch.Size([3, 1, 288, 384])\n"
          ]
        },
        {
          "output_type": "stream",
          "name": "stderr",
          "text": [
            "\n",
            "  2%|▏         | 14/653 [00:18<13:43,  1.29s/it]\u001b[A"
          ]
        },
        {
          "output_type": "stream",
          "name": "stdout",
          "text": [
            "*************\n",
            "torch.Size([3, 1, 288, 384])\n",
            "torch.Size([3, 1, 288, 384])\n",
            "torch.Size([3, 1, 288, 384])\n",
            "torch.Size([3, 1, 288, 384])\n"
          ]
        },
        {
          "output_type": "stream",
          "name": "stderr",
          "text": [
            "\n",
            "  2%|▏         | 15/653 [00:19<13:42,  1.29s/it]\u001b[A"
          ]
        },
        {
          "output_type": "stream",
          "name": "stdout",
          "text": [
            "*************\n",
            "torch.Size([3, 1, 288, 384])\n",
            "torch.Size([3, 1, 288, 384])\n",
            "torch.Size([3, 1, 288, 384])\n",
            "torch.Size([3, 1, 288, 384])\n"
          ]
        },
        {
          "output_type": "stream",
          "name": "stderr",
          "text": [
            "\n",
            "  2%|▏         | 16/653 [00:21<13:41,  1.29s/it]\u001b[A"
          ]
        },
        {
          "output_type": "stream",
          "name": "stdout",
          "text": [
            "*************\n",
            "torch.Size([3, 1, 288, 384])\n",
            "torch.Size([3, 1, 288, 384])\n",
            "torch.Size([3, 1, 288, 384])\n",
            "torch.Size([3, 1, 288, 384])\n"
          ]
        },
        {
          "output_type": "stream",
          "name": "stderr",
          "text": [
            "\n",
            "  3%|▎         | 17/653 [00:22<13:40,  1.29s/it]\u001b[A"
          ]
        },
        {
          "output_type": "stream",
          "name": "stdout",
          "text": [
            "*************\n",
            "torch.Size([3, 1, 288, 384])\n",
            "torch.Size([3, 1, 288, 384])\n",
            "torch.Size([3, 1, 288, 384])\n",
            "torch.Size([3, 1, 288, 384])\n"
          ]
        },
        {
          "output_type": "stream",
          "name": "stderr",
          "text": [
            "\n",
            "  3%|▎         | 18/653 [00:23<13:40,  1.29s/it]\u001b[A"
          ]
        },
        {
          "output_type": "stream",
          "name": "stdout",
          "text": [
            "*************\n",
            "torch.Size([3, 1, 288, 384])\n",
            "torch.Size([3, 1, 288, 384])\n",
            "torch.Size([3, 1, 288, 384])\n",
            "torch.Size([3, 1, 288, 384])\n"
          ]
        },
        {
          "output_type": "stream",
          "name": "stderr",
          "text": [
            "\n",
            "  3%|▎         | 19/653 [00:24<13:39,  1.29s/it]\u001b[A"
          ]
        },
        {
          "output_type": "stream",
          "name": "stdout",
          "text": [
            "*************\n",
            "torch.Size([3, 1, 288, 384])\n",
            "torch.Size([3, 1, 288, 384])\n",
            "torch.Size([3, 1, 288, 384])\n",
            "torch.Size([3, 1, 288, 384])\n"
          ]
        },
        {
          "output_type": "stream",
          "name": "stderr",
          "text": [
            "\n",
            "  3%|▎         | 20/653 [00:26<13:38,  1.29s/it]\u001b[A"
          ]
        },
        {
          "output_type": "stream",
          "name": "stdout",
          "text": [
            "*************\n",
            "torch.Size([3, 1, 288, 384])\n",
            "torch.Size([3, 1, 288, 384])\n",
            "torch.Size([3, 1, 288, 384])\n",
            "torch.Size([3, 1, 288, 384])\n"
          ]
        },
        {
          "output_type": "stream",
          "name": "stderr",
          "text": [
            "\n",
            "  3%|▎         | 21/653 [00:27<13:39,  1.30s/it]\u001b[A"
          ]
        },
        {
          "output_type": "stream",
          "name": "stdout",
          "text": [
            "*************\n",
            "torch.Size([3, 1, 288, 384])\n",
            "torch.Size([3, 1, 288, 384])\n",
            "torch.Size([3, 1, 288, 384])\n",
            "torch.Size([3, 1, 288, 384])\n"
          ]
        },
        {
          "output_type": "stream",
          "name": "stderr",
          "text": [
            "\n",
            "  3%|▎         | 22/653 [00:28<13:44,  1.31s/it]\u001b[A"
          ]
        },
        {
          "output_type": "stream",
          "name": "stdout",
          "text": [
            "*************\n",
            "torch.Size([3, 1, 288, 384])\n",
            "torch.Size([3, 1, 288, 384])\n",
            "torch.Size([3, 1, 288, 384])\n",
            "torch.Size([3, 1, 288, 384])\n"
          ]
        },
        {
          "output_type": "stream",
          "name": "stderr",
          "text": [
            "\n",
            "  4%|▎         | 23/653 [00:30<13:50,  1.32s/it]\u001b[A"
          ]
        },
        {
          "output_type": "stream",
          "name": "stdout",
          "text": [
            "*************\n",
            "torch.Size([3, 1, 288, 384])\n",
            "torch.Size([3, 1, 288, 384])\n",
            "torch.Size([3, 1, 288, 384])\n",
            "torch.Size([3, 1, 288, 384])\n"
          ]
        },
        {
          "output_type": "stream",
          "name": "stderr",
          "text": [
            "\n",
            "  4%|▎         | 24/653 [00:31<13:45,  1.31s/it]\u001b[A"
          ]
        },
        {
          "output_type": "stream",
          "name": "stdout",
          "text": [
            "*************\n",
            "torch.Size([3, 1, 288, 384])\n",
            "torch.Size([3, 1, 288, 384])\n",
            "torch.Size([3, 1, 288, 384])\n",
            "torch.Size([3, 1, 288, 384])\n"
          ]
        },
        {
          "output_type": "stream",
          "name": "stderr",
          "text": [
            "\n",
            "  4%|▍         | 25/653 [00:32<13:41,  1.31s/it]\u001b[A"
          ]
        },
        {
          "output_type": "stream",
          "name": "stdout",
          "text": [
            "*************\n",
            "torch.Size([3, 1, 288, 384])\n",
            "torch.Size([3, 1, 288, 384])\n",
            "torch.Size([3, 1, 288, 384])\n",
            "torch.Size([3, 1, 288, 384])\n"
          ]
        },
        {
          "output_type": "stream",
          "name": "stderr",
          "text": [
            "\n",
            "  4%|▍         | 26/653 [00:34<13:39,  1.31s/it]\u001b[A"
          ]
        },
        {
          "output_type": "stream",
          "name": "stdout",
          "text": [
            "*************\n",
            "torch.Size([3, 1, 288, 384])\n",
            "torch.Size([3, 1, 288, 384])\n",
            "torch.Size([3, 1, 288, 384])\n",
            "torch.Size([3, 1, 288, 384])\n"
          ]
        },
        {
          "output_type": "stream",
          "name": "stderr",
          "text": [
            "\n",
            "  4%|▍         | 27/653 [00:35<13:37,  1.31s/it]\u001b[A"
          ]
        },
        {
          "output_type": "stream",
          "name": "stdout",
          "text": [
            "*************\n",
            "torch.Size([3, 1, 288, 384])\n",
            "torch.Size([3, 1, 288, 384])\n",
            "torch.Size([3, 1, 288, 384])\n",
            "torch.Size([3, 1, 288, 384])\n"
          ]
        },
        {
          "output_type": "stream",
          "name": "stderr",
          "text": [
            "\n",
            "  4%|▍         | 28/653 [00:36<13:36,  1.31s/it]\u001b[A"
          ]
        },
        {
          "output_type": "stream",
          "name": "stdout",
          "text": [
            "*************\n",
            "torch.Size([3, 1, 288, 384])\n",
            "torch.Size([3, 1, 288, 384])\n",
            "torch.Size([3, 1, 288, 384])\n",
            "torch.Size([3, 1, 288, 384])\n"
          ]
        },
        {
          "output_type": "stream",
          "name": "stderr",
          "text": [
            "\n",
            "  4%|▍         | 29/653 [00:37<13:34,  1.31s/it]\u001b[A"
          ]
        },
        {
          "output_type": "stream",
          "name": "stdout",
          "text": [
            "*************\n",
            "torch.Size([3, 1, 288, 384])\n",
            "torch.Size([3, 1, 288, 384])\n",
            "torch.Size([3, 1, 288, 384])\n",
            "torch.Size([3, 1, 288, 384])\n"
          ]
        },
        {
          "output_type": "stream",
          "name": "stderr",
          "text": [
            "\n",
            "  5%|▍         | 30/653 [00:39<13:32,  1.30s/it]\u001b[A"
          ]
        },
        {
          "output_type": "stream",
          "name": "stdout",
          "text": [
            "*************\n",
            "torch.Size([3, 1, 288, 384])\n",
            "torch.Size([3, 1, 288, 384])\n",
            "torch.Size([3, 1, 288, 384])\n",
            "torch.Size([3, 1, 288, 384])\n"
          ]
        },
        {
          "output_type": "stream",
          "name": "stderr",
          "text": [
            "\n",
            "  5%|▍         | 31/653 [00:40<13:40,  1.32s/it]\u001b[A"
          ]
        },
        {
          "output_type": "stream",
          "name": "stdout",
          "text": [
            "*************\n",
            "torch.Size([3, 1, 288, 384])\n",
            "torch.Size([3, 1, 288, 384])\n",
            "torch.Size([3, 1, 288, 384])\n",
            "torch.Size([3, 1, 288, 384])\n"
          ]
        },
        {
          "output_type": "stream",
          "name": "stderr",
          "text": [
            "\n",
            "  5%|▍         | 32/653 [00:42<13:50,  1.34s/it]\u001b[A"
          ]
        },
        {
          "output_type": "stream",
          "name": "stdout",
          "text": [
            "*************\n",
            "torch.Size([3, 1, 288, 384])\n",
            "torch.Size([3, 1, 288, 384])\n",
            "torch.Size([3, 1, 288, 384])\n",
            "torch.Size([3, 1, 288, 384])\n"
          ]
        },
        {
          "output_type": "stream",
          "name": "stderr",
          "text": [
            "\n",
            "  5%|▌         | 33/653 [00:43<14:04,  1.36s/it]\u001b[A"
          ]
        },
        {
          "output_type": "stream",
          "name": "stdout",
          "text": [
            "*************\n",
            "torch.Size([3, 1, 288, 384])\n",
            "torch.Size([3, 1, 288, 384])\n",
            "torch.Size([3, 1, 288, 384])\n",
            "torch.Size([3, 1, 288, 384])\n"
          ]
        },
        {
          "output_type": "stream",
          "name": "stderr",
          "text": [
            "\n",
            "  5%|▌         | 34/653 [00:44<14:17,  1.38s/it]\u001b[A"
          ]
        },
        {
          "output_type": "stream",
          "name": "stdout",
          "text": [
            "*************\n",
            "torch.Size([3, 1, 288, 384])\n",
            "torch.Size([3, 1, 288, 384])\n",
            "torch.Size([3, 1, 288, 384])\n",
            "torch.Size([3, 1, 288, 384])\n"
          ]
        },
        {
          "output_type": "stream",
          "name": "stderr",
          "text": [
            "\n",
            "  5%|▌         | 35/653 [00:46<14:01,  1.36s/it]\u001b[A"
          ]
        },
        {
          "output_type": "stream",
          "name": "stdout",
          "text": [
            "*************\n",
            "torch.Size([3, 1, 288, 384])\n",
            "torch.Size([3, 1, 288, 384])\n",
            "torch.Size([3, 1, 288, 384])\n",
            "torch.Size([3, 1, 288, 384])\n"
          ]
        },
        {
          "output_type": "stream",
          "name": "stderr",
          "text": [
            "\n",
            "  6%|▌         | 36/653 [00:47<13:51,  1.35s/it]\u001b[A"
          ]
        },
        {
          "output_type": "stream",
          "name": "stdout",
          "text": [
            "*************\n",
            "torch.Size([3, 1, 288, 384])\n",
            "torch.Size([3, 1, 288, 384])\n",
            "torch.Size([3, 1, 288, 384])\n",
            "torch.Size([3, 1, 288, 384])\n"
          ]
        },
        {
          "output_type": "stream",
          "name": "stderr",
          "text": [
            "\n",
            "  6%|▌         | 37/653 [00:48<13:43,  1.34s/it]\u001b[A"
          ]
        },
        {
          "output_type": "stream",
          "name": "stdout",
          "text": [
            "*************\n",
            "torch.Size([3, 1, 288, 384])\n",
            "torch.Size([3, 1, 288, 384])\n",
            "torch.Size([3, 1, 288, 384])\n",
            "torch.Size([3, 1, 288, 384])\n"
          ]
        },
        {
          "output_type": "stream",
          "name": "stderr",
          "text": [
            "\n",
            "  6%|▌         | 38/653 [00:50<13:38,  1.33s/it]\u001b[A"
          ]
        },
        {
          "output_type": "stream",
          "name": "stdout",
          "text": [
            "*************\n",
            "torch.Size([3, 1, 288, 384])\n",
            "torch.Size([3, 1, 288, 384])\n",
            "torch.Size([3, 1, 288, 384])\n",
            "torch.Size([3, 1, 288, 384])\n"
          ]
        },
        {
          "output_type": "stream",
          "name": "stderr",
          "text": [
            "\n",
            "  6%|▌         | 39/653 [00:51<13:35,  1.33s/it]\u001b[A"
          ]
        },
        {
          "output_type": "stream",
          "name": "stdout",
          "text": [
            "*************\n",
            "torch.Size([3, 1, 288, 384])\n",
            "torch.Size([3, 1, 288, 384])\n",
            "torch.Size([3, 1, 288, 384])\n",
            "torch.Size([3, 1, 288, 384])\n"
          ]
        },
        {
          "output_type": "stream",
          "name": "stderr",
          "text": [
            "\n",
            "  6%|▌         | 40/653 [00:52<13:34,  1.33s/it]\u001b[A"
          ]
        },
        {
          "output_type": "stream",
          "name": "stdout",
          "text": [
            "*************\n",
            "torch.Size([3, 1, 288, 384])\n",
            "torch.Size([3, 1, 288, 384])\n",
            "torch.Size([3, 1, 288, 384])\n",
            "torch.Size([3, 1, 288, 384])\n"
          ]
        },
        {
          "output_type": "stream",
          "name": "stderr",
          "text": [
            "\n",
            "  6%|▋         | 41/653 [00:54<13:31,  1.33s/it]\u001b[A"
          ]
        },
        {
          "output_type": "stream",
          "name": "stdout",
          "text": [
            "*************\n",
            "torch.Size([3, 1, 288, 384])\n",
            "torch.Size([3, 1, 288, 384])\n",
            "torch.Size([3, 1, 288, 384])\n",
            "torch.Size([3, 1, 288, 384])\n"
          ]
        },
        {
          "output_type": "stream",
          "name": "stderr",
          "text": [
            "\n",
            "  6%|▋         | 42/653 [00:55<13:28,  1.32s/it]\u001b[A"
          ]
        },
        {
          "output_type": "stream",
          "name": "stdout",
          "text": [
            "*************\n",
            "torch.Size([3, 1, 288, 384])\n",
            "torch.Size([3, 1, 288, 384])\n",
            "torch.Size([3, 1, 288, 384])\n",
            "torch.Size([3, 1, 288, 384])\n"
          ]
        },
        {
          "output_type": "stream",
          "name": "stderr",
          "text": [
            "\n",
            "  7%|▋         | 43/653 [00:56<13:27,  1.32s/it]\u001b[A"
          ]
        },
        {
          "output_type": "stream",
          "name": "stdout",
          "text": [
            "*************\n",
            "torch.Size([3, 1, 288, 384])\n",
            "torch.Size([3, 1, 288, 384])\n",
            "torch.Size([3, 1, 288, 384])\n",
            "torch.Size([3, 1, 288, 384])\n"
          ]
        },
        {
          "output_type": "stream",
          "name": "stderr",
          "text": [
            "\n",
            "  7%|▋         | 44/653 [00:58<13:26,  1.32s/it]\u001b[A"
          ]
        },
        {
          "output_type": "stream",
          "name": "stdout",
          "text": [
            "*************\n",
            "torch.Size([3, 1, 288, 384])\n",
            "torch.Size([3, 1, 288, 384])\n",
            "torch.Size([3, 1, 288, 384])\n",
            "torch.Size([3, 1, 288, 384])\n"
          ]
        },
        {
          "output_type": "stream",
          "name": "stderr",
          "text": [
            "\n",
            "  7%|▋         | 45/653 [00:59<13:34,  1.34s/it]\u001b[A"
          ]
        },
        {
          "output_type": "stream",
          "name": "stdout",
          "text": [
            "*************\n",
            "torch.Size([3, 1, 288, 384])\n",
            "torch.Size([3, 1, 288, 384])\n",
            "torch.Size([3, 1, 288, 384])\n",
            "torch.Size([3, 1, 288, 384])\n"
          ]
        },
        {
          "output_type": "stream",
          "name": "stderr",
          "text": [
            "\n",
            "  7%|▋         | 46/653 [01:00<13:34,  1.34s/it]\u001b[A"
          ]
        },
        {
          "output_type": "stream",
          "name": "stdout",
          "text": [
            "*************\n",
            "torch.Size([3, 1, 288, 384])\n",
            "torch.Size([3, 1, 288, 384])\n",
            "torch.Size([3, 1, 288, 384])\n",
            "torch.Size([3, 1, 288, 384])\n"
          ]
        },
        {
          "output_type": "stream",
          "name": "stderr",
          "text": [
            "\n",
            "  7%|▋         | 47/653 [01:02<13:30,  1.34s/it]\u001b[A"
          ]
        },
        {
          "output_type": "stream",
          "name": "stdout",
          "text": [
            "*************\n",
            "torch.Size([3, 1, 288, 384])\n",
            "torch.Size([3, 1, 288, 384])\n",
            "torch.Size([3, 1, 288, 384])\n",
            "torch.Size([3, 1, 288, 384])\n"
          ]
        },
        {
          "output_type": "stream",
          "name": "stderr",
          "text": [
            "\n",
            "  7%|▋         | 48/653 [01:03<13:27,  1.34s/it]\u001b[A"
          ]
        },
        {
          "output_type": "stream",
          "name": "stdout",
          "text": [
            "*************\n",
            "torch.Size([3, 1, 288, 384])\n",
            "torch.Size([3, 1, 288, 384])\n",
            "torch.Size([3, 1, 288, 384])\n",
            "torch.Size([3, 1, 288, 384])\n"
          ]
        },
        {
          "output_type": "stream",
          "name": "stderr",
          "text": [
            "\n",
            "  8%|▊         | 49/653 [01:04<13:27,  1.34s/it]\u001b[A"
          ]
        },
        {
          "output_type": "stream",
          "name": "stdout",
          "text": [
            "*************\n",
            "torch.Size([3, 1, 288, 384])\n",
            "torch.Size([3, 1, 288, 384])\n",
            "torch.Size([3, 1, 288, 384])\n",
            "torch.Size([3, 1, 288, 384])\n"
          ]
        },
        {
          "output_type": "stream",
          "name": "stderr",
          "text": [
            "\n",
            "  8%|▊         | 50/653 [01:06<13:24,  1.33s/it]\u001b[A"
          ]
        },
        {
          "output_type": "stream",
          "name": "stdout",
          "text": [
            "*************\n",
            "torch.Size([3, 1, 288, 384])\n",
            "torch.Size([3, 1, 288, 384])\n",
            "torch.Size([3, 1, 288, 384])\n",
            "torch.Size([3, 1, 288, 384])\n"
          ]
        },
        {
          "output_type": "stream",
          "name": "stderr",
          "text": [
            "\n",
            "  8%|▊         | 51/653 [01:07<13:22,  1.33s/it]\u001b[A"
          ]
        },
        {
          "output_type": "stream",
          "name": "stdout",
          "text": [
            "*************\n",
            "torch.Size([3, 1, 288, 384])\n",
            "torch.Size([3, 1, 288, 384])\n",
            "torch.Size([3, 1, 288, 384])\n",
            "torch.Size([3, 1, 288, 384])\n"
          ]
        },
        {
          "output_type": "stream",
          "name": "stderr",
          "text": [
            "\n",
            "  8%|▊         | 52/653 [01:08<13:22,  1.33s/it]\u001b[A"
          ]
        },
        {
          "output_type": "stream",
          "name": "stdout",
          "text": [
            "*************\n",
            "torch.Size([3, 1, 288, 384])\n",
            "torch.Size([3, 1, 288, 384])\n",
            "torch.Size([3, 1, 288, 384])\n",
            "torch.Size([3, 1, 288, 384])\n"
          ]
        },
        {
          "output_type": "stream",
          "name": "stderr",
          "text": [
            "\n",
            "  8%|▊         | 53/653 [01:10<13:21,  1.34s/it]\u001b[A"
          ]
        },
        {
          "output_type": "stream",
          "name": "stdout",
          "text": [
            "*************\n",
            "torch.Size([3, 1, 288, 384])\n",
            "torch.Size([3, 1, 288, 384])\n",
            "torch.Size([3, 1, 288, 384])\n",
            "torch.Size([3, 1, 288, 384])\n"
          ]
        },
        {
          "output_type": "stream",
          "name": "stderr",
          "text": [
            "\n",
            "  8%|▊         | 54/653 [01:11<13:19,  1.33s/it]\u001b[A"
          ]
        },
        {
          "output_type": "stream",
          "name": "stdout",
          "text": [
            "*************\n",
            "torch.Size([3, 1, 288, 384])\n",
            "torch.Size([3, 1, 288, 384])\n",
            "torch.Size([3, 1, 288, 384])\n",
            "torch.Size([3, 1, 288, 384])\n"
          ]
        },
        {
          "output_type": "stream",
          "name": "stderr",
          "text": [
            "\n",
            "  8%|▊         | 55/653 [01:12<13:17,  1.33s/it]\u001b[A"
          ]
        },
        {
          "output_type": "stream",
          "name": "stdout",
          "text": [
            "*************\n",
            "torch.Size([3, 1, 288, 384])\n",
            "torch.Size([3, 1, 288, 384])\n",
            "torch.Size([3, 1, 288, 384])\n",
            "torch.Size([3, 1, 288, 384])\n"
          ]
        },
        {
          "output_type": "stream",
          "name": "stderr",
          "text": [
            "\n",
            "  9%|▊         | 56/653 [01:14<13:17,  1.34s/it]\u001b[A"
          ]
        },
        {
          "output_type": "stream",
          "name": "stdout",
          "text": [
            "*************\n",
            "torch.Size([3, 1, 288, 384])\n",
            "torch.Size([3, 1, 288, 384])\n",
            "torch.Size([3, 1, 288, 384])\n",
            "torch.Size([3, 1, 288, 384])\n"
          ]
        },
        {
          "output_type": "stream",
          "name": "stderr",
          "text": [
            "\n",
            "  9%|▊         | 57/653 [01:15<13:16,  1.34s/it]\u001b[A"
          ]
        },
        {
          "output_type": "stream",
          "name": "stdout",
          "text": [
            "*************\n",
            "torch.Size([3, 1, 288, 384])\n",
            "torch.Size([3, 1, 288, 384])\n",
            "torch.Size([3, 1, 288, 384])\n",
            "torch.Size([3, 1, 288, 384])\n"
          ]
        },
        {
          "output_type": "stream",
          "name": "stderr",
          "text": [
            "\n",
            "  9%|▉         | 58/653 [01:16<13:15,  1.34s/it]\u001b[A"
          ]
        },
        {
          "output_type": "stream",
          "name": "stdout",
          "text": [
            "*************\n",
            "torch.Size([3, 1, 288, 384])\n",
            "torch.Size([3, 1, 288, 384])\n",
            "torch.Size([3, 1, 288, 384])\n",
            "torch.Size([3, 1, 288, 384])\n"
          ]
        },
        {
          "output_type": "stream",
          "name": "stderr",
          "text": [
            "\n",
            "  9%|▉         | 59/653 [01:18<13:14,  1.34s/it]\u001b[A"
          ]
        },
        {
          "output_type": "stream",
          "name": "stdout",
          "text": [
            "*************\n",
            "torch.Size([3, 1, 288, 384])\n",
            "torch.Size([3, 1, 288, 384])\n",
            "torch.Size([3, 1, 288, 384])\n",
            "torch.Size([3, 1, 288, 384])\n"
          ]
        },
        {
          "output_type": "stream",
          "name": "stderr",
          "text": [
            "\n",
            "  9%|▉         | 60/653 [01:19<13:12,  1.34s/it]\u001b[A"
          ]
        },
        {
          "output_type": "stream",
          "name": "stdout",
          "text": [
            "*************\n",
            "torch.Size([3, 1, 288, 384])\n",
            "torch.Size([3, 1, 288, 384])\n",
            "torch.Size([3, 1, 288, 384])\n",
            "torch.Size([3, 1, 288, 384])\n"
          ]
        },
        {
          "output_type": "stream",
          "name": "stderr",
          "text": [
            "\n",
            "  9%|▉         | 61/653 [01:20<13:11,  1.34s/it]\u001b[A"
          ]
        },
        {
          "output_type": "stream",
          "name": "stdout",
          "text": [
            "*************\n",
            "torch.Size([3, 1, 288, 384])\n",
            "torch.Size([3, 1, 288, 384])\n",
            "torch.Size([3, 1, 288, 384])\n",
            "torch.Size([3, 1, 288, 384])\n"
          ]
        },
        {
          "output_type": "stream",
          "name": "stderr",
          "text": [
            "\n",
            "  9%|▉         | 62/653 [01:22<13:09,  1.34s/it]\u001b[A"
          ]
        },
        {
          "output_type": "stream",
          "name": "stdout",
          "text": [
            "*************\n",
            "torch.Size([3, 1, 288, 384])\n",
            "torch.Size([3, 1, 288, 384])\n",
            "torch.Size([3, 1, 288, 384])\n",
            "torch.Size([3, 1, 288, 384])\n"
          ]
        },
        {
          "output_type": "stream",
          "name": "stderr",
          "text": [
            "\n",
            " 10%|▉         | 63/653 [01:23<13:10,  1.34s/it]\u001b[A"
          ]
        },
        {
          "output_type": "stream",
          "name": "stdout",
          "text": [
            "*************\n",
            "torch.Size([3, 1, 288, 384])\n",
            "torch.Size([3, 1, 288, 384])\n",
            "torch.Size([3, 1, 288, 384])\n",
            "torch.Size([3, 1, 288, 384])\n"
          ]
        },
        {
          "output_type": "stream",
          "name": "stderr",
          "text": [
            "\n",
            " 10%|▉         | 64/653 [01:24<13:08,  1.34s/it]\u001b[A"
          ]
        },
        {
          "output_type": "stream",
          "name": "stdout",
          "text": [
            "*************\n",
            "torch.Size([3, 1, 288, 384])\n",
            "torch.Size([3, 1, 288, 384])\n",
            "torch.Size([3, 1, 288, 384])\n",
            "torch.Size([3, 1, 288, 384])\n"
          ]
        },
        {
          "output_type": "stream",
          "name": "stderr",
          "text": [
            "\n",
            " 10%|▉         | 65/653 [01:26<13:07,  1.34s/it]\u001b[A"
          ]
        },
        {
          "output_type": "stream",
          "name": "stdout",
          "text": [
            "*************\n",
            "torch.Size([3, 1, 288, 384])\n",
            "torch.Size([3, 1, 288, 384])\n",
            "torch.Size([3, 1, 288, 384])\n",
            "torch.Size([3, 1, 288, 384])\n"
          ]
        },
        {
          "output_type": "stream",
          "name": "stderr",
          "text": [
            "\n",
            " 10%|█         | 66/653 [01:27<13:07,  1.34s/it]\u001b[A"
          ]
        },
        {
          "output_type": "stream",
          "name": "stdout",
          "text": [
            "*************\n",
            "torch.Size([3, 1, 288, 384])\n",
            "torch.Size([3, 1, 288, 384])\n",
            "torch.Size([3, 1, 288, 384])\n",
            "torch.Size([3, 1, 288, 384])\n"
          ]
        },
        {
          "output_type": "stream",
          "name": "stderr",
          "text": [
            "\n",
            " 10%|█         | 67/653 [01:28<13:05,  1.34s/it]\u001b[A"
          ]
        },
        {
          "output_type": "stream",
          "name": "stdout",
          "text": [
            "*************\n",
            "torch.Size([3, 1, 288, 384])\n",
            "torch.Size([3, 1, 288, 384])\n",
            "torch.Size([3, 1, 288, 384])\n",
            "torch.Size([3, 1, 288, 384])\n"
          ]
        },
        {
          "output_type": "stream",
          "name": "stderr",
          "text": [
            "\n",
            " 10%|█         | 68/653 [01:30<13:05,  1.34s/it]\u001b[A"
          ]
        },
        {
          "output_type": "stream",
          "name": "stdout",
          "text": [
            "*************\n",
            "torch.Size([3, 1, 288, 384])\n",
            "torch.Size([3, 1, 288, 384])\n",
            "torch.Size([3, 1, 288, 384])\n",
            "torch.Size([3, 1, 288, 384])\n"
          ]
        },
        {
          "output_type": "stream",
          "name": "stderr",
          "text": [
            "\n",
            " 11%|█         | 69/653 [01:31<13:05,  1.34s/it]\u001b[A"
          ]
        },
        {
          "output_type": "stream",
          "name": "stdout",
          "text": [
            "*************\n",
            "torch.Size([3, 1, 288, 384])\n",
            "torch.Size([3, 1, 288, 384])\n",
            "torch.Size([3, 1, 288, 384])\n",
            "torch.Size([3, 1, 288, 384])\n"
          ]
        },
        {
          "output_type": "stream",
          "name": "stderr",
          "text": [
            "\n",
            " 11%|█         | 70/653 [01:32<13:03,  1.34s/it]\u001b[A"
          ]
        },
        {
          "output_type": "stream",
          "name": "stdout",
          "text": [
            "*************\n",
            "torch.Size([3, 1, 288, 384])\n",
            "torch.Size([3, 1, 288, 384])\n",
            "torch.Size([3, 1, 288, 384])\n",
            "torch.Size([3, 1, 288, 384])\n"
          ]
        },
        {
          "output_type": "stream",
          "name": "stderr",
          "text": [
            "\n",
            " 11%|█         | 71/653 [01:34<13:15,  1.37s/it]\u001b[A"
          ]
        },
        {
          "output_type": "stream",
          "name": "stdout",
          "text": [
            "*************\n",
            "torch.Size([3, 1, 288, 384])\n",
            "torch.Size([3, 1, 288, 384])\n",
            "torch.Size([3, 1, 288, 384])\n",
            "torch.Size([3, 1, 288, 384])\n"
          ]
        },
        {
          "output_type": "stream",
          "name": "stderr",
          "text": [
            "\n",
            " 11%|█         | 72/653 [01:35<13:13,  1.37s/it]\u001b[A"
          ]
        },
        {
          "output_type": "stream",
          "name": "stdout",
          "text": [
            "*************\n",
            "torch.Size([3, 1, 288, 384])\n",
            "torch.Size([3, 1, 288, 384])\n",
            "torch.Size([3, 1, 288, 384])\n",
            "torch.Size([3, 1, 288, 384])\n"
          ]
        },
        {
          "output_type": "stream",
          "name": "stderr",
          "text": [
            "\n",
            " 11%|█         | 73/653 [01:37<13:09,  1.36s/it]\u001b[A"
          ]
        },
        {
          "output_type": "stream",
          "name": "stdout",
          "text": [
            "*************\n",
            "torch.Size([3, 1, 288, 384])\n",
            "torch.Size([3, 1, 288, 384])\n",
            "torch.Size([3, 1, 288, 384])\n",
            "torch.Size([3, 1, 288, 384])\n"
          ]
        },
        {
          "output_type": "stream",
          "name": "stderr",
          "text": [
            "\n",
            " 11%|█▏        | 74/653 [01:38<13:05,  1.36s/it]\u001b[A"
          ]
        },
        {
          "output_type": "stream",
          "name": "stdout",
          "text": [
            "*************\n",
            "torch.Size([3, 1, 288, 384])\n",
            "torch.Size([3, 1, 288, 384])\n",
            "torch.Size([3, 1, 288, 384])\n",
            "torch.Size([3, 1, 288, 384])\n"
          ]
        },
        {
          "output_type": "stream",
          "name": "stderr",
          "text": [
            "\n",
            " 11%|█▏        | 75/653 [01:39<13:03,  1.35s/it]\u001b[A"
          ]
        },
        {
          "output_type": "stream",
          "name": "stdout",
          "text": [
            "*************\n",
            "torch.Size([3, 1, 288, 384])\n",
            "torch.Size([3, 1, 288, 384])\n",
            "torch.Size([3, 1, 288, 384])\n",
            "torch.Size([3, 1, 288, 384])\n"
          ]
        },
        {
          "output_type": "stream",
          "name": "stderr",
          "text": [
            "\n",
            " 12%|█▏        | 76/653 [01:41<13:01,  1.35s/it]\u001b[A"
          ]
        },
        {
          "output_type": "stream",
          "name": "stdout",
          "text": [
            "*************\n",
            "torch.Size([3, 1, 288, 384])\n",
            "torch.Size([3, 1, 288, 384])\n",
            "torch.Size([3, 1, 288, 384])\n",
            "torch.Size([3, 1, 288, 384])\n"
          ]
        },
        {
          "output_type": "stream",
          "name": "stderr",
          "text": [
            "\n",
            " 12%|█▏        | 77/653 [01:42<12:58,  1.35s/it]\u001b[A"
          ]
        },
        {
          "output_type": "stream",
          "name": "stdout",
          "text": [
            "*************\n",
            "torch.Size([3, 1, 288, 384])\n",
            "torch.Size([3, 1, 288, 384])\n",
            "torch.Size([3, 1, 288, 384])\n",
            "torch.Size([3, 1, 288, 384])\n"
          ]
        },
        {
          "output_type": "stream",
          "name": "stderr",
          "text": [
            "\n",
            " 12%|█▏        | 78/653 [01:43<12:57,  1.35s/it]\u001b[A"
          ]
        },
        {
          "output_type": "stream",
          "name": "stdout",
          "text": [
            "*************\n",
            "torch.Size([3, 1, 288, 384])\n",
            "torch.Size([3, 1, 288, 384])\n",
            "torch.Size([3, 1, 288, 384])\n",
            "torch.Size([3, 1, 288, 384])\n"
          ]
        },
        {
          "output_type": "stream",
          "name": "stderr",
          "text": [
            "\n",
            " 12%|█▏        | 79/653 [01:45<12:54,  1.35s/it]\u001b[A"
          ]
        },
        {
          "output_type": "stream",
          "name": "stdout",
          "text": [
            "*************\n",
            "torch.Size([3, 1, 288, 384])\n",
            "torch.Size([3, 1, 288, 384])\n",
            "torch.Size([3, 1, 288, 384])\n",
            "torch.Size([3, 1, 288, 384])\n"
          ]
        },
        {
          "output_type": "stream",
          "name": "stderr",
          "text": [
            "\n",
            " 12%|█▏        | 80/653 [01:46<12:54,  1.35s/it]\u001b[A"
          ]
        },
        {
          "output_type": "stream",
          "name": "stdout",
          "text": [
            "*************\n",
            "torch.Size([3, 1, 288, 384])\n",
            "torch.Size([3, 1, 288, 384])\n",
            "torch.Size([3, 1, 288, 384])\n",
            "torch.Size([3, 1, 288, 384])\n"
          ]
        },
        {
          "output_type": "stream",
          "name": "stderr",
          "text": [
            "\n",
            " 12%|█▏        | 81/653 [01:47<12:53,  1.35s/it]\u001b[A"
          ]
        },
        {
          "output_type": "stream",
          "name": "stdout",
          "text": [
            "*************\n",
            "torch.Size([3, 1, 288, 384])\n",
            "torch.Size([3, 1, 288, 384])\n",
            "torch.Size([3, 1, 288, 384])\n",
            "torch.Size([3, 1, 288, 384])\n"
          ]
        },
        {
          "output_type": "stream",
          "name": "stderr",
          "text": [
            "\n",
            " 13%|█▎        | 82/653 [01:49<12:51,  1.35s/it]\u001b[A"
          ]
        },
        {
          "output_type": "stream",
          "name": "stdout",
          "text": [
            "*************\n",
            "torch.Size([3, 1, 288, 384])\n",
            "torch.Size([3, 1, 288, 384])\n",
            "torch.Size([3, 1, 288, 384])\n",
            "torch.Size([3, 1, 288, 384])\n"
          ]
        },
        {
          "output_type": "stream",
          "name": "stderr",
          "text": [
            "\n",
            " 13%|█▎        | 83/653 [01:50<12:51,  1.35s/it]\u001b[A"
          ]
        },
        {
          "output_type": "stream",
          "name": "stdout",
          "text": [
            "*************\n",
            "torch.Size([3, 1, 288, 384])\n",
            "torch.Size([3, 1, 288, 384])\n",
            "torch.Size([3, 1, 288, 384])\n",
            "torch.Size([3, 1, 288, 384])\n"
          ]
        },
        {
          "output_type": "stream",
          "name": "stderr",
          "text": [
            "\n",
            " 13%|█▎        | 84/653 [01:51<12:49,  1.35s/it]\u001b[A"
          ]
        },
        {
          "output_type": "stream",
          "name": "stdout",
          "text": [
            "*************\n",
            "torch.Size([3, 1, 288, 384])\n",
            "torch.Size([3, 1, 288, 384])\n",
            "torch.Size([3, 1, 288, 384])\n",
            "torch.Size([3, 1, 288, 384])\n"
          ]
        },
        {
          "output_type": "stream",
          "name": "stderr",
          "text": [
            "\n",
            " 13%|█▎        | 85/653 [01:53<12:47,  1.35s/it]\u001b[A"
          ]
        },
        {
          "output_type": "stream",
          "name": "stdout",
          "text": [
            "*************\n",
            "torch.Size([3, 1, 288, 384])\n",
            "torch.Size([3, 1, 288, 384])\n",
            "torch.Size([3, 1, 288, 384])\n",
            "torch.Size([3, 1, 288, 384])\n"
          ]
        },
        {
          "output_type": "stream",
          "name": "stderr",
          "text": [
            "\n",
            " 13%|█▎        | 86/653 [01:54<12:46,  1.35s/it]\u001b[A"
          ]
        },
        {
          "output_type": "stream",
          "name": "stdout",
          "text": [
            "*************\n",
            "torch.Size([3, 1, 288, 384])\n",
            "torch.Size([3, 1, 288, 384])\n",
            "torch.Size([3, 1, 288, 384])\n",
            "torch.Size([3, 1, 288, 384])\n"
          ]
        },
        {
          "output_type": "stream",
          "name": "stderr",
          "text": [
            "\n",
            " 13%|█▎        | 87/653 [01:55<12:47,  1.36s/it]\u001b[A"
          ]
        },
        {
          "output_type": "stream",
          "name": "stdout",
          "text": [
            "*************\n",
            "torch.Size([3, 1, 288, 384])\n",
            "torch.Size([3, 1, 288, 384])\n",
            "torch.Size([3, 1, 288, 384])\n",
            "torch.Size([3, 1, 288, 384])\n"
          ]
        },
        {
          "output_type": "stream",
          "name": "stderr",
          "text": [
            "\n",
            " 13%|█▎        | 88/653 [01:57<12:47,  1.36s/it]\u001b[A"
          ]
        },
        {
          "output_type": "stream",
          "name": "stdout",
          "text": [
            "*************\n",
            "torch.Size([3, 1, 288, 384])\n",
            "torch.Size([3, 1, 288, 384])\n",
            "torch.Size([3, 1, 288, 384])\n",
            "torch.Size([3, 1, 288, 384])\n"
          ]
        },
        {
          "output_type": "stream",
          "name": "stderr",
          "text": [
            "\n",
            " 14%|█▎        | 89/653 [01:58<12:46,  1.36s/it]\u001b[A"
          ]
        },
        {
          "output_type": "stream",
          "name": "stdout",
          "text": [
            "*************\n",
            "torch.Size([3, 1, 288, 384])\n",
            "torch.Size([3, 1, 288, 384])\n",
            "torch.Size([3, 1, 288, 384])\n",
            "torch.Size([3, 1, 288, 384])\n"
          ]
        },
        {
          "output_type": "stream",
          "name": "stderr",
          "text": [
            "\n",
            " 14%|█▍        | 90/653 [02:00<12:45,  1.36s/it]\u001b[A"
          ]
        },
        {
          "output_type": "stream",
          "name": "stdout",
          "text": [
            "*************\n",
            "torch.Size([3, 1, 288, 384])\n",
            "torch.Size([3, 1, 288, 384])\n",
            "torch.Size([3, 1, 288, 384])\n",
            "torch.Size([3, 1, 288, 384])\n"
          ]
        },
        {
          "output_type": "stream",
          "name": "stderr",
          "text": [
            "\n",
            " 14%|█▍        | 91/653 [02:01<12:44,  1.36s/it]\u001b[A"
          ]
        },
        {
          "output_type": "stream",
          "name": "stdout",
          "text": [
            "*************\n",
            "torch.Size([3, 1, 288, 384])\n",
            "torch.Size([3, 1, 288, 384])\n",
            "torch.Size([3, 1, 288, 384])\n",
            "torch.Size([3, 1, 288, 384])\n"
          ]
        },
        {
          "output_type": "stream",
          "name": "stderr",
          "text": [
            "\n",
            " 14%|█▍        | 92/653 [02:02<12:43,  1.36s/it]\u001b[A"
          ]
        },
        {
          "output_type": "stream",
          "name": "stdout",
          "text": [
            "*************\n",
            "torch.Size([3, 1, 288, 384])\n",
            "torch.Size([3, 1, 288, 384])\n",
            "torch.Size([3, 1, 288, 384])\n",
            "torch.Size([3, 1, 288, 384])\n"
          ]
        },
        {
          "output_type": "stream",
          "name": "stderr",
          "text": [
            "\n",
            " 14%|█▍        | 93/653 [02:04<12:42,  1.36s/it]\u001b[A"
          ]
        },
        {
          "output_type": "stream",
          "name": "stdout",
          "text": [
            "*************\n",
            "torch.Size([3, 1, 288, 384])\n",
            "torch.Size([3, 1, 288, 384])\n",
            "torch.Size([3, 1, 288, 384])\n",
            "torch.Size([3, 1, 288, 384])\n"
          ]
        },
        {
          "output_type": "stream",
          "name": "stderr",
          "text": [
            "\n",
            " 14%|█▍        | 94/653 [02:05<12:42,  1.36s/it]\u001b[A"
          ]
        },
        {
          "output_type": "stream",
          "name": "stdout",
          "text": [
            "*************\n",
            "torch.Size([3, 1, 288, 384])\n",
            "torch.Size([3, 1, 288, 384])\n",
            "torch.Size([3, 1, 288, 384])\n",
            "torch.Size([3, 1, 288, 384])\n"
          ]
        },
        {
          "output_type": "stream",
          "name": "stderr",
          "text": [
            "\n",
            " 15%|█▍        | 95/653 [02:06<12:40,  1.36s/it]\u001b[A"
          ]
        },
        {
          "output_type": "stream",
          "name": "stdout",
          "text": [
            "*************\n",
            "torch.Size([3, 1, 288, 384])\n",
            "torch.Size([3, 1, 288, 384])\n",
            "torch.Size([3, 1, 288, 384])\n",
            "torch.Size([3, 1, 288, 384])\n"
          ]
        },
        {
          "output_type": "stream",
          "name": "stderr",
          "text": [
            "\n",
            " 15%|█▍        | 96/653 [02:08<12:38,  1.36s/it]\u001b[A"
          ]
        },
        {
          "output_type": "stream",
          "name": "stdout",
          "text": [
            "*************\n",
            "torch.Size([3, 1, 288, 384])\n",
            "torch.Size([3, 1, 288, 384])\n",
            "torch.Size([3, 1, 288, 384])\n",
            "torch.Size([3, 1, 288, 384])\n"
          ]
        },
        {
          "output_type": "stream",
          "name": "stderr",
          "text": [
            "\n",
            " 15%|█▍        | 97/653 [02:09<12:37,  1.36s/it]\u001b[A"
          ]
        },
        {
          "output_type": "stream",
          "name": "stdout",
          "text": [
            "*************\n",
            "torch.Size([3, 1, 288, 384])\n",
            "torch.Size([3, 1, 288, 384])\n",
            "torch.Size([3, 1, 288, 384])\n",
            "torch.Size([3, 1, 288, 384])\n"
          ]
        },
        {
          "output_type": "stream",
          "name": "stderr",
          "text": [
            "\n",
            " 15%|█▌        | 98/653 [02:10<12:35,  1.36s/it]\u001b[A"
          ]
        },
        {
          "output_type": "stream",
          "name": "stdout",
          "text": [
            "*************\n",
            "torch.Size([3, 1, 288, 384])\n",
            "torch.Size([3, 1, 288, 384])\n",
            "torch.Size([3, 1, 288, 384])\n",
            "torch.Size([3, 1, 288, 384])\n"
          ]
        },
        {
          "output_type": "stream",
          "name": "stderr",
          "text": [
            "\n",
            " 15%|█▌        | 99/653 [02:12<12:34,  1.36s/it]\u001b[A"
          ]
        },
        {
          "output_type": "stream",
          "name": "stdout",
          "text": [
            "*************\n",
            "torch.Size([3, 1, 288, 384])\n",
            "torch.Size([3, 1, 288, 384])\n",
            "torch.Size([3, 1, 288, 384])\n",
            "torch.Size([3, 1, 288, 384])\n"
          ]
        },
        {
          "output_type": "stream",
          "name": "stderr",
          "text": [
            "\n",
            " 15%|█▌        | 100/653 [02:13<12:34,  1.36s/it]\u001b[A"
          ]
        },
        {
          "output_type": "stream",
          "name": "stdout",
          "text": [
            "*************\n",
            "torch.Size([3, 1, 288, 384])\n",
            "torch.Size([3, 1, 288, 384])\n",
            "torch.Size([3, 1, 288, 384])\n",
            "torch.Size([3, 1, 288, 384])\n"
          ]
        },
        {
          "output_type": "stream",
          "name": "stderr",
          "text": [
            "\n",
            " 15%|█▌        | 101/653 [02:15<12:32,  1.36s/it]\u001b[A"
          ]
        },
        {
          "output_type": "stream",
          "name": "stdout",
          "text": [
            "*************\n",
            "torch.Size([3, 1, 288, 384])\n",
            "torch.Size([3, 1, 288, 384])\n",
            "torch.Size([3, 1, 288, 384])\n",
            "torch.Size([3, 1, 288, 384])\n"
          ]
        },
        {
          "output_type": "stream",
          "name": "stderr",
          "text": [
            "\n",
            " 16%|█▌        | 102/653 [02:16<12:22,  1.35s/it]\u001b[A"
          ]
        },
        {
          "output_type": "stream",
          "name": "stdout",
          "text": [
            "*************\n",
            "torch.Size([3, 1, 288, 384])\n",
            "torch.Size([3, 1, 288, 384])\n",
            "torch.Size([3, 1, 288, 384])\n",
            "torch.Size([3, 1, 288, 384])\n"
          ]
        },
        {
          "output_type": "stream",
          "name": "stderr",
          "text": [
            "\n",
            " 16%|█▌        | 103/653 [02:17<12:21,  1.35s/it]\u001b[A"
          ]
        },
        {
          "output_type": "stream",
          "name": "stdout",
          "text": [
            "*************\n",
            "torch.Size([3, 1, 288, 384])\n",
            "torch.Size([3, 1, 288, 384])\n",
            "torch.Size([3, 1, 288, 384])\n",
            "torch.Size([3, 1, 288, 384])\n"
          ]
        },
        {
          "output_type": "stream",
          "name": "stderr",
          "text": [
            "\n",
            " 16%|█▌        | 104/653 [02:19<12:12,  1.33s/it]\u001b[A"
          ]
        },
        {
          "output_type": "stream",
          "name": "stdout",
          "text": [
            "*************\n",
            "torch.Size([3, 1, 288, 384])\n",
            "torch.Size([3, 1, 288, 384])\n",
            "torch.Size([3, 1, 288, 384])\n",
            "torch.Size([3, 1, 288, 384])\n"
          ]
        },
        {
          "output_type": "stream",
          "name": "stderr",
          "text": [
            "\n",
            " 16%|█▌        | 105/653 [02:20<12:18,  1.35s/it]\u001b[A"
          ]
        },
        {
          "output_type": "stream",
          "name": "stdout",
          "text": [
            "*************\n",
            "torch.Size([3, 1, 288, 384])\n",
            "torch.Size([3, 1, 288, 384])\n",
            "torch.Size([3, 1, 288, 384])\n",
            "torch.Size([3, 1, 288, 384])\n"
          ]
        },
        {
          "output_type": "stream",
          "name": "stderr",
          "text": [
            "\n",
            " 16%|█▌        | 106/653 [02:21<12:21,  1.36s/it]\u001b[A"
          ]
        },
        {
          "output_type": "stream",
          "name": "stdout",
          "text": [
            "*************\n",
            "torch.Size([3, 1, 288, 384])\n",
            "torch.Size([3, 1, 288, 384])\n",
            "torch.Size([3, 1, 288, 384])\n",
            "torch.Size([3, 1, 288, 384])\n"
          ]
        },
        {
          "output_type": "stream",
          "name": "stderr",
          "text": [
            "\n",
            " 16%|█▋        | 107/653 [02:23<12:13,  1.34s/it]\u001b[A"
          ]
        },
        {
          "output_type": "stream",
          "name": "stdout",
          "text": [
            "*************\n",
            "torch.Size([3, 1, 288, 384])\n",
            "torch.Size([3, 1, 288, 384])\n",
            "torch.Size([3, 1, 288, 384])\n",
            "torch.Size([3, 1, 288, 384])\n"
          ]
        },
        {
          "output_type": "stream",
          "name": "stderr",
          "text": [
            "\n",
            " 17%|█▋        | 108/653 [02:24<12:15,  1.35s/it]\u001b[A"
          ]
        },
        {
          "output_type": "stream",
          "name": "stdout",
          "text": [
            "*************\n",
            "torch.Size([3, 1, 288, 384])\n",
            "torch.Size([3, 1, 288, 384])\n",
            "torch.Size([3, 1, 288, 384])\n",
            "torch.Size([3, 1, 288, 384])\n"
          ]
        },
        {
          "output_type": "stream",
          "name": "stderr",
          "text": [
            "\n",
            " 17%|█▋        | 109/653 [02:25<12:16,  1.35s/it]\u001b[A"
          ]
        },
        {
          "output_type": "stream",
          "name": "stdout",
          "text": [
            "*************\n",
            "torch.Size([3, 1, 288, 384])\n",
            "torch.Size([3, 1, 288, 384])\n",
            "torch.Size([3, 1, 288, 384])\n",
            "torch.Size([3, 1, 288, 384])\n"
          ]
        },
        {
          "output_type": "stream",
          "name": "stderr",
          "text": [
            "\n",
            " 17%|█▋        | 110/653 [02:27<12:15,  1.35s/it]\u001b[A"
          ]
        },
        {
          "output_type": "stream",
          "name": "stdout",
          "text": [
            "*************\n",
            "torch.Size([3, 1, 288, 384])\n",
            "torch.Size([3, 1, 288, 384])\n",
            "torch.Size([3, 1, 288, 384])\n",
            "torch.Size([3, 1, 288, 384])\n"
          ]
        },
        {
          "output_type": "stream",
          "name": "stderr",
          "text": [
            "\n",
            " 17%|█▋        | 111/653 [02:28<12:17,  1.36s/it]\u001b[A"
          ]
        },
        {
          "output_type": "stream",
          "name": "stdout",
          "text": [
            "*************\n",
            "torch.Size([3, 1, 288, 384])\n",
            "torch.Size([3, 1, 288, 384])\n",
            "torch.Size([3, 1, 288, 384])\n",
            "torch.Size([3, 1, 288, 384])\n"
          ]
        },
        {
          "output_type": "stream",
          "name": "stderr",
          "text": [
            "\n",
            " 17%|█▋        | 112/653 [02:29<12:13,  1.36s/it]\u001b[A"
          ]
        },
        {
          "output_type": "stream",
          "name": "stdout",
          "text": [
            "*************\n",
            "torch.Size([3, 1, 288, 384])\n",
            "torch.Size([3, 1, 288, 384])\n",
            "torch.Size([3, 1, 288, 384])\n",
            "torch.Size([3, 1, 288, 384])\n"
          ]
        },
        {
          "output_type": "stream",
          "name": "stderr",
          "text": [
            "\n",
            " 17%|█▋        | 113/653 [02:31<12:04,  1.34s/it]\u001b[A"
          ]
        },
        {
          "output_type": "stream",
          "name": "stdout",
          "text": [
            "*************\n",
            "torch.Size([3, 1, 288, 384])\n",
            "torch.Size([3, 1, 288, 384])\n",
            "torch.Size([3, 1, 288, 384])\n",
            "torch.Size([3, 1, 288, 384])\n"
          ]
        },
        {
          "output_type": "stream",
          "name": "stderr",
          "text": [
            "\n",
            " 17%|█▋        | 114/653 [02:32<12:07,  1.35s/it]\u001b[A"
          ]
        },
        {
          "output_type": "stream",
          "name": "stdout",
          "text": [
            "*************\n",
            "torch.Size([3, 1, 288, 384])\n",
            "torch.Size([3, 1, 288, 384])\n",
            "torch.Size([3, 1, 288, 384])\n",
            "torch.Size([3, 1, 288, 384])\n"
          ]
        },
        {
          "output_type": "stream",
          "name": "stderr",
          "text": [
            "\n",
            " 18%|█▊        | 115/653 [02:33<12:09,  1.36s/it]\u001b[A"
          ]
        },
        {
          "output_type": "stream",
          "name": "stdout",
          "text": [
            "*************\n",
            "torch.Size([3, 1, 288, 384])\n",
            "torch.Size([3, 1, 288, 384])\n",
            "torch.Size([3, 1, 288, 384])\n",
            "torch.Size([3, 1, 288, 384])\n"
          ]
        },
        {
          "output_type": "stream",
          "name": "stderr",
          "text": [
            "\n",
            " 18%|█▊        | 116/653 [02:35<12:01,  1.34s/it]\u001b[A"
          ]
        },
        {
          "output_type": "stream",
          "name": "stdout",
          "text": [
            "*************\n",
            "torch.Size([3, 1, 288, 384])\n",
            "torch.Size([3, 1, 288, 384])\n",
            "torch.Size([3, 1, 288, 384])\n",
            "torch.Size([3, 1, 288, 384])\n"
          ]
        },
        {
          "output_type": "stream",
          "name": "stderr",
          "text": [
            "\n",
            " 18%|█▊        | 117/653 [02:36<11:57,  1.34s/it]\u001b[A"
          ]
        },
        {
          "output_type": "stream",
          "name": "stdout",
          "text": [
            "*************\n",
            "torch.Size([3, 1, 288, 384])\n",
            "torch.Size([3, 1, 288, 384])\n",
            "torch.Size([3, 1, 288, 384])\n",
            "torch.Size([3, 1, 288, 384])\n"
          ]
        },
        {
          "output_type": "stream",
          "name": "stderr",
          "text": [
            "\n",
            " 18%|█▊        | 118/653 [02:37<12:00,  1.35s/it]\u001b[A"
          ]
        },
        {
          "output_type": "stream",
          "name": "stdout",
          "text": [
            "*************\n",
            "torch.Size([3, 1, 288, 384])\n",
            "torch.Size([3, 1, 288, 384])\n",
            "torch.Size([3, 1, 288, 384])\n",
            "torch.Size([3, 1, 288, 384])\n"
          ]
        },
        {
          "output_type": "stream",
          "name": "stderr",
          "text": [
            "\n",
            " 18%|█▊        | 119/653 [02:39<11:53,  1.34s/it]\u001b[A"
          ]
        },
        {
          "output_type": "stream",
          "name": "stdout",
          "text": [
            "*************\n",
            "torch.Size([3, 1, 288, 384])\n",
            "torch.Size([3, 1, 288, 384])\n",
            "torch.Size([3, 1, 288, 384])\n",
            "torch.Size([3, 1, 288, 384])\n"
          ]
        },
        {
          "output_type": "stream",
          "name": "stderr",
          "text": [
            "\n",
            " 18%|█▊        | 120/653 [02:40<11:49,  1.33s/it]\u001b[A"
          ]
        },
        {
          "output_type": "stream",
          "name": "stdout",
          "text": [
            "*************\n",
            "torch.Size([3, 1, 288, 384])\n",
            "torch.Size([3, 1, 288, 384])\n",
            "torch.Size([3, 1, 288, 384])\n",
            "torch.Size([3, 1, 288, 384])\n"
          ]
        },
        {
          "output_type": "stream",
          "name": "stderr",
          "text": [
            "\n",
            " 19%|█▊        | 121/653 [02:41<11:51,  1.34s/it]\u001b[A"
          ]
        },
        {
          "output_type": "stream",
          "name": "stdout",
          "text": [
            "*************\n",
            "torch.Size([3, 1, 288, 384])\n",
            "torch.Size([3, 1, 288, 384])\n",
            "torch.Size([3, 1, 288, 384])\n",
            "torch.Size([3, 1, 288, 384])\n"
          ]
        },
        {
          "output_type": "stream",
          "name": "stderr",
          "text": [
            "\n",
            " 19%|█▊        | 122/653 [02:43<11:47,  1.33s/it]\u001b[A"
          ]
        },
        {
          "output_type": "stream",
          "name": "stdout",
          "text": [
            "*************\n",
            "torch.Size([3, 1, 288, 384])\n",
            "torch.Size([3, 1, 288, 384])\n",
            "torch.Size([3, 1, 288, 384])\n",
            "torch.Size([3, 1, 288, 384])\n"
          ]
        },
        {
          "output_type": "stream",
          "name": "stderr",
          "text": [
            "\n",
            " 19%|█▉        | 123/653 [02:44<11:44,  1.33s/it]\u001b[A"
          ]
        },
        {
          "output_type": "stream",
          "name": "stdout",
          "text": [
            "*************\n",
            "torch.Size([3, 1, 288, 384])\n",
            "torch.Size([3, 1, 288, 384])\n",
            "torch.Size([3, 1, 288, 384])\n",
            "torch.Size([3, 1, 288, 384])\n"
          ]
        },
        {
          "output_type": "stream",
          "name": "stderr",
          "text": [
            "\n",
            " 19%|█▉        | 124/653 [02:45<11:41,  1.33s/it]\u001b[A"
          ]
        },
        {
          "output_type": "stream",
          "name": "stdout",
          "text": [
            "*************\n",
            "torch.Size([3, 1, 288, 384])\n",
            "torch.Size([3, 1, 288, 384])\n",
            "torch.Size([3, 1, 288, 384])\n",
            "torch.Size([3, 1, 288, 384])\n"
          ]
        },
        {
          "output_type": "stream",
          "name": "stderr",
          "text": [
            "\n",
            " 19%|█▉        | 125/653 [02:47<11:44,  1.33s/it]\u001b[A"
          ]
        },
        {
          "output_type": "stream",
          "name": "stdout",
          "text": [
            "*************\n",
            "torch.Size([3, 1, 288, 384])\n",
            "torch.Size([3, 1, 288, 384])\n",
            "torch.Size([3, 1, 288, 384])\n",
            "torch.Size([3, 1, 288, 384])\n"
          ]
        },
        {
          "output_type": "stream",
          "name": "stderr",
          "text": [
            "\n",
            " 19%|█▉        | 126/653 [02:48<11:49,  1.35s/it]\u001b[A"
          ]
        },
        {
          "output_type": "stream",
          "name": "stdout",
          "text": [
            "*************\n",
            "torch.Size([3, 1, 288, 384])\n",
            "torch.Size([3, 1, 288, 384])\n",
            "torch.Size([3, 1, 288, 384])\n",
            "torch.Size([3, 1, 288, 384])\n"
          ]
        },
        {
          "output_type": "stream",
          "name": "stderr",
          "text": [
            "\n",
            " 19%|█▉        | 127/653 [02:49<11:53,  1.36s/it]\u001b[A"
          ]
        },
        {
          "output_type": "stream",
          "name": "stdout",
          "text": [
            "*************\n",
            "torch.Size([3, 1, 288, 384])\n",
            "torch.Size([3, 1, 288, 384])\n",
            "torch.Size([3, 1, 288, 384])\n",
            "torch.Size([3, 1, 288, 384])\n"
          ]
        },
        {
          "output_type": "stream",
          "name": "stderr",
          "text": [
            "\n",
            " 20%|█▉        | 128/653 [02:51<11:47,  1.35s/it]\u001b[A"
          ]
        },
        {
          "output_type": "stream",
          "name": "stdout",
          "text": [
            "*************\n",
            "torch.Size([3, 1, 288, 384])\n",
            "torch.Size([3, 1, 288, 384])\n",
            "torch.Size([3, 1, 288, 384])\n",
            "torch.Size([3, 1, 288, 384])\n"
          ]
        },
        {
          "output_type": "stream",
          "name": "stderr",
          "text": [
            "\n",
            " 20%|█▉        | 129/653 [02:52<11:41,  1.34s/it]\u001b[A"
          ]
        },
        {
          "output_type": "stream",
          "name": "stdout",
          "text": [
            "*************\n",
            "torch.Size([3, 1, 288, 384])\n",
            "torch.Size([3, 1, 288, 384])\n",
            "torch.Size([3, 1, 288, 384])\n",
            "torch.Size([3, 1, 288, 384])\n"
          ]
        },
        {
          "output_type": "stream",
          "name": "stderr",
          "text": [
            "\n",
            " 20%|█▉        | 130/653 [02:53<11:43,  1.35s/it]\u001b[A"
          ]
        },
        {
          "output_type": "stream",
          "name": "stdout",
          "text": [
            "*************\n",
            "torch.Size([3, 1, 288, 384])\n",
            "torch.Size([3, 1, 288, 384])\n",
            "torch.Size([3, 1, 288, 384])\n",
            "torch.Size([3, 1, 288, 384])\n"
          ]
        },
        {
          "output_type": "stream",
          "name": "stderr",
          "text": [
            "\n",
            " 20%|██        | 131/653 [02:55<11:39,  1.34s/it]\u001b[A"
          ]
        },
        {
          "output_type": "stream",
          "name": "stdout",
          "text": [
            "*************\n",
            "torch.Size([3, 1, 288, 384])\n",
            "torch.Size([3, 1, 288, 384])\n",
            "torch.Size([3, 1, 288, 384])\n",
            "torch.Size([3, 1, 288, 384])\n"
          ]
        },
        {
          "output_type": "stream",
          "name": "stderr",
          "text": [
            "\n",
            " 20%|██        | 132/653 [02:56<11:35,  1.33s/it]\u001b[A"
          ]
        },
        {
          "output_type": "stream",
          "name": "stdout",
          "text": [
            "*************\n",
            "torch.Size([3, 1, 288, 384])\n",
            "torch.Size([3, 1, 288, 384])\n",
            "torch.Size([3, 1, 288, 384])\n",
            "torch.Size([3, 1, 288, 384])\n"
          ]
        },
        {
          "output_type": "stream",
          "name": "stderr",
          "text": [
            "\n",
            " 20%|██        | 133/653 [02:57<11:33,  1.33s/it]\u001b[A"
          ]
        },
        {
          "output_type": "stream",
          "name": "stdout",
          "text": [
            "*************\n",
            "torch.Size([3, 1, 288, 384])\n",
            "torch.Size([3, 1, 288, 384])\n",
            "torch.Size([3, 1, 288, 384])\n",
            "torch.Size([3, 1, 288, 384])\n"
          ]
        },
        {
          "output_type": "stream",
          "name": "stderr",
          "text": [
            "\n",
            " 21%|██        | 134/653 [02:59<11:31,  1.33s/it]\u001b[A"
          ]
        },
        {
          "output_type": "stream",
          "name": "stdout",
          "text": [
            "*************\n",
            "torch.Size([3, 1, 288, 384])\n",
            "torch.Size([3, 1, 288, 384])\n",
            "torch.Size([3, 1, 288, 384])\n",
            "torch.Size([3, 1, 288, 384])\n"
          ]
        },
        {
          "output_type": "stream",
          "name": "stderr",
          "text": [
            "\n",
            " 21%|██        | 135/653 [03:00<11:29,  1.33s/it]\u001b[A"
          ]
        },
        {
          "output_type": "stream",
          "name": "stdout",
          "text": [
            "*************\n",
            "torch.Size([3, 1, 288, 384])\n",
            "torch.Size([3, 1, 288, 384])\n",
            "torch.Size([3, 1, 288, 384])\n",
            "torch.Size([3, 1, 288, 384])\n"
          ]
        },
        {
          "output_type": "stream",
          "name": "stderr",
          "text": [
            "\n",
            " 21%|██        | 136/653 [03:01<11:28,  1.33s/it]\u001b[A"
          ]
        },
        {
          "output_type": "stream",
          "name": "stdout",
          "text": [
            "*************\n",
            "torch.Size([3, 1, 288, 384])\n",
            "torch.Size([3, 1, 288, 384])\n",
            "torch.Size([3, 1, 288, 384])\n",
            "torch.Size([3, 1, 288, 384])\n"
          ]
        },
        {
          "output_type": "stream",
          "name": "stderr",
          "text": [
            "\n",
            " 21%|██        | 137/653 [03:03<11:36,  1.35s/it]\u001b[A"
          ]
        },
        {
          "output_type": "stream",
          "name": "stdout",
          "text": [
            "*************\n",
            "torch.Size([3, 1, 288, 384])\n",
            "torch.Size([3, 1, 288, 384])\n",
            "torch.Size([3, 1, 288, 384])\n",
            "torch.Size([3, 1, 288, 384])\n"
          ]
        },
        {
          "output_type": "stream",
          "name": "stderr",
          "text": [
            "\n",
            " 21%|██        | 138/653 [03:04<11:32,  1.34s/it]\u001b[A"
          ]
        },
        {
          "output_type": "stream",
          "name": "stdout",
          "text": [
            "*************\n",
            "torch.Size([3, 1, 288, 384])\n",
            "torch.Size([3, 1, 288, 384])\n",
            "torch.Size([3, 1, 288, 384])\n",
            "torch.Size([3, 1, 288, 384])\n"
          ]
        },
        {
          "output_type": "stream",
          "name": "stderr",
          "text": [
            "\n",
            " 21%|██▏       | 139/653 [03:06<11:34,  1.35s/it]\u001b[A"
          ]
        },
        {
          "output_type": "stream",
          "name": "stdout",
          "text": [
            "*************\n",
            "torch.Size([3, 1, 288, 384])\n",
            "torch.Size([3, 1, 288, 384])\n",
            "torch.Size([3, 1, 288, 384])\n",
            "torch.Size([3, 1, 288, 384])\n"
          ]
        },
        {
          "output_type": "stream",
          "name": "stderr",
          "text": [
            "\n",
            " 21%|██▏       | 140/653 [03:07<11:29,  1.34s/it]\u001b[A"
          ]
        },
        {
          "output_type": "stream",
          "name": "stdout",
          "text": [
            "*************\n",
            "torch.Size([3, 1, 288, 384])\n",
            "torch.Size([3, 1, 288, 384])\n",
            "torch.Size([3, 1, 288, 384])\n",
            "torch.Size([3, 1, 288, 384])\n"
          ]
        },
        {
          "output_type": "stream",
          "name": "stderr",
          "text": [
            "\n",
            " 22%|██▏       | 141/653 [03:08<11:27,  1.34s/it]\u001b[A"
          ]
        },
        {
          "output_type": "stream",
          "name": "stdout",
          "text": [
            "*************\n",
            "torch.Size([3, 1, 288, 384])\n",
            "torch.Size([3, 1, 288, 384])\n",
            "torch.Size([3, 1, 288, 384])\n",
            "torch.Size([3, 1, 288, 384])\n"
          ]
        },
        {
          "output_type": "stream",
          "name": "stderr",
          "text": [
            "\n",
            " 22%|██▏       | 142/653 [03:10<11:30,  1.35s/it]\u001b[A"
          ]
        },
        {
          "output_type": "stream",
          "name": "stdout",
          "text": [
            "*************\n",
            "torch.Size([3, 1, 288, 384])\n",
            "torch.Size([3, 1, 288, 384])\n",
            "torch.Size([3, 1, 288, 384])\n",
            "torch.Size([3, 1, 288, 384])\n"
          ]
        },
        {
          "output_type": "stream",
          "name": "stderr",
          "text": [
            "\n",
            " 22%|██▏       | 143/653 [03:11<11:25,  1.34s/it]\u001b[A"
          ]
        },
        {
          "output_type": "stream",
          "name": "stdout",
          "text": [
            "*************\n",
            "torch.Size([3, 1, 288, 384])\n",
            "torch.Size([3, 1, 288, 384])\n",
            "torch.Size([3, 1, 288, 384])\n",
            "torch.Size([3, 1, 288, 384])\n"
          ]
        },
        {
          "output_type": "stream",
          "name": "stderr",
          "text": [
            "\n",
            " 22%|██▏       | 144/653 [03:12<11:21,  1.34s/it]\u001b[A"
          ]
        },
        {
          "output_type": "stream",
          "name": "stdout",
          "text": [
            "*************\n",
            "torch.Size([3, 1, 288, 384])\n",
            "torch.Size([3, 1, 288, 384])\n",
            "torch.Size([3, 1, 288, 384])\n",
            "torch.Size([3, 1, 288, 384])\n"
          ]
        },
        {
          "output_type": "stream",
          "name": "stderr",
          "text": [
            "\n",
            " 22%|██▏       | 145/653 [03:14<11:19,  1.34s/it]\u001b[A"
          ]
        },
        {
          "output_type": "stream",
          "name": "stdout",
          "text": [
            "*************\n",
            "torch.Size([3, 1, 288, 384])\n",
            "torch.Size([3, 1, 288, 384])\n",
            "torch.Size([3, 1, 288, 384])\n",
            "torch.Size([3, 1, 288, 384])\n"
          ]
        },
        {
          "output_type": "stream",
          "name": "stderr",
          "text": [
            "\n",
            " 22%|██▏       | 146/653 [03:15<11:17,  1.34s/it]\u001b[A"
          ]
        },
        {
          "output_type": "stream",
          "name": "stdout",
          "text": [
            "*************\n",
            "torch.Size([3, 1, 288, 384])\n",
            "torch.Size([3, 1, 288, 384])\n",
            "torch.Size([3, 1, 288, 384])\n",
            "torch.Size([3, 1, 288, 384])\n"
          ]
        },
        {
          "output_type": "stream",
          "name": "stderr",
          "text": [
            "\n",
            " 23%|██▎       | 147/653 [03:16<11:14,  1.33s/it]\u001b[A"
          ]
        },
        {
          "output_type": "stream",
          "name": "stdout",
          "text": [
            "*************\n",
            "torch.Size([3, 1, 288, 384])\n",
            "torch.Size([3, 1, 288, 384])\n",
            "torch.Size([3, 1, 288, 384])\n",
            "torch.Size([3, 1, 288, 384])\n"
          ]
        },
        {
          "output_type": "stream",
          "name": "stderr",
          "text": [
            "\n",
            " 23%|██▎       | 148/653 [03:18<11:12,  1.33s/it]\u001b[A"
          ]
        },
        {
          "output_type": "stream",
          "name": "stdout",
          "text": [
            "*************\n",
            "torch.Size([3, 1, 288, 384])\n",
            "torch.Size([3, 1, 288, 384])\n",
            "torch.Size([3, 1, 288, 384])\n",
            "torch.Size([3, 1, 288, 384])\n"
          ]
        },
        {
          "output_type": "stream",
          "name": "stderr",
          "text": [
            "\n",
            " 23%|██▎       | 149/653 [03:19<11:09,  1.33s/it]\u001b[A"
          ]
        },
        {
          "output_type": "stream",
          "name": "stdout",
          "text": [
            "*************\n",
            "torch.Size([3, 1, 288, 384])\n",
            "torch.Size([3, 1, 288, 384])\n",
            "torch.Size([3, 1, 288, 384])\n",
            "torch.Size([3, 1, 288, 384])\n"
          ]
        },
        {
          "output_type": "stream",
          "name": "stderr",
          "text": [
            "\n",
            " 23%|██▎       | 150/653 [03:20<11:15,  1.34s/it]\u001b[A"
          ]
        },
        {
          "output_type": "stream",
          "name": "stdout",
          "text": [
            "*************\n",
            "torch.Size([3, 1, 288, 384])\n",
            "torch.Size([3, 1, 288, 384])\n",
            "torch.Size([3, 1, 288, 384])\n",
            "torch.Size([3, 1, 288, 384])\n"
          ]
        },
        {
          "output_type": "stream",
          "name": "stderr",
          "text": [
            "\n",
            " 23%|██▎       | 151/653 [03:22<11:20,  1.36s/it]\u001b[A"
          ]
        },
        {
          "output_type": "stream",
          "name": "stdout",
          "text": [
            "*************\n",
            "torch.Size([3, 1, 288, 384])\n",
            "torch.Size([3, 1, 288, 384])\n",
            "torch.Size([3, 1, 288, 384])\n",
            "torch.Size([3, 1, 288, 384])\n"
          ]
        },
        {
          "output_type": "stream",
          "name": "stderr",
          "text": [
            "\n",
            " 23%|██▎       | 152/653 [03:23<11:14,  1.35s/it]\u001b[A"
          ]
        },
        {
          "output_type": "stream",
          "name": "stdout",
          "text": [
            "*************\n",
            "torch.Size([3, 1, 288, 384])\n",
            "torch.Size([3, 1, 288, 384])\n",
            "torch.Size([3, 1, 288, 384])\n",
            "torch.Size([3, 1, 288, 384])\n"
          ]
        },
        {
          "output_type": "stream",
          "name": "stderr",
          "text": [
            "\n",
            " 23%|██▎       | 153/653 [03:24<11:10,  1.34s/it]\u001b[A"
          ]
        },
        {
          "output_type": "stream",
          "name": "stdout",
          "text": [
            "*************\n",
            "torch.Size([3, 1, 288, 384])\n",
            "torch.Size([3, 1, 288, 384])\n",
            "torch.Size([3, 1, 288, 384])\n",
            "torch.Size([3, 1, 288, 384])\n"
          ]
        },
        {
          "output_type": "stream",
          "name": "stderr",
          "text": [
            "\n",
            " 24%|██▎       | 154/653 [03:26<11:12,  1.35s/it]\u001b[A"
          ]
        },
        {
          "output_type": "stream",
          "name": "stdout",
          "text": [
            "*************\n",
            "torch.Size([3, 1, 288, 384])\n",
            "torch.Size([3, 1, 288, 384])\n",
            "torch.Size([3, 1, 288, 384])\n",
            "torch.Size([3, 1, 288, 384])\n"
          ]
        },
        {
          "output_type": "stream",
          "name": "stderr",
          "text": [
            "\n",
            " 24%|██▎       | 155/653 [03:27<11:08,  1.34s/it]\u001b[A"
          ]
        },
        {
          "output_type": "stream",
          "name": "stdout",
          "text": [
            "*************\n",
            "torch.Size([3, 1, 288, 384])\n",
            "torch.Size([3, 1, 288, 384])\n",
            "torch.Size([3, 1, 288, 384])\n",
            "torch.Size([3, 1, 288, 384])\n"
          ]
        },
        {
          "output_type": "stream",
          "name": "stderr",
          "text": [
            "\n",
            " 24%|██▍       | 156/653 [03:28<11:08,  1.35s/it]\u001b[A"
          ]
        },
        {
          "output_type": "stream",
          "name": "stdout",
          "text": [
            "*************\n",
            "torch.Size([3, 1, 288, 384])\n",
            "torch.Size([3, 1, 288, 384])\n",
            "torch.Size([3, 1, 288, 384])\n",
            "torch.Size([3, 1, 288, 384])\n"
          ]
        },
        {
          "output_type": "stream",
          "name": "stderr",
          "text": [
            "\n",
            " 24%|██▍       | 157/653 [03:30<11:04,  1.34s/it]\u001b[A"
          ]
        },
        {
          "output_type": "stream",
          "name": "stdout",
          "text": [
            "*************\n",
            "torch.Size([3, 1, 288, 384])\n",
            "torch.Size([3, 1, 288, 384])\n",
            "torch.Size([3, 1, 288, 384])\n",
            "torch.Size([3, 1, 288, 384])\n"
          ]
        },
        {
          "output_type": "stream",
          "name": "stderr",
          "text": [
            "\n",
            " 24%|██▍       | 158/653 [03:31<11:06,  1.35s/it]\u001b[A"
          ]
        },
        {
          "output_type": "stream",
          "name": "stdout",
          "text": [
            "*************\n",
            "torch.Size([3, 1, 288, 384])\n",
            "torch.Size([3, 1, 288, 384])\n",
            "torch.Size([3, 1, 288, 384])\n",
            "torch.Size([3, 1, 288, 384])\n"
          ]
        },
        {
          "output_type": "stream",
          "name": "stderr",
          "text": [
            "\n",
            " 24%|██▍       | 159/653 [03:32<11:01,  1.34s/it]\u001b[A"
          ]
        },
        {
          "output_type": "stream",
          "name": "stdout",
          "text": [
            "*************\n",
            "torch.Size([3, 1, 288, 384])\n",
            "torch.Size([3, 1, 288, 384])\n",
            "torch.Size([3, 1, 288, 384])\n",
            "torch.Size([3, 1, 288, 384])\n"
          ]
        },
        {
          "output_type": "stream",
          "name": "stderr",
          "text": [
            "\n",
            " 25%|██▍       | 160/653 [03:34<10:57,  1.33s/it]\u001b[A"
          ]
        },
        {
          "output_type": "stream",
          "name": "stdout",
          "text": [
            "*************\n",
            "torch.Size([3, 1, 288, 384])\n",
            "torch.Size([3, 1, 288, 384])\n",
            "torch.Size([3, 1, 288, 384])\n",
            "torch.Size([3, 1, 288, 384])\n"
          ]
        },
        {
          "output_type": "stream",
          "name": "stderr",
          "text": [
            "\n",
            " 25%|██▍       | 161/653 [03:35<10:55,  1.33s/it]\u001b[A"
          ]
        },
        {
          "output_type": "stream",
          "name": "stdout",
          "text": [
            "*************\n",
            "torch.Size([3, 1, 288, 384])\n",
            "torch.Size([3, 1, 288, 384])\n",
            "torch.Size([3, 1, 288, 384])\n",
            "torch.Size([3, 1, 288, 384])\n"
          ]
        },
        {
          "output_type": "stream",
          "name": "stderr",
          "text": [
            "\n",
            " 25%|██▍       | 162/653 [03:36<10:53,  1.33s/it]\u001b[A"
          ]
        },
        {
          "output_type": "stream",
          "name": "stdout",
          "text": [
            "*************\n",
            "torch.Size([3, 1, 288, 384])\n",
            "torch.Size([3, 1, 288, 384])\n",
            "torch.Size([3, 1, 288, 384])\n",
            "torch.Size([3, 1, 288, 384])\n"
          ]
        },
        {
          "output_type": "stream",
          "name": "stderr",
          "text": [
            "\n",
            " 25%|██▍       | 163/653 [03:38<10:50,  1.33s/it]\u001b[A"
          ]
        },
        {
          "output_type": "stream",
          "name": "stdout",
          "text": [
            "*************\n",
            "torch.Size([3, 1, 288, 384])\n",
            "torch.Size([3, 1, 288, 384])\n",
            "torch.Size([3, 1, 288, 384])\n",
            "torch.Size([3, 1, 288, 384])\n"
          ]
        },
        {
          "output_type": "stream",
          "name": "stderr",
          "text": [
            "\n",
            " 25%|██▌       | 164/653 [03:39<10:56,  1.34s/it]\u001b[A"
          ]
        },
        {
          "output_type": "stream",
          "name": "stdout",
          "text": [
            "*************\n",
            "torch.Size([3, 1, 288, 384])\n",
            "torch.Size([3, 1, 288, 384])\n",
            "torch.Size([3, 1, 288, 384])\n",
            "torch.Size([3, 1, 288, 384])\n"
          ]
        },
        {
          "output_type": "stream",
          "name": "stderr",
          "text": [
            "\n",
            " 25%|██▌       | 165/653 [03:40<10:51,  1.34s/it]\u001b[A"
          ]
        },
        {
          "output_type": "stream",
          "name": "stdout",
          "text": [
            "*************\n",
            "torch.Size([3, 1, 288, 384])\n",
            "torch.Size([3, 1, 288, 384])\n",
            "torch.Size([3, 1, 288, 384])\n",
            "torch.Size([3, 1, 288, 384])\n"
          ]
        },
        {
          "output_type": "stream",
          "name": "stderr",
          "text": [
            "\n",
            " 25%|██▌       | 166/653 [03:42<10:48,  1.33s/it]\u001b[A"
          ]
        },
        {
          "output_type": "stream",
          "name": "stdout",
          "text": [
            "*************\n",
            "torch.Size([3, 1, 288, 384])\n",
            "torch.Size([3, 1, 288, 384])\n",
            "torch.Size([3, 1, 288, 384])\n",
            "torch.Size([3, 1, 288, 384])\n"
          ]
        },
        {
          "output_type": "stream",
          "name": "stderr",
          "text": [
            "\n",
            " 26%|██▌       | 167/653 [03:43<10:45,  1.33s/it]\u001b[A"
          ]
        },
        {
          "output_type": "stream",
          "name": "stdout",
          "text": [
            "*************\n",
            "torch.Size([3, 1, 288, 384])\n",
            "torch.Size([3, 1, 288, 384])\n",
            "torch.Size([3, 1, 288, 384])\n",
            "torch.Size([3, 1, 288, 384])\n"
          ]
        },
        {
          "output_type": "stream",
          "name": "stderr",
          "text": [
            "\n",
            " 26%|██▌       | 168/653 [03:44<10:42,  1.32s/it]\u001b[A"
          ]
        },
        {
          "output_type": "stream",
          "name": "stdout",
          "text": [
            "*************\n",
            "torch.Size([3, 1, 288, 384])\n",
            "torch.Size([3, 1, 288, 384])\n",
            "torch.Size([3, 1, 288, 384])\n",
            "torch.Size([3, 1, 288, 384])\n"
          ]
        },
        {
          "output_type": "stream",
          "name": "stderr",
          "text": [
            "\n",
            " 26%|██▌       | 169/653 [03:46<10:40,  1.32s/it]\u001b[A"
          ]
        },
        {
          "output_type": "stream",
          "name": "stdout",
          "text": [
            "*************\n",
            "torch.Size([3, 1, 288, 384])\n",
            "torch.Size([3, 1, 288, 384])\n",
            "torch.Size([3, 1, 288, 384])\n",
            "torch.Size([3, 1, 288, 384])\n"
          ]
        },
        {
          "output_type": "stream",
          "name": "stderr",
          "text": [
            "\n",
            " 26%|██▌       | 170/653 [03:47<10:38,  1.32s/it]\u001b[A"
          ]
        },
        {
          "output_type": "stream",
          "name": "stdout",
          "text": [
            "*************\n",
            "torch.Size([3, 1, 288, 384])\n",
            "torch.Size([3, 1, 288, 384])\n",
            "torch.Size([3, 1, 288, 384])\n",
            "torch.Size([3, 1, 288, 384])\n"
          ]
        },
        {
          "output_type": "stream",
          "name": "stderr",
          "text": [
            "\n",
            " 26%|██▌       | 171/653 [03:48<10:37,  1.32s/it]\u001b[A"
          ]
        },
        {
          "output_type": "stream",
          "name": "stdout",
          "text": [
            "*************\n",
            "torch.Size([3, 1, 288, 384])\n",
            "torch.Size([3, 1, 288, 384])\n",
            "torch.Size([3, 1, 288, 384])\n",
            "torch.Size([3, 1, 288, 384])\n"
          ]
        },
        {
          "output_type": "stream",
          "name": "stderr",
          "text": [
            "\n",
            " 26%|██▋       | 172/653 [03:50<10:36,  1.32s/it]\u001b[A"
          ]
        },
        {
          "output_type": "stream",
          "name": "stdout",
          "text": [
            "*************\n",
            "torch.Size([3, 1, 288, 384])\n",
            "torch.Size([3, 1, 288, 384])\n",
            "torch.Size([3, 1, 288, 384])\n",
            "torch.Size([3, 1, 288, 384])\n"
          ]
        },
        {
          "output_type": "stream",
          "name": "stderr",
          "text": [
            "\n",
            " 26%|██▋       | 173/653 [03:51<10:40,  1.33s/it]\u001b[A"
          ]
        },
        {
          "output_type": "stream",
          "name": "stdout",
          "text": [
            "*************\n",
            "torch.Size([3, 1, 288, 384])\n",
            "torch.Size([3, 1, 288, 384])\n",
            "torch.Size([3, 1, 288, 384])\n",
            "torch.Size([3, 1, 288, 384])\n"
          ]
        },
        {
          "output_type": "stream",
          "name": "stderr",
          "text": [
            "\n",
            " 27%|██▋       | 174/653 [03:52<10:37,  1.33s/it]\u001b[A"
          ]
        },
        {
          "output_type": "stream",
          "name": "stdout",
          "text": [
            "*************\n",
            "torch.Size([3, 1, 288, 384])\n",
            "torch.Size([3, 1, 288, 384])\n",
            "torch.Size([3, 1, 288, 384])\n",
            "torch.Size([3, 1, 288, 384])\n"
          ]
        },
        {
          "output_type": "stream",
          "name": "stderr",
          "text": [
            "\n",
            " 27%|██▋       | 175/653 [03:54<10:35,  1.33s/it]\u001b[A"
          ]
        },
        {
          "output_type": "stream",
          "name": "stdout",
          "text": [
            "*************\n",
            "torch.Size([3, 1, 288, 384])\n",
            "torch.Size([3, 1, 288, 384])\n",
            "torch.Size([3, 1, 288, 384])\n",
            "torch.Size([3, 1, 288, 384])\n"
          ]
        },
        {
          "output_type": "stream",
          "name": "stderr",
          "text": [
            "\n",
            " 27%|██▋       | 176/653 [03:55<10:33,  1.33s/it]\u001b[A"
          ]
        },
        {
          "output_type": "stream",
          "name": "stdout",
          "text": [
            "*************\n",
            "torch.Size([3, 1, 288, 384])\n",
            "torch.Size([3, 1, 288, 384])\n",
            "torch.Size([3, 1, 288, 384])\n",
            "torch.Size([3, 1, 288, 384])\n"
          ]
        },
        {
          "output_type": "stream",
          "name": "stderr",
          "text": [
            "\n",
            " 27%|██▋       | 177/653 [03:56<10:31,  1.33s/it]\u001b[A"
          ]
        },
        {
          "output_type": "stream",
          "name": "stdout",
          "text": [
            "*************\n",
            "torch.Size([3, 1, 288, 384])\n",
            "torch.Size([3, 1, 288, 384])\n",
            "torch.Size([3, 1, 288, 384])\n",
            "torch.Size([3, 1, 288, 384])\n"
          ]
        },
        {
          "output_type": "stream",
          "name": "stderr",
          "text": [
            "\n",
            " 27%|██▋       | 178/653 [03:58<10:30,  1.33s/it]\u001b[A"
          ]
        },
        {
          "output_type": "stream",
          "name": "stdout",
          "text": [
            "*************\n",
            "torch.Size([3, 1, 288, 384])\n",
            "torch.Size([3, 1, 288, 384])\n",
            "torch.Size([3, 1, 288, 384])\n",
            "torch.Size([3, 1, 288, 384])\n"
          ]
        },
        {
          "output_type": "stream",
          "name": "stderr",
          "text": [
            "\n",
            " 27%|██▋       | 179/653 [03:59<10:38,  1.35s/it]\u001b[A"
          ]
        },
        {
          "output_type": "stream",
          "name": "stdout",
          "text": [
            "*************\n",
            "torch.Size([3, 1, 288, 384])\n",
            "torch.Size([3, 1, 288, 384])\n",
            "torch.Size([3, 1, 288, 384])\n",
            "torch.Size([3, 1, 288, 384])\n"
          ]
        },
        {
          "output_type": "stream",
          "name": "stderr",
          "text": [
            "\n",
            " 28%|██▊       | 180/653 [04:00<10:34,  1.34s/it]\u001b[A"
          ]
        },
        {
          "output_type": "stream",
          "name": "stdout",
          "text": [
            "*************\n",
            "torch.Size([3, 1, 288, 384])\n",
            "torch.Size([3, 1, 288, 384])\n",
            "torch.Size([3, 1, 288, 384])\n",
            "torch.Size([3, 1, 288, 384])\n"
          ]
        },
        {
          "output_type": "stream",
          "name": "stderr",
          "text": [
            "\n",
            " 28%|██▊       | 181/653 [04:02<10:30,  1.34s/it]\u001b[A"
          ]
        },
        {
          "output_type": "stream",
          "name": "stdout",
          "text": [
            "*************\n",
            "torch.Size([3, 1, 288, 384])\n",
            "torch.Size([3, 1, 288, 384])\n",
            "torch.Size([3, 1, 288, 384])\n",
            "torch.Size([3, 1, 288, 384])\n"
          ]
        },
        {
          "output_type": "stream",
          "name": "stderr",
          "text": [
            "\n",
            " 28%|██▊       | 182/653 [04:03<10:29,  1.34s/it]\u001b[A"
          ]
        },
        {
          "output_type": "stream",
          "name": "stdout",
          "text": [
            "*************\n",
            "torch.Size([3, 1, 288, 384])\n",
            "torch.Size([3, 1, 288, 384])\n",
            "torch.Size([3, 1, 288, 384])\n",
            "torch.Size([3, 1, 288, 384])\n"
          ]
        },
        {
          "output_type": "stream",
          "name": "stderr",
          "text": [
            "\n",
            " 28%|██▊       | 183/653 [04:04<10:31,  1.34s/it]\u001b[A"
          ]
        },
        {
          "output_type": "stream",
          "name": "stdout",
          "text": [
            "*************\n",
            "torch.Size([3, 1, 288, 384])\n",
            "torch.Size([3, 1, 288, 384])\n",
            "torch.Size([3, 1, 288, 384])\n",
            "torch.Size([3, 1, 288, 384])\n"
          ]
        },
        {
          "output_type": "stream",
          "name": "stderr",
          "text": [
            "\n",
            " 28%|██▊       | 184/653 [04:06<10:32,  1.35s/it]\u001b[A"
          ]
        },
        {
          "output_type": "stream",
          "name": "stdout",
          "text": [
            "*************\n",
            "torch.Size([3, 1, 288, 384])\n",
            "torch.Size([3, 1, 288, 384])\n",
            "torch.Size([3, 1, 288, 384])\n",
            "torch.Size([3, 1, 288, 384])\n"
          ]
        },
        {
          "output_type": "stream",
          "name": "stderr",
          "text": [
            "\n",
            " 28%|██▊       | 185/653 [04:07<10:28,  1.34s/it]\u001b[A"
          ]
        },
        {
          "output_type": "stream",
          "name": "stdout",
          "text": [
            "*************\n",
            "torch.Size([3, 1, 288, 384])\n",
            "torch.Size([3, 1, 288, 384])\n",
            "torch.Size([3, 1, 288, 384])\n",
            "torch.Size([3, 1, 288, 384])\n"
          ]
        },
        {
          "output_type": "stream",
          "name": "stderr",
          "text": [
            "\n",
            " 28%|██▊       | 186/653 [04:08<10:24,  1.34s/it]\u001b[A"
          ]
        },
        {
          "output_type": "stream",
          "name": "stdout",
          "text": [
            "*************\n",
            "torch.Size([3, 1, 288, 384])\n",
            "torch.Size([3, 1, 288, 384])\n",
            "torch.Size([3, 1, 288, 384])\n",
            "torch.Size([3, 1, 288, 384])\n"
          ]
        },
        {
          "output_type": "stream",
          "name": "stderr",
          "text": [
            "\n",
            " 29%|██▊       | 187/653 [04:10<10:22,  1.34s/it]\u001b[A"
          ]
        },
        {
          "output_type": "stream",
          "name": "stdout",
          "text": [
            "*************\n",
            "torch.Size([3, 1, 288, 384])\n",
            "torch.Size([3, 1, 288, 384])\n",
            "torch.Size([3, 1, 288, 384])\n",
            "torch.Size([3, 1, 288, 384])\n"
          ]
        },
        {
          "output_type": "stream",
          "name": "stderr",
          "text": [
            "\n",
            " 29%|██▉       | 188/653 [04:11<10:20,  1.33s/it]\u001b[A"
          ]
        },
        {
          "output_type": "stream",
          "name": "stdout",
          "text": [
            "*************\n",
            "torch.Size([3, 1, 288, 384])\n",
            "torch.Size([3, 1, 288, 384])\n",
            "torch.Size([3, 1, 288, 384])\n",
            "torch.Size([3, 1, 288, 384])\n"
          ]
        },
        {
          "output_type": "stream",
          "name": "stderr",
          "text": [
            "\n",
            " 29%|██▉       | 189/653 [04:12<10:18,  1.33s/it]\u001b[A"
          ]
        },
        {
          "output_type": "stream",
          "name": "stdout",
          "text": [
            "*************\n",
            "torch.Size([3, 1, 288, 384])\n",
            "torch.Size([3, 1, 288, 384])\n",
            "torch.Size([3, 1, 288, 384])\n",
            "torch.Size([3, 1, 288, 384])\n"
          ]
        },
        {
          "output_type": "stream",
          "name": "stderr",
          "text": [
            "\n",
            " 29%|██▉       | 190/653 [04:14<10:17,  1.33s/it]\u001b[A"
          ]
        },
        {
          "output_type": "stream",
          "name": "stdout",
          "text": [
            "*************\n",
            "torch.Size([3, 1, 288, 384])\n",
            "torch.Size([3, 1, 288, 384])\n",
            "torch.Size([3, 1, 288, 384])\n",
            "torch.Size([3, 1, 288, 384])\n"
          ]
        },
        {
          "output_type": "stream",
          "name": "stderr",
          "text": [
            "\n",
            " 29%|██▉       | 191/653 [04:15<10:17,  1.34s/it]\u001b[A"
          ]
        },
        {
          "output_type": "stream",
          "name": "stdout",
          "text": [
            "*************\n",
            "torch.Size([3, 1, 288, 384])\n",
            "torch.Size([3, 1, 288, 384])\n",
            "torch.Size([3, 1, 288, 384])\n",
            "torch.Size([3, 1, 288, 384])\n"
          ]
        },
        {
          "output_type": "stream",
          "name": "stderr",
          "text": [
            "\n",
            " 29%|██▉       | 192/653 [04:16<10:14,  1.33s/it]\u001b[A"
          ]
        },
        {
          "output_type": "stream",
          "name": "stdout",
          "text": [
            "*************\n",
            "torch.Size([3, 1, 288, 384])\n",
            "torch.Size([3, 1, 288, 384])\n",
            "torch.Size([3, 1, 288, 384])\n",
            "torch.Size([3, 1, 288, 384])\n"
          ]
        },
        {
          "output_type": "stream",
          "name": "stderr",
          "text": [
            "\n",
            " 30%|██▉       | 193/653 [04:18<10:12,  1.33s/it]\u001b[A"
          ]
        },
        {
          "output_type": "stream",
          "name": "stdout",
          "text": [
            "*************\n",
            "torch.Size([3, 1, 288, 384])\n",
            "torch.Size([3, 1, 288, 384])\n",
            "torch.Size([3, 1, 288, 384])\n",
            "torch.Size([3, 1, 288, 384])\n"
          ]
        },
        {
          "output_type": "stream",
          "name": "stderr",
          "text": [
            "\n",
            " 30%|██▉       | 194/653 [04:19<10:11,  1.33s/it]\u001b[A"
          ]
        },
        {
          "output_type": "stream",
          "name": "stdout",
          "text": [
            "*************\n",
            "torch.Size([3, 1, 288, 384])\n",
            "torch.Size([3, 1, 288, 384])\n",
            "torch.Size([3, 1, 288, 384])\n",
            "torch.Size([3, 1, 288, 384])\n"
          ]
        },
        {
          "output_type": "stream",
          "name": "stderr",
          "text": [
            "\n",
            " 30%|██▉       | 195/653 [04:20<10:11,  1.33s/it]\u001b[A"
          ]
        },
        {
          "output_type": "stream",
          "name": "stdout",
          "text": [
            "*************\n",
            "torch.Size([3, 1, 288, 384])\n",
            "torch.Size([3, 1, 288, 384])\n",
            "torch.Size([3, 1, 288, 384])\n",
            "torch.Size([3, 1, 288, 384])\n"
          ]
        },
        {
          "output_type": "stream",
          "name": "stderr",
          "text": [
            "\n",
            " 30%|███       | 196/653 [04:22<10:09,  1.33s/it]\u001b[A"
          ]
        },
        {
          "output_type": "stream",
          "name": "stdout",
          "text": [
            "*************\n",
            "torch.Size([3, 1, 288, 384])\n",
            "torch.Size([3, 1, 288, 384])\n",
            "torch.Size([3, 1, 288, 384])\n",
            "torch.Size([3, 1, 288, 384])\n"
          ]
        },
        {
          "output_type": "stream",
          "name": "stderr",
          "text": [
            "\n",
            " 30%|███       | 197/653 [04:23<10:15,  1.35s/it]\u001b[A"
          ]
        },
        {
          "output_type": "stream",
          "name": "stdout",
          "text": [
            "*************\n",
            "torch.Size([3, 1, 288, 384])\n",
            "torch.Size([3, 1, 288, 384])\n",
            "torch.Size([3, 1, 288, 384])\n",
            "torch.Size([3, 1, 288, 384])\n"
          ]
        },
        {
          "output_type": "stream",
          "name": "stderr",
          "text": [
            "\n",
            " 30%|███       | 198/653 [04:24<10:20,  1.36s/it]\u001b[A"
          ]
        },
        {
          "output_type": "stream",
          "name": "stdout",
          "text": [
            "*************\n",
            "torch.Size([3, 1, 288, 384])\n",
            "torch.Size([3, 1, 288, 384])\n",
            "torch.Size([3, 1, 288, 384])\n",
            "torch.Size([3, 1, 288, 384])\n"
          ]
        },
        {
          "output_type": "stream",
          "name": "stderr",
          "text": [
            "\n",
            " 30%|███       | 199/653 [04:26<10:13,  1.35s/it]\u001b[A"
          ]
        },
        {
          "output_type": "stream",
          "name": "stdout",
          "text": [
            "*************\n",
            "torch.Size([3, 1, 288, 384])\n",
            "torch.Size([3, 1, 288, 384])\n",
            "torch.Size([3, 1, 288, 384])\n",
            "torch.Size([3, 1, 288, 384])\n"
          ]
        },
        {
          "output_type": "stream",
          "name": "stderr",
          "text": [
            "\n",
            " 31%|███       | 200/653 [04:27<10:09,  1.35s/it]\u001b[A"
          ]
        },
        {
          "output_type": "stream",
          "name": "stdout",
          "text": [
            "*************\n",
            "torch.Size([3, 1, 288, 384])\n",
            "torch.Size([3, 1, 288, 384])\n",
            "torch.Size([3, 1, 288, 384])\n",
            "torch.Size([3, 1, 288, 384])\n"
          ]
        },
        {
          "output_type": "stream",
          "name": "stderr",
          "text": [
            "\n",
            " 31%|███       | 201/653 [04:28<10:05,  1.34s/it]\u001b[A"
          ]
        },
        {
          "output_type": "stream",
          "name": "stdout",
          "text": [
            "*************\n",
            "torch.Size([3, 1, 288, 384])\n",
            "torch.Size([3, 1, 288, 384])\n",
            "torch.Size([3, 1, 288, 384])\n",
            "torch.Size([3, 1, 288, 384])\n"
          ]
        },
        {
          "output_type": "stream",
          "name": "stderr",
          "text": [
            "\n",
            " 31%|███       | 202/653 [04:30<10:03,  1.34s/it]\u001b[A"
          ]
        },
        {
          "output_type": "stream",
          "name": "stdout",
          "text": [
            "*************\n",
            "torch.Size([3, 1, 288, 384])\n",
            "torch.Size([3, 1, 288, 384])\n",
            "torch.Size([3, 1, 288, 384])\n",
            "torch.Size([3, 1, 288, 384])\n"
          ]
        },
        {
          "output_type": "stream",
          "name": "stderr",
          "text": [
            "\n",
            " 31%|███       | 203/653 [04:31<10:00,  1.33s/it]\u001b[A"
          ]
        },
        {
          "output_type": "stream",
          "name": "stdout",
          "text": [
            "*************\n",
            "torch.Size([3, 1, 288, 384])\n",
            "torch.Size([3, 1, 288, 384])\n",
            "torch.Size([3, 1, 288, 384])\n",
            "torch.Size([3, 1, 288, 384])\n"
          ]
        },
        {
          "output_type": "stream",
          "name": "stderr",
          "text": [
            "\n",
            " 31%|███       | 204/653 [04:32<09:58,  1.33s/it]\u001b[A"
          ]
        },
        {
          "output_type": "stream",
          "name": "stdout",
          "text": [
            "*************\n",
            "torch.Size([3, 1, 288, 384])\n",
            "torch.Size([3, 1, 288, 384])\n",
            "torch.Size([3, 1, 288, 384])\n",
            "torch.Size([3, 1, 288, 384])\n"
          ]
        },
        {
          "output_type": "stream",
          "name": "stderr",
          "text": [
            "\n",
            " 31%|███▏      | 205/653 [04:34<09:57,  1.33s/it]\u001b[A"
          ]
        },
        {
          "output_type": "stream",
          "name": "stdout",
          "text": [
            "*************\n",
            "torch.Size([3, 1, 288, 384])\n",
            "torch.Size([3, 1, 288, 384])\n",
            "torch.Size([3, 1, 288, 384])\n",
            "torch.Size([3, 1, 288, 384])\n"
          ]
        },
        {
          "output_type": "stream",
          "name": "stderr",
          "text": [
            "\n",
            " 32%|███▏      | 206/653 [04:35<09:55,  1.33s/it]\u001b[A"
          ]
        },
        {
          "output_type": "stream",
          "name": "stdout",
          "text": [
            "*************\n",
            "torch.Size([3, 1, 288, 384])\n",
            "torch.Size([3, 1, 288, 384])\n",
            "torch.Size([3, 1, 288, 384])\n",
            "torch.Size([3, 1, 288, 384])\n"
          ]
        },
        {
          "output_type": "stream",
          "name": "stderr",
          "text": [
            "\n",
            " 32%|███▏      | 207/653 [04:36<09:53,  1.33s/it]\u001b[A"
          ]
        },
        {
          "output_type": "stream",
          "name": "stdout",
          "text": [
            "*************\n",
            "torch.Size([3, 1, 288, 384])\n",
            "torch.Size([3, 1, 288, 384])\n",
            "torch.Size([3, 1, 288, 384])\n",
            "torch.Size([3, 1, 288, 384])\n"
          ]
        },
        {
          "output_type": "stream",
          "name": "stderr",
          "text": [
            "\n",
            " 32%|███▏      | 208/653 [04:38<09:52,  1.33s/it]\u001b[A"
          ]
        },
        {
          "output_type": "stream",
          "name": "stdout",
          "text": [
            "*************\n",
            "torch.Size([3, 1, 288, 384])\n",
            "torch.Size([3, 1, 288, 384])\n",
            "torch.Size([3, 1, 288, 384])\n",
            "torch.Size([3, 1, 288, 384])\n"
          ]
        },
        {
          "output_type": "stream",
          "name": "stderr",
          "text": [
            "\n",
            " 32%|███▏      | 209/653 [04:39<09:50,  1.33s/it]\u001b[A"
          ]
        },
        {
          "output_type": "stream",
          "name": "stdout",
          "text": [
            "*************\n",
            "torch.Size([3, 1, 288, 384])\n",
            "torch.Size([3, 1, 288, 384])\n",
            "torch.Size([3, 1, 288, 384])\n",
            "torch.Size([3, 1, 288, 384])\n"
          ]
        },
        {
          "output_type": "stream",
          "name": "stderr",
          "text": [
            "\n",
            " 32%|███▏      | 210/653 [04:40<09:48,  1.33s/it]\u001b[A"
          ]
        },
        {
          "output_type": "stream",
          "name": "stdout",
          "text": [
            "*************\n",
            "torch.Size([3, 1, 288, 384])\n",
            "torch.Size([3, 1, 288, 384])\n",
            "torch.Size([3, 1, 288, 384])\n",
            "torch.Size([3, 1, 288, 384])\n"
          ]
        },
        {
          "output_type": "stream",
          "name": "stderr",
          "text": [
            "\n",
            " 32%|███▏      | 211/653 [04:42<09:47,  1.33s/it]\u001b[A"
          ]
        },
        {
          "output_type": "stream",
          "name": "stdout",
          "text": [
            "*************\n",
            "torch.Size([3, 1, 288, 384])\n",
            "torch.Size([3, 1, 288, 384])\n",
            "torch.Size([3, 1, 288, 384])\n",
            "torch.Size([3, 1, 288, 384])\n"
          ]
        },
        {
          "output_type": "stream",
          "name": "stderr",
          "text": [
            "\n",
            " 32%|███▏      | 212/653 [04:43<09:52,  1.34s/it]\u001b[A"
          ]
        },
        {
          "output_type": "stream",
          "name": "stdout",
          "text": [
            "*************\n",
            "torch.Size([3, 1, 288, 384])\n",
            "torch.Size([3, 1, 288, 384])\n",
            "torch.Size([3, 1, 288, 384])\n",
            "torch.Size([3, 1, 288, 384])\n"
          ]
        },
        {
          "output_type": "stream",
          "name": "stderr",
          "text": [
            "\n",
            " 33%|███▎      | 213/653 [04:44<09:49,  1.34s/it]\u001b[A"
          ]
        },
        {
          "output_type": "stream",
          "name": "stdout",
          "text": [
            "*************\n",
            "torch.Size([3, 1, 288, 384])\n",
            "torch.Size([3, 1, 288, 384])\n",
            "torch.Size([3, 1, 288, 384])\n",
            "torch.Size([3, 1, 288, 384])\n"
          ]
        },
        {
          "output_type": "stream",
          "name": "stderr",
          "text": [
            "\n",
            " 33%|███▎      | 214/653 [04:46<09:46,  1.34s/it]\u001b[A"
          ]
        },
        {
          "output_type": "stream",
          "name": "stdout",
          "text": [
            "*************\n",
            "torch.Size([3, 1, 288, 384])\n",
            "torch.Size([3, 1, 288, 384])\n",
            "torch.Size([3, 1, 288, 384])\n",
            "torch.Size([3, 1, 288, 384])\n"
          ]
        },
        {
          "output_type": "stream",
          "name": "stderr",
          "text": [
            "\n",
            " 33%|███▎      | 215/653 [04:47<09:51,  1.35s/it]\u001b[A"
          ]
        },
        {
          "output_type": "stream",
          "name": "stdout",
          "text": [
            "*************\n",
            "torch.Size([3, 1, 288, 384])\n",
            "torch.Size([3, 1, 288, 384])\n",
            "torch.Size([3, 1, 288, 384])\n",
            "torch.Size([3, 1, 288, 384])\n"
          ]
        },
        {
          "output_type": "stream",
          "name": "stderr",
          "text": [
            "\n",
            " 33%|███▎      | 216/653 [04:49<09:48,  1.35s/it]\u001b[A"
          ]
        },
        {
          "output_type": "stream",
          "name": "stdout",
          "text": [
            "*************\n",
            "torch.Size([3, 1, 288, 384])\n",
            "torch.Size([3, 1, 288, 384])\n",
            "torch.Size([3, 1, 288, 384])\n",
            "torch.Size([3, 1, 288, 384])\n"
          ]
        },
        {
          "output_type": "stream",
          "name": "stderr",
          "text": [
            "\n",
            " 33%|███▎      | 217/653 [04:50<09:44,  1.34s/it]\u001b[A"
          ]
        },
        {
          "output_type": "stream",
          "name": "stdout",
          "text": [
            "*************\n",
            "torch.Size([3, 1, 288, 384])\n",
            "torch.Size([3, 1, 288, 384])\n",
            "torch.Size([3, 1, 288, 384])\n",
            "torch.Size([3, 1, 288, 384])\n"
          ]
        },
        {
          "output_type": "stream",
          "name": "stderr",
          "text": [
            "\n",
            " 33%|███▎      | 218/653 [04:51<09:41,  1.34s/it]\u001b[A"
          ]
        },
        {
          "output_type": "stream",
          "name": "stdout",
          "text": [
            "*************\n",
            "torch.Size([3, 1, 288, 384])\n",
            "torch.Size([3, 1, 288, 384])\n",
            "torch.Size([3, 1, 288, 384])\n",
            "torch.Size([3, 1, 288, 384])\n"
          ]
        },
        {
          "output_type": "stream",
          "name": "stderr",
          "text": [
            "\n",
            " 34%|███▎      | 219/653 [04:52<09:39,  1.33s/it]\u001b[A"
          ]
        },
        {
          "output_type": "stream",
          "name": "stdout",
          "text": [
            "*************\n",
            "torch.Size([3, 1, 288, 384])\n",
            "torch.Size([3, 1, 288, 384])\n",
            "torch.Size([3, 1, 288, 384])\n",
            "torch.Size([3, 1, 288, 384])\n"
          ]
        },
        {
          "output_type": "stream",
          "name": "stderr",
          "text": [
            "\n",
            " 34%|███▎      | 220/653 [04:54<09:37,  1.33s/it]\u001b[A"
          ]
        },
        {
          "output_type": "stream",
          "name": "stdout",
          "text": [
            "*************\n",
            "torch.Size([3, 1, 288, 384])\n",
            "torch.Size([3, 1, 288, 384])\n",
            "torch.Size([3, 1, 288, 384])\n",
            "torch.Size([3, 1, 288, 384])\n"
          ]
        },
        {
          "output_type": "stream",
          "name": "stderr",
          "text": [
            "\n",
            " 34%|███▍      | 221/653 [04:55<09:35,  1.33s/it]\u001b[A"
          ]
        },
        {
          "output_type": "stream",
          "name": "stdout",
          "text": [
            "*************\n",
            "torch.Size([3, 1, 288, 384])\n",
            "torch.Size([3, 1, 288, 384])\n",
            "torch.Size([3, 1, 288, 384])\n",
            "torch.Size([3, 1, 288, 384])\n"
          ]
        },
        {
          "output_type": "stream",
          "name": "stderr",
          "text": [
            "\n",
            " 34%|███▍      | 222/653 [04:56<09:36,  1.34s/it]\u001b[A"
          ]
        },
        {
          "output_type": "stream",
          "name": "stdout",
          "text": [
            "*************\n",
            "torch.Size([3, 1, 288, 384])\n",
            "torch.Size([3, 1, 288, 384])\n",
            "torch.Size([3, 1, 288, 384])\n",
            "torch.Size([3, 1, 288, 384])\n"
          ]
        },
        {
          "output_type": "stream",
          "name": "stderr",
          "text": [
            "\n",
            " 34%|███▍      | 223/653 [04:58<09:34,  1.34s/it]\u001b[A"
          ]
        },
        {
          "output_type": "stream",
          "name": "stdout",
          "text": [
            "*************\n",
            "torch.Size([3, 1, 288, 384])\n",
            "torch.Size([3, 1, 288, 384])\n",
            "torch.Size([3, 1, 288, 384])\n",
            "torch.Size([3, 1, 288, 384])\n"
          ]
        },
        {
          "output_type": "stream",
          "name": "stderr",
          "text": [
            "\n",
            " 34%|███▍      | 224/653 [04:59<09:32,  1.33s/it]\u001b[A"
          ]
        },
        {
          "output_type": "stream",
          "name": "stdout",
          "text": [
            "*************\n",
            "torch.Size([3, 1, 288, 384])\n",
            "torch.Size([3, 1, 288, 384])\n",
            "torch.Size([3, 1, 288, 384])\n",
            "torch.Size([3, 1, 288, 384])\n"
          ]
        },
        {
          "output_type": "stream",
          "name": "stderr",
          "text": [
            "\n",
            " 34%|███▍      | 225/653 [05:01<09:37,  1.35s/it]\u001b[A"
          ]
        },
        {
          "output_type": "stream",
          "name": "stdout",
          "text": [
            "*************\n",
            "torch.Size([3, 1, 288, 384])\n",
            "torch.Size([3, 1, 288, 384])\n",
            "torch.Size([3, 1, 288, 384])\n",
            "torch.Size([3, 1, 288, 384])\n"
          ]
        },
        {
          "output_type": "stream",
          "name": "stderr",
          "text": [
            "\n",
            " 35%|███▍      | 226/653 [05:02<09:32,  1.34s/it]\u001b[A"
          ]
        },
        {
          "output_type": "stream",
          "name": "stdout",
          "text": [
            "*************\n",
            "torch.Size([3, 1, 288, 384])\n",
            "torch.Size([3, 1, 288, 384])\n",
            "torch.Size([3, 1, 288, 384])\n",
            "torch.Size([3, 1, 288, 384])\n"
          ]
        },
        {
          "output_type": "stream",
          "name": "stderr",
          "text": [
            "\n",
            " 35%|███▍      | 227/653 [05:03<09:36,  1.35s/it]\u001b[A"
          ]
        },
        {
          "output_type": "stream",
          "name": "stdout",
          "text": [
            "*************\n",
            "torch.Size([3, 1, 288, 384])\n",
            "torch.Size([3, 1, 288, 384])\n",
            "torch.Size([3, 1, 288, 384])\n",
            "torch.Size([3, 1, 288, 384])\n"
          ]
        },
        {
          "output_type": "stream",
          "name": "stderr",
          "text": [
            "\n",
            " 35%|███▍      | 228/653 [05:05<09:31,  1.35s/it]\u001b[A"
          ]
        },
        {
          "output_type": "stream",
          "name": "stdout",
          "text": [
            "*************\n",
            "torch.Size([3, 1, 288, 384])\n",
            "torch.Size([3, 1, 288, 384])\n",
            "torch.Size([3, 1, 288, 384])\n",
            "torch.Size([3, 1, 288, 384])\n"
          ]
        },
        {
          "output_type": "stream",
          "name": "stderr",
          "text": [
            "\n",
            " 35%|███▌      | 229/653 [05:06<09:28,  1.34s/it]\u001b[A"
          ]
        },
        {
          "output_type": "stream",
          "name": "stdout",
          "text": [
            "*************\n",
            "torch.Size([3, 1, 288, 384])\n",
            "torch.Size([3, 1, 288, 384])\n",
            "torch.Size([3, 1, 288, 384])\n",
            "torch.Size([3, 1, 288, 384])\n"
          ]
        },
        {
          "output_type": "stream",
          "name": "stderr",
          "text": [
            "\n",
            " 35%|███▌      | 230/653 [05:07<09:25,  1.34s/it]\u001b[A"
          ]
        },
        {
          "output_type": "stream",
          "name": "stdout",
          "text": [
            "*************\n",
            "torch.Size([3, 1, 288, 384])\n",
            "torch.Size([3, 1, 288, 384])\n",
            "torch.Size([3, 1, 288, 384])\n",
            "torch.Size([3, 1, 288, 384])\n"
          ]
        },
        {
          "output_type": "stream",
          "name": "stderr",
          "text": [
            "\n",
            " 35%|███▌      | 231/653 [05:09<09:23,  1.33s/it]\u001b[A"
          ]
        },
        {
          "output_type": "stream",
          "name": "stdout",
          "text": [
            "*************\n",
            "torch.Size([3, 1, 288, 384])\n",
            "torch.Size([3, 1, 288, 384])\n",
            "torch.Size([3, 1, 288, 384])\n",
            "torch.Size([3, 1, 288, 384])\n"
          ]
        },
        {
          "output_type": "stream",
          "name": "stderr",
          "text": [
            "\n",
            " 36%|███▌      | 232/653 [05:10<09:21,  1.33s/it]\u001b[A"
          ]
        },
        {
          "output_type": "stream",
          "name": "stdout",
          "text": [
            "*************\n",
            "torch.Size([3, 1, 288, 384])\n",
            "torch.Size([3, 1, 288, 384])\n",
            "torch.Size([3, 1, 288, 384])\n",
            "torch.Size([3, 1, 288, 384])\n"
          ]
        },
        {
          "output_type": "stream",
          "name": "stderr",
          "text": [
            "\n",
            " 36%|███▌      | 233/653 [05:11<09:27,  1.35s/it]\u001b[A"
          ]
        },
        {
          "output_type": "stream",
          "name": "stdout",
          "text": [
            "*************\n",
            "torch.Size([3, 1, 288, 384])\n",
            "torch.Size([3, 1, 288, 384])\n",
            "torch.Size([3, 1, 288, 384])\n",
            "torch.Size([3, 1, 288, 384])\n"
          ]
        },
        {
          "output_type": "stream",
          "name": "stderr",
          "text": [
            "\n",
            " 36%|███▌      | 234/653 [05:13<09:22,  1.34s/it]\u001b[A"
          ]
        },
        {
          "output_type": "stream",
          "name": "stdout",
          "text": [
            "*************\n",
            "torch.Size([3, 1, 288, 384])\n",
            "torch.Size([3, 1, 288, 384])\n",
            "torch.Size([3, 1, 288, 384])\n",
            "torch.Size([3, 1, 288, 384])\n"
          ]
        },
        {
          "output_type": "stream",
          "name": "stderr",
          "text": [
            "\n",
            " 36%|███▌      | 235/653 [05:14<09:18,  1.34s/it]\u001b[A"
          ]
        },
        {
          "output_type": "stream",
          "name": "stdout",
          "text": [
            "*************\n",
            "torch.Size([3, 1, 288, 384])\n",
            "torch.Size([3, 1, 288, 384])\n",
            "torch.Size([3, 1, 288, 384])\n",
            "torch.Size([3, 1, 288, 384])\n"
          ]
        },
        {
          "output_type": "stream",
          "name": "stderr",
          "text": [
            "\n",
            " 36%|███▌      | 236/653 [05:15<09:17,  1.34s/it]\u001b[A"
          ]
        },
        {
          "output_type": "stream",
          "name": "stdout",
          "text": [
            "*************\n",
            "torch.Size([3, 1, 288, 384])\n",
            "torch.Size([3, 1, 288, 384])\n",
            "torch.Size([3, 1, 288, 384])\n",
            "torch.Size([3, 1, 288, 384])\n"
          ]
        },
        {
          "output_type": "stream",
          "name": "stderr",
          "text": [
            "\n",
            " 36%|███▋      | 237/653 [05:17<09:22,  1.35s/it]\u001b[A"
          ]
        },
        {
          "output_type": "stream",
          "name": "stdout",
          "text": [
            "*************\n",
            "torch.Size([3, 1, 288, 384])\n",
            "torch.Size([3, 1, 288, 384])\n",
            "torch.Size([3, 1, 288, 384])\n",
            "torch.Size([3, 1, 288, 384])\n"
          ]
        },
        {
          "output_type": "stream",
          "name": "stderr",
          "text": [
            "\n",
            " 36%|███▋      | 238/653 [05:18<09:25,  1.36s/it]\u001b[A"
          ]
        },
        {
          "output_type": "stream",
          "name": "stdout",
          "text": [
            "*************\n",
            "torch.Size([3, 1, 288, 384])\n",
            "torch.Size([3, 1, 288, 384])\n",
            "torch.Size([3, 1, 288, 384])\n",
            "torch.Size([3, 1, 288, 384])\n"
          ]
        },
        {
          "output_type": "stream",
          "name": "stderr",
          "text": [
            "\n",
            " 37%|███▋      | 239/653 [05:19<09:18,  1.35s/it]\u001b[A"
          ]
        },
        {
          "output_type": "stream",
          "name": "stdout",
          "text": [
            "*************\n",
            "torch.Size([3, 1, 288, 384])\n",
            "torch.Size([3, 1, 288, 384])\n",
            "torch.Size([3, 1, 288, 384])\n",
            "torch.Size([3, 1, 288, 384])\n"
          ]
        },
        {
          "output_type": "stream",
          "name": "stderr",
          "text": [
            "\n",
            " 37%|███▋      | 240/653 [05:21<09:14,  1.34s/it]\u001b[A"
          ]
        },
        {
          "output_type": "stream",
          "name": "stdout",
          "text": [
            "*************\n",
            "torch.Size([3, 1, 288, 384])\n",
            "torch.Size([3, 1, 288, 384])\n",
            "torch.Size([3, 1, 288, 384])\n",
            "torch.Size([3, 1, 288, 384])\n"
          ]
        },
        {
          "output_type": "stream",
          "name": "stderr",
          "text": [
            "\n",
            " 37%|███▋      | 241/653 [05:22<09:11,  1.34s/it]\u001b[A"
          ]
        },
        {
          "output_type": "stream",
          "name": "stdout",
          "text": [
            "*************\n",
            "torch.Size([3, 1, 288, 384])\n",
            "torch.Size([3, 1, 288, 384])\n",
            "torch.Size([3, 1, 288, 384])\n",
            "torch.Size([3, 1, 288, 384])\n"
          ]
        },
        {
          "output_type": "stream",
          "name": "stderr",
          "text": [
            "\n",
            " 37%|███▋      | 242/653 [05:23<09:08,  1.34s/it]\u001b[A"
          ]
        },
        {
          "output_type": "stream",
          "name": "stdout",
          "text": [
            "*************\n",
            "torch.Size([3, 1, 288, 384])\n",
            "torch.Size([3, 1, 288, 384])\n",
            "torch.Size([3, 1, 288, 384])\n",
            "torch.Size([3, 1, 288, 384])\n"
          ]
        },
        {
          "output_type": "stream",
          "name": "stderr",
          "text": [
            "\n",
            " 37%|███▋      | 243/653 [05:25<09:14,  1.35s/it]\u001b[A"
          ]
        },
        {
          "output_type": "stream",
          "name": "stdout",
          "text": [
            "*************\n",
            "torch.Size([3, 1, 288, 384])\n",
            "torch.Size([3, 1, 288, 384])\n",
            "torch.Size([3, 1, 288, 384])\n",
            "torch.Size([3, 1, 288, 384])\n"
          ]
        },
        {
          "output_type": "stream",
          "name": "stderr",
          "text": [
            "\n",
            " 37%|███▋      | 244/653 [05:26<09:11,  1.35s/it]\u001b[A"
          ]
        },
        {
          "output_type": "stream",
          "name": "stdout",
          "text": [
            "*************\n",
            "torch.Size([3, 1, 288, 384])\n",
            "torch.Size([3, 1, 288, 384])\n",
            "torch.Size([3, 1, 288, 384])\n",
            "torch.Size([3, 1, 288, 384])\n"
          ]
        },
        {
          "output_type": "stream",
          "name": "stderr",
          "text": [
            "\n",
            " 38%|███▊      | 245/653 [05:27<09:06,  1.34s/it]\u001b[A"
          ]
        },
        {
          "output_type": "stream",
          "name": "stdout",
          "text": [
            "*************\n",
            "torch.Size([3, 1, 288, 384])\n",
            "torch.Size([3, 1, 288, 384])\n",
            "torch.Size([3, 1, 288, 384])\n",
            "torch.Size([3, 1, 288, 384])\n"
          ]
        },
        {
          "output_type": "stream",
          "name": "stderr",
          "text": [
            "\n",
            " 38%|███▊      | 246/653 [05:29<09:09,  1.35s/it]\u001b[A"
          ]
        },
        {
          "output_type": "stream",
          "name": "stdout",
          "text": [
            "*************\n",
            "torch.Size([3, 1, 288, 384])\n",
            "torch.Size([3, 1, 288, 384])\n",
            "torch.Size([3, 1, 288, 384])\n",
            "torch.Size([3, 1, 288, 384])\n"
          ]
        },
        {
          "output_type": "stream",
          "name": "stderr",
          "text": [
            "\n",
            " 38%|███▊      | 247/653 [05:30<09:05,  1.34s/it]\u001b[A"
          ]
        },
        {
          "output_type": "stream",
          "name": "stdout",
          "text": [
            "*************\n",
            "torch.Size([3, 1, 288, 384])\n",
            "torch.Size([3, 1, 288, 384])\n",
            "torch.Size([3, 1, 288, 384])\n",
            "torch.Size([3, 1, 288, 384])\n"
          ]
        },
        {
          "output_type": "stream",
          "name": "stderr",
          "text": [
            "\n",
            " 38%|███▊      | 248/653 [05:31<09:02,  1.34s/it]\u001b[A"
          ]
        },
        {
          "output_type": "stream",
          "name": "stdout",
          "text": [
            "*************\n",
            "torch.Size([3, 1, 288, 384])\n",
            "torch.Size([3, 1, 288, 384])\n",
            "torch.Size([3, 1, 288, 384])\n",
            "torch.Size([3, 1, 288, 384])\n"
          ]
        },
        {
          "output_type": "stream",
          "name": "stderr",
          "text": [
            "\n",
            " 38%|███▊      | 249/653 [05:33<09:05,  1.35s/it]\u001b[A"
          ]
        },
        {
          "output_type": "stream",
          "name": "stdout",
          "text": [
            "*************\n",
            "torch.Size([3, 1, 288, 384])\n",
            "torch.Size([3, 1, 288, 384])\n",
            "torch.Size([3, 1, 288, 384])\n",
            "torch.Size([3, 1, 288, 384])\n"
          ]
        },
        {
          "output_type": "stream",
          "name": "stderr",
          "text": [
            "\n",
            " 38%|███▊      | 250/653 [05:34<09:00,  1.34s/it]\u001b[A"
          ]
        },
        {
          "output_type": "stream",
          "name": "stdout",
          "text": [
            "*************\n",
            "torch.Size([3, 1, 288, 384])\n",
            "torch.Size([3, 1, 288, 384])\n",
            "torch.Size([3, 1, 288, 384])\n",
            "torch.Size([3, 1, 288, 384])\n"
          ]
        },
        {
          "output_type": "stream",
          "name": "stderr",
          "text": [
            "\n",
            " 38%|███▊      | 251/653 [05:35<08:57,  1.34s/it]\u001b[A"
          ]
        },
        {
          "output_type": "stream",
          "name": "stdout",
          "text": [
            "*************\n",
            "torch.Size([3, 1, 288, 384])\n",
            "torch.Size([3, 1, 288, 384])\n",
            "torch.Size([3, 1, 288, 384])\n",
            "torch.Size([3, 1, 288, 384])\n"
          ]
        },
        {
          "output_type": "stream",
          "name": "stderr",
          "text": [
            "\n",
            " 39%|███▊      | 252/653 [05:37<08:59,  1.35s/it]\u001b[A"
          ]
        },
        {
          "output_type": "stream",
          "name": "stdout",
          "text": [
            "*************\n",
            "torch.Size([3, 1, 288, 384])\n",
            "torch.Size([3, 1, 288, 384])\n",
            "torch.Size([3, 1, 288, 384])\n",
            "torch.Size([3, 1, 288, 384])\n"
          ]
        },
        {
          "output_type": "stream",
          "name": "stderr",
          "text": [
            "\n",
            " 39%|███▊      | 253/653 [05:38<08:56,  1.34s/it]\u001b[A"
          ]
        },
        {
          "output_type": "stream",
          "name": "stdout",
          "text": [
            "*************\n",
            "torch.Size([3, 1, 288, 384])\n",
            "torch.Size([3, 1, 288, 384])\n",
            "torch.Size([3, 1, 288, 384])\n",
            "torch.Size([3, 1, 288, 384])\n"
          ]
        },
        {
          "output_type": "stream",
          "name": "stderr",
          "text": [
            "\n",
            " 39%|███▉      | 254/653 [05:39<08:53,  1.34s/it]\u001b[A"
          ]
        },
        {
          "output_type": "stream",
          "name": "stdout",
          "text": [
            "*************\n",
            "torch.Size([3, 1, 288, 384])\n",
            "torch.Size([3, 1, 288, 384])\n",
            "torch.Size([3, 1, 288, 384])\n",
            "torch.Size([3, 1, 288, 384])\n"
          ]
        },
        {
          "output_type": "stream",
          "name": "stderr",
          "text": [
            "\n",
            " 39%|███▉      | 255/653 [05:41<08:51,  1.34s/it]\u001b[A"
          ]
        },
        {
          "output_type": "stream",
          "name": "stdout",
          "text": [
            "*************\n",
            "torch.Size([3, 1, 288, 384])\n",
            "torch.Size([3, 1, 288, 384])\n",
            "torch.Size([3, 1, 288, 384])\n",
            "torch.Size([3, 1, 288, 384])\n"
          ]
        },
        {
          "output_type": "stream",
          "name": "stderr",
          "text": [
            "\n",
            " 39%|███▉      | 256/653 [05:42<08:56,  1.35s/it]\u001b[A"
          ]
        },
        {
          "output_type": "stream",
          "name": "stdout",
          "text": [
            "*************\n",
            "torch.Size([3, 1, 288, 384])\n",
            "torch.Size([3, 1, 288, 384])\n",
            "torch.Size([3, 1, 288, 384])\n",
            "torch.Size([3, 1, 288, 384])\n"
          ]
        },
        {
          "output_type": "stream",
          "name": "stderr",
          "text": [
            "\n",
            " 39%|███▉      | 257/653 [05:44<08:52,  1.34s/it]\u001b[A"
          ]
        },
        {
          "output_type": "stream",
          "name": "stdout",
          "text": [
            "*************\n",
            "torch.Size([3, 1, 288, 384])\n",
            "torch.Size([3, 1, 288, 384])\n",
            "torch.Size([3, 1, 288, 384])\n",
            "torch.Size([3, 1, 288, 384])\n"
          ]
        },
        {
          "output_type": "stream",
          "name": "stderr",
          "text": [
            "\n",
            " 40%|███▉      | 258/653 [05:45<08:50,  1.34s/it]\u001b[A"
          ]
        },
        {
          "output_type": "stream",
          "name": "stdout",
          "text": [
            "*************\n",
            "torch.Size([3, 1, 288, 384])\n",
            "torch.Size([3, 1, 288, 384])\n",
            "torch.Size([3, 1, 288, 384])\n",
            "torch.Size([3, 1, 288, 384])\n"
          ]
        },
        {
          "output_type": "stream",
          "name": "stderr",
          "text": [
            "\n",
            " 40%|███▉      | 259/653 [05:46<08:52,  1.35s/it]\u001b[A"
          ]
        },
        {
          "output_type": "stream",
          "name": "stdout",
          "text": [
            "*************\n",
            "torch.Size([3, 1, 288, 384])\n",
            "torch.Size([3, 1, 288, 384])\n",
            "torch.Size([3, 1, 288, 384])\n",
            "torch.Size([3, 1, 288, 384])\n"
          ]
        },
        {
          "output_type": "stream",
          "name": "stderr",
          "text": [
            "\n",
            " 40%|███▉      | 260/653 [05:48<08:48,  1.34s/it]\u001b[A"
          ]
        },
        {
          "output_type": "stream",
          "name": "stdout",
          "text": [
            "*************\n",
            "torch.Size([3, 1, 288, 384])\n",
            "torch.Size([3, 1, 288, 384])\n",
            "torch.Size([3, 1, 288, 384])\n",
            "torch.Size([3, 1, 288, 384])\n"
          ]
        },
        {
          "output_type": "stream",
          "name": "stderr",
          "text": [
            "\n",
            " 40%|███▉      | 261/653 [05:49<08:45,  1.34s/it]\u001b[A"
          ]
        },
        {
          "output_type": "stream",
          "name": "stdout",
          "text": [
            "*************\n",
            "torch.Size([3, 1, 288, 384])\n",
            "torch.Size([3, 1, 288, 384])\n",
            "torch.Size([3, 1, 288, 384])\n",
            "torch.Size([3, 1, 288, 384])\n"
          ]
        },
        {
          "output_type": "stream",
          "name": "stderr",
          "text": [
            "\n",
            " 40%|████      | 262/653 [05:50<08:42,  1.34s/it]\u001b[A"
          ]
        },
        {
          "output_type": "stream",
          "name": "stdout",
          "text": [
            "*************\n",
            "torch.Size([3, 1, 288, 384])\n",
            "torch.Size([3, 1, 288, 384])\n",
            "torch.Size([3, 1, 288, 384])\n",
            "torch.Size([3, 1, 288, 384])\n"
          ]
        },
        {
          "output_type": "stream",
          "name": "stderr",
          "text": [
            "\n",
            " 40%|████      | 263/653 [05:52<08:47,  1.35s/it]\u001b[A"
          ]
        },
        {
          "output_type": "stream",
          "name": "stdout",
          "text": [
            "*************\n",
            "torch.Size([3, 1, 288, 384])\n",
            "torch.Size([3, 1, 288, 384])\n",
            "torch.Size([3, 1, 288, 384])\n",
            "torch.Size([3, 1, 288, 384])\n"
          ]
        },
        {
          "output_type": "stream",
          "name": "stderr",
          "text": [
            "\n",
            " 40%|████      | 264/653 [05:53<08:48,  1.36s/it]\u001b[A"
          ]
        },
        {
          "output_type": "stream",
          "name": "stdout",
          "text": [
            "*************\n",
            "torch.Size([3, 1, 288, 384])\n",
            "torch.Size([3, 1, 288, 384])\n",
            "torch.Size([3, 1, 288, 384])\n",
            "torch.Size([3, 1, 288, 384])\n"
          ]
        },
        {
          "output_type": "stream",
          "name": "stderr",
          "text": [
            "\n",
            " 41%|████      | 265/653 [05:54<08:44,  1.35s/it]\u001b[A"
          ]
        },
        {
          "output_type": "stream",
          "name": "stdout",
          "text": [
            "*************\n",
            "torch.Size([3, 1, 288, 384])\n",
            "torch.Size([3, 1, 288, 384])\n",
            "torch.Size([3, 1, 288, 384])\n",
            "torch.Size([3, 1, 288, 384])\n"
          ]
        },
        {
          "output_type": "stream",
          "name": "stderr",
          "text": [
            "\n",
            " 41%|████      | 266/653 [05:56<08:41,  1.35s/it]\u001b[A"
          ]
        },
        {
          "output_type": "stream",
          "name": "stdout",
          "text": [
            "*************\n",
            "torch.Size([3, 1, 288, 384])\n",
            "torch.Size([3, 1, 288, 384])\n",
            "torch.Size([3, 1, 288, 384])\n",
            "torch.Size([3, 1, 288, 384])\n"
          ]
        },
        {
          "output_type": "stream",
          "name": "stderr",
          "text": [
            "\n",
            " 41%|████      | 267/653 [05:57<08:37,  1.34s/it]\u001b[A"
          ]
        },
        {
          "output_type": "stream",
          "name": "stdout",
          "text": [
            "*************\n",
            "torch.Size([3, 1, 288, 384])\n",
            "torch.Size([3, 1, 288, 384])\n",
            "torch.Size([3, 1, 288, 384])\n",
            "torch.Size([3, 1, 288, 384])\n"
          ]
        },
        {
          "output_type": "stream",
          "name": "stderr",
          "text": [
            "\n",
            " 41%|████      | 268/653 [05:58<08:35,  1.34s/it]\u001b[A"
          ]
        },
        {
          "output_type": "stream",
          "name": "stdout",
          "text": [
            "*************\n",
            "torch.Size([3, 1, 288, 384])\n",
            "torch.Size([3, 1, 288, 384])\n",
            "torch.Size([3, 1, 288, 384])\n",
            "torch.Size([3, 1, 288, 384])\n"
          ]
        },
        {
          "output_type": "stream",
          "name": "stderr",
          "text": [
            "\n",
            " 41%|████      | 269/653 [06:00<08:32,  1.34s/it]\u001b[A"
          ]
        },
        {
          "output_type": "stream",
          "name": "stdout",
          "text": [
            "*************\n",
            "torch.Size([3, 1, 288, 384])\n",
            "torch.Size([3, 1, 288, 384])\n",
            "torch.Size([3, 1, 288, 384])\n",
            "torch.Size([3, 1, 288, 384])\n"
          ]
        },
        {
          "output_type": "stream",
          "name": "stderr",
          "text": [
            "\n",
            " 41%|████▏     | 270/653 [06:01<08:37,  1.35s/it]\u001b[A"
          ]
        },
        {
          "output_type": "stream",
          "name": "stdout",
          "text": [
            "*************\n",
            "torch.Size([3, 1, 288, 384])\n",
            "torch.Size([3, 1, 288, 384])\n",
            "torch.Size([3, 1, 288, 384])\n",
            "torch.Size([3, 1, 288, 384])\n"
          ]
        },
        {
          "output_type": "stream",
          "name": "stderr",
          "text": [
            "\n",
            " 42%|████▏     | 271/653 [06:02<08:34,  1.35s/it]\u001b[A"
          ]
        },
        {
          "output_type": "stream",
          "name": "stdout",
          "text": [
            "*************\n",
            "torch.Size([3, 1, 288, 384])\n",
            "torch.Size([3, 1, 288, 384])\n",
            "torch.Size([3, 1, 288, 384])\n",
            "torch.Size([3, 1, 288, 384])\n"
          ]
        },
        {
          "output_type": "stream",
          "name": "stderr",
          "text": [
            "\n",
            " 42%|████▏     | 272/653 [06:04<08:31,  1.34s/it]\u001b[A"
          ]
        },
        {
          "output_type": "stream",
          "name": "stdout",
          "text": [
            "*************\n",
            "torch.Size([3, 1, 288, 384])\n",
            "torch.Size([3, 1, 288, 384])\n",
            "torch.Size([3, 1, 288, 384])\n",
            "torch.Size([3, 1, 288, 384])\n"
          ]
        },
        {
          "output_type": "stream",
          "name": "stderr",
          "text": [
            "\n",
            " 42%|████▏     | 273/653 [06:05<08:28,  1.34s/it]\u001b[A"
          ]
        },
        {
          "output_type": "stream",
          "name": "stdout",
          "text": [
            "*************\n",
            "torch.Size([3, 1, 288, 384])\n",
            "torch.Size([3, 1, 288, 384])\n",
            "torch.Size([3, 1, 288, 384])\n",
            "torch.Size([3, 1, 288, 384])\n"
          ]
        },
        {
          "output_type": "stream",
          "name": "stderr",
          "text": [
            "\n",
            " 42%|████▏     | 274/653 [06:06<08:30,  1.35s/it]\u001b[A"
          ]
        },
        {
          "output_type": "stream",
          "name": "stdout",
          "text": [
            "*************\n",
            "torch.Size([3, 1, 288, 384])\n",
            "torch.Size([3, 1, 288, 384])\n",
            "torch.Size([3, 1, 288, 384])\n",
            "torch.Size([3, 1, 288, 384])\n"
          ]
        },
        {
          "output_type": "stream",
          "name": "stderr",
          "text": [
            "\n",
            " 42%|████▏     | 275/653 [06:08<08:27,  1.34s/it]\u001b[A"
          ]
        },
        {
          "output_type": "stream",
          "name": "stdout",
          "text": [
            "*************\n",
            "torch.Size([3, 1, 288, 384])\n",
            "torch.Size([3, 1, 288, 384])\n",
            "torch.Size([3, 1, 288, 384])\n",
            "torch.Size([3, 1, 288, 384])\n"
          ]
        },
        {
          "output_type": "stream",
          "name": "stderr",
          "text": [
            "\n",
            " 42%|████▏     | 276/653 [06:09<08:25,  1.34s/it]\u001b[A"
          ]
        },
        {
          "output_type": "stream",
          "name": "stdout",
          "text": [
            "*************\n",
            "torch.Size([3, 1, 288, 384])\n",
            "torch.Size([3, 1, 288, 384])\n",
            "torch.Size([3, 1, 288, 384])\n",
            "torch.Size([3, 1, 288, 384])\n"
          ]
        },
        {
          "output_type": "stream",
          "name": "stderr",
          "text": [
            "\n",
            " 42%|████▏     | 277/653 [06:10<08:22,  1.34s/it]\u001b[A"
          ]
        },
        {
          "output_type": "stream",
          "name": "stdout",
          "text": [
            "*************\n",
            "torch.Size([3, 1, 288, 384])\n",
            "torch.Size([3, 1, 288, 384])\n",
            "torch.Size([3, 1, 288, 384])\n",
            "torch.Size([3, 1, 288, 384])\n"
          ]
        },
        {
          "output_type": "stream",
          "name": "stderr",
          "text": [
            "\n",
            " 43%|████▎     | 278/653 [06:12<08:23,  1.34s/it]\u001b[A"
          ]
        },
        {
          "output_type": "stream",
          "name": "stdout",
          "text": [
            "*************\n",
            "torch.Size([3, 1, 288, 384])\n",
            "torch.Size([3, 1, 288, 384])\n",
            "torch.Size([3, 1, 288, 384])\n",
            "torch.Size([3, 1, 288, 384])\n"
          ]
        },
        {
          "output_type": "stream",
          "name": "stderr",
          "text": [
            "\n",
            " 43%|████▎     | 279/653 [06:13<08:27,  1.36s/it]\u001b[A"
          ]
        },
        {
          "output_type": "stream",
          "name": "stdout",
          "text": [
            "*************\n",
            "torch.Size([3, 1, 288, 384])\n",
            "torch.Size([3, 1, 288, 384])\n",
            "torch.Size([3, 1, 288, 384])\n",
            "torch.Size([3, 1, 288, 384])\n"
          ]
        },
        {
          "output_type": "stream",
          "name": "stderr",
          "text": [
            "\n",
            " 43%|████▎     | 280/653 [06:14<08:22,  1.35s/it]\u001b[A"
          ]
        },
        {
          "output_type": "stream",
          "name": "stdout",
          "text": [
            "*************\n",
            "torch.Size([3, 1, 288, 384])\n",
            "torch.Size([3, 1, 288, 384])\n",
            "torch.Size([3, 1, 288, 384])\n",
            "torch.Size([3, 1, 288, 384])\n"
          ]
        },
        {
          "output_type": "stream",
          "name": "stderr",
          "text": [
            "\n",
            " 43%|████▎     | 281/653 [06:16<08:24,  1.36s/it]\u001b[A"
          ]
        },
        {
          "output_type": "stream",
          "name": "stdout",
          "text": [
            "*************\n",
            "torch.Size([3, 1, 288, 384])\n",
            "torch.Size([3, 1, 288, 384])\n",
            "torch.Size([3, 1, 288, 384])\n",
            "torch.Size([3, 1, 288, 384])\n"
          ]
        },
        {
          "output_type": "stream",
          "name": "stderr",
          "text": [
            "\n",
            " 43%|████▎     | 282/653 [06:17<08:20,  1.35s/it]\u001b[A"
          ]
        },
        {
          "output_type": "stream",
          "name": "stdout",
          "text": [
            "*************\n",
            "torch.Size([3, 1, 288, 384])\n",
            "torch.Size([3, 1, 288, 384])\n",
            "torch.Size([3, 1, 288, 384])\n",
            "torch.Size([3, 1, 288, 384])\n"
          ]
        },
        {
          "output_type": "stream",
          "name": "stderr",
          "text": [
            "\n",
            " 43%|████▎     | 283/653 [06:19<08:18,  1.35s/it]\u001b[A"
          ]
        },
        {
          "output_type": "stream",
          "name": "stdout",
          "text": [
            "*************\n",
            "torch.Size([3, 1, 288, 384])\n",
            "torch.Size([3, 1, 288, 384])\n",
            "torch.Size([3, 1, 288, 384])\n",
            "torch.Size([3, 1, 288, 384])\n"
          ]
        },
        {
          "output_type": "stream",
          "name": "stderr",
          "text": [
            "\n",
            " 43%|████▎     | 284/653 [06:20<08:19,  1.35s/it]\u001b[A"
          ]
        },
        {
          "output_type": "stream",
          "name": "stdout",
          "text": [
            "*************\n",
            "torch.Size([3, 1, 288, 384])\n",
            "torch.Size([3, 1, 288, 384])\n",
            "torch.Size([3, 1, 288, 384])\n",
            "torch.Size([3, 1, 288, 384])\n"
          ]
        },
        {
          "output_type": "stream",
          "name": "stderr",
          "text": [
            "\n",
            " 44%|████▎     | 285/653 [06:21<08:15,  1.35s/it]\u001b[A"
          ]
        },
        {
          "output_type": "stream",
          "name": "stdout",
          "text": [
            "*************\n",
            "torch.Size([3, 1, 288, 384])\n",
            "torch.Size([3, 1, 288, 384])\n",
            "torch.Size([3, 1, 288, 384])\n",
            "torch.Size([3, 1, 288, 384])\n"
          ]
        },
        {
          "output_type": "stream",
          "name": "stderr",
          "text": [
            "\n",
            " 44%|████▍     | 286/653 [06:23<08:19,  1.36s/it]\u001b[A"
          ]
        },
        {
          "output_type": "stream",
          "name": "stdout",
          "text": [
            "*************\n",
            "torch.Size([3, 1, 288, 384])\n",
            "torch.Size([3, 1, 288, 384])\n",
            "torch.Size([3, 1, 288, 384])\n",
            "torch.Size([3, 1, 288, 384])\n"
          ]
        },
        {
          "output_type": "stream",
          "name": "stderr",
          "text": [
            "\n",
            " 44%|████▍     | 287/653 [06:24<08:18,  1.36s/it]\u001b[A"
          ]
        },
        {
          "output_type": "stream",
          "name": "stdout",
          "text": [
            "*************\n",
            "torch.Size([3, 1, 288, 384])\n",
            "torch.Size([3, 1, 288, 384])\n",
            "torch.Size([3, 1, 288, 384])\n",
            "torch.Size([3, 1, 288, 384])\n"
          ]
        },
        {
          "output_type": "stream",
          "name": "stderr",
          "text": [
            "\n",
            " 44%|████▍     | 288/653 [06:25<08:18,  1.37s/it]\u001b[A"
          ]
        },
        {
          "output_type": "stream",
          "name": "stdout",
          "text": [
            "*************\n",
            "torch.Size([3, 1, 288, 384])\n",
            "torch.Size([3, 1, 288, 384])\n",
            "torch.Size([3, 1, 288, 384])\n",
            "torch.Size([3, 1, 288, 384])\n"
          ]
        },
        {
          "output_type": "stream",
          "name": "stderr",
          "text": [
            "\n",
            " 44%|████▍     | 289/653 [06:27<08:13,  1.36s/it]\u001b[A"
          ]
        },
        {
          "output_type": "stream",
          "name": "stdout",
          "text": [
            "*************\n",
            "torch.Size([3, 1, 288, 384])\n",
            "torch.Size([3, 1, 288, 384])\n",
            "torch.Size([3, 1, 288, 384])\n",
            "torch.Size([3, 1, 288, 384])\n"
          ]
        },
        {
          "output_type": "stream",
          "name": "stderr",
          "text": [
            "\n",
            " 44%|████▍     | 290/653 [06:28<08:09,  1.35s/it]\u001b[A"
          ]
        },
        {
          "output_type": "stream",
          "name": "stdout",
          "text": [
            "*************\n",
            "torch.Size([3, 1, 288, 384])\n",
            "torch.Size([3, 1, 288, 384])\n",
            "torch.Size([3, 1, 288, 384])\n",
            "torch.Size([3, 1, 288, 384])\n"
          ]
        },
        {
          "output_type": "stream",
          "name": "stderr",
          "text": [
            "\n",
            " 45%|████▍     | 291/653 [06:29<08:12,  1.36s/it]\u001b[A"
          ]
        },
        {
          "output_type": "stream",
          "name": "stdout",
          "text": [
            "*************\n",
            "torch.Size([3, 1, 288, 384])\n",
            "torch.Size([3, 1, 288, 384])\n",
            "torch.Size([3, 1, 288, 384])\n",
            "torch.Size([3, 1, 288, 384])\n"
          ]
        },
        {
          "output_type": "stream",
          "name": "stderr",
          "text": [
            "\n",
            " 45%|████▍     | 292/653 [06:31<08:08,  1.35s/it]\u001b[A"
          ]
        },
        {
          "output_type": "stream",
          "name": "stdout",
          "text": [
            "*************\n",
            "torch.Size([3, 1, 288, 384])\n",
            "torch.Size([3, 1, 288, 384])\n",
            "torch.Size([3, 1, 288, 384])\n",
            "torch.Size([3, 1, 288, 384])\n"
          ]
        },
        {
          "output_type": "stream",
          "name": "stderr",
          "text": [
            "\n",
            " 45%|████▍     | 293/653 [06:32<08:04,  1.35s/it]\u001b[A"
          ]
        },
        {
          "output_type": "stream",
          "name": "stdout",
          "text": [
            "*************\n",
            "torch.Size([3, 1, 288, 384])\n",
            "torch.Size([3, 1, 288, 384])\n",
            "torch.Size([3, 1, 288, 384])\n",
            "torch.Size([3, 1, 288, 384])\n"
          ]
        },
        {
          "output_type": "stream",
          "name": "stderr",
          "text": [
            "\n",
            " 45%|████▌     | 294/653 [06:33<08:01,  1.34s/it]\u001b[A"
          ]
        },
        {
          "output_type": "stream",
          "name": "stdout",
          "text": [
            "*************\n",
            "torch.Size([3, 1, 288, 384])\n",
            "torch.Size([3, 1, 288, 384])\n",
            "torch.Size([3, 1, 288, 384])\n",
            "torch.Size([3, 1, 288, 384])\n"
          ]
        },
        {
          "output_type": "stream",
          "name": "stderr",
          "text": [
            "\n",
            " 45%|████▌     | 295/653 [06:35<07:59,  1.34s/it]\u001b[A"
          ]
        },
        {
          "output_type": "stream",
          "name": "stdout",
          "text": [
            "*************\n",
            "torch.Size([3, 1, 288, 384])\n",
            "torch.Size([3, 1, 288, 384])\n",
            "torch.Size([3, 1, 288, 384])\n",
            "torch.Size([3, 1, 288, 384])\n"
          ]
        },
        {
          "output_type": "stream",
          "name": "stderr",
          "text": [
            "\n",
            " 45%|████▌     | 296/653 [06:36<07:57,  1.34s/it]\u001b[A"
          ]
        },
        {
          "output_type": "stream",
          "name": "stdout",
          "text": [
            "*************\n",
            "torch.Size([3, 1, 288, 384])\n",
            "torch.Size([3, 1, 288, 384])\n",
            "torch.Size([3, 1, 288, 384])\n",
            "torch.Size([3, 1, 288, 384])\n"
          ]
        },
        {
          "output_type": "stream",
          "name": "stderr",
          "text": [
            "\n",
            " 45%|████▌     | 297/653 [06:37<07:55,  1.34s/it]\u001b[A"
          ]
        },
        {
          "output_type": "stream",
          "name": "stdout",
          "text": [
            "*************\n",
            "torch.Size([3, 1, 288, 384])\n",
            "torch.Size([3, 1, 288, 384])\n",
            "torch.Size([3, 1, 288, 384])\n",
            "torch.Size([3, 1, 288, 384])\n"
          ]
        },
        {
          "output_type": "stream",
          "name": "stderr",
          "text": [
            "\n",
            " 46%|████▌     | 298/653 [06:39<07:53,  1.33s/it]\u001b[A"
          ]
        },
        {
          "output_type": "stream",
          "name": "stdout",
          "text": [
            "*************\n",
            "torch.Size([3, 1, 288, 384])\n",
            "torch.Size([3, 1, 288, 384])\n",
            "torch.Size([3, 1, 288, 384])\n",
            "torch.Size([3, 1, 288, 384])\n"
          ]
        },
        {
          "output_type": "stream",
          "name": "stderr",
          "text": [
            "\n",
            " 46%|████▌     | 299/653 [06:40<07:51,  1.33s/it]\u001b[A"
          ]
        },
        {
          "output_type": "stream",
          "name": "stdout",
          "text": [
            "*************\n",
            "torch.Size([3, 1, 288, 384])\n",
            "torch.Size([3, 1, 288, 384])\n",
            "torch.Size([3, 1, 288, 384])\n",
            "torch.Size([3, 1, 288, 384])\n"
          ]
        },
        {
          "output_type": "stream",
          "name": "stderr",
          "text": [
            "\n",
            " 46%|████▌     | 300/653 [06:41<07:50,  1.33s/it]\u001b[A"
          ]
        },
        {
          "output_type": "stream",
          "name": "stdout",
          "text": [
            "*************\n",
            "torch.Size([3, 1, 288, 384])\n",
            "torch.Size([3, 1, 288, 384])\n",
            "torch.Size([3, 1, 288, 384])\n",
            "torch.Size([3, 1, 288, 384])\n"
          ]
        },
        {
          "output_type": "stream",
          "name": "stderr",
          "text": [
            "\n",
            " 46%|████▌     | 301/653 [06:43<07:54,  1.35s/it]\u001b[A"
          ]
        },
        {
          "output_type": "stream",
          "name": "stdout",
          "text": [
            "*************\n",
            "torch.Size([3, 1, 288, 384])\n",
            "torch.Size([3, 1, 288, 384])\n",
            "torch.Size([3, 1, 288, 384])\n",
            "torch.Size([3, 1, 288, 384])\n"
          ]
        },
        {
          "output_type": "stream",
          "name": "stderr",
          "text": [
            "\n",
            " 46%|████▌     | 302/653 [06:44<07:51,  1.34s/it]\u001b[A"
          ]
        },
        {
          "output_type": "stream",
          "name": "stdout",
          "text": [
            "*************\n",
            "torch.Size([3, 1, 288, 384])\n",
            "torch.Size([3, 1, 288, 384])\n",
            "torch.Size([3, 1, 288, 384])\n",
            "torch.Size([3, 1, 288, 384])\n"
          ]
        },
        {
          "output_type": "stream",
          "name": "stderr",
          "text": [
            "\n",
            " 46%|████▋     | 303/653 [06:45<07:49,  1.34s/it]\u001b[A"
          ]
        },
        {
          "output_type": "stream",
          "name": "stdout",
          "text": [
            "*************\n",
            "torch.Size([3, 1, 288, 384])\n",
            "torch.Size([3, 1, 288, 384])\n",
            "torch.Size([3, 1, 288, 384])\n",
            "torch.Size([3, 1, 288, 384])\n"
          ]
        },
        {
          "output_type": "stream",
          "name": "stderr",
          "text": [
            "\n",
            " 47%|████▋     | 304/653 [06:47<07:47,  1.34s/it]\u001b[A"
          ]
        },
        {
          "output_type": "stream",
          "name": "stdout",
          "text": [
            "*************\n",
            "torch.Size([3, 1, 288, 384])\n",
            "torch.Size([3, 1, 288, 384])\n",
            "torch.Size([3, 1, 288, 384])\n",
            "torch.Size([3, 1, 288, 384])\n"
          ]
        },
        {
          "output_type": "stream",
          "name": "stderr",
          "text": [
            "\n",
            " 47%|████▋     | 305/653 [06:48<07:45,  1.34s/it]\u001b[A"
          ]
        },
        {
          "output_type": "stream",
          "name": "stdout",
          "text": [
            "*************\n",
            "torch.Size([3, 1, 288, 384])\n",
            "torch.Size([3, 1, 288, 384])\n",
            "torch.Size([3, 1, 288, 384])\n",
            "torch.Size([3, 1, 288, 384])\n"
          ]
        },
        {
          "output_type": "stream",
          "name": "stderr",
          "text": [
            "\n",
            " 47%|████▋     | 306/653 [06:49<07:43,  1.34s/it]\u001b[A"
          ]
        },
        {
          "output_type": "stream",
          "name": "stdout",
          "text": [
            "*************\n",
            "torch.Size([3, 1, 288, 384])\n",
            "torch.Size([3, 1, 288, 384])\n",
            "torch.Size([3, 1, 288, 384])\n",
            "torch.Size([3, 1, 288, 384])\n"
          ]
        },
        {
          "output_type": "stream",
          "name": "stderr",
          "text": [
            "\n",
            " 47%|████▋     | 307/653 [06:51<07:41,  1.33s/it]\u001b[A"
          ]
        },
        {
          "output_type": "stream",
          "name": "stdout",
          "text": [
            "*************\n",
            "torch.Size([3, 1, 288, 384])\n",
            "torch.Size([3, 1, 288, 384])\n",
            "torch.Size([3, 1, 288, 384])\n",
            "torch.Size([3, 1, 288, 384])\n"
          ]
        },
        {
          "output_type": "stream",
          "name": "stderr",
          "text": [
            "\n",
            " 47%|████▋     | 308/653 [06:52<07:40,  1.34s/it]\u001b[A"
          ]
        },
        {
          "output_type": "stream",
          "name": "stdout",
          "text": [
            "*************\n",
            "torch.Size([3, 1, 288, 384])\n",
            "torch.Size([3, 1, 288, 384])\n",
            "torch.Size([3, 1, 288, 384])\n",
            "torch.Size([3, 1, 288, 384])\n"
          ]
        },
        {
          "output_type": "stream",
          "name": "stderr",
          "text": [
            "\n",
            " 47%|████▋     | 309/653 [06:53<07:39,  1.33s/it]\u001b[A"
          ]
        },
        {
          "output_type": "stream",
          "name": "stdout",
          "text": [
            "*************\n",
            "torch.Size([3, 1, 288, 384])\n",
            "torch.Size([3, 1, 288, 384])\n",
            "torch.Size([3, 1, 288, 384])\n",
            "torch.Size([3, 1, 288, 384])\n"
          ]
        },
        {
          "output_type": "stream",
          "name": "stderr",
          "text": [
            "\n",
            " 47%|████▋     | 310/653 [06:55<07:42,  1.35s/it]\u001b[A"
          ]
        },
        {
          "output_type": "stream",
          "name": "stdout",
          "text": [
            "*************\n",
            "torch.Size([3, 1, 288, 384])\n",
            "torch.Size([3, 1, 288, 384])\n",
            "torch.Size([3, 1, 288, 384])\n",
            "torch.Size([3, 1, 288, 384])\n"
          ]
        },
        {
          "output_type": "stream",
          "name": "stderr",
          "text": [
            "\n",
            " 48%|████▊     | 311/653 [06:56<07:39,  1.34s/it]\u001b[A"
          ]
        },
        {
          "output_type": "stream",
          "name": "stdout",
          "text": [
            "*************\n",
            "torch.Size([3, 1, 288, 384])\n",
            "torch.Size([3, 1, 288, 384])\n",
            "torch.Size([3, 1, 288, 384])\n",
            "torch.Size([3, 1, 288, 384])\n"
          ]
        },
        {
          "output_type": "stream",
          "name": "stderr",
          "text": [
            "\n",
            " 48%|████▊     | 312/653 [06:57<07:36,  1.34s/it]\u001b[A"
          ]
        },
        {
          "output_type": "stream",
          "name": "stdout",
          "text": [
            "*************\n",
            "torch.Size([3, 1, 288, 384])\n",
            "torch.Size([3, 1, 288, 384])\n",
            "torch.Size([3, 1, 288, 384])\n",
            "torch.Size([3, 1, 288, 384])\n"
          ]
        },
        {
          "output_type": "stream",
          "name": "stderr",
          "text": [
            "\n",
            " 48%|████▊     | 313/653 [06:59<07:34,  1.34s/it]\u001b[A"
          ]
        },
        {
          "output_type": "stream",
          "name": "stdout",
          "text": [
            "*************\n",
            "torch.Size([3, 1, 288, 384])\n",
            "torch.Size([3, 1, 288, 384])\n",
            "torch.Size([3, 1, 288, 384])\n",
            "torch.Size([3, 1, 288, 384])\n"
          ]
        },
        {
          "output_type": "stream",
          "name": "stderr",
          "text": [
            "\n",
            " 48%|████▊     | 314/653 [07:00<07:39,  1.35s/it]\u001b[A"
          ]
        },
        {
          "output_type": "stream",
          "name": "stdout",
          "text": [
            "*************\n",
            "torch.Size([3, 1, 288, 384])\n",
            "torch.Size([3, 1, 288, 384])\n",
            "torch.Size([3, 1, 288, 384])\n",
            "torch.Size([3, 1, 288, 384])\n"
          ]
        },
        {
          "output_type": "stream",
          "name": "stderr",
          "text": [
            "\n",
            " 48%|████▊     | 315/653 [07:02<07:35,  1.35s/it]\u001b[A"
          ]
        },
        {
          "output_type": "stream",
          "name": "stdout",
          "text": [
            "*************\n",
            "torch.Size([3, 1, 288, 384])\n",
            "torch.Size([3, 1, 288, 384])\n",
            "torch.Size([3, 1, 288, 384])\n",
            "torch.Size([3, 1, 288, 384])\n"
          ]
        },
        {
          "output_type": "stream",
          "name": "stderr",
          "text": [
            "\n",
            " 48%|████▊     | 316/653 [07:03<07:33,  1.34s/it]\u001b[A"
          ]
        },
        {
          "output_type": "stream",
          "name": "stdout",
          "text": [
            "*************\n",
            "torch.Size([3, 1, 288, 384])\n",
            "torch.Size([3, 1, 288, 384])\n",
            "torch.Size([3, 1, 288, 384])\n",
            "torch.Size([3, 1, 288, 384])\n"
          ]
        },
        {
          "output_type": "stream",
          "name": "stderr",
          "text": [
            "\n",
            " 49%|████▊     | 317/653 [07:04<07:30,  1.34s/it]\u001b[A"
          ]
        },
        {
          "output_type": "stream",
          "name": "stdout",
          "text": [
            "*************\n",
            "torch.Size([3, 1, 288, 384])\n",
            "torch.Size([3, 1, 288, 384])\n",
            "torch.Size([3, 1, 288, 384])\n",
            "torch.Size([3, 1, 288, 384])\n"
          ]
        },
        {
          "output_type": "stream",
          "name": "stderr",
          "text": [
            "\n",
            " 49%|████▊     | 318/653 [07:06<07:28,  1.34s/it]\u001b[A"
          ]
        },
        {
          "output_type": "stream",
          "name": "stdout",
          "text": [
            "*************\n",
            "torch.Size([3, 1, 288, 384])\n",
            "torch.Size([3, 1, 288, 384])\n",
            "torch.Size([3, 1, 288, 384])\n",
            "torch.Size([3, 1, 288, 384])\n"
          ]
        },
        {
          "output_type": "stream",
          "name": "stderr",
          "text": [
            "\n",
            " 49%|████▉     | 319/653 [07:07<07:31,  1.35s/it]\u001b[A"
          ]
        },
        {
          "output_type": "stream",
          "name": "stdout",
          "text": [
            "*************\n",
            "torch.Size([3, 1, 288, 384])\n",
            "torch.Size([3, 1, 288, 384])\n",
            "torch.Size([3, 1, 288, 384])\n",
            "torch.Size([3, 1, 288, 384])\n"
          ]
        },
        {
          "output_type": "stream",
          "name": "stderr",
          "text": [
            "\n",
            " 49%|████▉     | 320/653 [07:08<07:32,  1.36s/it]\u001b[A"
          ]
        },
        {
          "output_type": "stream",
          "name": "stdout",
          "text": [
            "*************\n",
            "torch.Size([3, 1, 288, 384])\n",
            "torch.Size([3, 1, 288, 384])\n",
            "torch.Size([3, 1, 288, 384])\n",
            "torch.Size([3, 1, 288, 384])\n"
          ]
        },
        {
          "output_type": "stream",
          "name": "stderr",
          "text": [
            "\n",
            " 49%|████▉     | 321/653 [07:10<07:31,  1.36s/it]\u001b[A"
          ]
        },
        {
          "output_type": "stream",
          "name": "stdout",
          "text": [
            "*************\n",
            "torch.Size([3, 1, 288, 384])\n",
            "torch.Size([3, 1, 288, 384])\n",
            "torch.Size([3, 1, 288, 384])\n",
            "torch.Size([3, 1, 288, 384])\n"
          ]
        },
        {
          "output_type": "stream",
          "name": "stderr",
          "text": [
            "\n",
            " 49%|████▉     | 322/653 [07:11<07:28,  1.35s/it]\u001b[A"
          ]
        },
        {
          "output_type": "stream",
          "name": "stdout",
          "text": [
            "*************\n",
            "torch.Size([3, 1, 288, 384])\n",
            "torch.Size([3, 1, 288, 384])\n",
            "torch.Size([3, 1, 288, 384])\n",
            "torch.Size([3, 1, 288, 384])\n"
          ]
        },
        {
          "output_type": "stream",
          "name": "stderr",
          "text": [
            "\n",
            " 49%|████▉     | 323/653 [07:12<07:24,  1.35s/it]\u001b[A"
          ]
        },
        {
          "output_type": "stream",
          "name": "stdout",
          "text": [
            "*************\n",
            "torch.Size([3, 1, 288, 384])\n",
            "torch.Size([3, 1, 288, 384])\n",
            "torch.Size([3, 1, 288, 384])\n",
            "torch.Size([3, 1, 288, 384])\n"
          ]
        },
        {
          "output_type": "stream",
          "name": "stderr",
          "text": [
            "\n",
            " 50%|████▉     | 324/653 [07:14<07:21,  1.34s/it]\u001b[A"
          ]
        },
        {
          "output_type": "stream",
          "name": "stdout",
          "text": [
            "*************\n",
            "torch.Size([3, 1, 288, 384])\n",
            "torch.Size([3, 1, 288, 384])\n",
            "torch.Size([3, 1, 288, 384])\n",
            "torch.Size([3, 1, 288, 384])\n"
          ]
        },
        {
          "output_type": "stream",
          "name": "stderr",
          "text": [
            "\n",
            " 50%|████▉     | 325/653 [07:15<07:21,  1.35s/it]\u001b[A"
          ]
        },
        {
          "output_type": "stream",
          "name": "stdout",
          "text": [
            "*************\n",
            "torch.Size([3, 1, 288, 384])\n",
            "torch.Size([3, 1, 288, 384])\n",
            "torch.Size([3, 1, 288, 384])\n",
            "torch.Size([3, 1, 288, 384])\n"
          ]
        },
        {
          "output_type": "stream",
          "name": "stderr",
          "text": [
            "\n",
            " 50%|████▉     | 326/653 [07:16<07:19,  1.34s/it]\u001b[A"
          ]
        },
        {
          "output_type": "stream",
          "name": "stdout",
          "text": [
            "*************\n",
            "torch.Size([3, 1, 288, 384])\n",
            "torch.Size([3, 1, 288, 384])\n",
            "torch.Size([3, 1, 288, 384])\n",
            "torch.Size([3, 1, 288, 384])\n"
          ]
        },
        {
          "output_type": "stream",
          "name": "stderr",
          "text": [
            "\n",
            " 50%|█████     | 327/653 [07:18<07:16,  1.34s/it]\u001b[A"
          ]
        },
        {
          "output_type": "stream",
          "name": "stdout",
          "text": [
            "*************\n",
            "torch.Size([3, 1, 288, 384])\n",
            "torch.Size([3, 1, 288, 384])\n",
            "torch.Size([3, 1, 288, 384])\n",
            "torch.Size([3, 1, 288, 384])\n"
          ]
        },
        {
          "output_type": "stream",
          "name": "stderr",
          "text": [
            "\n",
            " 50%|█████     | 328/653 [07:19<07:14,  1.34s/it]\u001b[A"
          ]
        },
        {
          "output_type": "stream",
          "name": "stdout",
          "text": [
            "*************\n",
            "torch.Size([3, 1, 288, 384])\n",
            "torch.Size([3, 1, 288, 384])\n",
            "torch.Size([3, 1, 288, 384])\n",
            "torch.Size([3, 1, 288, 384])\n"
          ]
        },
        {
          "output_type": "stream",
          "name": "stderr",
          "text": [
            "\n",
            " 50%|█████     | 329/653 [07:20<07:13,  1.34s/it]\u001b[A"
          ]
        },
        {
          "output_type": "stream",
          "name": "stdout",
          "text": [
            "*************\n",
            "torch.Size([3, 1, 288, 384])\n",
            "torch.Size([3, 1, 288, 384])\n",
            "torch.Size([3, 1, 288, 384])\n",
            "torch.Size([3, 1, 288, 384])\n"
          ]
        },
        {
          "output_type": "stream",
          "name": "stderr",
          "text": [
            "\n",
            " 51%|█████     | 330/653 [07:22<07:14,  1.34s/it]\u001b[A"
          ]
        },
        {
          "output_type": "stream",
          "name": "stdout",
          "text": [
            "*************\n",
            "torch.Size([3, 1, 288, 384])\n",
            "torch.Size([3, 1, 288, 384])\n",
            "torch.Size([3, 1, 288, 384])\n",
            "torch.Size([3, 1, 288, 384])\n"
          ]
        },
        {
          "output_type": "stream",
          "name": "stderr",
          "text": [
            "\n",
            " 51%|█████     | 331/653 [07:23<07:11,  1.34s/it]\u001b[A"
          ]
        },
        {
          "output_type": "stream",
          "name": "stdout",
          "text": [
            "*************\n",
            "torch.Size([3, 1, 288, 384])\n",
            "torch.Size([3, 1, 288, 384])\n",
            "torch.Size([3, 1, 288, 384])\n",
            "torch.Size([3, 1, 288, 384])\n"
          ]
        },
        {
          "output_type": "stream",
          "name": "stderr",
          "text": [
            "\n",
            " 51%|█████     | 332/653 [07:24<07:09,  1.34s/it]\u001b[A"
          ]
        },
        {
          "output_type": "stream",
          "name": "stdout",
          "text": [
            "*************\n",
            "torch.Size([3, 1, 288, 384])\n",
            "torch.Size([3, 1, 288, 384])\n",
            "torch.Size([3, 1, 288, 384])\n",
            "torch.Size([3, 1, 288, 384])\n"
          ]
        },
        {
          "output_type": "stream",
          "name": "stderr",
          "text": [
            "\n",
            " 51%|█████     | 333/653 [07:26<07:08,  1.34s/it]\u001b[A"
          ]
        },
        {
          "output_type": "stream",
          "name": "stdout",
          "text": [
            "*************\n",
            "torch.Size([3, 1, 288, 384])\n",
            "torch.Size([3, 1, 288, 384])\n",
            "torch.Size([3, 1, 288, 384])\n",
            "torch.Size([3, 1, 288, 384])\n"
          ]
        },
        {
          "output_type": "stream",
          "name": "stderr",
          "text": [
            "\n",
            " 51%|█████     | 334/653 [07:27<07:05,  1.33s/it]\u001b[A"
          ]
        },
        {
          "output_type": "stream",
          "name": "stdout",
          "text": [
            "*************\n",
            "torch.Size([3, 1, 288, 384])\n",
            "torch.Size([3, 1, 288, 384])\n",
            "torch.Size([3, 1, 288, 384])\n",
            "torch.Size([3, 1, 288, 384])\n"
          ]
        },
        {
          "output_type": "stream",
          "name": "stderr",
          "text": [
            "\n",
            " 51%|█████▏    | 335/653 [07:28<07:03,  1.33s/it]\u001b[A"
          ]
        },
        {
          "output_type": "stream",
          "name": "stdout",
          "text": [
            "*************\n",
            "torch.Size([3, 1, 288, 384])\n",
            "torch.Size([3, 1, 288, 384])\n",
            "torch.Size([3, 1, 288, 384])\n",
            "torch.Size([3, 1, 288, 384])\n"
          ]
        },
        {
          "output_type": "stream",
          "name": "stderr",
          "text": [
            "\n",
            " 51%|█████▏    | 336/653 [07:30<07:02,  1.33s/it]\u001b[A"
          ]
        },
        {
          "output_type": "stream",
          "name": "stdout",
          "text": [
            "*************\n",
            "torch.Size([3, 1, 288, 384])\n",
            "torch.Size([3, 1, 288, 384])\n",
            "torch.Size([3, 1, 288, 384])\n",
            "torch.Size([3, 1, 288, 384])\n"
          ]
        },
        {
          "output_type": "stream",
          "name": "stderr",
          "text": [
            "\n",
            " 52%|█████▏    | 337/653 [07:31<07:00,  1.33s/it]\u001b[A"
          ]
        },
        {
          "output_type": "stream",
          "name": "stdout",
          "text": [
            "*************\n",
            "torch.Size([3, 1, 288, 384])\n",
            "torch.Size([3, 1, 288, 384])\n",
            "torch.Size([3, 1, 288, 384])\n",
            "torch.Size([3, 1, 288, 384])\n"
          ]
        },
        {
          "output_type": "stream",
          "name": "stderr",
          "text": [
            "\n",
            " 52%|█████▏    | 338/653 [07:32<06:59,  1.33s/it]\u001b[A"
          ]
        },
        {
          "output_type": "stream",
          "name": "stdout",
          "text": [
            "*************\n",
            "torch.Size([3, 1, 288, 384])\n",
            "torch.Size([3, 1, 288, 384])\n",
            "torch.Size([3, 1, 288, 384])\n",
            "torch.Size([3, 1, 288, 384])\n"
          ]
        },
        {
          "output_type": "stream",
          "name": "stderr",
          "text": [
            "\n",
            " 52%|█████▏    | 339/653 [07:34<07:03,  1.35s/it]\u001b[A"
          ]
        },
        {
          "output_type": "stream",
          "name": "stdout",
          "text": [
            "*************\n",
            "torch.Size([3, 1, 288, 384])\n",
            "torch.Size([3, 1, 288, 384])\n",
            "torch.Size([3, 1, 288, 384])\n",
            "torch.Size([3, 1, 288, 384])\n"
          ]
        },
        {
          "output_type": "stream",
          "name": "stderr",
          "text": [
            "\n",
            " 52%|█████▏    | 340/653 [07:35<07:03,  1.35s/it]\u001b[A"
          ]
        },
        {
          "output_type": "stream",
          "name": "stdout",
          "text": [
            "*************\n",
            "torch.Size([3, 1, 288, 384])\n",
            "torch.Size([3, 1, 288, 384])\n",
            "torch.Size([3, 1, 288, 384])\n",
            "torch.Size([3, 1, 288, 384])\n"
          ]
        },
        {
          "output_type": "stream",
          "name": "stderr",
          "text": [
            "\n",
            " 52%|█████▏    | 341/653 [07:36<06:59,  1.35s/it]\u001b[A"
          ]
        },
        {
          "output_type": "stream",
          "name": "stdout",
          "text": [
            "*************\n",
            "torch.Size([3, 1, 288, 384])\n",
            "torch.Size([3, 1, 288, 384])\n",
            "torch.Size([3, 1, 288, 384])\n",
            "torch.Size([3, 1, 288, 384])\n"
          ]
        },
        {
          "output_type": "stream",
          "name": "stderr",
          "text": [
            "\n",
            " 52%|█████▏    | 342/653 [07:38<06:57,  1.34s/it]\u001b[A"
          ]
        },
        {
          "output_type": "stream",
          "name": "stdout",
          "text": [
            "*************\n",
            "torch.Size([3, 1, 288, 384])\n",
            "torch.Size([3, 1, 288, 384])\n",
            "torch.Size([3, 1, 288, 384])\n",
            "torch.Size([3, 1, 288, 384])\n"
          ]
        },
        {
          "output_type": "stream",
          "name": "stderr",
          "text": [
            "\n",
            " 53%|█████▎    | 343/653 [07:39<06:58,  1.35s/it]\u001b[A"
          ]
        },
        {
          "output_type": "stream",
          "name": "stdout",
          "text": [
            "*************\n",
            "torch.Size([3, 1, 288, 384])\n",
            "torch.Size([3, 1, 288, 384])\n",
            "torch.Size([3, 1, 288, 384])\n",
            "torch.Size([3, 1, 288, 384])\n"
          ]
        },
        {
          "output_type": "stream",
          "name": "stderr",
          "text": [
            "\n",
            " 53%|█████▎    | 344/653 [07:40<06:57,  1.35s/it]\u001b[A"
          ]
        },
        {
          "output_type": "stream",
          "name": "stdout",
          "text": [
            "*************\n",
            "torch.Size([3, 1, 288, 384])\n",
            "torch.Size([3, 1, 288, 384])\n",
            "torch.Size([3, 1, 288, 384])\n",
            "torch.Size([3, 1, 288, 384])\n"
          ]
        },
        {
          "output_type": "stream",
          "name": "stderr",
          "text": [
            "\n",
            " 53%|█████▎    | 345/653 [07:42<06:54,  1.35s/it]\u001b[A"
          ]
        },
        {
          "output_type": "stream",
          "name": "stdout",
          "text": [
            "*************\n",
            "torch.Size([3, 1, 288, 384])\n",
            "torch.Size([3, 1, 288, 384])\n",
            "torch.Size([3, 1, 288, 384])\n",
            "torch.Size([3, 1, 288, 384])\n"
          ]
        },
        {
          "output_type": "stream",
          "name": "stderr",
          "text": [
            "\n",
            " 53%|█████▎    | 346/653 [07:43<06:51,  1.34s/it]\u001b[A"
          ]
        },
        {
          "output_type": "stream",
          "name": "stdout",
          "text": [
            "*************\n",
            "torch.Size([3, 1, 288, 384])\n",
            "torch.Size([3, 1, 288, 384])\n",
            "torch.Size([3, 1, 288, 384])\n",
            "torch.Size([3, 1, 288, 384])\n"
          ]
        },
        {
          "output_type": "stream",
          "name": "stderr",
          "text": [
            "\n",
            " 53%|█████▎    | 347/653 [07:45<06:50,  1.34s/it]\u001b[A"
          ]
        },
        {
          "output_type": "stream",
          "name": "stdout",
          "text": [
            "*************\n",
            "torch.Size([3, 1, 288, 384])\n",
            "torch.Size([3, 1, 288, 384])\n",
            "torch.Size([3, 1, 288, 384])\n",
            "torch.Size([3, 1, 288, 384])\n"
          ]
        },
        {
          "output_type": "stream",
          "name": "stderr",
          "text": [
            "\n",
            " 53%|█████▎    | 348/653 [07:46<06:53,  1.36s/it]\u001b[A"
          ]
        },
        {
          "output_type": "stream",
          "name": "stdout",
          "text": [
            "*************\n",
            "torch.Size([3, 1, 288, 384])\n",
            "torch.Size([3, 1, 288, 384])\n",
            "torch.Size([3, 1, 288, 384])\n",
            "torch.Size([3, 1, 288, 384])\n"
          ]
        },
        {
          "output_type": "stream",
          "name": "stderr",
          "text": [
            "\n",
            " 53%|█████▎    | 349/653 [07:47<06:49,  1.35s/it]\u001b[A"
          ]
        },
        {
          "output_type": "stream",
          "name": "stdout",
          "text": [
            "*************\n",
            "torch.Size([3, 1, 288, 384])\n",
            "torch.Size([3, 1, 288, 384])\n",
            "torch.Size([3, 1, 288, 384])\n",
            "torch.Size([3, 1, 288, 384])\n"
          ]
        },
        {
          "output_type": "stream",
          "name": "stderr",
          "text": [
            "\n",
            " 54%|█████▎    | 350/653 [07:49<06:46,  1.34s/it]\u001b[A"
          ]
        },
        {
          "output_type": "stream",
          "name": "stdout",
          "text": [
            "*************\n",
            "torch.Size([3, 1, 288, 384])\n",
            "torch.Size([3, 1, 288, 384])\n",
            "torch.Size([3, 1, 288, 384])\n",
            "torch.Size([3, 1, 288, 384])\n"
          ]
        },
        {
          "output_type": "stream",
          "name": "stderr",
          "text": [
            "\n",
            " 54%|█████▍    | 351/653 [07:50<06:44,  1.34s/it]\u001b[A"
          ]
        },
        {
          "output_type": "stream",
          "name": "stdout",
          "text": [
            "*************\n",
            "torch.Size([3, 1, 288, 384])\n",
            "torch.Size([3, 1, 288, 384])\n",
            "torch.Size([3, 1, 288, 384])\n",
            "torch.Size([3, 1, 288, 384])\n"
          ]
        },
        {
          "output_type": "stream",
          "name": "stderr",
          "text": [
            "\n",
            " 54%|█████▍    | 352/653 [07:51<06:45,  1.35s/it]\u001b[A"
          ]
        },
        {
          "output_type": "stream",
          "name": "stdout",
          "text": [
            "*************\n",
            "torch.Size([3, 1, 288, 384])\n",
            "torch.Size([3, 1, 288, 384])\n",
            "torch.Size([3, 1, 288, 384])\n",
            "torch.Size([3, 1, 288, 384])\n"
          ]
        },
        {
          "output_type": "stream",
          "name": "stderr",
          "text": [
            "\n",
            " 54%|█████▍    | 353/653 [07:53<06:43,  1.34s/it]\u001b[A"
          ]
        },
        {
          "output_type": "stream",
          "name": "stdout",
          "text": [
            "*************\n",
            "torch.Size([3, 1, 288, 384])\n",
            "torch.Size([3, 1, 288, 384])\n",
            "torch.Size([3, 1, 288, 384])\n",
            "torch.Size([3, 1, 288, 384])\n"
          ]
        },
        {
          "output_type": "stream",
          "name": "stderr",
          "text": [
            "\n",
            " 54%|█████▍    | 354/653 [07:54<06:41,  1.34s/it]\u001b[A"
          ]
        },
        {
          "output_type": "stream",
          "name": "stdout",
          "text": [
            "*************\n",
            "torch.Size([3, 1, 288, 384])\n",
            "torch.Size([3, 1, 288, 384])\n",
            "torch.Size([3, 1, 288, 384])\n",
            "torch.Size([3, 1, 288, 384])\n"
          ]
        },
        {
          "output_type": "stream",
          "name": "stderr",
          "text": [
            "\n",
            " 54%|█████▍    | 355/653 [07:55<06:39,  1.34s/it]\u001b[A"
          ]
        },
        {
          "output_type": "stream",
          "name": "stdout",
          "text": [
            "*************\n",
            "torch.Size([3, 1, 288, 384])\n",
            "torch.Size([3, 1, 288, 384])\n",
            "torch.Size([3, 1, 288, 384])\n",
            "torch.Size([3, 1, 288, 384])\n"
          ]
        },
        {
          "output_type": "stream",
          "name": "stderr",
          "text": [
            "\n",
            " 55%|█████▍    | 356/653 [07:57<06:37,  1.34s/it]\u001b[A"
          ]
        },
        {
          "output_type": "stream",
          "name": "stdout",
          "text": [
            "*************\n",
            "torch.Size([3, 1, 288, 384])\n",
            "torch.Size([3, 1, 288, 384])\n",
            "torch.Size([3, 1, 288, 384])\n",
            "torch.Size([3, 1, 288, 384])\n"
          ]
        },
        {
          "output_type": "stream",
          "name": "stderr",
          "text": [
            "\n",
            " 55%|█████▍    | 357/653 [07:58<06:35,  1.34s/it]\u001b[A"
          ]
        },
        {
          "output_type": "stream",
          "name": "stdout",
          "text": [
            "*************\n",
            "torch.Size([3, 1, 288, 384])\n",
            "torch.Size([3, 1, 288, 384])\n",
            "torch.Size([3, 1, 288, 384])\n",
            "torch.Size([3, 1, 288, 384])\n"
          ]
        },
        {
          "output_type": "stream",
          "name": "stderr",
          "text": [
            "\n",
            " 55%|█████▍    | 358/653 [07:59<06:34,  1.34s/it]\u001b[A"
          ]
        },
        {
          "output_type": "stream",
          "name": "stdout",
          "text": [
            "*************\n",
            "torch.Size([3, 1, 288, 384])\n",
            "torch.Size([3, 1, 288, 384])\n",
            "torch.Size([3, 1, 288, 384])\n",
            "torch.Size([3, 1, 288, 384])\n"
          ]
        },
        {
          "output_type": "stream",
          "name": "stderr",
          "text": [
            "\n",
            " 55%|█████▍    | 359/653 [08:01<06:36,  1.35s/it]\u001b[A"
          ]
        },
        {
          "output_type": "stream",
          "name": "stdout",
          "text": [
            "*************\n",
            "torch.Size([3, 1, 288, 384])\n",
            "torch.Size([3, 1, 288, 384])\n",
            "torch.Size([3, 1, 288, 384])\n",
            "torch.Size([3, 1, 288, 384])\n"
          ]
        },
        {
          "output_type": "stream",
          "name": "stderr",
          "text": [
            "\n",
            " 55%|█████▌    | 360/653 [08:02<06:36,  1.35s/it]\u001b[A"
          ]
        },
        {
          "output_type": "stream",
          "name": "stdout",
          "text": [
            "*************\n",
            "torch.Size([3, 1, 288, 384])\n",
            "torch.Size([3, 1, 288, 384])\n",
            "torch.Size([3, 1, 288, 384])\n",
            "torch.Size([3, 1, 288, 384])\n"
          ]
        },
        {
          "output_type": "stream",
          "name": "stderr",
          "text": [
            "\n",
            " 55%|█████▌    | 361/653 [08:03<06:38,  1.36s/it]\u001b[A"
          ]
        },
        {
          "output_type": "stream",
          "name": "stdout",
          "text": [
            "*************\n",
            "torch.Size([3, 1, 288, 384])\n",
            "torch.Size([3, 1, 288, 384])\n",
            "torch.Size([3, 1, 288, 384])\n",
            "torch.Size([3, 1, 288, 384])\n"
          ]
        },
        {
          "output_type": "stream",
          "name": "stderr",
          "text": [
            "\n",
            " 55%|█████▌    | 362/653 [08:05<06:34,  1.36s/it]\u001b[A"
          ]
        },
        {
          "output_type": "stream",
          "name": "stdout",
          "text": [
            "*************\n",
            "torch.Size([3, 1, 288, 384])\n",
            "torch.Size([3, 1, 288, 384])\n",
            "torch.Size([3, 1, 288, 384])\n",
            "torch.Size([3, 1, 288, 384])\n"
          ]
        },
        {
          "output_type": "stream",
          "name": "stderr",
          "text": [
            "\n",
            " 56%|█████▌    | 363/653 [08:06<06:31,  1.35s/it]\u001b[A"
          ]
        },
        {
          "output_type": "stream",
          "name": "stdout",
          "text": [
            "*************\n",
            "torch.Size([3, 1, 288, 384])\n",
            "torch.Size([3, 1, 288, 384])\n",
            "torch.Size([3, 1, 288, 384])\n",
            "torch.Size([3, 1, 288, 384])\n"
          ]
        },
        {
          "output_type": "stream",
          "name": "stderr",
          "text": [
            "\n",
            " 56%|█████▌    | 364/653 [08:07<06:29,  1.35s/it]\u001b[A"
          ]
        },
        {
          "output_type": "stream",
          "name": "stdout",
          "text": [
            "*************\n",
            "torch.Size([3, 1, 288, 384])\n",
            "torch.Size([3, 1, 288, 384])\n",
            "torch.Size([3, 1, 288, 384])\n",
            "torch.Size([3, 1, 288, 384])\n"
          ]
        },
        {
          "output_type": "stream",
          "name": "stderr",
          "text": [
            "\n",
            " 56%|█████▌    | 365/653 [08:09<06:26,  1.34s/it]\u001b[A"
          ]
        },
        {
          "output_type": "stream",
          "name": "stdout",
          "text": [
            "*************\n",
            "torch.Size([3, 1, 288, 384])\n",
            "torch.Size([3, 1, 288, 384])\n",
            "torch.Size([3, 1, 288, 384])\n",
            "torch.Size([3, 1, 288, 384])\n"
          ]
        },
        {
          "output_type": "stream",
          "name": "stderr",
          "text": [
            "\n",
            " 56%|█████▌    | 366/653 [08:10<06:23,  1.34s/it]\u001b[A"
          ]
        },
        {
          "output_type": "stream",
          "name": "stdout",
          "text": [
            "*************\n",
            "torch.Size([3, 1, 288, 384])\n",
            "torch.Size([3, 1, 288, 384])\n",
            "torch.Size([3, 1, 288, 384])\n",
            "torch.Size([3, 1, 288, 384])\n"
          ]
        },
        {
          "output_type": "stream",
          "name": "stderr",
          "text": [
            "\n",
            " 56%|█████▌    | 367/653 [08:11<06:22,  1.34s/it]\u001b[A"
          ]
        },
        {
          "output_type": "stream",
          "name": "stdout",
          "text": [
            "*************\n",
            "torch.Size([3, 1, 288, 384])\n",
            "torch.Size([3, 1, 288, 384])\n",
            "torch.Size([3, 1, 288, 384])\n",
            "torch.Size([3, 1, 288, 384])\n"
          ]
        },
        {
          "output_type": "stream",
          "name": "stderr",
          "text": [
            "\n",
            " 56%|█████▋    | 368/653 [08:13<06:20,  1.34s/it]\u001b[A"
          ]
        },
        {
          "output_type": "stream",
          "name": "stdout",
          "text": [
            "*************\n",
            "torch.Size([3, 1, 288, 384])\n",
            "torch.Size([3, 1, 288, 384])\n",
            "torch.Size([3, 1, 288, 384])\n",
            "torch.Size([3, 1, 288, 384])\n"
          ]
        },
        {
          "output_type": "stream",
          "name": "stderr",
          "text": [
            "\n",
            " 57%|█████▋    | 369/653 [08:14<06:21,  1.34s/it]\u001b[A"
          ]
        },
        {
          "output_type": "stream",
          "name": "stdout",
          "text": [
            "*************\n",
            "torch.Size([3, 1, 288, 384])\n",
            "torch.Size([3, 1, 288, 384])\n",
            "torch.Size([3, 1, 288, 384])\n",
            "torch.Size([3, 1, 288, 384])\n"
          ]
        },
        {
          "output_type": "stream",
          "name": "stderr",
          "text": [
            "\n",
            " 57%|█████▋    | 370/653 [08:15<06:18,  1.34s/it]\u001b[A"
          ]
        },
        {
          "output_type": "stream",
          "name": "stdout",
          "text": [
            "*************\n",
            "torch.Size([3, 1, 288, 384])\n",
            "torch.Size([3, 1, 288, 384])\n",
            "torch.Size([3, 1, 288, 384])\n",
            "torch.Size([3, 1, 288, 384])\n"
          ]
        },
        {
          "output_type": "stream",
          "name": "stderr",
          "text": [
            "\n",
            " 57%|█████▋    | 371/653 [08:17<06:16,  1.34s/it]\u001b[A"
          ]
        },
        {
          "output_type": "stream",
          "name": "stdout",
          "text": [
            "*************\n",
            "torch.Size([3, 1, 288, 384])\n",
            "torch.Size([3, 1, 288, 384])\n",
            "torch.Size([3, 1, 288, 384])\n",
            "torch.Size([3, 1, 288, 384])\n"
          ]
        },
        {
          "output_type": "stream",
          "name": "stderr",
          "text": [
            "\n",
            " 57%|█████▋    | 372/653 [08:18<06:15,  1.33s/it]\u001b[A"
          ]
        },
        {
          "output_type": "stream",
          "name": "stdout",
          "text": [
            "*************\n",
            "torch.Size([3, 1, 288, 384])\n",
            "torch.Size([3, 1, 288, 384])\n",
            "torch.Size([3, 1, 288, 384])\n",
            "torch.Size([3, 1, 288, 384])\n"
          ]
        },
        {
          "output_type": "stream",
          "name": "stderr",
          "text": [
            "\n",
            " 57%|█████▋    | 373/653 [08:19<06:18,  1.35s/it]\u001b[A"
          ]
        },
        {
          "output_type": "stream",
          "name": "stdout",
          "text": [
            "*************\n",
            "torch.Size([3, 1, 288, 384])\n",
            "torch.Size([3, 1, 288, 384])\n",
            "torch.Size([3, 1, 288, 384])\n",
            "torch.Size([3, 1, 288, 384])\n"
          ]
        },
        {
          "output_type": "stream",
          "name": "stderr",
          "text": [
            "\n",
            " 57%|█████▋    | 374/653 [08:21<06:15,  1.35s/it]\u001b[A"
          ]
        },
        {
          "output_type": "stream",
          "name": "stdout",
          "text": [
            "*************\n",
            "torch.Size([3, 1, 288, 384])\n",
            "torch.Size([3, 1, 288, 384])\n",
            "torch.Size([3, 1, 288, 384])\n",
            "torch.Size([3, 1, 288, 384])\n"
          ]
        },
        {
          "output_type": "stream",
          "name": "stderr",
          "text": [
            "\n",
            " 57%|█████▋    | 375/653 [08:22<06:13,  1.34s/it]\u001b[A"
          ]
        },
        {
          "output_type": "stream",
          "name": "stdout",
          "text": [
            "*************\n",
            "torch.Size([3, 1, 288, 384])\n",
            "torch.Size([3, 1, 288, 384])\n",
            "torch.Size([3, 1, 288, 384])\n",
            "torch.Size([3, 1, 288, 384])\n"
          ]
        },
        {
          "output_type": "stream",
          "name": "stderr",
          "text": [
            "\n",
            " 58%|█████▊    | 376/653 [08:24<06:16,  1.36s/it]\u001b[A"
          ]
        },
        {
          "output_type": "stream",
          "name": "stdout",
          "text": [
            "*************\n",
            "torch.Size([3, 1, 288, 384])\n",
            "torch.Size([3, 1, 288, 384])\n",
            "torch.Size([3, 1, 288, 384])\n",
            "torch.Size([3, 1, 288, 384])\n"
          ]
        },
        {
          "output_type": "stream",
          "name": "stderr",
          "text": [
            "\n",
            " 58%|█████▊    | 377/653 [08:25<06:17,  1.37s/it]\u001b[A"
          ]
        },
        {
          "output_type": "stream",
          "name": "stdout",
          "text": [
            "*************\n",
            "torch.Size([3, 1, 288, 384])\n",
            "torch.Size([3, 1, 288, 384])\n",
            "torch.Size([3, 1, 288, 384])\n",
            "torch.Size([3, 1, 288, 384])\n"
          ]
        },
        {
          "output_type": "stream",
          "name": "stderr",
          "text": [
            "\n",
            " 58%|█████▊    | 378/653 [08:26<06:13,  1.36s/it]\u001b[A"
          ]
        },
        {
          "output_type": "stream",
          "name": "stdout",
          "text": [
            "*************\n",
            "torch.Size([3, 1, 288, 384])\n",
            "torch.Size([3, 1, 288, 384])\n",
            "torch.Size([3, 1, 288, 384])\n",
            "torch.Size([3, 1, 288, 384])\n"
          ]
        },
        {
          "output_type": "stream",
          "name": "stderr",
          "text": [
            "\n",
            " 58%|█████▊    | 379/653 [08:28<06:11,  1.36s/it]\u001b[A"
          ]
        },
        {
          "output_type": "stream",
          "name": "stdout",
          "text": [
            "*************\n",
            "torch.Size([3, 1, 288, 384])\n",
            "torch.Size([3, 1, 288, 384])\n",
            "torch.Size([3, 1, 288, 384])\n",
            "torch.Size([3, 1, 288, 384])\n"
          ]
        },
        {
          "output_type": "stream",
          "name": "stderr",
          "text": [
            "\n",
            " 58%|█████▊    | 380/653 [08:29<06:13,  1.37s/it]\u001b[A"
          ]
        },
        {
          "output_type": "stream",
          "name": "stdout",
          "text": [
            "*************\n",
            "torch.Size([3, 1, 288, 384])\n",
            "torch.Size([3, 1, 288, 384])\n",
            "torch.Size([3, 1, 288, 384])\n",
            "torch.Size([3, 1, 288, 384])\n"
          ]
        },
        {
          "output_type": "stream",
          "name": "stderr",
          "text": [
            "\n",
            " 58%|█████▊    | 381/653 [08:30<06:09,  1.36s/it]\u001b[A"
          ]
        },
        {
          "output_type": "stream",
          "name": "stdout",
          "text": [
            "*************\n",
            "torch.Size([3, 1, 288, 384])\n",
            "torch.Size([3, 1, 288, 384])\n",
            "torch.Size([3, 1, 288, 384])\n",
            "torch.Size([3, 1, 288, 384])\n"
          ]
        },
        {
          "output_type": "stream",
          "name": "stderr",
          "text": [
            "\n",
            " 58%|█████▊    | 382/653 [08:32<06:06,  1.35s/it]\u001b[A"
          ]
        },
        {
          "output_type": "stream",
          "name": "stdout",
          "text": [
            "*************\n",
            "torch.Size([3, 1, 288, 384])\n",
            "torch.Size([3, 1, 288, 384])\n",
            "torch.Size([3, 1, 288, 384])\n",
            "torch.Size([3, 1, 288, 384])\n"
          ]
        },
        {
          "output_type": "stream",
          "name": "stderr",
          "text": [
            "\n",
            " 59%|█████▊    | 383/653 [08:33<06:03,  1.35s/it]\u001b[A"
          ]
        },
        {
          "output_type": "stream",
          "name": "stdout",
          "text": [
            "*************\n",
            "torch.Size([3, 1, 288, 384])\n",
            "torch.Size([3, 1, 288, 384])\n",
            "torch.Size([3, 1, 288, 384])\n",
            "torch.Size([3, 1, 288, 384])\n"
          ]
        },
        {
          "output_type": "stream",
          "name": "stderr",
          "text": [
            "\n",
            " 59%|█████▉    | 384/653 [08:34<06:00,  1.34s/it]\u001b[A"
          ]
        },
        {
          "output_type": "stream",
          "name": "stdout",
          "text": [
            "*************\n",
            "torch.Size([3, 1, 288, 384])\n",
            "torch.Size([3, 1, 288, 384])\n",
            "torch.Size([3, 1, 288, 384])\n",
            "torch.Size([3, 1, 288, 384])\n"
          ]
        },
        {
          "output_type": "stream",
          "name": "stderr",
          "text": [
            "\n",
            " 59%|█████▉    | 385/653 [08:36<05:58,  1.34s/it]\u001b[A"
          ]
        },
        {
          "output_type": "stream",
          "name": "stdout",
          "text": [
            "*************\n",
            "torch.Size([3, 1, 288, 384])\n",
            "torch.Size([3, 1, 288, 384])\n",
            "torch.Size([3, 1, 288, 384])\n",
            "torch.Size([3, 1, 288, 384])\n"
          ]
        },
        {
          "output_type": "stream",
          "name": "stderr",
          "text": [
            "\n",
            " 59%|█████▉    | 386/653 [08:37<05:57,  1.34s/it]\u001b[A"
          ]
        },
        {
          "output_type": "stream",
          "name": "stdout",
          "text": [
            "*************\n",
            "torch.Size([3, 1, 288, 384])\n",
            "torch.Size([3, 1, 288, 384])\n",
            "torch.Size([3, 1, 288, 384])\n",
            "torch.Size([3, 1, 288, 384])\n"
          ]
        },
        {
          "output_type": "stream",
          "name": "stderr",
          "text": [
            "\n",
            " 59%|█████▉    | 387/653 [08:38<05:55,  1.34s/it]\u001b[A"
          ]
        },
        {
          "output_type": "stream",
          "name": "stdout",
          "text": [
            "*************\n",
            "torch.Size([3, 1, 288, 384])\n",
            "torch.Size([3, 1, 288, 384])\n",
            "torch.Size([3, 1, 288, 384])\n",
            "torch.Size([3, 1, 288, 384])\n"
          ]
        },
        {
          "output_type": "stream",
          "name": "stderr",
          "text": [
            "\n",
            " 59%|█████▉    | 388/653 [08:40<05:53,  1.33s/it]\u001b[A"
          ]
        },
        {
          "output_type": "stream",
          "name": "stdout",
          "text": [
            "*************\n",
            "torch.Size([3, 1, 288, 384])\n",
            "torch.Size([3, 1, 288, 384])\n",
            "torch.Size([3, 1, 288, 384])\n",
            "torch.Size([3, 1, 288, 384])\n"
          ]
        },
        {
          "output_type": "stream",
          "name": "stderr",
          "text": [
            "\n",
            " 60%|█████▉    | 389/653 [08:41<05:55,  1.35s/it]\u001b[A"
          ]
        },
        {
          "output_type": "stream",
          "name": "stdout",
          "text": [
            "*************\n",
            "torch.Size([3, 1, 288, 384])\n",
            "torch.Size([3, 1, 288, 384])\n",
            "torch.Size([3, 1, 288, 384])\n",
            "torch.Size([3, 1, 288, 384])\n"
          ]
        },
        {
          "output_type": "stream",
          "name": "stderr",
          "text": [
            "\n",
            " 60%|█████▉    | 390/653 [08:42<05:52,  1.34s/it]\u001b[A"
          ]
        },
        {
          "output_type": "stream",
          "name": "stdout",
          "text": [
            "*************\n",
            "torch.Size([3, 1, 288, 384])\n",
            "torch.Size([3, 1, 288, 384])\n",
            "torch.Size([3, 1, 288, 384])\n",
            "torch.Size([3, 1, 288, 384])\n"
          ]
        },
        {
          "output_type": "stream",
          "name": "stderr",
          "text": [
            "\n",
            " 60%|█████▉    | 391/653 [08:44<05:50,  1.34s/it]\u001b[A"
          ]
        },
        {
          "output_type": "stream",
          "name": "stdout",
          "text": [
            "*************\n",
            "torch.Size([3, 1, 288, 384])\n",
            "torch.Size([3, 1, 288, 384])\n",
            "torch.Size([3, 1, 288, 384])\n",
            "torch.Size([3, 1, 288, 384])\n"
          ]
        },
        {
          "output_type": "stream",
          "name": "stderr",
          "text": [
            "\n",
            " 60%|██████    | 392/653 [08:45<05:49,  1.34s/it]\u001b[A"
          ]
        },
        {
          "output_type": "stream",
          "name": "stdout",
          "text": [
            "*************\n",
            "torch.Size([3, 1, 288, 384])\n",
            "torch.Size([3, 1, 288, 384])\n",
            "torch.Size([3, 1, 288, 384])\n",
            "torch.Size([3, 1, 288, 384])\n"
          ]
        },
        {
          "output_type": "stream",
          "name": "stderr",
          "text": [
            "\n",
            " 60%|██████    | 393/653 [08:46<05:47,  1.34s/it]\u001b[A"
          ]
        },
        {
          "output_type": "stream",
          "name": "stdout",
          "text": [
            "*************\n",
            "torch.Size([3, 1, 288, 384])\n",
            "torch.Size([3, 1, 288, 384])\n",
            "torch.Size([3, 1, 288, 384])\n",
            "torch.Size([3, 1, 288, 384])\n"
          ]
        },
        {
          "output_type": "stream",
          "name": "stderr",
          "text": [
            "\n",
            " 60%|██████    | 394/653 [08:48<05:45,  1.34s/it]\u001b[A"
          ]
        },
        {
          "output_type": "stream",
          "name": "stdout",
          "text": [
            "*************\n",
            "torch.Size([3, 1, 288, 384])\n",
            "torch.Size([3, 1, 288, 384])\n",
            "torch.Size([3, 1, 288, 384])\n",
            "torch.Size([3, 1, 288, 384])\n"
          ]
        },
        {
          "output_type": "stream",
          "name": "stderr",
          "text": [
            "\n",
            " 60%|██████    | 395/653 [08:49<05:44,  1.34s/it]\u001b[A"
          ]
        },
        {
          "output_type": "stream",
          "name": "stdout",
          "text": [
            "*************\n",
            "torch.Size([3, 1, 288, 384])\n",
            "torch.Size([3, 1, 288, 384])\n",
            "torch.Size([3, 1, 288, 384])\n",
            "torch.Size([3, 1, 288, 384])\n"
          ]
        },
        {
          "output_type": "stream",
          "name": "stderr",
          "text": [
            "\n",
            " 61%|██████    | 396/653 [08:50<05:42,  1.33s/it]\u001b[A"
          ]
        },
        {
          "output_type": "stream",
          "name": "stdout",
          "text": [
            "*************\n",
            "torch.Size([3, 1, 288, 384])\n",
            "torch.Size([3, 1, 288, 384])\n",
            "torch.Size([3, 1, 288, 384])\n",
            "torch.Size([3, 1, 288, 384])\n"
          ]
        },
        {
          "output_type": "stream",
          "name": "stderr",
          "text": [
            "\n",
            " 61%|██████    | 397/653 [08:52<05:40,  1.33s/it]\u001b[A"
          ]
        },
        {
          "output_type": "stream",
          "name": "stdout",
          "text": [
            "*************\n",
            "torch.Size([3, 1, 288, 384])\n",
            "torch.Size([3, 1, 288, 384])\n",
            "torch.Size([3, 1, 288, 384])\n",
            "torch.Size([3, 1, 288, 384])\n"
          ]
        },
        {
          "output_type": "stream",
          "name": "stderr",
          "text": [
            "\n",
            " 61%|██████    | 398/653 [08:53<05:39,  1.33s/it]\u001b[A"
          ]
        },
        {
          "output_type": "stream",
          "name": "stdout",
          "text": [
            "*************\n",
            "torch.Size([3, 1, 288, 384])\n",
            "torch.Size([3, 1, 288, 384])\n",
            "torch.Size([3, 1, 288, 384])\n",
            "torch.Size([3, 1, 288, 384])\n"
          ]
        },
        {
          "output_type": "stream",
          "name": "stderr",
          "text": [
            "\n",
            " 61%|██████    | 399/653 [08:54<05:38,  1.33s/it]\u001b[A"
          ]
        },
        {
          "output_type": "stream",
          "name": "stdout",
          "text": [
            "*************\n",
            "torch.Size([3, 1, 288, 384])\n",
            "torch.Size([3, 1, 288, 384])\n",
            "torch.Size([3, 1, 288, 384])\n",
            "torch.Size([3, 1, 288, 384])\n"
          ]
        },
        {
          "output_type": "stream",
          "name": "stderr",
          "text": [
            "\n",
            " 61%|██████▏   | 400/653 [08:56<05:37,  1.33s/it]\u001b[A"
          ]
        },
        {
          "output_type": "stream",
          "name": "stdout",
          "text": [
            "*************\n",
            "torch.Size([3, 1, 288, 384])\n",
            "torch.Size([3, 1, 288, 384])\n",
            "torch.Size([3, 1, 288, 384])\n",
            "torch.Size([3, 1, 288, 384])\n"
          ]
        },
        {
          "output_type": "stream",
          "name": "stderr",
          "text": [
            "\n",
            " 61%|██████▏   | 401/653 [08:57<05:35,  1.33s/it]\u001b[A"
          ]
        },
        {
          "output_type": "stream",
          "name": "stdout",
          "text": [
            "*************\n",
            "torch.Size([3, 1, 288, 384])\n",
            "torch.Size([3, 1, 288, 384])\n",
            "torch.Size([3, 1, 288, 384])\n",
            "torch.Size([3, 1, 288, 384])\n"
          ]
        },
        {
          "output_type": "stream",
          "name": "stderr",
          "text": [
            "\n",
            " 62%|██████▏   | 402/653 [08:58<05:36,  1.34s/it]\u001b[A"
          ]
        },
        {
          "output_type": "stream",
          "name": "stdout",
          "text": [
            "*************\n",
            "torch.Size([3, 1, 288, 384])\n",
            "torch.Size([3, 1, 288, 384])\n",
            "torch.Size([3, 1, 288, 384])\n",
            "torch.Size([3, 1, 288, 384])\n"
          ]
        },
        {
          "output_type": "stream",
          "name": "stderr",
          "text": [
            "\n",
            " 62%|██████▏   | 403/653 [09:00<05:34,  1.34s/it]\u001b[A"
          ]
        },
        {
          "output_type": "stream",
          "name": "stdout",
          "text": [
            "*************\n",
            "torch.Size([3, 1, 288, 384])\n",
            "torch.Size([3, 1, 288, 384])\n",
            "torch.Size([3, 1, 288, 384])\n",
            "torch.Size([3, 1, 288, 384])\n"
          ]
        },
        {
          "output_type": "stream",
          "name": "stderr",
          "text": [
            "\n",
            " 62%|██████▏   | 404/653 [09:01<05:32,  1.34s/it]\u001b[A"
          ]
        },
        {
          "output_type": "stream",
          "name": "stdout",
          "text": [
            "*************\n",
            "torch.Size([3, 1, 288, 384])\n",
            "torch.Size([3, 1, 288, 384])\n",
            "torch.Size([3, 1, 288, 384])\n",
            "torch.Size([3, 1, 288, 384])\n"
          ]
        },
        {
          "output_type": "stream",
          "name": "stderr",
          "text": [
            "\n",
            " 62%|██████▏   | 405/653 [09:02<05:31,  1.34s/it]\u001b[A"
          ]
        },
        {
          "output_type": "stream",
          "name": "stdout",
          "text": [
            "*************\n",
            "torch.Size([3, 1, 288, 384])\n",
            "torch.Size([3, 1, 288, 384])\n",
            "torch.Size([3, 1, 288, 384])\n",
            "torch.Size([3, 1, 288, 384])\n"
          ]
        },
        {
          "output_type": "stream",
          "name": "stderr",
          "text": [
            "\n",
            " 62%|██████▏   | 406/653 [09:04<05:31,  1.34s/it]\u001b[A"
          ]
        },
        {
          "output_type": "stream",
          "name": "stdout",
          "text": [
            "*************\n",
            "torch.Size([3, 1, 288, 384])\n",
            "torch.Size([3, 1, 288, 384])\n",
            "torch.Size([3, 1, 288, 384])\n",
            "torch.Size([3, 1, 288, 384])\n"
          ]
        },
        {
          "output_type": "stream",
          "name": "stderr",
          "text": [
            "\n",
            " 62%|██████▏   | 407/653 [09:05<05:29,  1.34s/it]\u001b[A"
          ]
        },
        {
          "output_type": "stream",
          "name": "stdout",
          "text": [
            "*************\n",
            "torch.Size([3, 1, 288, 384])\n",
            "torch.Size([3, 1, 288, 384])\n",
            "torch.Size([3, 1, 288, 384])\n",
            "torch.Size([3, 1, 288, 384])\n"
          ]
        },
        {
          "output_type": "stream",
          "name": "stderr",
          "text": [
            "\n",
            " 62%|██████▏   | 408/653 [09:06<05:27,  1.34s/it]\u001b[A"
          ]
        },
        {
          "output_type": "stream",
          "name": "stdout",
          "text": [
            "*************\n",
            "torch.Size([3, 1, 288, 384])\n",
            "torch.Size([3, 1, 288, 384])\n",
            "torch.Size([3, 1, 288, 384])\n",
            "torch.Size([3, 1, 288, 384])\n"
          ]
        },
        {
          "output_type": "stream",
          "name": "stderr",
          "text": [
            "\n",
            " 63%|██████▎   | 409/653 [09:08<05:25,  1.33s/it]\u001b[A"
          ]
        },
        {
          "output_type": "stream",
          "name": "stdout",
          "text": [
            "*************\n",
            "torch.Size([3, 1, 288, 384])\n",
            "torch.Size([3, 1, 288, 384])\n",
            "torch.Size([3, 1, 288, 384])\n",
            "torch.Size([3, 1, 288, 384])\n"
          ]
        },
        {
          "output_type": "stream",
          "name": "stderr",
          "text": [
            "\n",
            " 63%|██████▎   | 410/653 [09:09<05:27,  1.35s/it]\u001b[A"
          ]
        },
        {
          "output_type": "stream",
          "name": "stdout",
          "text": [
            "*************\n",
            "torch.Size([3, 1, 288, 384])\n",
            "torch.Size([3, 1, 288, 384])\n",
            "torch.Size([3, 1, 288, 384])\n",
            "torch.Size([3, 1, 288, 384])\n"
          ]
        },
        {
          "output_type": "stream",
          "name": "stderr",
          "text": [
            "\n",
            " 63%|██████▎   | 411/653 [09:10<05:25,  1.34s/it]\u001b[A"
          ]
        },
        {
          "output_type": "stream",
          "name": "stdout",
          "text": [
            "*************\n",
            "torch.Size([3, 1, 288, 384])\n",
            "torch.Size([3, 1, 288, 384])\n",
            "torch.Size([3, 1, 288, 384])\n",
            "torch.Size([3, 1, 288, 384])\n"
          ]
        },
        {
          "output_type": "stream",
          "name": "stderr",
          "text": [
            "\n",
            " 63%|██████▎   | 412/653 [09:12<05:27,  1.36s/it]\u001b[A"
          ]
        },
        {
          "output_type": "stream",
          "name": "stdout",
          "text": [
            "*************\n",
            "torch.Size([3, 1, 288, 384])\n",
            "torch.Size([3, 1, 288, 384])\n",
            "torch.Size([3, 1, 288, 384])\n",
            "torch.Size([3, 1, 288, 384])\n"
          ]
        },
        {
          "output_type": "stream",
          "name": "stderr",
          "text": [
            "\n",
            " 63%|██████▎   | 413/653 [09:13<05:23,  1.35s/it]\u001b[A"
          ]
        },
        {
          "output_type": "stream",
          "name": "stdout",
          "text": [
            "*************\n",
            "torch.Size([3, 1, 288, 384])\n",
            "torch.Size([3, 1, 288, 384])\n",
            "torch.Size([3, 1, 288, 384])\n",
            "torch.Size([3, 1, 288, 384])\n"
          ]
        },
        {
          "output_type": "stream",
          "name": "stderr",
          "text": [
            "\n",
            " 63%|██████▎   | 414/653 [09:15<05:20,  1.34s/it]\u001b[A"
          ]
        },
        {
          "output_type": "stream",
          "name": "stdout",
          "text": [
            "*************\n",
            "torch.Size([3, 1, 288, 384])\n",
            "torch.Size([3, 1, 288, 384])\n",
            "torch.Size([3, 1, 288, 384])\n",
            "torch.Size([3, 1, 288, 384])\n"
          ]
        },
        {
          "output_type": "stream",
          "name": "stderr",
          "text": [
            "\n",
            " 64%|██████▎   | 415/653 [09:16<05:18,  1.34s/it]\u001b[A"
          ]
        },
        {
          "output_type": "stream",
          "name": "stdout",
          "text": [
            "*************\n",
            "torch.Size([3, 1, 288, 384])\n",
            "torch.Size([3, 1, 288, 384])\n",
            "torch.Size([3, 1, 288, 384])\n",
            "torch.Size([3, 1, 288, 384])\n"
          ]
        },
        {
          "output_type": "stream",
          "name": "stderr",
          "text": [
            "\n",
            " 64%|██████▎   | 416/653 [09:17<05:16,  1.33s/it]\u001b[A"
          ]
        },
        {
          "output_type": "stream",
          "name": "stdout",
          "text": [
            "*************\n",
            "torch.Size([3, 1, 288, 384])\n",
            "torch.Size([3, 1, 288, 384])\n",
            "torch.Size([3, 1, 288, 384])\n",
            "torch.Size([3, 1, 288, 384])\n"
          ]
        },
        {
          "output_type": "stream",
          "name": "stderr",
          "text": [
            "\n",
            " 64%|██████▍   | 417/653 [09:19<05:19,  1.35s/it]\u001b[A"
          ]
        },
        {
          "output_type": "stream",
          "name": "stdout",
          "text": [
            "*************\n",
            "torch.Size([3, 1, 288, 384])\n",
            "torch.Size([3, 1, 288, 384])\n",
            "torch.Size([3, 1, 288, 384])\n",
            "torch.Size([3, 1, 288, 384])\n"
          ]
        },
        {
          "output_type": "stream",
          "name": "stderr",
          "text": [
            "\n",
            " 64%|██████▍   | 418/653 [09:20<05:16,  1.35s/it]\u001b[A"
          ]
        },
        {
          "output_type": "stream",
          "name": "stdout",
          "text": [
            "*************\n",
            "torch.Size([3, 1, 288, 384])\n",
            "torch.Size([3, 1, 288, 384])\n",
            "torch.Size([3, 1, 288, 384])\n",
            "torch.Size([3, 1, 288, 384])\n"
          ]
        },
        {
          "output_type": "stream",
          "name": "stderr",
          "text": [
            "\n",
            " 64%|██████▍   | 419/653 [09:21<05:13,  1.34s/it]\u001b[A"
          ]
        },
        {
          "output_type": "stream",
          "name": "stdout",
          "text": [
            "*************\n",
            "torch.Size([3, 1, 288, 384])\n",
            "torch.Size([3, 1, 288, 384])\n",
            "torch.Size([3, 1, 288, 384])\n",
            "torch.Size([3, 1, 288, 384])\n"
          ]
        },
        {
          "output_type": "stream",
          "name": "stderr",
          "text": [
            "\n",
            " 64%|██████▍   | 420/653 [09:23<05:11,  1.34s/it]\u001b[A"
          ]
        },
        {
          "output_type": "stream",
          "name": "stdout",
          "text": [
            "*************\n",
            "torch.Size([3, 1, 288, 384])\n",
            "torch.Size([3, 1, 288, 384])\n",
            "torch.Size([3, 1, 288, 384])\n",
            "torch.Size([3, 1, 288, 384])\n"
          ]
        },
        {
          "output_type": "stream",
          "name": "stderr",
          "text": [
            "\n",
            " 64%|██████▍   | 421/653 [09:24<05:09,  1.34s/it]\u001b[A"
          ]
        },
        {
          "output_type": "stream",
          "name": "stdout",
          "text": [
            "*************\n",
            "torch.Size([3, 1, 288, 384])\n",
            "torch.Size([3, 1, 288, 384])\n",
            "torch.Size([3, 1, 288, 384])\n",
            "torch.Size([3, 1, 288, 384])\n"
          ]
        },
        {
          "output_type": "stream",
          "name": "stderr",
          "text": [
            "\n",
            " 65%|██████▍   | 422/653 [09:25<05:07,  1.33s/it]\u001b[A"
          ]
        },
        {
          "output_type": "stream",
          "name": "stdout",
          "text": [
            "*************\n",
            "torch.Size([3, 1, 288, 384])\n",
            "torch.Size([3, 1, 288, 384])\n",
            "torch.Size([3, 1, 288, 384])\n",
            "torch.Size([3, 1, 288, 384])\n"
          ]
        },
        {
          "output_type": "stream",
          "name": "stderr",
          "text": [
            "\n",
            " 65%|██████▍   | 423/653 [09:27<05:09,  1.35s/it]\u001b[A"
          ]
        },
        {
          "output_type": "stream",
          "name": "stdout",
          "text": [
            "*************\n",
            "torch.Size([3, 1, 288, 384])\n",
            "torch.Size([3, 1, 288, 384])\n",
            "torch.Size([3, 1, 288, 384])\n",
            "torch.Size([3, 1, 288, 384])\n"
          ]
        },
        {
          "output_type": "stream",
          "name": "stderr",
          "text": [
            "\n",
            " 65%|██████▍   | 424/653 [09:28<05:07,  1.34s/it]\u001b[A"
          ]
        },
        {
          "output_type": "stream",
          "name": "stdout",
          "text": [
            "*************\n",
            "torch.Size([3, 1, 288, 384])\n",
            "torch.Size([3, 1, 288, 384])\n",
            "torch.Size([3, 1, 288, 384])\n",
            "torch.Size([3, 1, 288, 384])\n"
          ]
        },
        {
          "output_type": "stream",
          "name": "stderr",
          "text": [
            "\n",
            " 65%|██████▌   | 425/653 [09:29<05:05,  1.34s/it]\u001b[A"
          ]
        },
        {
          "output_type": "stream",
          "name": "stdout",
          "text": [
            "*************\n",
            "torch.Size([3, 1, 288, 384])\n",
            "torch.Size([3, 1, 288, 384])\n",
            "torch.Size([3, 1, 288, 384])\n",
            "torch.Size([3, 1, 288, 384])\n"
          ]
        },
        {
          "output_type": "stream",
          "name": "stderr",
          "text": [
            "\n",
            " 65%|██████▌   | 426/653 [09:31<05:07,  1.36s/it]\u001b[A"
          ]
        },
        {
          "output_type": "stream",
          "name": "stdout",
          "text": [
            "*************\n",
            "torch.Size([3, 1, 288, 384])\n",
            "torch.Size([3, 1, 288, 384])\n",
            "torch.Size([3, 1, 288, 384])\n",
            "torch.Size([3, 1, 288, 384])\n"
          ]
        },
        {
          "output_type": "stream",
          "name": "stderr",
          "text": [
            "\n",
            " 65%|██████▌   | 427/653 [09:32<05:04,  1.35s/it]\u001b[A"
          ]
        },
        {
          "output_type": "stream",
          "name": "stdout",
          "text": [
            "*************\n",
            "torch.Size([3, 1, 288, 384])\n",
            "torch.Size([3, 1, 288, 384])\n",
            "torch.Size([3, 1, 288, 384])\n",
            "torch.Size([3, 1, 288, 384])\n"
          ]
        },
        {
          "output_type": "stream",
          "name": "stderr",
          "text": [
            "\n",
            " 66%|██████▌   | 428/653 [09:33<05:05,  1.36s/it]\u001b[A"
          ]
        },
        {
          "output_type": "stream",
          "name": "stdout",
          "text": [
            "*************\n",
            "torch.Size([3, 1, 288, 384])\n",
            "torch.Size([3, 1, 288, 384])\n",
            "torch.Size([3, 1, 288, 384])\n",
            "torch.Size([3, 1, 288, 384])\n"
          ]
        },
        {
          "output_type": "stream",
          "name": "stderr",
          "text": [
            "\n",
            " 66%|██████▌   | 429/653 [09:35<05:05,  1.37s/it]\u001b[A"
          ]
        },
        {
          "output_type": "stream",
          "name": "stdout",
          "text": [
            "*************\n",
            "torch.Size([3, 1, 288, 384])\n",
            "torch.Size([3, 1, 288, 384])\n",
            "torch.Size([3, 1, 288, 384])\n",
            "torch.Size([3, 1, 288, 384])\n"
          ]
        },
        {
          "output_type": "stream",
          "name": "stderr",
          "text": [
            "\n",
            " 66%|██████▌   | 430/653 [09:36<05:04,  1.37s/it]\u001b[A"
          ]
        },
        {
          "output_type": "stream",
          "name": "stdout",
          "text": [
            "*************\n",
            "torch.Size([3, 1, 288, 384])\n",
            "torch.Size([3, 1, 288, 384])\n",
            "torch.Size([3, 1, 288, 384])\n",
            "torch.Size([3, 1, 288, 384])\n"
          ]
        },
        {
          "output_type": "stream",
          "name": "stderr",
          "text": [
            "\n",
            " 66%|██████▌   | 431/653 [09:37<05:01,  1.36s/it]\u001b[A"
          ]
        },
        {
          "output_type": "stream",
          "name": "stdout",
          "text": [
            "*************\n",
            "torch.Size([3, 1, 288, 384])\n",
            "torch.Size([3, 1, 288, 384])\n",
            "torch.Size([3, 1, 288, 384])\n",
            "torch.Size([3, 1, 288, 384])\n"
          ]
        },
        {
          "output_type": "stream",
          "name": "stderr",
          "text": [
            "\n",
            " 66%|██████▌   | 432/653 [09:39<04:58,  1.35s/it]\u001b[A"
          ]
        },
        {
          "output_type": "stream",
          "name": "stdout",
          "text": [
            "*************\n",
            "torch.Size([3, 1, 288, 384])\n",
            "torch.Size([3, 1, 288, 384])\n",
            "torch.Size([3, 1, 288, 384])\n",
            "torch.Size([3, 1, 288, 384])\n"
          ]
        },
        {
          "output_type": "stream",
          "name": "stderr",
          "text": [
            "\n",
            " 66%|██████▋   | 433/653 [09:40<04:55,  1.34s/it]\u001b[A"
          ]
        },
        {
          "output_type": "stream",
          "name": "stdout",
          "text": [
            "*************\n",
            "torch.Size([3, 1, 288, 384])\n",
            "torch.Size([3, 1, 288, 384])\n",
            "torch.Size([3, 1, 288, 384])\n",
            "torch.Size([3, 1, 288, 384])\n"
          ]
        },
        {
          "output_type": "stream",
          "name": "stderr",
          "text": [
            "\n",
            " 66%|██████▋   | 434/653 [09:41<04:53,  1.34s/it]\u001b[A"
          ]
        },
        {
          "output_type": "stream",
          "name": "stdout",
          "text": [
            "*************\n",
            "torch.Size([3, 1, 288, 384])\n",
            "torch.Size([3, 1, 288, 384])\n",
            "torch.Size([3, 1, 288, 384])\n",
            "torch.Size([3, 1, 288, 384])\n"
          ]
        },
        {
          "output_type": "stream",
          "name": "stderr",
          "text": [
            "\n",
            " 67%|██████▋   | 435/653 [09:43<04:51,  1.34s/it]\u001b[A"
          ]
        },
        {
          "output_type": "stream",
          "name": "stdout",
          "text": [
            "*************\n",
            "torch.Size([3, 1, 288, 384])\n",
            "torch.Size([3, 1, 288, 384])\n",
            "torch.Size([3, 1, 288, 384])\n",
            "torch.Size([3, 1, 288, 384])\n"
          ]
        },
        {
          "output_type": "stream",
          "name": "stderr",
          "text": [
            "\n",
            " 67%|██████▋   | 436/653 [09:44<04:49,  1.34s/it]\u001b[A"
          ]
        },
        {
          "output_type": "stream",
          "name": "stdout",
          "text": [
            "*************\n",
            "torch.Size([3, 1, 288, 384])\n",
            "torch.Size([3, 1, 288, 384])\n",
            "torch.Size([3, 1, 288, 384])\n",
            "torch.Size([3, 1, 288, 384])\n"
          ]
        },
        {
          "output_type": "stream",
          "name": "stderr",
          "text": [
            "\n",
            " 67%|██████▋   | 437/653 [09:45<04:48,  1.33s/it]\u001b[A"
          ]
        },
        {
          "output_type": "stream",
          "name": "stdout",
          "text": [
            "*************\n",
            "torch.Size([3, 1, 288, 384])\n",
            "torch.Size([3, 1, 288, 384])\n",
            "torch.Size([3, 1, 288, 384])\n",
            "torch.Size([3, 1, 288, 384])\n"
          ]
        },
        {
          "output_type": "stream",
          "name": "stderr",
          "text": [
            "\n",
            " 67%|██████▋   | 438/653 [09:47<04:46,  1.33s/it]\u001b[A"
          ]
        },
        {
          "output_type": "stream",
          "name": "stdout",
          "text": [
            "*************\n",
            "torch.Size([3, 1, 288, 384])\n",
            "torch.Size([3, 1, 288, 384])\n",
            "torch.Size([3, 1, 288, 384])\n",
            "torch.Size([3, 1, 288, 384])\n"
          ]
        },
        {
          "output_type": "stream",
          "name": "stderr",
          "text": [
            "\n",
            " 67%|██████▋   | 439/653 [09:48<04:45,  1.34s/it]\u001b[A"
          ]
        },
        {
          "output_type": "stream",
          "name": "stdout",
          "text": [
            "*************\n",
            "torch.Size([3, 1, 288, 384])\n",
            "torch.Size([3, 1, 288, 384])\n",
            "torch.Size([3, 1, 288, 384])\n",
            "torch.Size([3, 1, 288, 384])\n"
          ]
        },
        {
          "output_type": "stream",
          "name": "stderr",
          "text": [
            "\n",
            " 67%|██████▋   | 440/653 [09:49<04:43,  1.33s/it]\u001b[A"
          ]
        },
        {
          "output_type": "stream",
          "name": "stdout",
          "text": [
            "*************\n",
            "torch.Size([3, 1, 288, 384])\n",
            "torch.Size([3, 1, 288, 384])\n",
            "torch.Size([3, 1, 288, 384])\n",
            "torch.Size([3, 1, 288, 384])\n"
          ]
        },
        {
          "output_type": "stream",
          "name": "stderr",
          "text": [
            "\n",
            " 68%|██████▊   | 441/653 [09:51<04:42,  1.33s/it]\u001b[A"
          ]
        },
        {
          "output_type": "stream",
          "name": "stdout",
          "text": [
            "*************\n",
            "torch.Size([3, 1, 288, 384])\n",
            "torch.Size([3, 1, 288, 384])\n",
            "torch.Size([3, 1, 288, 384])\n",
            "torch.Size([3, 1, 288, 384])\n"
          ]
        },
        {
          "output_type": "stream",
          "name": "stderr",
          "text": [
            "\n",
            " 68%|██████▊   | 442/653 [09:52<04:41,  1.33s/it]\u001b[A"
          ]
        },
        {
          "output_type": "stream",
          "name": "stdout",
          "text": [
            "*************\n",
            "torch.Size([3, 1, 288, 384])\n",
            "torch.Size([3, 1, 288, 384])\n",
            "torch.Size([3, 1, 288, 384])\n",
            "torch.Size([3, 1, 288, 384])\n"
          ]
        },
        {
          "output_type": "stream",
          "name": "stderr",
          "text": [
            "\n",
            " 68%|██████▊   | 443/653 [09:53<04:39,  1.33s/it]\u001b[A"
          ]
        },
        {
          "output_type": "stream",
          "name": "stdout",
          "text": [
            "*************\n",
            "torch.Size([3, 1, 288, 384])\n",
            "torch.Size([3, 1, 288, 384])\n",
            "torch.Size([3, 1, 288, 384])\n",
            "torch.Size([3, 1, 288, 384])\n"
          ]
        },
        {
          "output_type": "stream",
          "name": "stderr",
          "text": [
            "\n",
            " 68%|██████▊   | 444/653 [09:55<04:38,  1.33s/it]\u001b[A"
          ]
        },
        {
          "output_type": "stream",
          "name": "stdout",
          "text": [
            "*************\n",
            "torch.Size([3, 1, 288, 384])\n",
            "torch.Size([3, 1, 288, 384])\n",
            "torch.Size([3, 1, 288, 384])\n",
            "torch.Size([3, 1, 288, 384])\n"
          ]
        },
        {
          "output_type": "stream",
          "name": "stderr",
          "text": [
            "\n",
            " 68%|██████▊   | 445/653 [09:56<04:39,  1.34s/it]\u001b[A"
          ]
        },
        {
          "output_type": "stream",
          "name": "stdout",
          "text": [
            "*************\n",
            "torch.Size([3, 1, 288, 384])\n",
            "torch.Size([3, 1, 288, 384])\n",
            "torch.Size([3, 1, 288, 384])\n",
            "torch.Size([3, 1, 288, 384])\n"
          ]
        },
        {
          "output_type": "stream",
          "name": "stderr",
          "text": [
            "\n",
            " 68%|██████▊   | 446/653 [09:57<04:37,  1.34s/it]\u001b[A"
          ]
        },
        {
          "output_type": "stream",
          "name": "stdout",
          "text": [
            "*************\n",
            "torch.Size([3, 1, 288, 384])\n",
            "torch.Size([3, 1, 288, 384])\n",
            "torch.Size([3, 1, 288, 384])\n",
            "torch.Size([3, 1, 288, 384])\n"
          ]
        },
        {
          "output_type": "stream",
          "name": "stderr",
          "text": [
            "\n",
            " 68%|██████▊   | 447/653 [09:59<04:37,  1.35s/it]\u001b[A"
          ]
        },
        {
          "output_type": "stream",
          "name": "stdout",
          "text": [
            "*************\n",
            "torch.Size([3, 1, 288, 384])\n",
            "torch.Size([3, 1, 288, 384])\n",
            "torch.Size([3, 1, 288, 384])\n",
            "torch.Size([3, 1, 288, 384])\n"
          ]
        },
        {
          "output_type": "stream",
          "name": "stderr",
          "text": [
            "\n",
            " 69%|██████▊   | 448/653 [10:00<04:35,  1.35s/it]\u001b[A"
          ]
        },
        {
          "output_type": "stream",
          "name": "stdout",
          "text": [
            "*************\n",
            "torch.Size([3, 1, 288, 384])\n",
            "torch.Size([3, 1, 288, 384])\n",
            "torch.Size([3, 1, 288, 384])\n",
            "torch.Size([3, 1, 288, 384])\n"
          ]
        },
        {
          "output_type": "stream",
          "name": "stderr",
          "text": [
            "\n",
            " 69%|██████▉   | 449/653 [10:02<04:37,  1.36s/it]\u001b[A"
          ]
        },
        {
          "output_type": "stream",
          "name": "stdout",
          "text": [
            "*************\n",
            "torch.Size([3, 1, 288, 384])\n",
            "torch.Size([3, 1, 288, 384])\n",
            "torch.Size([3, 1, 288, 384])\n",
            "torch.Size([3, 1, 288, 384])\n"
          ]
        },
        {
          "output_type": "stream",
          "name": "stderr",
          "text": [
            "\n",
            " 69%|██████▉   | 450/653 [10:03<04:34,  1.35s/it]\u001b[A"
          ]
        },
        {
          "output_type": "stream",
          "name": "stdout",
          "text": [
            "*************\n",
            "torch.Size([3, 1, 288, 384])\n",
            "torch.Size([3, 1, 288, 384])\n",
            "torch.Size([3, 1, 288, 384])\n",
            "torch.Size([3, 1, 288, 384])\n"
          ]
        },
        {
          "output_type": "stream",
          "name": "stderr",
          "text": [
            "\n",
            " 69%|██████▉   | 451/653 [10:04<04:31,  1.35s/it]\u001b[A"
          ]
        },
        {
          "output_type": "stream",
          "name": "stdout",
          "text": [
            "*************\n",
            "torch.Size([3, 1, 288, 384])\n",
            "torch.Size([3, 1, 288, 384])\n",
            "torch.Size([3, 1, 288, 384])\n",
            "torch.Size([3, 1, 288, 384])\n"
          ]
        },
        {
          "output_type": "stream",
          "name": "stderr",
          "text": [
            "\n",
            " 69%|██████▉   | 452/653 [10:06<04:29,  1.34s/it]\u001b[A"
          ]
        },
        {
          "output_type": "stream",
          "name": "stdout",
          "text": [
            "*************\n",
            "torch.Size([3, 1, 288, 384])\n",
            "torch.Size([3, 1, 288, 384])\n",
            "torch.Size([3, 1, 288, 384])\n",
            "torch.Size([3, 1, 288, 384])\n"
          ]
        },
        {
          "output_type": "stream",
          "name": "stderr",
          "text": [
            "\n",
            " 69%|██████▉   | 453/653 [10:07<04:30,  1.35s/it]\u001b[A"
          ]
        },
        {
          "output_type": "stream",
          "name": "stdout",
          "text": [
            "*************\n",
            "torch.Size([3, 1, 288, 384])\n",
            "torch.Size([3, 1, 288, 384])\n",
            "torch.Size([3, 1, 288, 384])\n",
            "torch.Size([3, 1, 288, 384])\n"
          ]
        },
        {
          "output_type": "stream",
          "name": "stderr",
          "text": [
            "\n",
            " 70%|██████▉   | 454/653 [10:08<04:27,  1.35s/it]\u001b[A"
          ]
        },
        {
          "output_type": "stream",
          "name": "stdout",
          "text": [
            "*************\n",
            "torch.Size([3, 1, 288, 384])\n",
            "torch.Size([3, 1, 288, 384])\n",
            "torch.Size([3, 1, 288, 384])\n",
            "torch.Size([3, 1, 288, 384])\n"
          ]
        },
        {
          "output_type": "stream",
          "name": "stderr",
          "text": [
            "\n",
            " 70%|██████▉   | 455/653 [10:10<04:27,  1.35s/it]\u001b[A"
          ]
        },
        {
          "output_type": "stream",
          "name": "stdout",
          "text": [
            "*************\n",
            "torch.Size([3, 1, 288, 384])\n",
            "torch.Size([3, 1, 288, 384])\n",
            "torch.Size([3, 1, 288, 384])\n",
            "torch.Size([3, 1, 288, 384])\n"
          ]
        },
        {
          "output_type": "stream",
          "name": "stderr",
          "text": [
            "\n",
            " 70%|██████▉   | 456/653 [10:11<04:24,  1.34s/it]\u001b[A"
          ]
        },
        {
          "output_type": "stream",
          "name": "stdout",
          "text": [
            "*************\n",
            "torch.Size([3, 1, 288, 384])\n",
            "torch.Size([3, 1, 288, 384])\n",
            "torch.Size([3, 1, 288, 384])\n",
            "torch.Size([3, 1, 288, 384])\n"
          ]
        },
        {
          "output_type": "stream",
          "name": "stderr",
          "text": [
            "\n",
            " 70%|██████▉   | 457/653 [10:12<04:22,  1.34s/it]\u001b[A"
          ]
        },
        {
          "output_type": "stream",
          "name": "stdout",
          "text": [
            "*************\n",
            "torch.Size([3, 1, 288, 384])\n",
            "torch.Size([3, 1, 288, 384])\n",
            "torch.Size([3, 1, 288, 384])\n",
            "torch.Size([3, 1, 288, 384])\n"
          ]
        },
        {
          "output_type": "stream",
          "name": "stderr",
          "text": [
            "\n",
            " 70%|███████   | 458/653 [10:14<04:20,  1.34s/it]\u001b[A"
          ]
        },
        {
          "output_type": "stream",
          "name": "stdout",
          "text": [
            "*************\n",
            "torch.Size([3, 1, 288, 384])\n",
            "torch.Size([3, 1, 288, 384])\n",
            "torch.Size([3, 1, 288, 384])\n",
            "torch.Size([3, 1, 288, 384])\n"
          ]
        },
        {
          "output_type": "stream",
          "name": "stderr",
          "text": [
            " 70%|███████   | 458/653 [10:15<04:21,  1.34s/it]\n",
            "  0%|          | 0/50 [10:15<?, ?it/s]\n"
          ]
        },
        {
          "output_type": "error",
          "ename": "KeyboardInterrupt",
          "evalue": "ignored",
          "traceback": [
            "\u001b[0;31m---------------------------------------------------------------------------\u001b[0m",
            "\u001b[0;31mKeyboardInterrupt\u001b[0m                         Traceback (most recent call last)",
            "\u001b[0;32m<ipython-input-13-5c05594b239a>\u001b[0m in \u001b[0;36m<module>\u001b[0;34m()\u001b[0m\n\u001b[1;32m     35\u001b[0m         \u001b[0;32mdel\u001b[0m \u001b[0mpred_1\u001b[0m\u001b[0;34m,\u001b[0m \u001b[0mpred_2\u001b[0m\u001b[0;34m,\u001b[0m \u001b[0mpred_3\u001b[0m\u001b[0;34m,\u001b[0m \u001b[0mpred_canny\u001b[0m\u001b[0;34m,\u001b[0m \u001b[0mmask_data\u001b[0m\u001b[0;34m,\u001b[0m \u001b[0mcanny_data\u001b[0m\u001b[0;34m\u001b[0m\u001b[0;34m\u001b[0m\u001b[0m\n\u001b[1;32m     36\u001b[0m         \u001b[0moptimizer\u001b[0m\u001b[0;34m.\u001b[0m\u001b[0mzero_grad\u001b[0m\u001b[0;34m(\u001b[0m\u001b[0;34m)\u001b[0m\u001b[0;34m\u001b[0m\u001b[0;34m\u001b[0m\u001b[0m\n\u001b[0;32m---> 37\u001b[0;31m         \u001b[0mloss\u001b[0m\u001b[0;34m.\u001b[0m\u001b[0mbackward\u001b[0m\u001b[0;34m(\u001b[0m\u001b[0;34m)\u001b[0m\u001b[0;34m\u001b[0m\u001b[0;34m\u001b[0m\u001b[0m\n\u001b[0m\u001b[1;32m     38\u001b[0m \u001b[0;34m\u001b[0m\u001b[0m\n\u001b[1;32m     39\u001b[0m         \u001b[0;31m# print('After backward pass ->')\u001b[0m\u001b[0;34m\u001b[0m\u001b[0;34m\u001b[0m\u001b[0;34m\u001b[0m\u001b[0m\n",
            "\u001b[0;32m/usr/local/lib/python3.7/dist-packages/torch/_tensor.py\u001b[0m in \u001b[0;36mbackward\u001b[0;34m(self, gradient, retain_graph, create_graph, inputs)\u001b[0m\n\u001b[1;32m    361\u001b[0m                 \u001b[0mcreate_graph\u001b[0m\u001b[0;34m=\u001b[0m\u001b[0mcreate_graph\u001b[0m\u001b[0;34m,\u001b[0m\u001b[0;34m\u001b[0m\u001b[0;34m\u001b[0m\u001b[0m\n\u001b[1;32m    362\u001b[0m                 inputs=inputs)\n\u001b[0;32m--> 363\u001b[0;31m         \u001b[0mtorch\u001b[0m\u001b[0;34m.\u001b[0m\u001b[0mautograd\u001b[0m\u001b[0;34m.\u001b[0m\u001b[0mbackward\u001b[0m\u001b[0;34m(\u001b[0m\u001b[0mself\u001b[0m\u001b[0;34m,\u001b[0m \u001b[0mgradient\u001b[0m\u001b[0;34m,\u001b[0m \u001b[0mretain_graph\u001b[0m\u001b[0;34m,\u001b[0m \u001b[0mcreate_graph\u001b[0m\u001b[0;34m,\u001b[0m \u001b[0minputs\u001b[0m\u001b[0;34m=\u001b[0m\u001b[0minputs\u001b[0m\u001b[0;34m)\u001b[0m\u001b[0;34m\u001b[0m\u001b[0;34m\u001b[0m\u001b[0m\n\u001b[0m\u001b[1;32m    364\u001b[0m \u001b[0;34m\u001b[0m\u001b[0m\n\u001b[1;32m    365\u001b[0m     \u001b[0;32mdef\u001b[0m \u001b[0mregister_hook\u001b[0m\u001b[0;34m(\u001b[0m\u001b[0mself\u001b[0m\u001b[0;34m,\u001b[0m \u001b[0mhook\u001b[0m\u001b[0;34m)\u001b[0m\u001b[0;34m:\u001b[0m\u001b[0;34m\u001b[0m\u001b[0;34m\u001b[0m\u001b[0m\n",
            "\u001b[0;32m/usr/local/lib/python3.7/dist-packages/torch/autograd/__init__.py\u001b[0m in \u001b[0;36mbackward\u001b[0;34m(tensors, grad_tensors, retain_graph, create_graph, grad_variables, inputs)\u001b[0m\n\u001b[1;32m    173\u001b[0m     Variable._execution_engine.run_backward(  # Calls into the C++ engine to run the backward pass\n\u001b[1;32m    174\u001b[0m         \u001b[0mtensors\u001b[0m\u001b[0;34m,\u001b[0m \u001b[0mgrad_tensors_\u001b[0m\u001b[0;34m,\u001b[0m \u001b[0mretain_graph\u001b[0m\u001b[0;34m,\u001b[0m \u001b[0mcreate_graph\u001b[0m\u001b[0;34m,\u001b[0m \u001b[0minputs\u001b[0m\u001b[0;34m,\u001b[0m\u001b[0;34m\u001b[0m\u001b[0;34m\u001b[0m\u001b[0m\n\u001b[0;32m--> 175\u001b[0;31m         allow_unreachable=True, accumulate_grad=True)  # Calls into the C++ engine to run the backward pass\n\u001b[0m\u001b[1;32m    176\u001b[0m \u001b[0;34m\u001b[0m\u001b[0m\n\u001b[1;32m    177\u001b[0m def grad(\n",
            "\u001b[0;31mKeyboardInterrupt\u001b[0m: "
          ]
        }
      ]
    },
    {
      "cell_type": "code",
      "source": [
        "print(cv2.imread(train_loader_y[0][0]).shape)"
      ],
      "metadata": {
        "id": "oXPNqR0lrR7P"
      },
      "execution_count": null,
      "outputs": []
    },
    {
      "cell_type": "code",
      "source": [
        ""
      ],
      "metadata": {
        "id": "bwXREm0NrXKM"
      },
      "execution_count": null,
      "outputs": []
    }
  ]
}